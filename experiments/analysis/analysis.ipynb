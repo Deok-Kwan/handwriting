{
 "cells": [
  {
   "cell_type": "markdown",
   "metadata": {},
   "source": [
    "# ArcFace MIL 데이터 분석 노트북\\n\\n세션 분할 로직 검증 및 Bag 분포 분석을 위한 노트북"
   ]
  },
  {
   "cell_type": "code",
   "execution_count": 1,
   "metadata": {
    "ExecuteTime": {
     "end_time": "2025-07-13T17:26:52.888041Z",
     "start_time": "2025-07-13T17:26:52.866173Z"
    }
   },
   "outputs": [
    {
     "ename": "SyntaxError",
     "evalue": "unexpected character after line continuation character (2560203075.py, line 2)",
     "output_type": "error",
     "traceback": [
      "\u001b[0;36m  Cell \u001b[0;32mIn[1], line 2\u001b[0;36m\u001b[0m\n\u001b[0;31m    import pandas as pd\\n\u001b[0m\n\u001b[0m                         ^\u001b[0m\n\u001b[0;31mSyntaxError\u001b[0m\u001b[0;31m:\u001b[0m unexpected character after line continuation character\n"
     ]
    }
   ],
   "source": [
    "# 세션 분할 검증\\n\n",
    "import pandas as pd\\n\n",
    "import numpy as np\\n\n",
    "import pickle\\n\n",
    "from collections import Counter\\n\n",
    "\n",
    "# CSV 로드하여 반복 번호 범위 확인\\n\n",
    "df_check = pd.read_csv(\"/workspace/MIL/data/raw/naver_ocr.csv\")\\n\n",
    "df_check = df_check[df_check['label'] < 300]  # 실제 이미지가 있는 범위\\n\n",
    "\\n\n",
    "# 반복 번호 추출\\n\n",
    "df_check['rep_num'] = df_check['path'].apply(lambda x: int(x.split('_')[-1].split('.')[0]))\\n\n",
    "\n",
    "print(\"=== 반복 번호 범위 확인 ===\")\\n\n",
    "print(f\"최소 반복 번호: {df_check['rep_num'].min()}\")\\n\n",
    "print(f\"최대 반복 번호: {df_check['rep_num'].max()}\")\\n\n",
    "print(f\"고유 반복 번호 개수: {df_check['rep_num'].nunique()}\")\\n\n",
    "\n",
    "# 세션 분할 시뮬레이션\\n\n",
    "def get_session(rep_num):\\n\n",
    "    return rep_num // 9\\n\n",
    "\n",
    "df_check['session'] = df_check['rep_num'].apply(get_session)\\n\n",
    "print(f\"\\n생성된 세션 수: {df_check['session'].nunique()}\")\\n\n",
    "print(\"세션별 분포:\")\\n\n",
    "print(df_check['session'].value_counts().sort_index())"
   ]
  },
  {
   "cell_type": "code",
   "execution_count": null,
   "metadata": {
    "ExecuteTime": {
     "end_time": "2025-07-13T17:26:52.892196Z",
     "start_time": "2025-07-13T17:26:52.892160Z"
    }
   },
   "outputs": [],
   "source": [
    "# 한 작성자의 세션 구조 확인\\n\n",
    "writer_0 = df_check[df_check['label'] == 0]\\n\n",
    "print(f\"작성자 0의 데이터:\")\\n\n",
    "print(f\"- 총 이미지 수: {len(writer_0)}\")\\n\n",
    "print(f\"- 반복 번호 범위: {writer_0['rep_num'].min()} - {writer_0['rep_num'].max()}\")\\n\n",
    "print(f\"- 세션 수: {writer_0['session'].nunique()}\")\\n\n",
    "print(f\"\\n세션별 이미지 수:\")\\n\n",
    "print(writer_0['session'].value_counts().sort_index())"
   ]
  },
  {
   "cell_type": "code",
   "execution_count": null,
   "metadata": {
    "ExecuteTime": {
     "end_time": "2025-07-13T17:26:52.895954Z",
     "start_time": "2025-07-13T17:26:52.895914Z"
    }
   },
   "outputs": [],
   "source": [
    "# Bag 분포 분석\\n\n",
    "# Train bag 로드\\n\n",
    "with open('/workspace/MIL/data/processed/bags/bags_arcface_margin_0.4_train.pkl', 'rb') as f:\\n\n",
    "    bags_train = pickle.load(f)\\n\n",
    "\n",
    "print(\"=== Bag 분포 분석 ===\")\\n\n",
    "print(f\"총 Bag 수: {len(bags_train)}\")\\n\n",
    "\n",
    "# 라벨별 분포\\n\n",
    "labels = [bag['bag_label'] for bag in bags_train]\\n\n",
    "label_counts = Counter(labels)\\n\n",
    "print(f\"\\nPositive (단일 작성자): {label_counts[0]}\")\\n\n",
    "print(f\"Negative (복수 작성자): {label_counts[1]}\")\\n\n",
    "print(f\"비율 = 1:{label_counts[1] / label_counts[0]:.1f}\")\\n\n",
    "\n",
    "# Negative bag의 위조 비율 분포\\n\n",
    "neg_bags = [bag for bag in bags_train if bag['bag_label'] == 1]\\n\n",
    "ratios = [bag.get('ratio', 'N/A') for bag in neg_bags]\\n\n",
    "ratio_counts = Counter(ratios)\\n\n",
    "print(f\"\\nNegative Bag의 위조 비율 분포:\")\\n\n",
    "for ratio, count in sorted(ratio_counts.items()):\\n\n",
    "    print(f\"  {ratio}: {count}개\")"
   ]
  },
  {
   "cell_type": "code",
   "execution_count": null,
   "metadata": {
    "ExecuteTime": {
     "end_time": "2025-07-13T17:26:52.899032Z",
     "start_time": "2025-07-13T17:26:52.898994Z"
    }
   },
   "outputs": [],
   "source": [
    "# 문서별 Bag 생성 수 분석\\n\n",
    "doc_bag_counts = Counter([bag['doc'] for bag in bags_train])\\n\n",
    "bag_counts_dist = Counter(doc_bag_counts.values())\\n\n",
    "\n",
    "print(\"=== 문서별 Bag 생성 분포 ===\")\\n\n",
    "print(f\"총 문서 수: {len(doc_bag_counts)}\")\\n\n",
    "print(f\"\\n문서당 Bag 수 분포:\")\\n\n",
    "for bag_count, doc_count in sorted(bag_counts_dist.items()):\\n\n",
    "    print(f\"  {bag_count}개 bag: {doc_count}개 문서\")\\n\n",
    "\n",
    "# 평균 및 통계\\n\n",
    "bag_counts_list = list(doc_bag_counts.values())\\n\n",
    "print(f\"\\n평균 bag/문서: {np.mean(bag_counts_list):.2f}\")\\n\n",
    "print(f\"최소 bag/문서: {np.min(bag_counts_list)}\")\\n\n",
    "print(f\"최대 bag/문서: {np.max(bag_counts_list)}\")"
   ]
  }
 ],
 "metadata": {
  "kernelspec": {
   "display_name": "Python 3 (ipykernel)",
   "language": "python",
   "name": "python3"
  },
  "language_info": {
   "codemirror_mode": {
    "name": "ipython",
    "version": 3
   },
   "file_extension": ".py",
   "mimetype": "text/x-python",
   "name": "python",
   "nbconvert_exporter": "python",
   "pygments_lexer": "ipython3",
   "version": "3.8.15"
  },
  "toc": {
   "base_numbering": 1,
   "nav_menu": {},
   "number_sections": true,
   "sideBar": true,
   "skip_h1_title": false,
   "title_cell": "Table of Contents",
   "title_sidebar": "Contents",
   "toc_cell": false,
   "toc_position": {},
   "toc_section_display": true,
   "toc_window_display": false
  }
 },
 "nbformat": 4,
 "nbformat_minor": 4
}
