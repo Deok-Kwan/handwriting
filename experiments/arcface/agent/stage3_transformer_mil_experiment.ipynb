{
 "cells": [
  {
   "cell_type": "code",
   "execution_count": 1,
   "id": "39044d96",
   "metadata": {
    "ExecuteTime": {
     "end_time": "2025-09-05T01:46:59.728957Z",
     "start_time": "2025-09-05T01:46:50.013333Z"
    }
   },
   "outputs": [
    {
     "name": "stdout",
     "output_type": "stream",
     "text": [
      "Using device: cuda\n",
      "GPU: NVIDIA GeForce RTX 3090\n"
     ]
    }
   ],
   "source": [
    "# 환경 설정\n",
    "import os\n",
    "import random\n",
    "import pickle\n",
    "import numpy as np\n",
    "import torch\n",
    "import torch.nn as nn\n",
    "from torch.utils.data import Dataset, DataLoader\n",
    "from sklearn.metrics import accuracy_score, roc_auc_score, f1_score, roc_curve, confusion_matrix\n",
    "from tqdm import tqdm\n",
    "\n",
    "# GPU 설정\n",
    "os.environ['CUDA_DEVICE_ORDER'] = 'PCI_BUS_ID'\n",
    "os.environ['CUDA_VISIBLE_DEVICES'] = os.getenv('MIL_STAGE3_GPU', '3')\n",
    "\n",
    "device = torch.device('cuda' if torch.cuda.is_available() else 'cpu')\n",
    "print('Using device:', device)\n",
    "if device.type == 'cuda':\n",
    "    print('GPU:', torch.cuda.get_device_name(0))\n",
    "else:\n",
    "    print('CUDA를 사용할 수 없습니다. CPU 모드로 실행됩니다.')\n",
    "\n",
    "# 시드 고정\n",
    "random.seed(42)\n",
    "np.random.seed(42)\n",
    "torch.manual_seed(42)\n",
    "if torch.cuda.is_available():\n",
    "    torch.cuda.manual_seed_all(42)\n",
    "    torch.backends.cudnn.deterministic = True\n",
    "    torch.backends.cudnn.benchmark = False\n"
   ]
  },
  {
   "cell_type": "code",
   "execution_count": 2,
   "id": "4742eb10",
   "metadata": {
    "ExecuteTime": {
     "end_time": "2025-09-05T01:47:00.958358Z",
     "start_time": "2025-09-05T01:46:59.734361Z"
    }
   },
   "outputs": [
    {
     "name": "stdout",
     "output_type": "stream",
     "text": [
      "Loading MIL bags...\n",
      "Train bags: 3600, Val bags: 1200, Test bags: 1200\n"
     ]
    }
   ],
   "source": [
    "# Stage 2 Bag 데이터 로드 및 Instance 평균 계산\n",
    "embedding_margin = '0.4'\n",
    "bags_dir = '/workspace/MIL/data/processed/bags'\n",
    "train_pkl = os.path.join(bags_dir, f'bags_arcface_margin_{embedding_margin}_50p_random_train.pkl')\n",
    "val_pkl   = os.path.join(bags_dir, f'bags_arcface_margin_{embedding_margin}_50p_random_val.pkl')\n",
    "test_pkl  = os.path.join(bags_dir, f'bags_arcface_margin_{embedding_margin}_50p_random_test.pkl')\n",
    "\n",
    "print('Loading MIL bags...')\n",
    "with open(train_pkl, 'rb') as f:\n",
    "    train_data = pickle.load(f)\n",
    "with open(val_pkl, 'rb') as f:\n",
    "    val_data = pickle.load(f)\n",
    "with open(test_pkl, 'rb') as f:\n",
    "    test_data = pickle.load(f)\n",
    "\n",
    "# Instance mean 계산: (10,5,256) → (10,256)\n",
    "def to_instance_means(bags):\n",
    "    return [bag.mean(axis=1).astype(np.float32) for bag in bags]\n",
    "\n",
    "train_features = to_instance_means(train_data['bags'])\n",
    "val_features   = to_instance_means(val_data['bags'])\n",
    "test_features  = to_instance_means(test_data['bags'])\n",
    "\n",
    "train_labels = train_data['labels']\n",
    "val_labels   = val_data['labels']\n",
    "test_labels  = test_data['labels']\n",
    "\n",
    "print(f'Train bags: {len(train_labels)}, Val bags: {len(val_labels)}, Test bags: {len(test_labels)}')\n"
   ]
  },
  {
   "cell_type": "code",
   "execution_count": 3,
   "id": "17dbf94a",
   "metadata": {
    "ExecuteTime": {
     "end_time": "2025-09-05T01:47:00.968623Z",
     "start_time": "2025-09-05T01:47:00.961732Z"
    }
   },
   "outputs": [],
   "source": [
    "# Dataset 클래스 (on‑the‑fly Tensor 변환)\n",
    "\n",
    "class MILDataset(Dataset):\n",
    "    def __init__(self, features, labels):\n",
    "        self.features = features  # list of np.ndarray\n",
    "        self.labels = labels      # list of int\n",
    "    def __len__(self):\n",
    "        return len(self.labels)\n",
    "    def __getitem__(self, idx):\n",
    "        x = torch.tensor(self.features[idx], dtype=torch.float32)\n",
    "        y = torch.tensor(self.labels[idx], dtype=torch.float32)\n",
    "        return x, y\n",
    "\n",
    "batch_size = 16\n",
    "train_loader = DataLoader(MILDataset(train_features, train_labels), batch_size=batch_size, shuffle=True)\n",
    "val_loader   = DataLoader(MILDataset(val_features,   val_labels),   batch_size=batch_size, shuffle=False)\n",
    "test_loader  = DataLoader(MILDataset(test_features,  test_labels),  batch_size=batch_size, shuffle=False)\n"
   ]
  },
  {
   "cell_type": "code",
   "execution_count": 4,
   "id": "79407013",
   "metadata": {
    "ExecuteTime": {
     "end_time": "2025-09-05T01:47:02.925900Z",
     "start_time": "2025-09-05T01:47:00.971657Z"
    }
   },
   "outputs": [
    {
     "name": "stderr",
     "output_type": "stream",
     "text": [
      "/opt/conda/envs/py38/lib/python3.8/site-packages/torch/optim/lr_scheduler.py:60: UserWarning: The verbose parameter is deprecated. Please use get_last_lr() to access the learning rate.\n",
      "  warnings.warn(\n"
     ]
    }
   ],
   "source": [
    "# 모델 정의 및 초기화 함수\n",
    "\n",
    "class AttentionMIL(nn.Module):\n",
    "    def __init__(self, input_dim=256, hidden_dim=128, dropout_p=0.1):\n",
    "        super().__init__()\n",
    "        self.instance_fc = nn.Linear(input_dim, hidden_dim)\n",
    "        self.dropout = nn.Dropout(dropout_p)\n",
    "        self.att_fc1 = nn.Linear(hidden_dim, hidden_dim)\n",
    "        self.att_fc2 = nn.Linear(hidden_dim, 1)\n",
    "        self.classifier = nn.Linear(hidden_dim, 1)\n",
    "        self._init_weights()\n",
    "    def _init_weights(self):\n",
    "        # He initialization for layers followed by ReLU\n",
    "        nn.init.kaiming_uniform_(self.instance_fc.weight, nonlinearity='relu')\n",
    "        nn.init.zeros_(self.instance_fc.bias)\n",
    "        nn.init.xavier_uniform_(self.att_fc1.weight)\n",
    "        nn.init.zeros_(self.att_fc1.bias)\n",
    "        nn.init.xavier_uniform_(self.att_fc2.weight)\n",
    "        nn.init.zeros_(self.att_fc2.bias)\n",
    "        nn.init.xavier_uniform_(self.classifier.weight)\n",
    "        nn.init.zeros_(self.classifier.bias)\n",
    "    def forward(self, x):\n",
    "        h = torch.relu(self.instance_fc(x))\n",
    "        h = self.dropout(h)\n",
    "        a = torch.tanh(self.att_fc1(h))\n",
    "        a = self.att_fc2(a).squeeze(-1)\n",
    "        weights = torch.softmax(a, dim=1)\n",
    "        bag_repr = torch.sum(weights.unsqueeze(-1) * h, dim=1)\n",
    "        bag_repr = self.dropout(bag_repr)\n",
    "        logits = self.classifier(bag_repr).squeeze(-1)\n",
    "        return logits, weights\n",
    "\n",
    "class TransformerMIL(nn.Module):\n",
    "    def __init__(self, input_dim=256, hidden_dim=128, num_heads=4, num_layers=2, dropout_p=0.1):\n",
    "        super().__init__()\n",
    "        self.input_proj = nn.Linear(input_dim, hidden_dim)\n",
    "        encoder_layer = nn.TransformerEncoderLayer(\n",
    "            d_model=hidden_dim, nhead=num_heads, dropout=dropout_p,\n",
    "            dim_feedforward=hidden_dim*2, batch_first=True\n",
    "        )\n",
    "        self.transformer_encoder = nn.TransformerEncoder(encoder_layer, num_layers=num_layers)\n",
    "        # learnable CLS token\n",
    "        self.cls_token = nn.Parameter(torch.zeros(1, 1, hidden_dim))\n",
    "        self.dropout = nn.Dropout(dropout_p)\n",
    "        self.classifier = nn.Linear(hidden_dim, 1)\n",
    "        self._init_weights()\n",
    "    def _init_weights(self):\n",
    "        nn.init.xavier_uniform_(self.input_proj.weight)\n",
    "        nn.init.constant_(self.input_proj.bias, 0.0)\n",
    "        nn.init.xavier_uniform_(self.classifier.weight)\n",
    "        nn.init.constant_(self.classifier.bias, 0.0)\n",
    "    def forward(self, X):\n",
    "        # X shape: (batch_size, num_instances, input_dim)\n",
    "        b, n, d = X.shape\n",
    "        h = self.input_proj(X)  # (b, n, hidden_dim)\n",
    "        # prepend CLS token\n",
    "        cls_tokens = self.cls_token.expand(b, -1, -1)  # (b,1,hidden_dim)\n",
    "        h = torch.cat((cls_tokens, h), dim=1)  # (b, n+1, hidden_dim)\n",
    "        # run transformer encoder\n",
    "        out = self.transformer_encoder(h)\n",
    "        cls_out = out[:, 0, :]  # (b, hidden_dim)\n",
    "        logits = self.classifier(self.dropout(cls_out)).squeeze(-1)\n",
    "        return logits\n",
    "\n",
    "class MeanPoolingModel(nn.Module):\n",
    "    def __init__(self, input_dim=256):\n",
    "        super().__init__()\n",
    "        self.fc = nn.Linear(input_dim, 1)\n",
    "        nn.init.xavier_uniform_(self.fc.weight)\n",
    "        nn.init.zeros_(self.fc.bias)\n",
    "    def forward(self, x):\n",
    "        bag_mean = x.mean(dim=1)\n",
    "        logits = self.fc(bag_mean).squeeze(-1)\n",
    "        return logits\n",
    "\n",
    "# 모델 인스턴스\n",
    "mil_model = TransformerMIL(input_dim=256, hidden_dim=128, dropout_p=0.1).to(device)\n",
    "base_model = MeanPoolingModel(input_dim=256).to(device)\n",
    "\n",
    "# 손실 함수 및 최적화 기법\n",
    "criterion = nn.BCEWithLogitsLoss()\n",
    "optimizer_mil  = torch.optim.Adam(mil_model.parameters(), lr=1e-3)\n",
    "optimizer_base = torch.optim.Adam(base_model.parameters(), lr=1e-3)\n",
    "scheduler_mil  = torch.optim.lr_scheduler.ReduceLROnPlateau(optimizer_mil, mode='max', factor=0.5, patience=1, verbose=True)\n",
    "scheduler_base = torch.optim.lr_scheduler.ReduceLROnPlateau(optimizer_base, mode='max', factor=0.5, patience=1, verbose=True)"
   ]
  },
  {
   "cell_type": "code",
   "execution_count": 5,
   "id": "90bb9c1f",
   "metadata": {
    "ExecuteTime": {
     "end_time": "2025-09-05T01:47:02.942880Z",
     "start_time": "2025-09-05T01:47:02.929243Z"
    }
   },
   "outputs": [],
   "source": [
    "# 학습 및 평가 함수 (Early Stopping)\n",
    "\n",
    "def train_one_epoch(model, optimizer, loader):\n",
    "    model.train()\n",
    "    total_loss = 0.0\n",
    "    preds_all = []\n",
    "    labels_all = []\n",
    "    for X, y in tqdm(loader, desc='Train', leave=False):\n",
    "        X, y = X.to(device), y.to(device)\n",
    "        optimizer.zero_grad()\n",
    "        # AttentionMIL은 (logits, weights) 반환, TransformerMIL과 MeanPoolingModel은 logits만 반환\n",
    "        if isinstance(model, AttentionMIL):\n",
    "            logits, _ = model(X)\n",
    "        else:\n",
    "            logits = model(X)\n",
    "        loss = criterion(logits, y)\n",
    "        loss.backward()\n",
    "        torch.nn.utils.clip_grad_norm_(model.parameters(), max_norm=1.0)\n",
    "        optimizer.step()\n",
    "        total_loss += loss.item() * y.size(0)\n",
    "        preds = (torch.sigmoid(logits) >= 0.5).float()\n",
    "        preds_all.extend(preds.cpu().numpy())\n",
    "        labels_all.extend(y.cpu().numpy())\n",
    "    return total_loss / len(loader.dataset), accuracy_score(labels_all, preds_all)\n",
    "\n",
    "def evaluate(model, loader):\n",
    "    model.eval()\n",
    "    total_loss = 0.0\n",
    "    probs_all = []\n",
    "    preds_all = []\n",
    "    labels_all = []\n",
    "    with torch.no_grad():\n",
    "        for X, y in tqdm(loader, desc='Eval', leave=False):\n",
    "            X, y = X.to(device), y.to(device)\n",
    "            # AttentionMIL은 (logits, weights) 반환, TransformerMIL과 MeanPoolingModel은 logits만 반환\n",
    "            if isinstance(model, AttentionMIL):\n",
    "                logits, _ = model(X)\n",
    "            else:\n",
    "                logits = model(X)\n",
    "            loss = criterion(logits, y)\n",
    "            total_loss += loss.item() * y.size(0)\n",
    "            probs = torch.sigmoid(logits)\n",
    "            preds = (probs >= 0.5).float()\n",
    "            probs_all.extend(probs.cpu().numpy())\n",
    "            preds_all.extend(preds.cpu().numpy())\n",
    "            labels_all.extend(y.cpu().numpy())\n",
    "    acc = accuracy_score(labels_all, preds_all)\n",
    "    auc = roc_auc_score(labels_all, probs_all) if len(set(labels_all)) > 1 else 0.0\n",
    "    f1 = f1_score(labels_all, preds_all) if len(set(preds_all)) > 1 else 0.0\n",
    "    return total_loss / len(loader.dataset), acc, auc, f1, np.array(probs_all), np.array(labels_all), np.array(preds_all)\n",
    "\n",
    "def train_model(model, optimizer, scheduler, train_loader, val_loader, max_epochs=10, patience=3, name='model'):\n",
    "    best_auc = 0.0\n",
    "    best_state = None\n",
    "    epochs_no_improve = 0\n",
    "    for epoch in range(1, max_epochs+1):\n",
    "        print(f\"\\nEpoch {epoch}/{max_epochs} – {name}\")\n",
    "        tr_loss, tr_acc = train_one_epoch(model, optimizer, train_loader)\n",
    "        val_loss, val_acc, val_auc, val_f1, _, _, _ = evaluate(model, val_loader)\n",
    "        print(f\"  Train Loss: {tr_loss:.4f}, Acc: {tr_acc:.4f}\")\n",
    "        print(f\"  Val   Loss: {val_loss:.4f}, Acc: {val_acc:.4f}, AUC: {val_auc:.4f}, F1: {val_f1:.4f}\")\n",
    "        scheduler.step(val_auc)\n",
    "        if val_auc > best_auc:\n",
    "            best_auc = val_auc\n",
    "            best_state = {k: v.cpu() for k, v in model.state_dict().items()}\n",
    "            torch.save(best_state, f'best_{name}.pth')\n",
    "            print(f\"  ✅ New best AUC: {best_auc:.4f} – model saved.\")\n",
    "            epochs_no_improve = 0\n",
    "        else:\n",
    "            epochs_no_improve += 1\n",
    "            print(f\"  No improvement. Patience: {epochs_no_improve}/{patience}\")\n",
    "            if epochs_no_improve >= patience:\n",
    "                print(\"  🛑 Early stopping triggered.\")\n",
    "                break\n",
    "    if best_state is not None:\n",
    "        model.load_state_dict(best_state)\n",
    "    return model"
   ]
  },
  {
   "cell_type": "code",
   "execution_count": 6,
   "id": "071c244e",
   "metadata": {
    "ExecuteTime": {
     "end_time": "2025-09-05T01:47:28.914250Z",
     "start_time": "2025-09-05T01:47:02.945352Z"
    }
   },
   "outputs": [
    {
     "name": "stderr",
     "output_type": "stream",
     "text": [
      "/opt/conda/envs/py38/lib/python3.8/site-packages/torch/optim/lr_scheduler.py:60: UserWarning: The verbose parameter is deprecated. Please use get_last_lr() to access the learning rate.\n",
      "  warnings.warn(\n"
     ]
    },
    {
     "name": "stdout",
     "output_type": "stream",
     "text": [
      "\n",
      "Epoch 1/10 – transformer_mil_final\n"
     ]
    },
    {
     "name": "stderr",
     "output_type": "stream",
     "text": [
      "                                                        \r"
     ]
    },
    {
     "name": "stdout",
     "output_type": "stream",
     "text": [
      "  Train Loss: 1.1037, Acc: 0.5897\n",
      "  Val   Loss: 1.0559, Acc: 0.6542, AUC: 0.7411, F1: 0.5735\n",
      "  ✅ New best AUC: 0.7411 – model saved.\n",
      "\n",
      "Epoch 2/10 – transformer_mil_final\n"
     ]
    },
    {
     "name": "stderr",
     "output_type": "stream",
     "text": [
      "                                                        \r"
     ]
    },
    {
     "name": "stdout",
     "output_type": "stream",
     "text": [
      "  Train Loss: 0.9018, Acc: 0.6983\n",
      "  Val   Loss: 1.0540, Acc: 0.6633, AUC: 0.7527, F1: 0.5747\n",
      "  ✅ New best AUC: 0.7527 – model saved.\n",
      "\n",
      "Epoch 3/10 – transformer_mil_final\n"
     ]
    },
    {
     "name": "stderr",
     "output_type": "stream",
     "text": [
      "                                                        \r"
     ]
    },
    {
     "name": "stdout",
     "output_type": "stream",
     "text": [
      "  Train Loss: 0.8019, Acc: 0.7439\n",
      "  Val   Loss: 1.4511, Acc: 0.7300, AUC: 0.8053, F1: 0.7259\n",
      "  ✅ New best AUC: 0.8053 – model saved.\n",
      "\n",
      "Epoch 4/10 – transformer_mil_final\n"
     ]
    },
    {
     "name": "stderr",
     "output_type": "stream",
     "text": [
      "                                                        \r"
     ]
    },
    {
     "name": "stdout",
     "output_type": "stream",
     "text": [
      "  Train Loss: 0.7491, Acc: 0.7725\n",
      "  Val   Loss: 1.5119, Acc: 0.7425, AUC: 0.8107, F1: 0.7392\n",
      "  ✅ New best AUC: 0.8107 – model saved.\n",
      "\n",
      "Epoch 5/10 – transformer_mil_final\n"
     ]
    },
    {
     "name": "stderr",
     "output_type": "stream",
     "text": [
      "                                                        \r"
     ]
    },
    {
     "name": "stdout",
     "output_type": "stream",
     "text": [
      "  Train Loss: 0.7409, Acc: 0.7769\n",
      "  Val   Loss: 1.4935, Acc: 0.6950, AUC: 0.7625, F1: 0.6850\n",
      "  No improvement. Patience: 1/3\n",
      "\n",
      "Epoch 6/10 – transformer_mil_final\n"
     ]
    },
    {
     "name": "stderr",
     "output_type": "stream",
     "text": [
      "                                                        \r"
     ]
    },
    {
     "name": "stdout",
     "output_type": "stream",
     "text": [
      "  Train Loss: 0.7008, Acc: 0.7933\n",
      "  Val   Loss: 1.9812, Acc: 0.7175, AUC: 0.7529, F1: 0.7362\n",
      "  No improvement. Patience: 2/3\n",
      "\n",
      "Epoch 7/10 – transformer_mil_final\n"
     ]
    },
    {
     "name": "stderr",
     "output_type": "stream",
     "text": [
      "                                                        \r"
     ]
    },
    {
     "name": "stdout",
     "output_type": "stream",
     "text": [
      "  Train Loss: 0.5459, Acc: 0.8511\n",
      "  Val   Loss: 2.2827, Acc: 0.7133, AUC: 0.8019, F1: 0.7444\n",
      "  No improvement. Patience: 3/3\n",
      "  🛑 Early stopping triggered.\n"
     ]
    },
    {
     "name": "stderr",
     "output_type": "stream",
     "text": [
      "                                                      \r"
     ]
    },
    {
     "name": "stdout",
     "output_type": "stream",
     "text": [
      "Best validation F1 threshold: 0.300 (F1=0.753)\n",
      "Final test metrics (Weighted BCE + optimised threshold):\n",
      "  Accuracy: 0.723, F1: 0.758, Precision: 0.674, Recall: 0.865, AUC: 0.831\n"
     ]
    },
    {
     "data": {
      "image/png": "[encoded data removed]",
      "text/plain": [
       "<Figure size 400x300 with 2 Axes>"
      ]
     },
     "metadata": {},
     "output_type": "display_data"
    },
    {
     "data": {
      "image/png": "[encoded data removed]",
      "text/plain": [
       "<Figure size 500x400 with 1 Axes>"
      ]
     },
     "metadata": {},
     "output_type": "display_data"
    }
   ],
   "source": [
    "# ==============================================================================\n",
    "# Final Pipeline: Weighted BCE training with validation‑based threshold search\n",
    "#\n",
    "# 이 셀은 가중 BCE(음성 클래스 FP 가중치 2.0)를 이용해 Transformer MIL 모델을 학습하고,\n",
    "# validation 세트에서 F1 기준으로 최적 threshold를 찾아 테스트 성능을 산출합니다.\n",
    "# 또한 Confusion Matrix와 ROC 곡선 시각화를 제공합니다.\n",
    "\n",
    "import torch.nn as nn\n",
    "import matplotlib.pyplot as plt\n",
    "import seaborn as sns\n",
    "from sklearn.metrics import accuracy_score, f1_score, precision_score, recall_score, roc_curve, auc, confusion_matrix\n",
    "\n",
    "# Define Weighted BCE loss\n",
    "class WeightedBCE(nn.Module):\n",
    "    def __init__(self, fp_weight=2.0):\n",
    "        super().__init__()\n",
    "        self.fp_weight = fp_weight\n",
    "        self.bce = nn.BCEWithLogitsLoss(reduction='none')\n",
    "    def forward(self, logits, labels):\n",
    "        loss = self.bce(logits, labels)\n",
    "        fp_mask = (labels == 0).float()\n",
    "        loss = loss * (1 + self.fp_weight * fp_mask)\n",
    "        return loss.mean()\n",
    "\n",
    "# Use Weighted BCE as the criterion for the final model\n",
    "criterion = WeightedBCE(fp_weight=2.0)\n",
    "\n",
    "# Initialise a fresh Transformer MIL model\n",
    "mil_model_final = TransformerMIL(input_dim=256, hidden_dim=128, dropout_p=0.1).to(device)\n",
    "optimizer_final = torch.optim.Adam(mil_model_final.parameters(), lr=1e-3)\n",
    "scheduler_final = torch.optim.lr_scheduler.ReduceLROnPlateau(\n",
    "    optimizer_final, mode='max', factor=0.5, patience=1, verbose=True\n",
    ")\n",
    "\n",
    "# Train the model\n",
    "mil_model_final = train_model(\n",
    "    mil_model_final, optimizer_final, scheduler_final,\n",
    "    train_loader, val_loader, max_epochs=10, patience=3, name='transformer_mil_final'\n",
    ")\n",
    "\n",
    "# Evaluate on validation and test\n",
    "val_loss_final, val_acc_final, val_auc_final, val_f1_final, val_probs_final, val_labels_final, _ = evaluate(\n",
    "    mil_model_final, val_loader\n",
    ")\n",
    "test_loss_final, test_acc_final, test_auc_final, test_f1_final, test_probs_final, test_labels_final, _ = evaluate(\n",
    "    mil_model_final, test_loader\n",
    ")\n",
    "\n",
    "# Function to find best threshold based on F1\n",
    "def find_best_threshold(probs, labels):\n",
    "    best_thr, best_val = 0.5, 0.0\n",
    "    for thr in np.linspace(0.05, 0.95, 37):\n",
    "        preds = (probs >= thr).astype(int)\n",
    "        val = f1_score(labels, preds, zero_division=0)\n",
    "        if val > best_val:\n",
    "            best_val, best_thr = val, thr\n",
    "    return best_thr, best_val\n",
    "\n",
    "# Determine the best threshold on validation set\n",
    "best_thr_final, best_f1_valid = find_best_threshold(val_probs_final, val_labels_final)\n",
    "print(f'Best validation F1 threshold: {best_thr_final:.3f} (F1={best_f1_valid:.3f})')\n",
    "\n",
    "# Apply the threshold to test set\n",
    "test_preds_adj_final = (test_probs_final >= best_thr_final).astype(int)\n",
    "acc_final = accuracy_score(test_labels_final, test_preds_adj_final)\n",
    "f1_final = f1_score(test_labels_final, test_preds_adj_final, zero_division=0)\n",
    "prec_final = precision_score(test_labels_final, test_preds_adj_final, zero_division=0)\n",
    "recall_final = recall_score(test_labels_final, test_preds_adj_final, zero_division=0)\n",
    "print('Final test metrics (Weighted BCE + optimised threshold):')\n",
    "print(f'  Accuracy: {acc_final:.3f}, F1: {f1_final:.3f}, Precision: {prec_final:.3f}, Recall: {recall_final:.3f}, AUC: {test_auc_final:.3f}')\n",
    "\n",
    "# Confusion matrix\n",
    "cm_final = confusion_matrix(test_labels_final.astype(int), test_preds_adj_final.astype(int), labels=[0,1])\n",
    "plt.figure(figsize=(4,3))\n",
    "sns.heatmap(\n",
    "    cm_final, annot=True, fmt='d', cmap='Blues',\n",
    "    xticklabels=['Genuine','Forged'], yticklabels=['Genuine','Forged']\n",
    ")\n",
    "plt.title(f'Confusion Matrix (Thr={best_thr_final:.2f})')\n",
    "plt.xlabel('Predicted label')\n",
    "plt.ylabel('True label')\n",
    "plt.tight_layout()\n",
    "plt.show()\n",
    "\n",
    "# ROC curve\n",
    "fpr_final, tpr_final, _ = roc_curve(test_labels_final, test_probs_final)\n",
    "auc_final_value = auc(fpr_final, tpr_final)\n",
    "plt.figure(figsize=(5,4))\n",
    "plt.plot(fpr_final, tpr_final, label=f'Transformer MIL (AUC={auc_final_value:.3f})')\n",
    "plt.plot([0,1],[0,1],'k--', label='Random')\n",
    "plt.xlabel('False Positive Rate')\n",
    "plt.ylabel('True Positive Rate')\n",
    "plt.title('ROC Curve – Transformer MIL Model')\n",
    "plt.legend()\n",
    "plt.grid(True)\n",
    "plt.tight_layout()\n",
    "plt.show()"
   ]
  }
 ],
 "metadata": {
  "kernelspec": {
   "display_name": "Python 3 (ipykernel)",
   "language": "python",
   "name": "python3"
  },
  "language_info": {
   "codemirror_mode": {
    "name": "ipython",
    "version": 3
   },
   "file_extension": ".py",
   "mimetype": "text/x-python",
   "name": "python",
   "nbconvert_exporter": "python",
   "pygments_lexer": "ipython3",
   "version": "3.8.15"
  },
  "toc": {
   "base_numbering": 1,
   "nav_menu": {},
   "number_sections": true,
   "sideBar": true,
   "skip_h1_title": false,
   "title_cell": "Table of Contents",
   "title_sidebar": "Contents",
   "toc_cell": false,
   "toc_position": {},
   "toc_section_display": true,
   "toc_window_display": false
  }
 },
 "nbformat": 4,
 "nbformat_minor": 5
}
