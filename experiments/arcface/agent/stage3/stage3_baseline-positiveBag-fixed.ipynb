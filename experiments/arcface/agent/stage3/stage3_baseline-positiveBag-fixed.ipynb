{
 "cells": [
  {
   "cell_type": "markdown",
   "id": "4c918235",
   "metadata": {},
   "source": [
    "# Stage 3 Final Baseline: Attention‑Based MIL Model with Fixes\n",
    "\n",
    "이 노트북은 Stage 2에서 생성한 MIL Bag 데이터를 입력으로 받아 어텐션 기반 MIL 모델을 학습하고 평가하는 최종 버전입니다. \n"
   ]
  },
  {
   "cell_type": "code",
   "execution_count": 1,
   "id": "39044d96",
   "metadata": {
    "ExecuteTime": {
     "end_time": "2025-08-19T06:13:02.722683Z",
     "start_time": "2025-08-19T06:12:54.631822Z"
    }
   },
   "outputs": [
    {
     "name": "stdout",
     "output_type": "stream",
     "text": [
      "Using device: cuda\n",
      "GPU: NVIDIA GeForce RTX 3090\n"
     ]
    }
   ],
   "source": [
    "# 환경 설정\n",
    "import os\n",
    "import random\n",
    "import pickle\n",
    "import numpy as np\n",
    "import torch\n",
    "import torch.nn as nn\n",
    "from torch.utils.data import Dataset, DataLoader\n",
    "from sklearn.metrics import accuracy_score, roc_auc_score, f1_score, roc_curve, confusion_matrix\n",
    "from tqdm import tqdm\n",
    "\n",
    "# GPU 설정\n",
    "os.environ['CUDA_DEVICE_ORDER'] = 'PCI_BUS_ID'\n",
    "os.environ['CUDA_VISIBLE_DEVICES'] = os.getenv('MIL_STAGE3_GPU', '3')\n",
    "\n",
    "device = torch.device('cuda' if torch.cuda.is_available() else 'cpu')\n",
    "print('Using device:', device)\n",
    "if device.type == 'cuda':\n",
    "    print('GPU:', torch.cuda.get_device_name(0))\n",
    "else:\n",
    "    print('CUDA를 사용할 수 없습니다. CPU 모드로 실행됩니다.')\n",
    "\n",
    "# 시드 고정\n",
    "random.seed(42)\n",
    "np.random.seed(42)\n",
    "torch.manual_seed(42)\n",
    "if torch.cuda.is_available():\n",
    "    torch.cuda.manual_seed_all(42)\n",
    "    torch.backends.cudnn.deterministic = True\n",
    "    torch.backends.cudnn.benchmark = False\n"
   ]
  },
  {
   "cell_type": "code",
   "execution_count": 2,
   "id": "4742eb10",
   "metadata": {
    "ExecuteTime": {
     "end_time": "2025-08-19T06:13:03.617026Z",
     "start_time": "2025-08-19T06:13:02.728348Z"
    }
   },
   "outputs": [
    {
     "name": "stdout",
     "output_type": "stream",
     "text": [
      "Loading MIL bags...\n",
      "Train bags: 3600, Val bags: 1200, Test bags: 1200\n"
     ]
    }
   ],
   "source": [
    "# Stage 2 Bag 데이터 로드 및 Instance 평균 계산\n",
    "embedding_margin = '0.4'\n",
    "bags_dir = '/workspace/MIL/data/processed/bags'\n",
    "train_pkl = os.path.join(bags_dir, f'bags_arcface_margin_{embedding_margin}_50p_random_train.pkl')\n",
    "val_pkl   = os.path.join(bags_dir, f'bags_arcface_margin_{embedding_margin}_50p_random_val.pkl')\n",
    "test_pkl  = os.path.join(bags_dir, f'bags_arcface_margin_{embedding_margin}_50p_random_test.pkl')\n",
    "\n",
    "print('Loading MIL bags...')\n",
    "with open(train_pkl, 'rb') as f:\n",
    "    train_data = pickle.load(f)\n",
    "with open(val_pkl, 'rb') as f:\n",
    "    val_data = pickle.load(f)\n",
    "with open(test_pkl, 'rb') as f:\n",
    "    test_data = pickle.load(f)\n",
    "\n",
    "# Instance mean 계산: (10,5,256) → (10,256)\n",
    "def to_instance_means(bags):\n",
    "    return [bag.mean(axis=1).astype(np.float32) for bag in bags]\n",
    "\n",
    "train_features = to_instance_means(train_data['bags'])\n",
    "val_features   = to_instance_means(val_data['bags'])\n",
    "test_features  = to_instance_means(test_data['bags'])\n",
    "\n",
    "train_labels = train_data['labels']\n",
    "val_labels   = val_data['labels']\n",
    "test_labels  = test_data['labels']\n",
    "\n",
    "print(f'Train bags: {len(train_labels)}, Val bags: {len(val_labels)}, Test bags: {len(test_labels)}')\n"
   ]
  },
  {
   "cell_type": "code",
   "execution_count": 3,
   "id": "17dbf94a",
   "metadata": {
    "ExecuteTime": {
     "end_time": "2025-08-19T06:13:03.625155Z",
     "start_time": "2025-08-19T06:13:03.619355Z"
    }
   },
   "outputs": [],
   "source": [
    "# Dataset 클래스 (on‑the‑fly Tensor 변환)\n",
    "\n",
    "class MILDataset(Dataset):\n",
    "    def __init__(self, features, labels):\n",
    "        self.features = features  # list of np.ndarray\n",
    "        self.labels = labels      # list of int\n",
    "    def __len__(self):\n",
    "        return len(self.labels)\n",
    "    def __getitem__(self, idx):\n",
    "        x = torch.tensor(self.features[idx], dtype=torch.float32)\n",
    "        y = torch.tensor(self.labels[idx], dtype=torch.float32)\n",
    "        return x, y\n",
    "\n",
    "batch_size = 16\n",
    "train_loader = DataLoader(MILDataset(train_features, train_labels), batch_size=batch_size, shuffle=True)\n",
    "val_loader   = DataLoader(MILDataset(val_features,   val_labels),   batch_size=batch_size, shuffle=False)\n",
    "test_loader  = DataLoader(MILDataset(test_features,  test_labels),  batch_size=batch_size, shuffle=False)\n"
   ]
  },
  {
   "cell_type": "code",
   "execution_count": 4,
   "id": "k9kel1ttvr",
   "metadata": {
    "ExecuteTime": {
     "end_time": "2025-08-19T06:13:03.719043Z",
     "start_time": "2025-08-19T06:13:03.626854Z"
    }
   },
   "outputs": [
    {
     "name": "stdout",
     "output_type": "stream",
     "text": [
      "==================================================\n",
      "Bag-level Heterogeneity Analysis (Test Set)\n",
      "==================================================\n",
      "Positive bags (forged):  0.6838 ± 0.0619\n",
      "Negative bags (genuine): 0.3765 ± 0.0353\n",
      "Gap (Pos - Neg):         0.3073\n",
      "\n",
      "✅ Significant heterogeneity gap detected!\n",
      "   → 2차 통계(분산/쌍거리) 추가가 효과적일 것으로 예상됩니다.\n",
      "==================================================\n"
     ]
    }
   ],
   "source": [
    "# 데이터 이질성 검증 - Bag 수준 이질성 측정\n",
    "# Positive와 Negative bag의 평균 쌍거리 차이를 확인하여 2차 통계의 효과를 예측\n",
    "\n",
    "def compute_bag_heterogeneity(bag):\n",
    "    \"\"\"\n",
    "    Bag 내 인스턴스들의 이질성 측정\n",
    "    - 각 인스턴스 평균의 평균 쌍거리 계산\n",
    "    \"\"\"\n",
    "    F = bag.mean(axis=1) if len(bag.shape) == 3 else bag  # (10, D)\n",
    "    # 모든 쌍의 L2 거리 계산\n",
    "    D = F[:, None, :] - F[None, :, :]  # (10, 10, D)\n",
    "    pairwise_dist = np.sqrt((D**2).sum(-1))  # (10, 10)\n",
    "    # 상삼각 행렬의 원소들만 추출 (중복 제거)\n",
    "    upper_tri_indices = np.triu_indices(len(F), k=1)\n",
    "    mean_dist = pairwise_dist[upper_tri_indices].mean()\n",
    "    return mean_dist\n",
    "\n",
    "# 테스트 세트에서 positive/negative bag의 이질성 비교\n",
    "pos_hetero = []\n",
    "neg_hetero = []\n",
    "\n",
    "for bag, label in zip(test_features, test_labels):\n",
    "    hetero = compute_bag_heterogeneity(bag)\n",
    "    if label == 1:\n",
    "        pos_hetero.append(hetero)\n",
    "    else:\n",
    "        neg_hetero.append(hetero)\n",
    "\n",
    "pos_mean = np.mean(pos_hetero)\n",
    "neg_mean = np.mean(neg_hetero)\n",
    "gap = pos_mean - neg_mean\n",
    "\n",
    "print(\"=\"*50)\n",
    "print(\"Bag-level Heterogeneity Analysis (Test Set)\")\n",
    "print(\"=\"*50)\n",
    "print(f\"Positive bags (forged):  {pos_mean:.4f} ± {np.std(pos_hetero):.4f}\")\n",
    "print(f\"Negative bags (genuine): {neg_mean:.4f} ± {np.std(neg_hetero):.4f}\")\n",
    "print(f\"Gap (Pos - Neg):         {gap:.4f}\")\n",
    "print(\"\")\n",
    "if gap > 0.01:\n",
    "    print(\"✅ Significant heterogeneity gap detected!\")\n",
    "    print(\"   → 2차 통계(분산/쌍거리) 추가가 효과적일 것으로 예상됩니다.\")\n",
    "else:\n",
    "    print(\"⚠️  Small heterogeneity gap.\")\n",
    "    print(\"   → 2차 통계의 효과가 제한적일 수 있습니다.\")\n",
    "print(\"=\"*50)"
   ]
  },
  {
   "cell_type": "code",
   "execution_count": 5,
   "id": "79407013",
   "metadata": {
    "ExecuteTime": {
     "end_time": "2025-08-19T06:13:05.623649Z",
     "start_time": "2025-08-19T06:13:03.721748Z"
    }
   },
   "outputs": [
    {
     "name": "stderr",
     "output_type": "stream",
     "text": [
      "/opt/conda/envs/py38/lib/python3.8/site-packages/torch/optim/lr_scheduler.py:60: UserWarning: The verbose parameter is deprecated. Please use get_last_lr() to access the learning rate.\n",
      "  warnings.warn(\n"
     ]
    }
   ],
   "source": [
    "# 모델 정의 및 초기화 함수\n",
    "\n",
    "class AttentionMIL(nn.Module):\n",
    "    def __init__(self, input_dim=256, hidden_dim=128, dropout_p=0.1):\n",
    "        super().__init__()\n",
    "        self.instance_fc = nn.Linear(input_dim, hidden_dim)\n",
    "        self.dropout = nn.Dropout(dropout_p)\n",
    "        self.att_fc1 = nn.Linear(hidden_dim, hidden_dim)\n",
    "        self.att_fc2 = nn.Linear(hidden_dim, 1)\n",
    "        self.classifier = nn.Linear(hidden_dim, 1)\n",
    "        self._init_weights()\n",
    "    def _init_weights(self):\n",
    "        # He initialization for layers followed by ReLU\n",
    "        nn.init.kaiming_uniform_(self.instance_fc.weight, nonlinearity='relu')\n",
    "        nn.init.zeros_(self.instance_fc.bias)\n",
    "        nn.init.xavier_uniform_(self.att_fc1.weight)\n",
    "        nn.init.zeros_(self.att_fc1.bias)\n",
    "        nn.init.xavier_uniform_(self.att_fc2.weight)\n",
    "        nn.init.zeros_(self.att_fc2.bias)\n",
    "        nn.init.xavier_uniform_(self.classifier.weight)\n",
    "        nn.init.zeros_(self.classifier.bias)\n",
    "    def forward(self, x):\n",
    "        h = torch.relu(self.instance_fc(x))\n",
    "        h = self.dropout(h)\n",
    "        a = torch.tanh(self.att_fc1(h))\n",
    "        a = self.att_fc2(a).squeeze(-1)\n",
    "        weights = torch.softmax(a, dim=1)\n",
    "        bag_repr = torch.sum(weights.unsqueeze(-1) * h, dim=1)\n",
    "        bag_repr = self.dropout(bag_repr)\n",
    "        logits = self.classifier(bag_repr).squeeze(-1)\n",
    "        return logits, weights\n",
    "\n",
    "# ---- 개선된 모델: 2차 통계(분산/평균쌍거리) 추가 ----\n",
    "class AttentionMIL_WithStats(nn.Module):\n",
    "    \"\"\"\n",
    "    기존 AttentionMIL에 bag-level 통계를 추가한 개선 모델\n",
    "    - bag_repr (가중평균) + mu (평균) + var (분산) + d_mean (평균 쌍거리)\n",
    "    - 집합 이질성을 더 잘 포착하여 AUC 향상\n",
    "    \"\"\"\n",
    "    def __init__(self, input_dim=256, hidden_dim=128, dropout=0.1):\n",
    "        super().__init__()\n",
    "        # Instance embedding\n",
    "        self.instance_fc = nn.Linear(input_dim, hidden_dim)\n",
    "        # Attention mechanism\n",
    "        self.att_fc1 = nn.Linear(hidden_dim, hidden_dim)\n",
    "        self.att_fc2 = nn.Linear(hidden_dim, 1)\n",
    "        self.dropout = nn.Dropout(dropout)\n",
    "        \n",
    "        # Classifier with extended features\n",
    "        # bag_repr(H) + mu(H) + var(H) + d_mean(1) = 3H + 1\n",
    "        self.classifier = nn.Sequential(\n",
    "            nn.Linear(3*hidden_dim + 1, hidden_dim),\n",
    "            nn.ReLU(),\n",
    "            nn.Dropout(dropout),\n",
    "            nn.Linear(hidden_dim, 1)\n",
    "        )\n",
    "        self._init_weights()\n",
    "        \n",
    "    def _init_weights(self):\n",
    "        nn.init.kaiming_uniform_(self.instance_fc.weight, nonlinearity='relu')\n",
    "        nn.init.zeros_(self.instance_fc.bias)\n",
    "        nn.init.xavier_uniform_(self.att_fc1.weight)\n",
    "        nn.init.zeros_(self.att_fc1.bias)\n",
    "        nn.init.xavier_uniform_(self.att_fc2.weight)\n",
    "        nn.init.zeros_(self.att_fc2.bias)\n",
    "        for m in self.classifier:\n",
    "            if isinstance(m, nn.Linear):\n",
    "                nn.init.xavier_uniform_(m.weight)\n",
    "                nn.init.zeros_(m.bias)\n",
    "\n",
    "    def forward(self, x):\n",
    "        # 1) Instance transformation\n",
    "        H = torch.relu(self.instance_fc(x))  # (B, N, H)\n",
    "        \n",
    "        # 2) Attention weights\n",
    "        A = self.att_fc2(torch.tanh(self.att_fc1(H))).squeeze(-1)  # (B, N)\n",
    "        W = torch.softmax(A, dim=1)\n",
    "        \n",
    "        # 3) Weighted bag representation\n",
    "        bag_repr = torch.sum(W.unsqueeze(-1) * H, dim=1)  # (B, H)\n",
    "        \n",
    "        # 4) Statistical features for set-level heterogeneity\n",
    "        mu  = H.mean(dim=1)                               # (B, H) - 평균\n",
    "        var = H.var(dim=1, unbiased=False)                # (B, H) - 분산\n",
    "        d_mean = torch.cdist(H, H, p=2).mean(dim=(1,2))   # (B,) - 평균 쌍거리\n",
    "        \n",
    "        # 5) Concatenate all features\n",
    "        z = torch.cat([bag_repr, mu, var, d_mean.unsqueeze(-1)], dim=-1)  # (B, 3H+1)\n",
    "        z = self.dropout(z)\n",
    "        \n",
    "        # 6) Classification\n",
    "        logits = self.classifier(z).squeeze(-1)\n",
    "        return logits, W\n",
    "\n",
    "class MeanPoolingModel(nn.Module):\n",
    "    def __init__(self, input_dim=256):\n",
    "        super().__init__()\n",
    "        self.fc = nn.Linear(input_dim, 1)\n",
    "        nn.init.xavier_uniform_(self.fc.weight)\n",
    "        nn.init.zeros_(self.fc.bias)\n",
    "    def forward(self, x):\n",
    "        bag_mean = x.mean(dim=1)\n",
    "        logits = self.fc(bag_mean).squeeze(-1)\n",
    "        return logits\n",
    "\n",
    "# 모델 인스턴스 (개선된 모델 사용)\n",
    "mil_model = AttentionMIL_WithStats(input_dim=256, hidden_dim=128, dropout=0.1).to(device)\n",
    "base_model = MeanPoolingModel(input_dim=256).to(device)\n",
    "\n",
    "# 손실 함수 및 최적화 기법\n",
    "criterion = nn.BCEWithLogitsLoss()\n",
    "optimizer_mil  = torch.optim.Adam(mil_model.parameters(), lr=1e-3)\n",
    "optimizer_base = torch.optim.Adam(base_model.parameters(), lr=1e-3)\n",
    "scheduler_mil  = torch.optim.lr_scheduler.ReduceLROnPlateau(optimizer_mil, mode='max', factor=0.5, patience=1, verbose=True)\n",
    "scheduler_base = torch.optim.lr_scheduler.ReduceLROnPlateau(optimizer_base, mode='max', factor=0.5, patience=1, verbose=True)"
   ]
  },
  {
   "cell_type": "code",
   "execution_count": 6,
   "id": "90bb9c1f",
   "metadata": {
    "ExecuteTime": {
     "end_time": "2025-08-19T06:13:05.641206Z",
     "start_time": "2025-08-19T06:13:05.626590Z"
    }
   },
   "outputs": [],
   "source": [
    "# 학습 및 평가 함수 (Early Stopping) - 개선된 버전\n",
    "\n",
    "from sklearn.metrics import precision_score, recall_score\n",
    "\n",
    "def train_one_epoch(model, optimizer, loader):\n",
    "    model.train()\n",
    "    total_loss = 0.0\n",
    "    preds_all = []\n",
    "    labels_all = []\n",
    "    for X, y in tqdm(loader, desc='Train', leave=False):\n",
    "        X, y = X.to(device), y.to(device)\n",
    "        optimizer.zero_grad()\n",
    "        # AttentionMIL 계열 모델 처리\n",
    "        if isinstance(model, (AttentionMIL, AttentionMIL_WithStats)):\n",
    "            logits, _ = model(X)\n",
    "        else:\n",
    "            logits = model(X)\n",
    "        loss = criterion(logits, y)\n",
    "        loss.backward()\n",
    "        torch.nn.utils.clip_grad_norm_(model.parameters(), max_norm=1.0)\n",
    "        optimizer.step()\n",
    "        total_loss += loss.item() * y.size(0)\n",
    "        preds = (torch.sigmoid(logits) >= 0.5).float()\n",
    "        preds_all.extend(preds.cpu().numpy())\n",
    "        labels_all.extend(y.cpu().numpy())\n",
    "    return total_loss / len(loader.dataset), accuracy_score(labels_all, preds_all)\n",
    "\n",
    "def evaluate(model, loader):\n",
    "    model.eval()\n",
    "    total_loss = 0.0\n",
    "    probs_all = []\n",
    "    preds_all = []\n",
    "    labels_all = []\n",
    "    with torch.no_grad():\n",
    "        for X, y in tqdm(loader, desc='Eval', leave=False):\n",
    "            X, y = X.to(device), y.to(device)\n",
    "            # AttentionMIL 계열 모델 처리\n",
    "            if isinstance(model, (AttentionMIL, AttentionMIL_WithStats)):\n",
    "                logits, _ = model(X)\n",
    "            else:\n",
    "                logits = model(X)\n",
    "            loss = criterion(logits, y)\n",
    "            total_loss += loss.item() * y.size(0)\n",
    "            probs = torch.sigmoid(logits)\n",
    "            preds = (probs >= 0.5).float()\n",
    "            probs_all.extend(probs.cpu().numpy())\n",
    "            preds_all.extend(preds.cpu().numpy())\n",
    "            labels_all.extend(y.cpu().numpy())\n",
    "    acc = accuracy_score(labels_all, preds_all)\n",
    "    auc = roc_auc_score(labels_all, probs_all) if len(set(labels_all)) > 1 else 0.0\n",
    "    f1 = f1_score(labels_all, preds_all) if len(set(preds_all)) > 1 else 0.0\n",
    "    # 추가 메트릭\n",
    "    prec = precision_score(labels_all, preds_all, zero_division=0)\n",
    "    recall = recall_score(labels_all, preds_all, zero_division=0)\n",
    "    return {\n",
    "        'loss': total_loss / len(loader.dataset),\n",
    "        'acc': acc,\n",
    "        'auc': auc,\n",
    "        'f1': f1,\n",
    "        'precision': prec,\n",
    "        'recall': recall,\n",
    "        'probs': np.array(probs_all),\n",
    "        'labels': np.array(labels_all),\n",
    "        'preds': np.array(preds_all)\n",
    "    }\n",
    "\n",
    "def train_model(model, optimizer, scheduler, train_loader, val_loader, max_epochs=10, patience=3, name='model'):\n",
    "    best_auc = 0.0\n",
    "    best_state = None\n",
    "    epochs_no_improve = 0\n",
    "    history = {'train': [], 'val': []}\n",
    "    \n",
    "    for epoch in range(1, max_epochs+1):\n",
    "        print(f\"\\nEpoch {epoch}/{max_epochs} – {name}\")\n",
    "        \n",
    "        # Training\n",
    "        tr_loss, tr_acc = train_one_epoch(model, optimizer, train_loader)\n",
    "        \n",
    "        # Validation\n",
    "        val_metrics = evaluate(model, val_loader)\n",
    "        \n",
    "        # Store history\n",
    "        history['train'].append({'loss': tr_loss, 'acc': tr_acc})\n",
    "        history['val'].append(val_metrics)\n",
    "        \n",
    "        # Print metrics\n",
    "        print(f\"  Train → Loss: {tr_loss:.4f}, Acc: {tr_acc:.4f}\")\n",
    "        print(f\"  Val   → Loss: {val_metrics['loss']:.4f}, Acc: {val_metrics['acc']:.4f}, \"\n",
    "              f\"AUC: {val_metrics['auc']:.4f}, F1: {val_metrics['f1']:.4f}\")\n",
    "        print(f\"          Prec: {val_metrics['precision']:.4f}, Recall: {val_metrics['recall']:.4f}\")\n",
    "        \n",
    "        # Learning rate scheduling\n",
    "        scheduler.step(val_metrics['auc'])\n",
    "        \n",
    "        # Best model tracking\n",
    "        if val_metrics['auc'] > best_auc:\n",
    "            best_auc = val_metrics['auc']\n",
    "            best_state = {k: v.cpu() for k, v in model.state_dict().items()}\n",
    "            torch.save(best_state, f'best_{name}.pth')\n",
    "            print(f\"  ✅ New best AUC: {best_auc:.4f} – model saved.\")\n",
    "            epochs_no_improve = 0\n",
    "        else:\n",
    "            epochs_no_improve += 1\n",
    "            print(f\"  No improvement. Patience: {epochs_no_improve}/{patience}\")\n",
    "            if epochs_no_improve >= patience:\n",
    "                print(\"  🛑 Early stopping triggered.\")\n",
    "                break\n",
    "    \n",
    "    # Load best model\n",
    "    if best_state is not None:\n",
    "        model.load_state_dict(best_state)\n",
    "    \n",
    "    return model, history"
   ]
  },
  {
   "cell_type": "code",
   "execution_count": 7,
   "id": "071c244e",
   "metadata": {
    "ExecuteTime": {
     "end_time": "2025-08-19T06:13:28.930291Z",
     "start_time": "2025-08-19T06:13:05.643096Z"
    }
   },
   "outputs": [
    {
     "name": "stderr",
     "output_type": "stream",
     "text": [
      "/opt/conda/envs/py38/lib/python3.8/site-packages/torch/optim/lr_scheduler.py:60: UserWarning: The verbose parameter is deprecated. Please use get_last_lr() to access the learning rate.\n",
      "  warnings.warn(\n"
     ]
    },
    {
     "name": "stdout",
     "output_type": "stream",
     "text": [
      "손실 함수: WeightedBCE\n",
      "FP 가중치: 0.5\n",
      "\n",
      "모델: AttentionMIL_WithStats\n",
      "총 파라미터 수: 99,074\n",
      "\n",
      "==================================================\n",
      "개선된 MIL 모델 학습 시작\n",
      "==================================================\n",
      "\n",
      "Epoch 1/15 – attention_mil_withstats\n"
     ]
    },
    {
     "name": "stderr",
     "output_type": "stream",
     "text": [
      "                                                         \r"
     ]
    },
    {
     "name": "stdout",
     "output_type": "stream",
     "text": [
      "  Train → Loss: 0.4804, Acc: 0.7989\n",
      "  Val   → Loss: 0.1868, Acc: 0.9417, AUC: 0.9936, F1: 0.9388\n",
      "          Prec: 0.9871, Recall: 0.8950\n",
      "  ✅ New best AUC: 0.9936 – model saved.\n",
      "\n",
      "Epoch 2/15 – attention_mil_withstats\n"
     ]
    },
    {
     "name": "stderr",
     "output_type": "stream",
     "text": [
      "                                                         \r"
     ]
    },
    {
     "name": "stdout",
     "output_type": "stream",
     "text": [
      "  Train → Loss: 0.1162, Acc: 0.9614\n",
      "  Val   → Loss: 0.1021, Acc: 0.9625, AUC: 0.9972, F1: 0.9613\n",
      "          Prec: 0.9929, Recall: 0.9317\n",
      "  ✅ New best AUC: 0.9972 – model saved.\n",
      "\n",
      "Epoch 3/15 – attention_mil_withstats\n"
     ]
    },
    {
     "name": "stderr",
     "output_type": "stream",
     "text": [
      "                                                         \r"
     ]
    },
    {
     "name": "stdout",
     "output_type": "stream",
     "text": [
      "  Train → Loss: 0.0606, Acc: 0.9819\n",
      "  Val   → Loss: 0.0814, Acc: 0.9667, AUC: 0.9980, F1: 0.9657\n",
      "          Prec: 0.9947, Recall: 0.9383\n",
      "  ✅ New best AUC: 0.9980 – model saved.\n",
      "\n",
      "Epoch 4/15 – attention_mil_withstats\n"
     ]
    },
    {
     "name": "stderr",
     "output_type": "stream",
     "text": [
      "                                                         \r"
     ]
    },
    {
     "name": "stdout",
     "output_type": "stream",
     "text": [
      "  Train → Loss: 0.0411, Acc: 0.9881\n",
      "  Val   → Loss: 0.0760, Acc: 0.9683, AUC: 0.9988, F1: 0.9675\n",
      "          Prec: 0.9947, Recall: 0.9417\n",
      "  ✅ New best AUC: 0.9988 – model saved.\n",
      "\n",
      "Epoch 5/15 – attention_mil_withstats\n"
     ]
    },
    {
     "name": "stderr",
     "output_type": "stream",
     "text": [
      "                                                         \r"
     ]
    },
    {
     "name": "stdout",
     "output_type": "stream",
     "text": [
      "  Train → Loss: 0.0329, Acc: 0.9906\n",
      "  Val   → Loss: 0.0593, Acc: 0.9808, AUC: 0.9987, F1: 0.9806\n",
      "          Prec: 0.9932, Recall: 0.9683\n",
      "  No improvement. Patience: 1/4\n",
      "\n",
      "Epoch 6/15 – attention_mil_withstats\n"
     ]
    },
    {
     "name": "stderr",
     "output_type": "stream",
     "text": [
      "                                                         \r"
     ]
    },
    {
     "name": "stdout",
     "output_type": "stream",
     "text": [
      "  Train → Loss: 0.0194, Acc: 0.9942\n",
      "  Val   → Loss: 0.0607, Acc: 0.9800, AUC: 0.9988, F1: 0.9797\n",
      "          Prec: 0.9948, Recall: 0.9650\n",
      "  ✅ New best AUC: 0.9988 – model saved.\n",
      "\n",
      "Epoch 7/15 – attention_mil_withstats\n"
     ]
    },
    {
     "name": "stderr",
     "output_type": "stream",
     "text": [
      "                                                         \r"
     ]
    },
    {
     "name": "stdout",
     "output_type": "stream",
     "text": [
      "  Train → Loss: 0.0119, Acc: 0.9969\n",
      "  Val   → Loss: 0.0595, Acc: 0.9817, AUC: 0.9989, F1: 0.9814\n",
      "          Prec: 0.9949, Recall: 0.9683\n",
      "  ✅ New best AUC: 0.9989 – model saved.\n",
      "\n",
      "Epoch 8/15 – attention_mil_withstats\n"
     ]
    },
    {
     "name": "stderr",
     "output_type": "stream",
     "text": [
      "                                                         \r"
     ]
    },
    {
     "name": "stdout",
     "output_type": "stream",
     "text": [
      "  Train → Loss: 0.0090, Acc: 0.9978\n",
      "  Val   → Loss: 0.0630, Acc: 0.9792, AUC: 0.9987, F1: 0.9789\n",
      "          Prec: 0.9898, Recall: 0.9683\n",
      "  No improvement. Patience: 1/4\n",
      "\n",
      "Epoch 9/15 – attention_mil_withstats\n"
     ]
    },
    {
     "name": "stderr",
     "output_type": "stream",
     "text": [
      "                                                         \r"
     ]
    },
    {
     "name": "stdout",
     "output_type": "stream",
     "text": [
      "  Train → Loss: 0.0058, Acc: 0.9989\n",
      "  Val   → Loss: 0.0592, Acc: 0.9842, AUC: 0.9989, F1: 0.9840\n",
      "          Prec: 0.9949, Recall: 0.9733\n",
      "  No improvement. Patience: 2/4\n",
      "\n",
      "Epoch 10/15 – attention_mil_withstats\n"
     ]
    },
    {
     "name": "stderr",
     "output_type": "stream",
     "text": [
      "                                                         \r"
     ]
    },
    {
     "name": "stdout",
     "output_type": "stream",
     "text": [
      "  Train → Loss: 0.0051, Acc: 0.9989\n",
      "  Val   → Loss: 0.0692, Acc: 0.9800, AUC: 0.9987, F1: 0.9797\n",
      "          Prec: 0.9966, Recall: 0.9633\n",
      "  No improvement. Patience: 3/4\n",
      "\n",
      "Epoch 11/15 – attention_mil_withstats\n"
     ]
    },
    {
     "name": "stderr",
     "output_type": "stream",
     "text": [
      "                                                         \r"
     ]
    },
    {
     "name": "stdout",
     "output_type": "stream",
     "text": [
      "  Train → Loss: 0.0029, Acc: 0.9997\n",
      "  Val   → Loss: 0.0667, Acc: 0.9800, AUC: 0.9987, F1: 0.9797\n",
      "          Prec: 0.9948, Recall: 0.9650\n",
      "  No improvement. Patience: 4/4\n",
      "  🛑 Early stopping triggered.\n",
      "\n",
      "==================================================\n",
      "모델 평가\n",
      "==================================================\n"
     ]
    },
    {
     "name": "stderr",
     "output_type": "stream",
     "text": [
      "                                            \r"
     ]
    },
    {
     "name": "stdout",
     "output_type": "stream",
     "text": [
      "\n",
      "Validation Performance:\n",
      "  AUC: 0.9989, Acc: 0.9817\n",
      "  F1: 0.9814, Prec: 0.9949, Recall: 0.9683\n"
     ]
    },
    {
     "name": "stderr",
     "output_type": "stream",
     "text": [
      "                                            \r"
     ]
    },
    {
     "name": "stdout",
     "output_type": "stream",
     "text": [
      "\n",
      "Test Performance (Default Threshold=0.5):\n",
      "  AUC: 0.9986, Acc: 0.9758\n",
      "  F1: 0.9753, Prec: 0.9965, Recall: 0.9550\n",
      "\n",
      "==================================================\n",
      "임계값 최적화 비교\n",
      "==================================================\n",
      "\n",
      "Test Set Results by Threshold Strategy:\n",
      "--------------------------------------------------------------------------------\n",
      "Strategy                  Acc     F1      Prec    Recall  Spec   \n",
      "--------------------------------------------------------------------------------\n",
      "Default (0.5)             0.9758 0.9753 0.9965 0.9550 0.9967\n",
      "F1-optimized (0.250)      0.9867 0.9866 0.9949 0.9783 0.9950\n",
      "FPR≤5% (0.026)            0.9808 0.9811 0.9691 0.9933 0.9683\n",
      "Youden's J (0.256)        0.9858 0.9857 0.9949 0.9767 0.9950\n",
      "\n",
      "==================================================\n",
      "최종 선택: FPR≤5% 전략 (Threshold=0.026)\n",
      "==================================================\n"
     ]
    },
    {
     "data": {
      "image/png": "[encoded data removed]",
      "text/plain": [
       "<Figure size 1200x500 with 3 Axes>"
      ]
     },
     "metadata": {},
     "output_type": "display_data"
    },
    {
     "name": "stdout",
     "output_type": "stream",
     "text": [
      "\n",
      "======================================================================\n",
      "최종 성능 요약\n",
      "======================================================================\n",
      "모델: AttentionMIL with 2nd-order Statistics\n",
      "손실: WeightedBCE (fp_weight=0.5)\n",
      "임계값 전략: FPR≤5%\n",
      "\n",
      "테스트 성능:\n",
      "  • Accuracy:  0.981\n",
      "  • Precision: 0.969\n",
      "  • Recall:    0.993\n",
      "  • F1-Score:  0.981\n",
      "  • AUC:       0.999\n",
      "======================================================================\n"
     ]
    }
   ],
   "source": [
    "# ==============================================================================\n",
    "# Final Pipeline: 개선된 MIL 학습 파이프라인\n",
    "# - AttentionMIL_WithStats: 2차 통계(분산/쌍거리) 포함\n",
    "# - 완화된 손실 가중치 또는 순수 BCE\n",
    "# - 다양한 임계값 선택 전략 (F1, FPR 제약, 균형점)\n",
    "# ==============================================================================\n",
    "\n",
    "import torch.nn as nn\n",
    "import matplotlib.pyplot as plt\n",
    "import seaborn as sns\n",
    "from sklearn.metrics import (accuracy_score, f1_score, precision_score, \n",
    "                           recall_score, roc_curve, auc, confusion_matrix)\n",
    "\n",
    "# Weighted BCE loss with configurable weight\n",
    "class WeightedBCE(nn.Module):\n",
    "    def __init__(self, fp_weight=0.5):  # 기존 2.0 → 0.5로 완화\n",
    "        super().__init__()\n",
    "        self.fp_weight = fp_weight\n",
    "        self.bce = nn.BCEWithLogitsLoss(reduction='none')\n",
    "    def forward(self, logits, labels):\n",
    "        loss = self.bce(logits, labels)\n",
    "        fp_mask = (labels == 0).float()\n",
    "        loss = loss * (1 + self.fp_weight * fp_mask)\n",
    "        return loss.mean()\n",
    "\n",
    "# FPR 제약 기반 임계값 선택 함수\n",
    "def threshold_at_fpr(probs, labels, fpr_target=0.05):\n",
    "    \"\"\"\n",
    "    FPR ≤ fpr_target을 만족하는 임계값 선택\n",
    "    정밀도를 보호하면서 합리적인 재현율 유지\n",
    "    \"\"\"\n",
    "    fpr, tpr, thresholds = roc_curve(labels, probs)\n",
    "    idx = np.where(fpr <= fpr_target)[0]\n",
    "    if len(idx) > 0:\n",
    "        j = idx[-1]  # FPR ≤ target을 만족하는 가장 높은 TPR 지점\n",
    "    else:\n",
    "        j = np.argmin(fpr)  # 가장 낮은 FPR 지점\n",
    "    return float(thresholds[j])\n",
    "\n",
    "# F1 기반 임계값 선택 함수 (기존)\n",
    "def find_best_threshold_f1(probs, labels):\n",
    "    best_thr, best_f1 = 0.5, 0.0\n",
    "    for thr in np.linspace(0.05, 0.95, 37):\n",
    "        preds = (probs >= thr).astype(int)\n",
    "        f1 = f1_score(labels, preds, zero_division=0)\n",
    "        if f1 > best_f1:\n",
    "            best_f1, best_thr = f1, thr\n",
    "    return best_thr, best_f1\n",
    "\n",
    "# Youden's J 통계량 기반 임계값 (균형점)\n",
    "def threshold_at_youden(probs, labels):\n",
    "    \"\"\"\n",
    "    Youden's J = Sensitivity + Specificity - 1\n",
    "    균형잡힌 성능을 위한 임계값 선택\n",
    "    \"\"\"\n",
    "    fpr, tpr, thresholds = roc_curve(labels, probs)\n",
    "    j_scores = tpr - fpr  # Youden's J statistic\n",
    "    best_idx = np.argmax(j_scores)\n",
    "    return float(thresholds[best_idx])\n",
    "\n",
    "# ========== 손실 함수 선택 ==========\n",
    "# 옵션 1: 순수 BCE (권장)\n",
    "# criterion = nn.BCEWithLogitsLoss()\n",
    "\n",
    "# 옵션 2: 완화된 가중 BCE\n",
    "criterion = WeightedBCE(fp_weight=0.5)  # 2.0 → 0.5로 완화\n",
    "\n",
    "print(f\"손실 함수: {criterion.__class__.__name__}\")\n",
    "if hasattr(criterion, 'fp_weight'):\n",
    "    print(f\"FP 가중치: {criterion.fp_weight}\")\n",
    "\n",
    "# ========== 모델 초기화 ==========\n",
    "# 개선된 모델 사용 (2차 통계 포함)\n",
    "mil_model_final = AttentionMIL_WithStats(\n",
    "    input_dim=256, \n",
    "    hidden_dim=128, \n",
    "    dropout=0.1\n",
    ").to(device)\n",
    "\n",
    "# 기존 모델과 비교를 위한 베이스라인\n",
    "mil_model_baseline = AttentionMIL(\n",
    "    input_dim=256,\n",
    "    hidden_dim=128,\n",
    "    dropout_p=0.1\n",
    ").to(device)\n",
    "\n",
    "print(f\"\\n모델: {mil_model_final.__class__.__name__}\")\n",
    "total_params = sum(p.numel() for p in mil_model_final.parameters())\n",
    "print(f\"총 파라미터 수: {total_params:,}\")\n",
    "\n",
    "# ========== 최적화 설정 ==========\n",
    "optimizer_final = torch.optim.Adam(mil_model_final.parameters(), lr=1e-3)\n",
    "scheduler_final = torch.optim.lr_scheduler.ReduceLROnPlateau(\n",
    "    optimizer_final, mode='max', factor=0.5, patience=2, verbose=True\n",
    ")\n",
    "\n",
    "# ========== 모델 학습 ==========\n",
    "print(\"\\n\" + \"=\"*50)\n",
    "print(\"개선된 MIL 모델 학습 시작\")\n",
    "print(\"=\"*50)\n",
    "\n",
    "mil_model_final, history = train_model(\n",
    "    mil_model_final, optimizer_final, scheduler_final,\n",
    "    train_loader, val_loader, \n",
    "    max_epochs=15,  # 더 긴 학습\n",
    "    patience=4,     # 더 긴 patience\n",
    "    name='attention_mil_withstats'\n",
    ")\n",
    "\n",
    "# ========== 평가 ==========\n",
    "print(\"\\n\" + \"=\"*50)\n",
    "print(\"모델 평가\")\n",
    "print(\"=\"*50)\n",
    "\n",
    "# Validation 평가\n",
    "val_metrics = evaluate(mil_model_final, val_loader)\n",
    "print(f\"\\nValidation Performance:\")\n",
    "print(f\"  AUC: {val_metrics['auc']:.4f}, Acc: {val_metrics['acc']:.4f}\")\n",
    "print(f\"  F1: {val_metrics['f1']:.4f}, Prec: {val_metrics['precision']:.4f}, Recall: {val_metrics['recall']:.4f}\")\n",
    "\n",
    "# Test 평가\n",
    "test_metrics = evaluate(mil_model_final, test_loader)\n",
    "print(f\"\\nTest Performance (Default Threshold=0.5):\")\n",
    "print(f\"  AUC: {test_metrics['auc']:.4f}, Acc: {test_metrics['acc']:.4f}\")\n",
    "print(f\"  F1: {test_metrics['f1']:.4f}, Prec: {test_metrics['precision']:.4f}, Recall: {test_metrics['recall']:.4f}\")\n",
    "\n",
    "# ========== 임계값 최적화 ==========\n",
    "print(\"\\n\" + \"=\"*50)\n",
    "print(\"임계값 최적화 비교\")\n",
    "print(\"=\"*50)\n",
    "\n",
    "# 1. F1 기반 임계값\n",
    "thr_f1, best_f1 = find_best_threshold_f1(val_metrics['probs'], val_metrics['labels'])\n",
    "test_preds_f1 = (test_metrics['probs'] >= thr_f1).astype(int)\n",
    "\n",
    "# 2. FPR 제약 기반 임계값 (FPR ≤ 5%)\n",
    "thr_fpr = threshold_at_fpr(val_metrics['probs'], val_metrics['labels'], fpr_target=0.05)\n",
    "test_preds_fpr = (test_metrics['probs'] >= thr_fpr).astype(int)\n",
    "\n",
    "# 3. Youden's J 기반 임계값\n",
    "thr_youden = threshold_at_youden(val_metrics['probs'], val_metrics['labels'])\n",
    "test_preds_youden = (test_metrics['probs'] >= thr_youden).astype(int)\n",
    "\n",
    "# 각 전략별 성능 계산\n",
    "strategies = {\n",
    "    'Default (0.5)': (0.5, test_metrics['preds'].astype(int)),\n",
    "    f'F1-optimized ({thr_f1:.3f})': (thr_f1, test_preds_f1),\n",
    "    f'FPR≤5% ({thr_fpr:.3f})': (thr_fpr, test_preds_fpr),\n",
    "    f\"Youden's J ({thr_youden:.3f})\": (thr_youden, test_preds_youden)\n",
    "}\n",
    "\n",
    "print(\"\\nTest Set Results by Threshold Strategy:\")\n",
    "print(\"-\" * 80)\n",
    "print(f\"{'Strategy':<25} {'Acc':<7} {'F1':<7} {'Prec':<7} {'Recall':<7} {'Spec':<7}\")\n",
    "print(\"-\" * 80)\n",
    "\n",
    "for name, (thr, preds) in strategies.items():\n",
    "    acc = accuracy_score(test_metrics['labels'], preds)\n",
    "    f1 = f1_score(test_metrics['labels'], preds, zero_division=0)\n",
    "    prec = precision_score(test_metrics['labels'], preds, zero_division=0)\n",
    "    recall = recall_score(test_metrics['labels'], preds, zero_division=0)\n",
    "    # Specificity = TN / (TN + FP)\n",
    "    cm = confusion_matrix(test_metrics['labels'], preds, labels=[0,1])\n",
    "    spec = cm[0,0] / (cm[0,0] + cm[0,1]) if (cm[0,0] + cm[0,1]) > 0 else 0\n",
    "    print(f\"{name:<25} {acc:.4f} {f1:.4f} {prec:.4f} {recall:.4f} {spec:.4f}\")\n",
    "\n",
    "# ========== 최종 선택된 임계값으로 평가 ==========\n",
    "# FPR 제약 기반 임계값 사용 (정밀도 중시)\n",
    "best_strategy = 'FPR≤5%'\n",
    "best_thr = thr_fpr\n",
    "test_preds_final = test_preds_fpr\n",
    "\n",
    "print(\"\\n\" + \"=\"*50)\n",
    "print(f\"최종 선택: {best_strategy} 전략 (Threshold={best_thr:.3f})\")\n",
    "print(\"=\"*50)\n",
    "\n",
    "# Confusion Matrix\n",
    "cm_final = confusion_matrix(test_metrics['labels'].astype(int), test_preds_final, labels=[0,1])\n",
    "\n",
    "fig, axes = plt.subplots(1, 2, figsize=(12, 5))\n",
    "\n",
    "# Confusion Matrix Plot\n",
    "sns.heatmap(\n",
    "    cm_final, annot=True, fmt='d', cmap='Blues',\n",
    "    xticklabels=['Genuine','Forged'], \n",
    "    yticklabels=['Genuine','Forged'],\n",
    "    ax=axes[0]\n",
    ")\n",
    "axes[0].set_title(f'Confusion Matrix (Thr={best_thr:.3f})')\n",
    "axes[0].set_xlabel('Predicted label')\n",
    "axes[0].set_ylabel('True label')\n",
    "\n",
    "# ROC Curve\n",
    "fpr, tpr, _ = roc_curve(test_metrics['labels'], test_metrics['probs'])\n",
    "auc_value = auc(fpr, tpr)\n",
    "axes[1].plot(fpr, tpr, label=f'AttentionMIL+Stats (AUC={auc_value:.3f})', linewidth=2)\n",
    "axes[1].plot([0,1], [0,1], 'k--', alpha=0.5, label='Random')\n",
    "axes[1].set_xlabel('False Positive Rate')\n",
    "axes[1].set_ylabel('True Positive Rate')\n",
    "axes[1].set_title('ROC Curve')\n",
    "axes[1].legend()\n",
    "axes[1].grid(True, alpha=0.3)\n",
    "\n",
    "plt.tight_layout()\n",
    "plt.show()\n",
    "\n",
    "# ========== 최종 결과 요약 ==========\n",
    "print(\"\\n\" + \"=\"*70)\n",
    "print(\"최종 성능 요약\")\n",
    "print(\"=\"*70)\n",
    "final_acc = accuracy_score(test_metrics['labels'], test_preds_final)\n",
    "final_f1 = f1_score(test_metrics['labels'], test_preds_final)\n",
    "final_prec = precision_score(test_metrics['labels'], test_preds_final)\n",
    "final_recall = recall_score(test_metrics['labels'], test_preds_final)\n",
    "\n",
    "print(f\"모델: AttentionMIL with 2nd-order Statistics\")\n",
    "print(f\"손실: {criterion.__class__.__name__}\", end='')\n",
    "if hasattr(criterion, 'fp_weight'):\n",
    "    print(f\" (fp_weight={criterion.fp_weight})\")\n",
    "else:\n",
    "    print()\n",
    "print(f\"임계값 전략: {best_strategy}\")\n",
    "print(f\"\\n테스트 성능:\")\n",
    "print(f\"  • Accuracy:  {final_acc:.3f}\")\n",
    "print(f\"  • Precision: {final_prec:.3f}\")\n",
    "print(f\"  • Recall:    {final_recall:.3f}\")\n",
    "print(f\"  • F1-Score:  {final_f1:.3f}\")\n",
    "print(f\"  • AUC:       {test_metrics['auc']:.3f}\")\n",
    "print(\"=\"*70)"
   ]
  }
 ],
 "metadata": {
  "kernelspec": {
   "display_name": "Python 3 (ipykernel)",
   "language": "python",
   "name": "python3"
  },
  "language_info": {
   "codemirror_mode": {
    "name": "ipython",
    "version": 3
   },
   "file_extension": ".py",
   "mimetype": "text/x-python",
   "name": "python",
   "nbconvert_exporter": "python",
   "pygments_lexer": "ipython3",
   "version": "3.8.15"
  },
  "toc": {
   "base_numbering": 1,
   "nav_menu": {},
   "number_sections": true,
   "sideBar": true,
   "skip_h1_title": false,
   "title_cell": "Table of Contents",
   "title_sidebar": "Contents",
   "toc_cell": false,
   "toc_position": {},
   "toc_section_display": true,
   "toc_window_display": false
  }
 },
 "nbformat": 4,
 "nbformat_minor": 5
}
