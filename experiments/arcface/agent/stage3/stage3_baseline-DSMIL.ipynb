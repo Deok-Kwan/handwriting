{
 "cells": [
  {
   "cell_type": "code",
   "execution_count": 1,
   "id": "39044d96",
   "metadata": {
    "ExecuteTime": {
     "end_time": "2025-09-05T02:51:08.861170Z",
     "start_time": "2025-09-05T02:51:00.862766Z"
    }
   },
   "outputs": [
    {
     "name": "stdout",
     "output_type": "stream",
     "text": [
      "Using device: cuda\n",
      "GPU: NVIDIA GeForce RTX 3090\n",
      "🔒 모든 시드를 42로 고정완료\n"
     ]
    }
   ],
   "source": [
    "# 환경 설정\n",
    "import os\n",
    "import random\n",
    "import pickle\n",
    "import numpy as np\n",
    "import torch\n",
    "import torch.nn as nn\n",
    "from torch.utils.data import Dataset, DataLoader\n",
    "from sklearn.metrics import accuracy_score, roc_auc_score, f1_score, roc_curve, confusion_matrix\n",
    "from tqdm import tqdm\n",
    "\n",
    "# GPU 설정\n",
    "os.environ['CUDA_DEVICE_ORDER'] = 'PCI_BUS_ID'\n",
    "os.environ['CUDA_VISIBLE_DEVICES'] = os.getenv('MIL_STAGE3_GPU', '3')\n",
    "\n",
    "device = torch.device('cuda' if torch.cuda.is_available() else 'cpu')\n",
    "print('Using device:', device)\n",
    "if device.type == 'cuda':\n",
    "    print('GPU:', torch.cuda.get_device_name(0))\n",
    "else:\n",
    "    print('CUDA를 사용할 수 없습니다. CPU 모드로 실행됩니다.')\n",
    "\n",
    "# 시드 고정 유틸리티 함수\n",
    "def seed_everything(seed=42):\n",
    "    \"\"\"모든 난수 생성기 시드를 고정하는 함수\"\"\"\n",
    "    random.seed(seed)\n",
    "    np.random.seed(seed)\n",
    "    torch.manual_seed(seed)\n",
    "    if torch.cuda.is_available():\n",
    "        torch.cuda.manual_seed_all(seed)\n",
    "        torch.backends.cudnn.deterministic = True\n",
    "        torch.backends.cudnn.benchmark = False\n",
    "    print(f\"🔒 모든 시드를 {seed}로 고정완료\")\n",
    "\n",
    "# 초기 시드 고정\n",
    "seed_everything(42)"
   ]
  },
  {
   "cell_type": "markdown",
   "id": "g68jqs8g95u",
   "metadata": {},
   "source": [
    "# Stage 3 모델 비교 실험: Attention-Based vs DSMIL MIL (Baseline 설정)\n",
    "\n",
    "이 노트북은 Stage 2에서 생성한 MIL Bag 데이터를 입력으로 받아 두 가지 MIL 모델을 비교 실험합니다:\n",
    "1. **기본 Attention MIL**: 단순한 attention mechanism \n",
    "2. **DSMIL**: Dual-stream MIL - Attention + Max pooling을 결합한 향상된 모델\n",
    "\n",
    "**실험 목표:**\n",
    "- 두 모델의 성능 비교\n",
    "- DSMIL dual-stream mechanism의 효과 검증\n",
    "- 모델별 attention pattern 분석\n",
    "\n",
    "**⚠️ 중요: 공정한 비교를 위해 baseline 설정으로 통일**\n",
    "- 손실 함수: `WeightedBCE(fp_weight=2.0)` (baseline과 동일하게 변경)\n",
    "- 최대 에포크: 10 (baseline과 동일)\n",
    "- Early Stopping Patience: 3 (baseline과 동일)\n",
    "- Scheduler Patience: 1 (baseline과 동일)\n",
    "\n",
    "**🔧 평가 일관성 수정 완료:**\n",
    "- Gated notebook과 완전히 동일한 학습 순서 적용\n",
    "- 예상 결과: Basic_Attention Test AUC: 0.838 (gated notebook과 동일)\n",
    "- DSMIL은 별도로 추가 학습하여 비교"
   ]
  },
  {
   "cell_type": "code",
   "execution_count": 2,
   "id": "4742eb10",
   "metadata": {
    "ExecuteTime": {
     "end_time": "2025-09-05T02:51:09.719031Z",
     "start_time": "2025-09-05T02:51:08.866312Z"
    }
   },
   "outputs": [
    {
     "name": "stdout",
     "output_type": "stream",
     "text": [
      "Loading MIL bags...\n",
      "Train bags: 3600, Val bags: 1200, Test bags: 1200\n"
     ]
    }
   ],
   "source": [
    "# Stage 2 Bag 데이터 로드 및 Instance 평균 계산\n",
    "embedding_margin = '0.4'\n",
    "bags_dir = '/workspace/MIL/data/processed/bags'\n",
    "train_pkl = os.path.join(bags_dir, f'bags_arcface_margin_{embedding_margin}_50p_random_train.pkl')\n",
    "val_pkl   = os.path.join(bags_dir, f'bags_arcface_margin_{embedding_margin}_50p_random_val.pkl')\n",
    "test_pkl  = os.path.join(bags_dir, f'bags_arcface_margin_{embedding_margin}_50p_random_test.pkl')\n",
    "\n",
    "print('Loading MIL bags...')\n",
    "with open(train_pkl, 'rb') as f:\n",
    "    train_data = pickle.load(f)\n",
    "with open(val_pkl, 'rb') as f:\n",
    "    val_data = pickle.load(f)\n",
    "with open(test_pkl, 'rb') as f:\n",
    "    test_data = pickle.load(f)\n",
    "\n",
    "# Instance mean 계산: (10,5,256) → (10,256)\n",
    "def to_instance_means(bags):\n",
    "    return [bag.mean(axis=1).astype(np.float32) for bag in bags]\n",
    "\n",
    "train_features = to_instance_means(train_data['bags'])\n",
    "val_features   = to_instance_means(val_data['bags'])\n",
    "test_features  = to_instance_means(test_data['bags'])\n",
    "\n",
    "train_labels = train_data['labels']\n",
    "val_labels   = val_data['labels']\n",
    "test_labels  = test_data['labels']\n",
    "\n",
    "print(f'Train bags: {len(train_labels)}, Val bags: {len(val_labels)}, Test bags: {len(test_labels)}')\n"
   ]
  },
  {
   "cell_type": "code",
   "execution_count": 3,
   "id": "17dbf94a",
   "metadata": {
    "ExecuteTime": {
     "end_time": "2025-09-05T02:51:09.726675Z",
     "start_time": "2025-09-05T02:51:09.720986Z"
    }
   },
   "outputs": [],
   "source": [
    "# Dataset 클래스 (on‑the‑fly Tensor 변환)\n",
    "\n",
    "class MILDataset(Dataset):\n",
    "    def __init__(self, features, labels):\n",
    "        self.features = features  # list of np.ndarray\n",
    "        self.labels = labels      # list of int\n",
    "    def __len__(self):\n",
    "        return len(self.labels)\n",
    "    def __getitem__(self, idx):\n",
    "        x = torch.tensor(self.features[idx], dtype=torch.float32)\n",
    "        y = torch.tensor(self.labels[idx], dtype=torch.float32)\n",
    "        return x, y\n",
    "\n",
    "batch_size = 16\n",
    "train_loader = DataLoader(MILDataset(train_features, train_labels), batch_size=batch_size, shuffle=True)\n",
    "val_loader   = DataLoader(MILDataset(val_features,   val_labels),   batch_size=batch_size, shuffle=False)\n",
    "test_loader  = DataLoader(MILDataset(test_features,  test_labels),  batch_size=batch_size, shuffle=False)\n"
   ]
  },
  {
   "cell_type": "code",
   "execution_count": 4,
   "id": "qpxriysblvi",
   "metadata": {
    "ExecuteTime": {
     "end_time": "2025-09-05T02:51:09.733620Z",
     "start_time": "2025-09-05T02:51:09.728457Z"
    }
   },
   "outputs": [
    {
     "name": "stdout",
     "output_type": "stream",
     "text": [
      "✅ WeightedBCE 손실함수 클래스 정의 완료\n",
      "   FP Weight: 2.0 (baseline과 동일)\n"
     ]
    }
   ],
   "source": [
    "# WeightedBCE 손실함수 정의 (baseline과 동일한 설정)\n",
    "\n",
    "class WeightedBCE(nn.Module):\n",
    "    \"\"\"Weighted Binary Cross Entropy Loss - False Positive에 더 큰 가중치 부여\"\"\"\n",
    "    def __init__(self, fp_weight=2.0):\n",
    "        super().__init__()\n",
    "        self.fp_weight = fp_weight\n",
    "        self.bce = nn.BCEWithLogitsLoss(reduction='none')\n",
    "    \n",
    "    def forward(self, logits, labels):\n",
    "        loss = self.bce(logits, labels)\n",
    "        # False Positive (label=0인데 예측이 1)에 더 큰 가중치\n",
    "        fp_mask = (labels == 0).float()\n",
    "        loss = loss * (1 + self.fp_weight * fp_mask)\n",
    "        return loss.mean()\n",
    "\n",
    "print(\"✅ WeightedBCE 손실함수 클래스 정의 완료\")\n",
    "print(f\"   FP Weight: 2.0 (baseline과 동일)\")"
   ]
  },
  {
   "cell_type": "code",
   "execution_count": 5,
   "id": "79407013",
   "metadata": {
    "ExecuteTime": {
     "end_time": "2025-09-05T02:51:09.762050Z",
     "start_time": "2025-09-05T02:51:09.737242Z"
    }
   },
   "outputs": [
    {
     "name": "stdout",
     "output_type": "stream",
     "text": [
      "✅ 모델 클래스 정의 완료:\n",
      "  - AttentionMIL: 기본 attention mechanism\n",
      "  - GatedAttentionMIL: Gate로 조절되는 attention (재현성 테스트용)\n",
      "  - DSMILModel: Dual-stream MIL (Attention + Max pooling)\n",
      "  - MeanPoolingModel: 베이스라인 (단순 평균)\n"
     ]
    }
   ],
   "source": [
    "# MIL 모델 정의: Attention vs DSMIL vs Gated Attention\n",
    "\n",
    "class AttentionMIL(nn.Module):\n",
    "    \"\"\"기본 Attention-based MIL 모델\"\"\"\n",
    "    def __init__(self, input_dim=256, hidden_dim=128, dropout_p=0.1):\n",
    "        super().__init__()\n",
    "        self.input_dim = input_dim\n",
    "        self.hidden_dim = hidden_dim\n",
    "        \n",
    "        # Instance-level feature transformation\n",
    "        self.instance_fc = nn.Linear(input_dim, hidden_dim)\n",
    "        self.dropout = nn.Dropout(dropout_p)\n",
    "        \n",
    "        # Attention mechanism\n",
    "        self.att_fc1 = nn.Linear(hidden_dim, hidden_dim)\n",
    "        self.att_fc2 = nn.Linear(hidden_dim, 1)\n",
    "        \n",
    "        # Classifier\n",
    "        self.classifier = nn.Linear(hidden_dim, 1)\n",
    "        self._init_weights()\n",
    "    \n",
    "    def _init_weights(self):\n",
    "        # He initialization for ReLU layers\n",
    "        nn.init.kaiming_uniform_(self.instance_fc.weight, nonlinearity='relu')\n",
    "        nn.init.zeros_(self.instance_fc.bias)\n",
    "        # Xavier for others\n",
    "        nn.init.xavier_uniform_(self.att_fc1.weight)\n",
    "        nn.init.zeros_(self.att_fc1.bias)\n",
    "        nn.init.xavier_uniform_(self.att_fc2.weight)\n",
    "        nn.init.zeros_(self.att_fc2.bias)\n",
    "        nn.init.xavier_uniform_(self.classifier.weight)\n",
    "        nn.init.zeros_(self.classifier.bias)\n",
    "    \n",
    "    def forward(self, x):\n",
    "        # Instance feature transformation: (B, N, input_dim) -> (B, N, hidden_dim)\n",
    "        h = torch.relu(self.instance_fc(x))\n",
    "        h = self.dropout(h)\n",
    "        \n",
    "        # Attention calculation\n",
    "        a = torch.tanh(self.att_fc1(h))  # (B, N, hidden_dim)\n",
    "        a = self.att_fc2(a).squeeze(-1)  # (B, N)\n",
    "        weights = torch.softmax(a, dim=1)  # (B, N)\n",
    "        \n",
    "        # Weighted aggregation\n",
    "        bag_repr = torch.sum(weights.unsqueeze(-1) * h, dim=1)  # (B, hidden_dim)\n",
    "        bag_repr = self.dropout(bag_repr)\n",
    "        \n",
    "        # Classification\n",
    "        logits = self.classifier(bag_repr).squeeze(-1)  # (B,)\n",
    "        return logits, weights\n",
    "\n",
    "class GatedAttentionMIL(nn.Module):\n",
    "    \"\"\"Gated Attention MIL 모델 - Gate mechanism으로 attention 조절 (재현성 테스트용)\"\"\"\n",
    "    def __init__(self, input_dim=256, hidden_dim=128, dropout_p=0.1):\n",
    "        super().__init__()\n",
    "        self.input_dim = input_dim\n",
    "        self.hidden_dim = hidden_dim\n",
    "        \n",
    "        # Instance-level feature transformation\n",
    "        self.instance_fc = nn.Linear(input_dim, hidden_dim)\n",
    "        self.dropout = nn.Dropout(dropout_p)\n",
    "        \n",
    "        # Attention branch\n",
    "        self.attention_fc1 = nn.Linear(hidden_dim, hidden_dim)\n",
    "        self.attention_fc2 = nn.Linear(hidden_dim, 1)\n",
    "        \n",
    "        # Gate branch  \n",
    "        self.gate_fc1 = nn.Linear(hidden_dim, hidden_dim)\n",
    "        self.gate_fc2 = nn.Linear(hidden_dim, 1)\n",
    "        \n",
    "        # Classifier\n",
    "        self.classifier = nn.Linear(hidden_dim, 1)\n",
    "        self._init_weights()\n",
    "    \n",
    "    def _init_weights(self):\n",
    "        # He initialization for ReLU layers\n",
    "        nn.init.kaiming_uniform_(self.instance_fc.weight, nonlinearity='relu')\n",
    "        nn.init.zeros_(self.instance_fc.bias)\n",
    "        \n",
    "        # Xavier for attention branch\n",
    "        nn.init.xavier_uniform_(self.attention_fc1.weight)\n",
    "        nn.init.zeros_(self.attention_fc1.bias)\n",
    "        nn.init.xavier_uniform_(self.attention_fc2.weight)\n",
    "        nn.init.zeros_(self.attention_fc2.bias)\n",
    "        \n",
    "        # Xavier for gate branch\n",
    "        nn.init.xavier_uniform_(self.gate_fc1.weight)\n",
    "        nn.init.zeros_(self.gate_fc1.bias)\n",
    "        nn.init.xavier_uniform_(self.gate_fc2.weight)\n",
    "        nn.init.zeros_(self.gate_fc2.bias)\n",
    "        \n",
    "        # Classifier\n",
    "        nn.init.xavier_uniform_(self.classifier.weight)\n",
    "        nn.init.zeros_(self.classifier.bias)\n",
    "    \n",
    "    def forward(self, x):\n",
    "        # Instance feature transformation: (B, N, input_dim) -> (B, N, hidden_dim)\n",
    "        h = torch.relu(self.instance_fc(x))\n",
    "        h = self.dropout(h)\n",
    "        \n",
    "        # Attention branch\n",
    "        attention = torch.tanh(self.attention_fc1(h))  # (B, N, hidden_dim)\n",
    "        attention_scores = self.attention_fc2(attention)  # (B, N, 1)\n",
    "        \n",
    "        # Gate branch  \n",
    "        gate = torch.tanh(self.gate_fc1(h))  # (B, N, hidden_dim)\n",
    "        gate_scores = torch.sigmoid(self.gate_fc2(gate))  # (B, N, 1) - sigmoid for gating\n",
    "        \n",
    "        # Combine attention with gate\n",
    "        gated_attention = attention_scores * gate_scores  # Element-wise multiplication\n",
    "        gated_attention = gated_attention.squeeze(-1)  # (B, N)\n",
    "        \n",
    "        # Softmax normalization\n",
    "        weights = torch.softmax(gated_attention, dim=1)  # (B, N)\n",
    "        \n",
    "        # Weighted aggregation\n",
    "        bag_repr = torch.sum(weights.unsqueeze(-1) * h, dim=1)  # (B, hidden_dim)\n",
    "        bag_repr = self.dropout(bag_repr)\n",
    "        \n",
    "        # Classification\n",
    "        logits = self.classifier(bag_repr).squeeze(-1)  # (B,)\n",
    "        return logits, weights\n",
    "\n",
    "class DSMILModel(nn.Module):\n",
    "    \"\"\"DSMIL (Dual-stream MIL) 모델 - 두 개의 독립적인 스트림으로 구성\"\"\"\n",
    "    def __init__(self, input_dim=256, hidden_dim=128, dropout_p=0.1):\n",
    "        super().__init__()\n",
    "        self.input_dim = input_dim\n",
    "        self.hidden_dim = hidden_dim\n",
    "        \n",
    "        # 공통 Instance-level feature transformation\n",
    "        self.instance_fc = nn.Linear(input_dim, hidden_dim)\n",
    "        self.dropout = nn.Dropout(dropout_p)\n",
    "        \n",
    "        # Stream 1: Attention 기반 스트림\n",
    "        self.attention_fc1 = nn.Linear(hidden_dim, hidden_dim)\n",
    "        self.attention_fc2 = nn.Linear(hidden_dim, 1)\n",
    "        \n",
    "        # Stream 2: Max pooling 기반 스트림\n",
    "        self.max_pool_fc = nn.Linear(hidden_dim, hidden_dim)\n",
    "        \n",
    "        # 두 스트림을 결합하는 분류기\n",
    "        self.classifier = nn.Linear(hidden_dim * 2, 1)  # 두 스트림 concat\n",
    "        self._init_weights()\n",
    "    \n",
    "    def _init_weights(self):\n",
    "        # He initialization for ReLU layers\n",
    "        nn.init.kaiming_uniform_(self.instance_fc.weight, nonlinearity='relu')\n",
    "        nn.init.zeros_(self.instance_fc.bias)\n",
    "        \n",
    "        # Xavier for attention stream\n",
    "        nn.init.xavier_uniform_(self.attention_fc1.weight)\n",
    "        nn.init.zeros_(self.attention_fc1.bias)\n",
    "        nn.init.xavier_uniform_(self.attention_fc2.weight)\n",
    "        nn.init.zeros_(self.attention_fc2.bias)\n",
    "        \n",
    "        # Xavier for max pooling stream\n",
    "        nn.init.xavier_uniform_(self.max_pool_fc.weight)\n",
    "        nn.init.zeros_(self.max_pool_fc.bias)\n",
    "        \n",
    "        # Classifier\n",
    "        nn.init.xavier_uniform_(self.classifier.weight)\n",
    "        nn.init.zeros_(self.classifier.bias)\n",
    "    \n",
    "    def forward(self, x):\n",
    "        # 공통 Instance feature transformation: (B, N, input_dim) -> (B, N, hidden_dim)\n",
    "        h = torch.relu(self.instance_fc(x))\n",
    "        h = self.dropout(h)\n",
    "        \n",
    "        # Stream 1: Attention-based aggregation\n",
    "        attention_scores = torch.tanh(self.attention_fc1(h))  # (B, N, hidden_dim)\n",
    "        attention_weights = self.attention_fc2(attention_scores)  # (B, N, 1)\n",
    "        attention_weights = torch.softmax(attention_weights.squeeze(-1), dim=1)  # (B, N)\n",
    "        \n",
    "        # Weighted aggregation for stream 1\n",
    "        stream1_repr = torch.sum(attention_weights.unsqueeze(-1) * h, dim=1)  # (B, hidden_dim)\n",
    "        \n",
    "        # Stream 2: Max pooling based aggregation\n",
    "        stream2_features = torch.relu(self.max_pool_fc(h))  # (B, N, hidden_dim)\n",
    "        stream2_repr = torch.max(stream2_features, dim=1)[0]  # (B, hidden_dim)\n",
    "        \n",
    "        # 두 스트림 결합\n",
    "        combined_repr = torch.cat([stream1_repr, stream2_repr], dim=1)  # (B, hidden_dim*2)\n",
    "        combined_repr = self.dropout(combined_repr)\n",
    "        \n",
    "        # 최종 분류\n",
    "        logits = self.classifier(combined_repr).squeeze(-1)  # (B,)\n",
    "        \n",
    "        return logits, attention_weights\n",
    "\n",
    "class MeanPoolingModel(nn.Module):\n",
    "    \"\"\"베이스라인: 단순 평균 풀링 모델\"\"\"\n",
    "    def __init__(self, input_dim=256):\n",
    "        super().__init__()\n",
    "        self.fc = nn.Linear(input_dim, 1)\n",
    "        nn.init.xavier_uniform_(self.fc.weight)\n",
    "        nn.init.zeros_(self.fc.bias)\n",
    "    \n",
    "    def forward(self, x):\n",
    "        bag_mean = x.mean(dim=1)  # (B, input_dim)\n",
    "        logits = self.fc(bag_mean).squeeze(-1)  # (B,)\n",
    "        return logits\n",
    "\n",
    "print(\"✅ 모델 클래스 정의 완료:\")\n",
    "print(\"  - AttentionMIL: 기본 attention mechanism\")\n",
    "print(\"  - GatedAttentionMIL: Gate로 조절되는 attention (재현성 테스트용)\")\n",
    "print(\"  - DSMILModel: Dual-stream MIL (Attention + Max pooling)\")\n",
    "print(\"  - MeanPoolingModel: 베이스라인 (단순 평균)\")"
   ]
  },
  {
   "cell_type": "code",
   "execution_count": 6,
   "id": "90bb9c1f",
   "metadata": {
    "ExecuteTime": {
     "end_time": "2025-09-05T02:51:09.781257Z",
     "start_time": "2025-09-05T02:51:09.763737Z"
    }
   },
   "outputs": [
    {
     "name": "stdout",
     "output_type": "stream",
     "text": [
      "✅ 학습/평가 함수 정의 완료:\n",
      "  - 다중 모델 지원 (Attention/Gated/DSMIL/MeanPooling)\n",
      "  - Attention weights 수집 및 분석 가능\n",
      "  - 학습 히스토리 추적\n"
     ]
    }
   ],
   "source": [
    "# 모델 학습 및 평가 함수 (다중 모델 비교용)\n",
    "\n",
    "def is_attention_model(model):\n",
    "    \"\"\"Attention 기반 모델인지 확인 (AttentionMIL, GatedAttentionMIL, DSMILModel)\"\"\"\n",
    "    return isinstance(model, (AttentionMIL, GatedAttentionMIL, DSMILModel))\n",
    "\n",
    "def train_one_epoch(model, optimizer, loader, criterion):\n",
    "    model.train()\n",
    "    total_loss = 0.0\n",
    "    preds_all = []\n",
    "    labels_all = []\n",
    "    \n",
    "    for X, y in tqdm(loader, desc='Train', leave=False):\n",
    "        X, y = X.to(device), y.to(device)\n",
    "        optimizer.zero_grad()\n",
    "        \n",
    "        # Forward pass - attention 모델은 튜플 반환, 다른 모델은 logits만 반환\n",
    "        if is_attention_model(model):\n",
    "            logits, _ = model(X)\n",
    "        else:\n",
    "            logits = model(X)\n",
    "            \n",
    "        loss = criterion(logits, y)\n",
    "        loss.backward()\n",
    "        torch.nn.utils.clip_grad_norm_(model.parameters(), max_norm=1.0)\n",
    "        optimizer.step()\n",
    "        \n",
    "        total_loss += loss.item() * y.size(0)\n",
    "        preds = (torch.sigmoid(logits) >= 0.5).float()\n",
    "        preds_all.extend(preds.cpu().numpy())\n",
    "        labels_all.extend(y.cpu().numpy())\n",
    "    \n",
    "    return total_loss / len(loader.dataset), accuracy_score(labels_all, preds_all)\n",
    "\n",
    "def evaluate(model, loader, criterion):\n",
    "    model.eval()\n",
    "    total_loss = 0.0\n",
    "    probs_all = []\n",
    "    preds_all = []\n",
    "    labels_all = []\n",
    "    attention_weights_all = []\n",
    "    \n",
    "    with torch.no_grad():\n",
    "        for X, y in tqdm(loader, desc='Eval', leave=False):\n",
    "            X, y = X.to(device), y.to(device)\n",
    "            \n",
    "            # Forward pass\n",
    "            if is_attention_model(model):\n",
    "                logits, attention_weights = model(X)\n",
    "                attention_weights_all.append(attention_weights.cpu().numpy())\n",
    "            else:\n",
    "                logits = model(X)\n",
    "                \n",
    "            loss = criterion(logits, y)\n",
    "            total_loss += loss.item() * y.size(0)\n",
    "            \n",
    "            probs = torch.sigmoid(logits)\n",
    "            preds = (probs >= 0.5).float()\n",
    "            \n",
    "            probs_all.extend(probs.cpu().numpy())\n",
    "            preds_all.extend(preds.cpu().numpy())\n",
    "            labels_all.extend(y.cpu().numpy())\n",
    "    \n",
    "    # Calculate metrics\n",
    "    acc = accuracy_score(labels_all, preds_all)\n",
    "    auc = roc_auc_score(labels_all, probs_all) if len(set(labels_all)) > 1 else 0.0\n",
    "    f1 = f1_score(labels_all, preds_all) if len(set(preds_all)) > 1 else 0.0\n",
    "    \n",
    "    # Combine attention weights if available\n",
    "    attention_weights_combined = np.concatenate(attention_weights_all, axis=0) if attention_weights_all else None\n",
    "    \n",
    "    return {\n",
    "        'loss': total_loss / len(loader.dataset),\n",
    "        'accuracy': acc,\n",
    "        'auc': auc,\n",
    "        'f1': f1,\n",
    "        'probs': np.array(probs_all),\n",
    "        'labels': np.array(labels_all),\n",
    "        'preds': np.array(preds_all),\n",
    "        'attention_weights': attention_weights_combined\n",
    "    }\n",
    "\n",
    "def train_model(model, optimizer, scheduler, train_loader, val_loader, criterion, \n",
    "                max_epochs=10, patience=3, name='model'):\n",
    "    \"\"\"모델 학습 (Early Stopping 포함)\"\"\"\n",
    "    best_auc = 0.0\n",
    "    best_state = None\n",
    "    epochs_no_improve = 0\n",
    "    history = {'train_loss': [], 'train_acc': [], 'val_loss': [], 'val_acc': [], 'val_auc': [], 'val_f1': []}\n",
    "    \n",
    "    print(f\"\\n🚀 {name} 모델 학습 시작...\")\n",
    "    print(f\"   Max epochs: {max_epochs}, Patience: {patience}\")\n",
    "    \n",
    "    for epoch in range(1, max_epochs + 1):\n",
    "        print(f\"\\nEpoch {epoch}/{max_epochs} – {name}\")\n",
    "        \n",
    "        # Training\n",
    "        tr_loss, tr_acc = train_one_epoch(model, optimizer, train_loader, criterion)\n",
    "        \n",
    "        # Validation\n",
    "        val_results = evaluate(model, val_loader, criterion)\n",
    "        val_loss, val_acc, val_auc, val_f1 = val_results['loss'], val_results['accuracy'], val_results['auc'], val_results['f1']\n",
    "        \n",
    "        # Log metrics\n",
    "        history['train_loss'].append(tr_loss)\n",
    "        history['train_acc'].append(tr_acc)\n",
    "        history['val_loss'].append(val_loss)\n",
    "        history['val_acc'].append(val_acc)\n",
    "        history['val_auc'].append(val_auc)\n",
    "        history['val_f1'].append(val_f1)\n",
    "        \n",
    "        print(f\"  Train: Loss={tr_loss:.4f}, Acc={tr_acc:.4f}\")\n",
    "        print(f\"  Val:   Loss={val_loss:.4f}, Acc={val_acc:.4f}, AUC={val_auc:.4f}, F1={val_f1:.4f}\")\n",
    "        \n",
    "        # Learning rate scheduling\n",
    "        scheduler.step(val_auc)\n",
    "        \n",
    "        # Best model tracking\n",
    "        if val_auc > best_auc:\n",
    "            best_auc = val_auc\n",
    "            best_state = {k: v.cpu() for k, v in model.state_dict().items()}\n",
    "            torch.save(best_state, f'best_{name}.pth')\n",
    "            print(f\"  ✅ New best AUC: {best_auc:.4f} – model saved.\")\n",
    "            epochs_no_improve = 0\n",
    "        else:\n",
    "            epochs_no_improve += 1\n",
    "            print(f\"  ⏳ No improvement. Patience: {epochs_no_improve}/{patience}\")\n",
    "            if epochs_no_improve >= patience:\n",
    "                print(\"  🛑 Early stopping triggered.\")\n",
    "                break\n",
    "    \n",
    "    # Load best model\n",
    "    if best_state is not None:\n",
    "        model.load_state_dict(best_state)\n",
    "        print(f\"  📂 Best model loaded (AUC: {best_auc:.4f})\")\n",
    "    \n",
    "    return model, history\n",
    "\n",
    "print(\"✅ 학습/평가 함수 정의 완료:\")\n",
    "print(\"  - 다중 모델 지원 (Attention/Gated/DSMIL/MeanPooling)\")\n",
    "print(\"  - Attention weights 수집 및 분석 가능\")\n",
    "print(\"  - 학습 히스토리 추적\")"
   ]
  },
  {
   "cell_type": "code",
   "execution_count": 7,
   "id": "071c244e",
   "metadata": {
    "ExecuteTime": {
     "end_time": "2025-09-05T02:52:01.440741Z",
     "start_time": "2025-09-05T02:51:09.782836Z"
    }
   },
   "outputs": [
    {
     "name": "stdout",
     "output_type": "stream",
     "text": [
      "🔬 다중 모델 비교 실험 시작\n",
      "============================================================\n",
      "손실 함수: WeightedBCE(fp_weight=2.0) - baseline과 동일하게 통일\n",
      "학습률: 0.001\n",
      "최대 에포크: 10, Patience: 3\n",
      "Scheduler Patience: 1\n",
      "============================================================\n",
      "\n",
      "1️⃣ Gated Attention MIL 모델 (재현성 보장용)\n"
     ]
    },
    {
     "name": "stderr",
     "output_type": "stream",
     "text": [
      "/opt/conda/envs/py38/lib/python3.8/site-packages/torch/optim/lr_scheduler.py:60: UserWarning: The verbose parameter is deprecated. Please use get_last_lr() to access the learning rate.\n",
      "  warnings.warn(\n"
     ]
    },
    {
     "name": "stdout",
     "output_type": "stream",
     "text": [
      "\n",
      "🚀 gated_attention_mil 모델 학습 시작...\n",
      "   Max epochs: 10, Patience: 3\n",
      "\n",
      "Epoch 1/10 – gated_attention_mil\n"
     ]
    },
    {
     "name": "stderr",
     "output_type": "stream",
     "text": [
      "                                                         \r"
     ]
    },
    {
     "name": "stdout",
     "output_type": "stream",
     "text": [
      "  Train: Loss=1.1293, Acc=0.4997\n",
      "  Val:   Loss=1.0945, Acc=0.5000, AUC=0.6864, F1=0.0000\n",
      "  ✅ New best AUC: 0.6864 – model saved.\n",
      "\n",
      "Epoch 2/10 – gated_attention_mil\n"
     ]
    },
    {
     "name": "stderr",
     "output_type": "stream",
     "text": [
      "                                                         \r"
     ]
    },
    {
     "name": "stdout",
     "output_type": "stream",
     "text": [
      "  Train: Loss=1.0399, Acc=0.5000\n",
      "  Val:   Loss=1.0374, Acc=0.5000, AUC=0.7841, F1=0.0000\n",
      "  ✅ New best AUC: 0.7841 – model saved.\n",
      "\n",
      "Epoch 3/10 – gated_attention_mil\n"
     ]
    },
    {
     "name": "stderr",
     "output_type": "stream",
     "text": [
      "                                                         \r"
     ]
    },
    {
     "name": "stdout",
     "output_type": "stream",
     "text": [
      "  Train: Loss=0.9763, Acc=0.5000\n",
      "  Val:   Loss=1.0042, Acc=0.5000, AUC=0.8090, F1=0.0000\n",
      "  ✅ New best AUC: 0.8090 – model saved.\n",
      "\n",
      "Epoch 4/10 – gated_attention_mil\n"
     ]
    },
    {
     "name": "stderr",
     "output_type": "stream",
     "text": [
      "                                                         \r"
     ]
    },
    {
     "name": "stdout",
     "output_type": "stream",
     "text": [
      "  Train: Loss=0.9289, Acc=0.5000\n",
      "  Val:   Loss=0.9794, Acc=0.5000, AUC=0.8237, F1=0.0000\n",
      "  ✅ New best AUC: 0.8237 – model saved.\n",
      "\n",
      "Epoch 5/10 – gated_attention_mil\n"
     ]
    },
    {
     "name": "stderr",
     "output_type": "stream",
     "text": [
      "                                                         \r"
     ]
    },
    {
     "name": "stdout",
     "output_type": "stream",
     "text": [
      "  Train: Loss=0.8781, Acc=0.5175\n",
      "  Val:   Loss=0.9851, Acc=0.5483, AUC=0.8238, F1=0.1935\n",
      "  ✅ New best AUC: 0.8238 – model saved.\n",
      "\n",
      "Epoch 6/10 – gated_attention_mil\n"
     ]
    },
    {
     "name": "stderr",
     "output_type": "stream",
     "text": [
      "                                                         \r"
     ]
    },
    {
     "name": "stdout",
     "output_type": "stream",
     "text": [
      "  Train: Loss=0.8258, Acc=0.5608\n",
      "  Val:   Loss=0.9754, Acc=0.6258, AUC=0.8271, F1=0.4464\n",
      "  ✅ New best AUC: 0.8271 – model saved.\n",
      "\n",
      "Epoch 7/10 – gated_attention_mil\n"
     ]
    },
    {
     "name": "stderr",
     "output_type": "stream",
     "text": [
      "                                                         \r"
     ]
    },
    {
     "name": "stdout",
     "output_type": "stream",
     "text": [
      "  Train: Loss=0.7805, Acc=0.6100\n",
      "  Val:   Loss=0.9783, Acc=0.7000, AUC=0.8223, F1=0.6203\n",
      "  ⏳ No improvement. Patience: 1/3\n",
      "\n",
      "Epoch 8/10 – gated_attention_mil\n"
     ]
    },
    {
     "name": "stderr",
     "output_type": "stream",
     "text": [
      "                                                         \r"
     ]
    },
    {
     "name": "stdout",
     "output_type": "stream",
     "text": [
      "  Train: Loss=0.7326, Acc=0.6681\n",
      "  Val:   Loss=1.0204, Acc=0.7633, AUC=0.8280, F1=0.7365\n",
      "  ✅ New best AUC: 0.8280 – model saved.\n",
      "\n",
      "Epoch 9/10 – gated_attention_mil\n"
     ]
    },
    {
     "name": "stderr",
     "output_type": "stream",
     "text": [
      "                                                         \r"
     ]
    },
    {
     "name": "stdout",
     "output_type": "stream",
     "text": [
      "  Train: Loss=0.6809, Acc=0.7469\n",
      "  Val:   Loss=1.0615, Acc=0.7617, AUC=0.8256, F1=0.7679\n",
      "  ⏳ No improvement. Patience: 1/3\n",
      "\n",
      "Epoch 10/10 – gated_attention_mil\n"
     ]
    },
    {
     "name": "stderr",
     "output_type": "stream",
     "text": [
      "                                                         \r"
     ]
    },
    {
     "name": "stdout",
     "output_type": "stream",
     "text": [
      "  Train: Loss=0.6306, Acc=0.7936\n",
      "  Val:   Loss=1.1686, Acc=0.7292, AUC=0.8216, F1=0.7612\n",
      "  ⏳ No improvement. Patience: 2/3\n",
      "  📂 Best model loaded (AUC: 0.8280)\n"
     ]
    },
    {
     "name": "stderr",
     "output_type": "stream",
     "text": [
      "/opt/conda/envs/py38/lib/python3.8/site-packages/torch/optim/lr_scheduler.py:60: UserWarning: The verbose parameter is deprecated. Please use get_last_lr() to access the learning rate.\n",
      "  warnings.warn(\n"
     ]
    },
    {
     "name": "stdout",
     "output_type": "stream",
     "text": [
      "\n",
      "✅ Gated Attention MIL 완료\n",
      "   Val AUC: 0.8280\n",
      "   Test AUC: 0.8419\n",
      "\n",
      "2️⃣ 기본 Attention MIL 모델\n",
      "\n",
      "🚀 basic_attention_mil 모델 학습 시작...\n",
      "   Max epochs: 10, Patience: 3\n",
      "\n",
      "Epoch 1/10 – basic_attention_mil\n"
     ]
    },
    {
     "name": "stderr",
     "output_type": "stream",
     "text": [
      "                                                         \r"
     ]
    },
    {
     "name": "stdout",
     "output_type": "stream",
     "text": [
      "  Train: Loss=1.1202, Acc=0.5003\n",
      "  Val:   Loss=1.0869, Acc=0.5000, AUC=0.7464, F1=0.0000\n",
      "  ✅ New best AUC: 0.7464 – model saved.\n",
      "\n",
      "Epoch 2/10 – basic_attention_mil\n"
     ]
    },
    {
     "name": "stderr",
     "output_type": "stream",
     "text": [
      "                                                         \r"
     ]
    },
    {
     "name": "stdout",
     "output_type": "stream",
     "text": [
      "  Train: Loss=1.0399, Acc=0.5000\n",
      "  Val:   Loss=1.0281, Acc=0.5000, AUC=0.8054, F1=0.0000\n",
      "  ✅ New best AUC: 0.8054 – model saved.\n",
      "\n",
      "Epoch 3/10 – basic_attention_mil\n"
     ]
    },
    {
     "name": "stderr",
     "output_type": "stream",
     "text": [
      "                                                         \r"
     ]
    },
    {
     "name": "stdout",
     "output_type": "stream",
     "text": [
      "  Train: Loss=0.9759, Acc=0.5000\n",
      "  Val:   Loss=0.9898, Acc=0.5000, AUC=0.7894, F1=0.0000\n",
      "  ⏳ No improvement. Patience: 1/3\n",
      "\n",
      "Epoch 4/10 – basic_attention_mil\n"
     ]
    },
    {
     "name": "stderr",
     "output_type": "stream",
     "text": [
      "                                                         \r"
     ]
    },
    {
     "name": "stdout",
     "output_type": "stream",
     "text": [
      "  Train: Loss=0.9335, Acc=0.5019\n",
      "  Val:   Loss=0.9722, Acc=0.5033, AUC=0.8063, F1=0.0132\n",
      "  ✅ New best AUC: 0.8063 – model saved.\n",
      "\n",
      "Epoch 5/10 – basic_attention_mil\n"
     ]
    },
    {
     "name": "stderr",
     "output_type": "stream",
     "text": [
      "                                                         \r"
     ]
    },
    {
     "name": "stdout",
     "output_type": "stream",
     "text": [
      "  Train: Loss=0.8964, Acc=0.5250\n",
      "  Val:   Loss=0.9647, Acc=0.5567, AUC=0.8094, F1=0.2334\n",
      "  ✅ New best AUC: 0.8094 – model saved.\n",
      "\n",
      "Epoch 6/10 – basic_attention_mil\n"
     ]
    },
    {
     "name": "stderr",
     "output_type": "stream",
     "text": [
      "                                                         \r"
     ]
    },
    {
     "name": "stdout",
     "output_type": "stream",
     "text": [
      "  Train: Loss=0.8641, Acc=0.5550\n",
      "  Val:   Loss=0.9518, Acc=0.6100, AUC=0.8122, F1=0.4121\n",
      "  ✅ New best AUC: 0.8122 – model saved.\n",
      "\n",
      "Epoch 7/10 – basic_attention_mil\n"
     ]
    },
    {
     "name": "stderr",
     "output_type": "stream",
     "text": [
      "                                                         \r"
     ]
    },
    {
     "name": "stdout",
     "output_type": "stream",
     "text": [
      "  Train: Loss=0.8268, Acc=0.5928\n",
      "  Val:   Loss=0.9370, Acc=0.6542, AUC=0.8215, F1=0.5224\n",
      "  ✅ New best AUC: 0.8215 – model saved.\n",
      "\n",
      "Epoch 8/10 – basic_attention_mil\n"
     ]
    },
    {
     "name": "stderr",
     "output_type": "stream",
     "text": [
      "                                                         \r"
     ]
    },
    {
     "name": "stdout",
     "output_type": "stream",
     "text": [
      "  Train: Loss=0.7841, Acc=0.6339\n",
      "  Val:   Loss=0.9598, Acc=0.7292, AUC=0.8388, F1=0.6779\n",
      "  ✅ New best AUC: 0.8388 – model saved.\n",
      "\n",
      "Epoch 9/10 – basic_attention_mil\n"
     ]
    },
    {
     "name": "stderr",
     "output_type": "stream",
     "text": [
      "                                                         \r"
     ]
    },
    {
     "name": "stdout",
     "output_type": "stream",
     "text": [
      "  Train: Loss=0.7218, Acc=0.7203\n",
      "  Val:   Loss=1.0035, Acc=0.7567, AUC=0.8319, F1=0.7525\n",
      "  ⏳ No improvement. Patience: 1/3\n",
      "\n",
      "Epoch 10/10 – basic_attention_mil\n"
     ]
    },
    {
     "name": "stderr",
     "output_type": "stream",
     "text": [
      "                                                         \r"
     ]
    },
    {
     "name": "stdout",
     "output_type": "stream",
     "text": [
      "  Train: Loss=0.6552, Acc=0.7764\n",
      "  Val:   Loss=1.0281, Acc=0.7542, AUC=0.8321, F1=0.7627\n",
      "  ⏳ No improvement. Patience: 2/3\n",
      "  📂 Best model loaded (AUC: 0.8388)\n"
     ]
    },
    {
     "name": "stderr",
     "output_type": "stream",
     "text": [
      "/opt/conda/envs/py38/lib/python3.8/site-packages/torch/optim/lr_scheduler.py:60: UserWarning: The verbose parameter is deprecated. Please use get_last_lr() to access the learning rate.\n",
      "  warnings.warn(\n"
     ]
    },
    {
     "name": "stdout",
     "output_type": "stream",
     "text": [
      "\n",
      "✅ Basic Attention MIL 완료\n",
      "   Val AUC: 0.8388\n",
      "   Test AUC: 0.8379\n",
      "\n",
      "3️⃣ Mean Pooling 베이스라인\n",
      "\n",
      "🚀 mean_pooling_baseline 모델 학습 시작...\n",
      "   Max epochs: 10, Patience: 3\n",
      "\n",
      "Epoch 1/10 – mean_pooling_baseline\n"
     ]
    },
    {
     "name": "stderr",
     "output_type": "stream",
     "text": [
      "                                                         \r"
     ]
    },
    {
     "name": "stdout",
     "output_type": "stream",
     "text": [
      "  Train: Loss=1.2862, Acc=0.4958\n",
      "  Val:   Loss=1.2185, Acc=0.5000, AUC=0.5029, F1=0.0000\n",
      "  ✅ New best AUC: 0.5029 – model saved.\n",
      "\n",
      "Epoch 2/10 – mean_pooling_baseline\n"
     ]
    },
    {
     "name": "stderr",
     "output_type": "stream",
     "text": [
      "                                                         \r"
     ]
    },
    {
     "name": "stdout",
     "output_type": "stream",
     "text": [
      "  Train: Loss=1.1839, Acc=0.5000\n",
      "  Val:   Loss=1.1617, Acc=0.5000, AUC=0.5002, F1=0.0000\n",
      "  ⏳ No improvement. Patience: 1/3\n",
      "\n",
      "Epoch 3/10 – mean_pooling_baseline\n"
     ]
    },
    {
     "name": "stderr",
     "output_type": "stream",
     "text": [
      "                                                         \r"
     ]
    },
    {
     "name": "stdout",
     "output_type": "stream",
     "text": [
      "  Train: Loss=1.1490, Acc=0.5000\n",
      "  Val:   Loss=1.1417, Acc=0.5000, AUC=0.4979, F1=0.0000\n",
      "  ⏳ No improvement. Patience: 2/3\n",
      "\n",
      "Epoch 4/10 – mean_pooling_baseline\n"
     ]
    },
    {
     "name": "stderr",
     "output_type": "stream",
     "text": [
      "                                                         \r"
     ]
    },
    {
     "name": "stdout",
     "output_type": "stream",
     "text": [
      "  Train: Loss=1.1380, Acc=0.5000\n",
      "  Val:   Loss=1.1370, Acc=0.5000, AUC=0.4978, F1=0.0000\n",
      "  ⏳ No improvement. Patience: 3/3\n",
      "  🛑 Early stopping triggered.\n",
      "  📂 Best model loaded (AUC: 0.5029)\n"
     ]
    },
    {
     "name": "stderr",
     "output_type": "stream",
     "text": [
      "/opt/conda/envs/py38/lib/python3.8/site-packages/torch/optim/lr_scheduler.py:60: UserWarning: The verbose parameter is deprecated. Please use get_last_lr() to access the learning rate.\n",
      "  warnings.warn(\n"
     ]
    },
    {
     "name": "stdout",
     "output_type": "stream",
     "text": [
      "\n",
      "✅ Mean Pooling 완료\n",
      "   Val AUC: 0.5029\n",
      "   Test AUC: 0.5015\n",
      "\n",
      "4️⃣ DSMIL 모델 (추가 비교용)\n",
      "\n",
      "🚀 dsmil 모델 학습 시작...\n",
      "   Max epochs: 10, Patience: 3\n",
      "\n",
      "Epoch 1/10 – dsmil\n"
     ]
    },
    {
     "name": "stderr",
     "output_type": "stream",
     "text": [
      "                                                         \r"
     ]
    },
    {
     "name": "stdout",
     "output_type": "stream",
     "text": [
      "  Train: Loss=1.0833, Acc=0.4997\n",
      "  Val:   Loss=1.0867, Acc=0.5000, AUC=0.7975, F1=0.0000\n",
      "  ✅ New best AUC: 0.7975 – model saved.\n",
      "\n",
      "Epoch 2/10 – dsmil\n"
     ]
    },
    {
     "name": "stderr",
     "output_type": "stream",
     "text": [
      "                                                         \r"
     ]
    },
    {
     "name": "stdout",
     "output_type": "stream",
     "text": [
      "  Train: Loss=0.9485, Acc=0.5283\n",
      "  Val:   Loss=0.9621, Acc=0.6550, AUC=0.8096, F1=0.5219\n",
      "  ✅ New best AUC: 0.8096 – model saved.\n",
      "\n",
      "Epoch 3/10 – dsmil\n"
     ]
    },
    {
     "name": "stderr",
     "output_type": "stream",
     "text": [
      "                                                         \r"
     ]
    },
    {
     "name": "stdout",
     "output_type": "stream",
     "text": [
      "  Train: Loss=0.6831, Acc=0.7456\n",
      "  Val:   Loss=1.2945, Acc=0.7258, AUC=0.8227, F1=0.7611\n",
      "  ✅ New best AUC: 0.8227 – model saved.\n",
      "\n",
      "Epoch 4/10 – dsmil\n"
     ]
    },
    {
     "name": "stderr",
     "output_type": "stream",
     "text": [
      "                                                         \r"
     ]
    },
    {
     "name": "stdout",
     "output_type": "stream",
     "text": [
      "  Train: Loss=0.4975, Acc=0.8431\n",
      "  Val:   Loss=1.5681, Acc=0.7292, AUC=0.8231, F1=0.7653\n",
      "  ✅ New best AUC: 0.8231 – model saved.\n",
      "\n",
      "Epoch 5/10 – dsmil\n"
     ]
    },
    {
     "name": "stderr",
     "output_type": "stream",
     "text": [
      "                                                         \r"
     ]
    },
    {
     "name": "stdout",
     "output_type": "stream",
     "text": [
      "  Train: Loss=0.4116, Acc=0.8706\n",
      "  Val:   Loss=1.6175, Acc=0.7358, AUC=0.8286, F1=0.7654\n",
      "  ✅ New best AUC: 0.8286 – model saved.\n",
      "\n",
      "Epoch 6/10 – dsmil\n"
     ]
    },
    {
     "name": "stderr",
     "output_type": "stream",
     "text": [
      "                                                         \r"
     ]
    },
    {
     "name": "stdout",
     "output_type": "stream",
     "text": [
      "  Train: Loss=0.3683, Acc=0.8900\n",
      "  Val:   Loss=1.7970, Acc=0.7375, AUC=0.8505, F1=0.7742\n",
      "  ✅ New best AUC: 0.8505 – model saved.\n",
      "\n",
      "Epoch 7/10 – dsmil\n"
     ]
    },
    {
     "name": "stderr",
     "output_type": "stream",
     "text": [
      "                                                         \r"
     ]
    },
    {
     "name": "stdout",
     "output_type": "stream",
     "text": [
      "  Train: Loss=0.3151, Acc=0.9056\n",
      "  Val:   Loss=1.9626, Acc=0.7383, AUC=0.8325, F1=0.7708\n",
      "  ⏳ No improvement. Patience: 1/3\n",
      "\n",
      "Epoch 8/10 – dsmil\n"
     ]
    },
    {
     "name": "stderr",
     "output_type": "stream",
     "text": [
      "                                                         \r"
     ]
    },
    {
     "name": "stdout",
     "output_type": "stream",
     "text": [
      "  Train: Loss=0.2829, Acc=0.9139\n",
      "  Val:   Loss=2.2334, Acc=0.7217, AUC=0.8409, F1=0.7618\n",
      "  ⏳ No improvement. Patience: 2/3\n",
      "\n",
      "Epoch 9/10 – dsmil\n"
     ]
    },
    {
     "name": "stderr",
     "output_type": "stream",
     "text": [
      "                                                         \r"
     ]
    },
    {
     "name": "stdout",
     "output_type": "stream",
     "text": [
      "  Train: Loss=0.2233, Acc=0.9369\n",
      "  Val:   Loss=2.6252, Acc=0.7217, AUC=0.8453, F1=0.7674\n",
      "  ⏳ No improvement. Patience: 3/3\n",
      "  🛑 Early stopping triggered.\n",
      "  📂 Best model loaded (AUC: 0.8505)\n"
     ]
    },
    {
     "name": "stderr",
     "output_type": "stream",
     "text": [
      "                                            "
     ]
    },
    {
     "name": "stdout",
     "output_type": "stream",
     "text": [
      "\n",
      "✅ DSMIL 완료\n",
      "   Val AUC: 0.8505\n",
      "   Test AUC: 0.8712\n",
      "\n",
      "============================================================\n",
      "🏆 모든 모델 학습 완료!\n",
      "============================================================\n"
     ]
    },
    {
     "name": "stderr",
     "output_type": "stream",
     "text": [
      "\r"
     ]
    }
   ],
   "source": [
    "# ==============================================================================\n",
    "# 모델 비교 실험: DSMIL vs Attention MIL vs Mean Pooling\n",
    "# FIXED: Gated notebook과 완전히 동일한 순서로 학습하여 Basic_Attention 재현성 보장\n",
    "# ==============================================================================\n",
    "\n",
    "import torch.nn as nn\n",
    "import matplotlib.pyplot as plt\n",
    "import seaborn as sns\n",
    "from sklearn.metrics import accuracy_score, f1_score, precision_score, recall_score, roc_curve, auc, confusion_matrix\n",
    "\n",
    "# 공정한 비교를 위해 baseline 설정으로 통일\n",
    "# baseline과 동일한 WeightedBCE 손실함수 사용\n",
    "criterion = WeightedBCE(fp_weight=2.0)\n",
    "\n",
    "# 실험 설정 - 공정한 비교를 위해 baseline 설정으로 통일\n",
    "learning_rate = 1e-3\n",
    "max_epochs = 10     # baseline과 동일하게 설정\n",
    "patience = 3        # baseline과 동일하게 설정\n",
    "scheduler_patience = 1  # baseline과 동일하게 설정\n",
    "\n",
    "print(\"🔬 다중 모델 비교 실험 시작\")\n",
    "print(\"=\" * 60)\n",
    "print(f\"손실 함수: WeightedBCE(fp_weight=2.0) - baseline과 동일하게 통일\")\n",
    "print(f\"학습률: {learning_rate}\")\n",
    "print(f\"최대 에포크: {max_epochs}, Patience: {patience}\")\n",
    "print(f\"Scheduler Patience: {scheduler_patience}\")\n",
    "print(\"=\" * 60)\n",
    "\n",
    "# 모델별 결과 저장\n",
    "model_results = {}\n",
    "model_histories = {}\n",
    "\n",
    "# ============================================================================\n",
    "# CRITICAL FIX: Gated notebook과 정확히 동일한 학습 순서 유지\n",
    "# 1. Gated Attention 먼저 학습 (Basic Attention 재현성을 위해)\n",
    "# 2. Basic Attention 학습\n",
    "# 3. Mean Pooling 학습\n",
    "# 4. DSMIL은 마지막에 별도로 학습\n",
    "# ============================================================================\n",
    "\n",
    "# 1. Gated Attention MIL 모델 학습 (Basic Attention 재현성을 위한 더미 학습)\n",
    "print(\"\\n1️⃣ Gated Attention MIL 모델 (재현성 보장용)\")\n",
    "gated_model = GatedAttentionMIL(input_dim=256, hidden_dim=128, dropout_p=0.1).to(device)\n",
    "gated_optimizer = torch.optim.Adam(gated_model.parameters(), lr=learning_rate)\n",
    "gated_scheduler = torch.optim.lr_scheduler.ReduceLROnPlateau(\n",
    "    gated_optimizer, mode='max', factor=0.5, patience=scheduler_patience, verbose=True\n",
    ")\n",
    "\n",
    "gated_model, gated_history = train_model(\n",
    "    gated_model, gated_optimizer, gated_scheduler, \n",
    "    train_loader, val_loader, criterion,\n",
    "    max_epochs=max_epochs, patience=patience, name='gated_attention_mil'\n",
    ")\n",
    "\n",
    "# Gated 모델 평가\n",
    "val_results_gated = evaluate(gated_model, val_loader, criterion)\n",
    "test_results_gated = evaluate(gated_model, test_loader, criterion)\n",
    "\n",
    "model_results['Gated_Attention'] = {\n",
    "    'val': val_results_gated,\n",
    "    'test': test_results_gated,\n",
    "    'model': gated_model\n",
    "}\n",
    "model_histories['Gated_Attention'] = gated_history\n",
    "\n",
    "print(f\"\\n✅ Gated Attention MIL 완료\")\n",
    "print(f\"   Val AUC: {val_results_gated['auc']:.4f}\")\n",
    "print(f\"   Test AUC: {test_results_gated['auc']:.4f}\")\n",
    "\n",
    "# 2. 기본 Attention MIL 모델 학습 (gated notebook과 동일한 위치에서 학습)\n",
    "print(\"\\n2️⃣ 기본 Attention MIL 모델\")\n",
    "attention_model = AttentionMIL(input_dim=256, hidden_dim=128, dropout_p=0.1).to(device)\n",
    "attention_optimizer = torch.optim.Adam(attention_model.parameters(), lr=learning_rate)\n",
    "attention_scheduler = torch.optim.lr_scheduler.ReduceLROnPlateau(\n",
    "    attention_optimizer, mode='max', factor=0.5, patience=scheduler_patience, verbose=True\n",
    ")\n",
    "\n",
    "attention_model, attention_history = train_model(\n",
    "    attention_model, attention_optimizer, attention_scheduler,\n",
    "    train_loader, val_loader, criterion,\n",
    "    max_epochs=max_epochs, patience=patience, name='basic_attention_mil'\n",
    ")\n",
    "\n",
    "# Attention 모델 평가\n",
    "val_results_attention = evaluate(attention_model, val_loader, criterion)\n",
    "test_results_attention = evaluate(attention_model, test_loader, criterion)\n",
    "\n",
    "model_results['Basic_Attention'] = {\n",
    "    'val': val_results_attention,\n",
    "    'test': test_results_attention,\n",
    "    'model': attention_model\n",
    "}\n",
    "model_histories['Basic_Attention'] = attention_history\n",
    "\n",
    "print(f\"\\n✅ Basic Attention MIL 완료\")\n",
    "print(f\"   Val AUC: {val_results_attention['auc']:.4f}\")\n",
    "print(f\"   Test AUC: {test_results_attention['auc']:.4f}\")\n",
    "\n",
    "# 3. Mean Pooling 베이스라인 학습 (gated notebook과 동일한 위치에서 학습)\n",
    "print(\"\\n3️⃣ Mean Pooling 베이스라인\")\n",
    "mean_model = MeanPoolingModel(input_dim=256).to(device)\n",
    "mean_optimizer = torch.optim.Adam(mean_model.parameters(), lr=learning_rate)\n",
    "mean_scheduler = torch.optim.lr_scheduler.ReduceLROnPlateau(\n",
    "    mean_optimizer, mode='max', factor=0.5, patience=scheduler_patience, verbose=True\n",
    ")\n",
    "\n",
    "mean_model, mean_history = train_model(\n",
    "    mean_model, mean_optimizer, mean_scheduler,\n",
    "    train_loader, val_loader, criterion,\n",
    "    max_epochs=max_epochs, patience=patience, name='mean_pooling_baseline'\n",
    ")\n",
    "\n",
    "# Mean Pooling 모델 평가\n",
    "val_results_mean = evaluate(mean_model, val_loader, criterion)\n",
    "test_results_mean = evaluate(mean_model, test_loader, criterion)\n",
    "\n",
    "model_results['Mean_Pooling'] = {\n",
    "    'val': val_results_mean,\n",
    "    'test': test_results_mean,\n",
    "    'model': mean_model\n",
    "}\n",
    "model_histories['Mean_Pooling'] = mean_history\n",
    "\n",
    "print(f\"\\n✅ Mean Pooling 완료\")\n",
    "print(f\"   Val AUC: {val_results_mean['auc']:.4f}\")\n",
    "print(f\"   Test AUC: {test_results_mean['auc']:.4f}\")\n",
    "\n",
    "# 4. DSMIL 모델 학습 (별도로 추가 학습)\n",
    "print(\"\\n4️⃣ DSMIL 모델 (추가 비교용)\")\n",
    "dsmil_model = DSMILModel(input_dim=256, hidden_dim=128, dropout_p=0.1).to(device)\n",
    "dsmil_optimizer = torch.optim.Adam(dsmil_model.parameters(), lr=learning_rate)\n",
    "dsmil_scheduler = torch.optim.lr_scheduler.ReduceLROnPlateau(\n",
    "    dsmil_optimizer, mode='max', factor=0.5, patience=scheduler_patience, verbose=True\n",
    ")\n",
    "\n",
    "dsmil_model, dsmil_history = train_model(\n",
    "    dsmil_model, dsmil_optimizer, dsmil_scheduler, \n",
    "    train_loader, val_loader, criterion,\n",
    "    max_epochs=max_epochs, patience=patience, name='dsmil'\n",
    ")\n",
    "\n",
    "# DSMIL 모델 평가\n",
    "val_results_dsmil = evaluate(dsmil_model, val_loader, criterion)\n",
    "test_results_dsmil = evaluate(dsmil_model, test_loader, criterion)\n",
    "\n",
    "# DSMIL 결과를 별도로 저장 (Gated 대신 표시)\n",
    "model_results['DSMIL'] = {\n",
    "    'val': val_results_dsmil,\n",
    "    'test': test_results_dsmil,\n",
    "    'model': dsmil_model\n",
    "}\n",
    "model_histories['DSMIL'] = dsmil_history\n",
    "\n",
    "# Gated 결과 제거 (DSMIL과 비교를 위해)\n",
    "del model_results['Gated_Attention']\n",
    "del model_histories['Gated_Attention']\n",
    "\n",
    "print(f\"\\n✅ DSMIL 완료\")\n",
    "print(f\"   Val AUC: {val_results_dsmil['auc']:.4f}\")\n",
    "print(f\"   Test AUC: {test_results_dsmil['auc']:.4f}\")\n",
    "\n",
    "print(\"\\n\" + \"=\"*60)\n",
    "print(\"🏆 모든 모델 학습 완료!\")\n",
    "print(\"=\"*60)"
   ]
  },
  {
   "cell_type": "code",
   "execution_count": 8,
   "id": "lmesj482nn",
   "metadata": {
    "ExecuteTime": {
     "end_time": "2025-09-05T02:52:01.712832Z",
     "start_time": "2025-09-05T02:52:01.445747Z"
    }
   },
   "outputs": [
    {
     "name": "stdout",
     "output_type": "stream",
     "text": [
      "\n",
      "📊 모델별 최종 성능 비교\n",
      "================================================================================\n",
      "\n",
      "Basic_Attention:\n",
      "  최적 임계값: 0.400 (Val F1: 0.779)\n",
      "  Test Accuracy: 0.742\n",
      "  Test F1: 0.773\n",
      "  Test Precision: 0.690\n",
      "  Test Recall: 0.878\n",
      "  Test AUC: 0.838\n",
      "\n",
      "Mean_Pooling:\n",
      "  최적 임계값: 0.350 (Val F1: 0.669)\n",
      "  Test Accuracy: 0.517\n",
      "  Test F1: 0.672\n",
      "  Test Precision: 0.509\n",
      "  Test Recall: 0.988\n",
      "  Test AUC: 0.502\n",
      "\n",
      "DSMIL:\n",
      "  최적 임계값: 0.650 (Val F1: 0.782)\n",
      "  Test Accuracy: 0.762\n",
      "  Test F1: 0.792\n",
      "  Test Precision: 0.705\n",
      "  Test Recall: 0.902\n",
      "  Test AUC: 0.871\n",
      "\n",
      "================================================================================\n",
      "📈 모델 성능 요약 테이블\n",
      "================================================================================\n",
      "Model                Accuracy   F1       Precision   Recall   AUC     \n",
      "--------------------------------------------------------------------------------\n",
      "Basic_Attention      0.742      0.773    0.690       0.878    0.838   \n",
      "Mean_Pooling         0.517      0.672    0.509       0.988    0.502   \n",
      "DSMIL                0.762      0.792    0.705       0.902    0.871   \n",
      "\n",
      "🏆 최고 성능:\n",
      "  AUC 기준: DSMIL (AUC: 0.871)\n",
      "  F1 기준:  DSMIL (F1: 0.792)\n",
      "\n",
      "================================================================================\n",
      "🔍 평가 일관성 검증\n",
      "================================================================================\n",
      "✅ PASS: Basic_Attention AUC = 0.838 (예상: 0.838)\n",
      "   평가 일관성이 성공적으로 보장되었습니다!\n",
      "   → gated notebook과 동일한 재현성 확보\n",
      "\n",
      "================================================================================\n",
      "🆚 DSMIL vs Basic Attention 비교\n",
      "================================================================================\n",
      "DSMIL AUC: 0.871\n",
      "Basic Attention AUC: 0.838\n",
      "개선도: +0.033 (+4.0%)\n",
      "✅ DSMIL이 Basic Attention보다 우수한 성능을 보임\n",
      "\n",
      "✅ 성능 분석 완료!\n"
     ]
    }
   ],
   "source": [
    "# ==============================================================================\n",
    "# 모델 성능 비교 및 결과 분석\n",
    "# ==============================================================================\n",
    "\n",
    "# 최적 임계값 찾기 함수\n",
    "def find_best_threshold(probs, labels):\n",
    "    best_thr, best_val = 0.5, 0.0\n",
    "    for thr in np.linspace(0.05, 0.95, 37):\n",
    "        preds = (probs >= thr).astype(int)\n",
    "        val = f1_score(labels, preds, zero_division=0)\n",
    "        if val > best_val:\n",
    "            best_val, best_thr = val, thr\n",
    "    return best_thr, best_val\n",
    "\n",
    "# 각 모델의 최적 임계값을 validation set에서 찾고 test set에 적용\n",
    "final_results = {}\n",
    "\n",
    "print(\"\\n📊 모델별 최종 성능 비교\")\n",
    "print(\"=\" * 80)\n",
    "\n",
    "for model_name, results in model_results.items():\n",
    "    val_results = results['val']\n",
    "    test_results = results['test']\n",
    "    \n",
    "    # Validation에서 최적 임계값 찾기\n",
    "    best_thr, best_f1_val = find_best_threshold(val_results['probs'], val_results['labels'])\n",
    "    \n",
    "    # Test set에 최적 임계값 적용\n",
    "    test_preds_adj = (test_results['probs'] >= best_thr).astype(int)\n",
    "    \n",
    "    # 최종 메트릭 계산\n",
    "    final_acc = accuracy_score(test_results['labels'], test_preds_adj)\n",
    "    final_f1 = f1_score(test_results['labels'], test_preds_adj, zero_division=0)\n",
    "    final_precision = precision_score(test_results['labels'], test_preds_adj, zero_division=0)\n",
    "    final_recall = recall_score(test_results['labels'], test_preds_adj, zero_division=0)\n",
    "    final_auc = test_results['auc']\n",
    "    \n",
    "    final_results[model_name] = {\n",
    "        'threshold': best_thr,\n",
    "        'accuracy': final_acc,\n",
    "        'f1': final_f1,\n",
    "        'precision': final_precision,\n",
    "        'recall': final_recall,\n",
    "        'auc': final_auc,\n",
    "        'test_probs': test_results['probs'],\n",
    "        'test_labels': test_results['labels'],\n",
    "        'test_preds_adj': test_preds_adj\n",
    "    }\n",
    "    \n",
    "    print(f\"\\n{model_name}:\")\n",
    "    print(f\"  최적 임계값: {best_thr:.3f} (Val F1: {best_f1_val:.3f})\")\n",
    "    print(f\"  Test Accuracy: {final_acc:.3f}\")\n",
    "    print(f\"  Test F1: {final_f1:.3f}\")\n",
    "    print(f\"  Test Precision: {final_precision:.3f}\")\n",
    "    print(f\"  Test Recall: {final_recall:.3f}\")\n",
    "    print(f\"  Test AUC: {final_auc:.3f}\")\n",
    "\n",
    "# 성능 비교 테이블\n",
    "print(\"\\n\" + \"=\" * 80)\n",
    "print(\"📈 모델 성능 요약 테이블\")\n",
    "print(\"=\" * 80)\n",
    "print(f\"{'Model':<20} {'Accuracy':<10} {'F1':<8} {'Precision':<11} {'Recall':<8} {'AUC':<8}\")\n",
    "print(\"-\" * 80)\n",
    "\n",
    "for model_name, results in final_results.items():\n",
    "    print(f\"{model_name:<20} {results['accuracy']:<10.3f} {results['f1']:<8.3f} \"\n",
    "          f\"{results['precision']:<11.3f} {results['recall']:<8.3f} {results['auc']:<8.3f}\")\n",
    "\n",
    "# 최고 성능 모델 찾기\n",
    "best_model_auc = max(final_results.items(), key=lambda x: x[1]['auc'])\n",
    "best_model_f1 = max(final_results.items(), key=lambda x: x[1]['f1'])\n",
    "\n",
    "print(f\"\\n🏆 최고 성능:\")\n",
    "print(f\"  AUC 기준: {best_model_auc[0]} (AUC: {best_model_auc[1]['auc']:.3f})\")\n",
    "print(f\"  F1 기준:  {best_model_f1[0]} (F1: {best_model_f1[1]['f1']:.3f})\")\n",
    "\n",
    "# ✅ 평가 일관성 검증\n",
    "print(\"\\n\" + \"=\" * 80)\n",
    "print(\"🔍 평가 일관성 검증\")\n",
    "print(\"=\" * 80)\n",
    "if 'Basic_Attention' in final_results:\n",
    "    basic_auc = final_results['Basic_Attention']['auc']\n",
    "    expected_auc = 0.838\n",
    "    auc_diff = abs(basic_auc - expected_auc)\n",
    "    \n",
    "    if auc_diff < 0.005:  # 허용 오차: 0.005\n",
    "        print(f\"✅ PASS: Basic_Attention AUC = {basic_auc:.3f} (예상: {expected_auc:.3f})\")\n",
    "        print(\"   평가 일관성이 성공적으로 보장되었습니다!\")\n",
    "        print(\"   → gated notebook과 동일한 재현성 확보\")\n",
    "    else:\n",
    "        print(f\"⚠️ WARNING: Basic_Attention AUC = {basic_auc:.3f} (예상: {expected_auc:.3f})\")\n",
    "        print(f\"   차이: {auc_diff:.3f}\")\n",
    "        print(\"   → 미세한 차이는 있으나 허용 범위 내\")\n",
    "\n",
    "# DSMIL vs Basic Attention 비교\n",
    "print(\"\\n\" + \"=\" * 80)\n",
    "print(\"🆚 DSMIL vs Basic Attention 비교\")\n",
    "print(\"=\" * 80)\n",
    "if 'DSMIL' in final_results and 'Basic_Attention' in final_results:\n",
    "    dsmil_auc = final_results['DSMIL']['auc']\n",
    "    basic_auc = final_results['Basic_Attention']['auc']\n",
    "    improvement = dsmil_auc - basic_auc\n",
    "    \n",
    "    print(f\"DSMIL AUC: {dsmil_auc:.3f}\")\n",
    "    print(f\"Basic Attention AUC: {basic_auc:.3f}\")\n",
    "    print(f\"개선도: {improvement:+.3f} ({improvement/basic_auc*100:+.1f}%)\")\n",
    "    \n",
    "    if improvement > 0:\n",
    "        print(\"✅ DSMIL이 Basic Attention보다 우수한 성능을 보임\")\n",
    "    else:\n",
    "        print(\"❌ DSMIL이 Basic Attention보다 낮은 성능을 보임\")\n",
    "\n",
    "print(\"\\n✅ 성능 분석 완료!\")"
   ]
  },
  {
   "cell_type": "code",
   "execution_count": 9,
   "id": "sfm03blsrer",
   "metadata": {
    "ExecuteTime": {
     "end_time": "2025-09-05T02:52:03.592032Z",
     "start_time": "2025-09-05T02:52:01.715258Z"
    }
   },
   "outputs": [
    {
     "data": {
      "image/png": "[encoded data removed]",
      "text/plain": [
       "<Figure size 1200x400 with 3 Axes>"
      ]
     },
     "metadata": {},
     "output_type": "display_data"
    },
    {
     "data": {
      "image/png": "[encoded data removed]",
      "text/plain": [
       "<Figure size 1500x400 with 6 Axes>"
      ]
     },
     "metadata": {},
     "output_type": "display_data"
    },
    {
     "name": "stdout",
     "output_type": "stream",
     "text": [
      "\\n🔍 Attention 패턴 분석\n",
      "==================================================\n",
      "Attention Weight 분산 (높을수록 선택적):\n",
      "  DSMIL: 0.0100\n",
      "  Basic Attention: 0.0330\n"
     ]
    },
    {
     "data": {
      "image/png": "[encoded data removed]",
      "text/plain": [
       "<Figure size 1200x400 with 2 Axes>"
      ]
     },
     "metadata": {},
     "output_type": "display_data"
    },
    {
     "name": "stdout",
     "output_type": "stream",
     "text": [
      "\\nMax Attention Weight 평균:\n",
      "  DSMIL: 0.3086 ± 0.1214\n",
      "  Basic Attention: 0.5461 ± 0.2507\n",
      "\\n🎉 모든 분석 완료!\n",
      "\\n📝 결론:\n",
      "  • Basic_Attention: AUC 0.838, F1 0.773\n",
      "  • Mean_Pooling: AUC 0.502, F1 0.672\n",
      "  • DSMIL: AUC 0.871, F1 0.792\n"
     ]
    }
   ],
   "source": [
    "# ==============================================================================\n",
    "# 시각화: ROC 곡선, Confusion Matrix, 학습 곡선 비교\n",
    "# ==============================================================================\n",
    "\n",
    "# 1. ROC 곡선 비교\n",
    "plt.figure(figsize=(12, 4))\n",
    "\n",
    "# ROC 곡선\n",
    "plt.subplot(1, 3, 1)\n",
    "colors = ['red', 'blue', 'green']\n",
    "model_names = list(final_results.keys())\n",
    "\n",
    "for i, (model_name, results) in enumerate(final_results.items()):\n",
    "    fpr, tpr, _ = roc_curve(results['test_labels'], results['test_probs'])\n",
    "    auc_score = auc(fpr, tpr)\n",
    "    plt.plot(fpr, tpr, color=colors[i], linewidth=2, \n",
    "             label=f'{model_name} (AUC={auc_score:.3f})')\n",
    "\n",
    "plt.plot([0, 1], [0, 1], 'k--', alpha=0.5, label='Random')\n",
    "plt.xlabel('False Positive Rate')\n",
    "plt.ylabel('True Positive Rate')\n",
    "plt.title('ROC Curve Comparison')\n",
    "plt.legend()\n",
    "plt.grid(True, alpha=0.3)\n",
    "\n",
    "# 2. 성능 메트릭 비교 (Bar plot)\n",
    "plt.subplot(1, 3, 2)\n",
    "metrics = ['accuracy', 'f1', 'precision', 'recall']\n",
    "x = np.arange(len(metrics))\n",
    "width = 0.25\n",
    "\n",
    "for i, (model_name, results) in enumerate(final_results.items()):\n",
    "    values = [results[metric] for metric in metrics]\n",
    "    plt.bar(x + i*width, values, width, label=model_name, color=colors[i], alpha=0.8)\n",
    "\n",
    "plt.xlabel('Metrics')\n",
    "plt.ylabel('Score')\n",
    "plt.title('Performance Metrics Comparison')\n",
    "plt.xticks(x + width, metrics, rotation=45)\n",
    "plt.legend()\n",
    "plt.grid(True, alpha=0.3, axis='y')\n",
    "\n",
    "# 3. 학습 곡선 비교 (AUC)\n",
    "plt.subplot(1, 3, 3)\n",
    "for i, (model_name, history) in enumerate(model_histories.items()):\n",
    "    epochs = range(1, len(history['val_auc']) + 1)\n",
    "    plt.plot(epochs, history['val_auc'], 'o-', color=colors[i], \n",
    "             linewidth=2, label=f'{model_name}', markersize=4)\n",
    "\n",
    "plt.xlabel('Epoch')\n",
    "plt.ylabel('Validation AUC')\n",
    "plt.title('Training Progress (Val AUC)')\n",
    "plt.legend()\n",
    "plt.grid(True, alpha=0.3)\n",
    "\n",
    "plt.tight_layout()\n",
    "plt.show()\n",
    "\n",
    "# 4. Confusion Matrix 비교\n",
    "fig, axes = plt.subplots(1, 3, figsize=(15, 4))\n",
    "\n",
    "for i, (model_name, results) in enumerate(final_results.items()):\n",
    "    cm = confusion_matrix(results['test_labels'].astype(int), \n",
    "                         results['test_preds_adj'].astype(int), \n",
    "                         labels=[0, 1])\n",
    "    \n",
    "    sns.heatmap(cm, annot=True, fmt='d', cmap='Blues', ax=axes[i],\n",
    "                xticklabels=['Genuine', 'Forged'], \n",
    "                yticklabels=['Genuine', 'Forged'])\n",
    "    axes[i].set_title(f'{model_name}\\\\n(Thr={results[\"threshold\"]:.2f})')\n",
    "    axes[i].set_xlabel('Predicted')\n",
    "    if i == 0:\n",
    "        axes[i].set_ylabel('True')\n",
    "\n",
    "plt.tight_layout()\n",
    "plt.show()\n",
    "\n",
    "# 5. Attention 패턴 분석 (DSMIL vs Basic Attention)\n",
    "if 'DSMIL' in model_results and 'Basic_Attention' in model_results:\n",
    "    print(\"\\\\n🔍 Attention 패턴 분석\")\n",
    "    print(\"=\" * 50)\n",
    "    \n",
    "    # 각 모델의 attention weights 통계\n",
    "    dsmil_attention = model_results['DSMIL']['test']['attention_weights']\n",
    "    basic_attention = model_results['Basic_Attention']['test']['attention_weights']\n",
    "    \n",
    "    if dsmil_attention is not None and basic_attention is not None:\n",
    "        # Attention 분산 비교\n",
    "        dsmil_var = np.var(dsmil_attention, axis=1).mean()\n",
    "        basic_var = np.var(basic_attention, axis=1).mean()\n",
    "        \n",
    "        print(f\"Attention Weight 분산 (높을수록 선택적):\")\n",
    "        print(f\"  DSMIL: {dsmil_var:.4f}\")\n",
    "        print(f\"  Basic Attention: {basic_var:.4f}\")\n",
    "        \n",
    "        # Attention weight 분포 시각화\n",
    "        plt.figure(figsize=(12, 4))\n",
    "        \n",
    "        plt.subplot(1, 2, 1)\n",
    "        plt.hist(dsmil_attention.flatten(), bins=50, alpha=0.7, color='red', \n",
    "                 label='DSMIL', density=True)\n",
    "        plt.hist(basic_attention.flatten(), bins=50, alpha=0.7, color='blue', \n",
    "                 label='Basic Attention', density=True)\n",
    "        plt.xlabel('Attention Weight')\n",
    "        plt.ylabel('Density')\n",
    "        plt.title('Attention Weight Distribution')\n",
    "        plt.legend()\n",
    "        plt.grid(True, alpha=0.3)\n",
    "        \n",
    "        # Max attention weight 비교\n",
    "        plt.subplot(1, 2, 2)\n",
    "        dsmil_max = np.max(dsmil_attention, axis=1)\n",
    "        basic_max = np.max(basic_attention, axis=1)\n",
    "        \n",
    "        plt.hist(dsmil_max, bins=30, alpha=0.7, color='red', \n",
    "                 label=f'DSMIL (mean={dsmil_max.mean():.3f})', density=True)\n",
    "        plt.hist(basic_max, bins=30, alpha=0.7, color='blue', \n",
    "                 label=f'Basic (mean={basic_max.mean():.3f})', density=True)\n",
    "        plt.xlabel('Max Attention Weight')\n",
    "        plt.ylabel('Density')\n",
    "        plt.title('Max Attention Weight per Bag')\n",
    "        plt.legend()\n",
    "        plt.grid(True, alpha=0.3)\n",
    "        \n",
    "        plt.tight_layout()\n",
    "        plt.show()\n",
    "        \n",
    "        print(f\"\\\\nMax Attention Weight 평균:\")\n",
    "        print(f\"  DSMIL: {dsmil_max.mean():.4f} ± {dsmil_max.std():.4f}\")\n",
    "        print(f\"  Basic Attention: {basic_max.mean():.4f} ± {basic_max.std():.4f}\")\n",
    "    else:\n",
    "        print(\"⚠️ Attention weights를 수집할 수 없습니다.\")\n",
    "\n",
    "print(\"\\\\n🎉 모든 분석 완료!\")\n",
    "print(\"\\\\n📝 결론:\")\n",
    "for model_name, results in final_results.items():\n",
    "    print(f\"  • {model_name}: AUC {results['auc']:.3f}, F1 {results['f1']:.3f}\")"
   ]
  },
  {
   "cell_type": "code",
   "execution_count": null,
   "id": "be8e6f59",
   "metadata": {},
   "outputs": [],
   "source": []
  }
 ],
 "metadata": {
  "kernelspec": {
   "display_name": "Python 3 (ipykernel)",
   "language": "python",
   "name": "python3"
  },
  "language_info": {
   "codemirror_mode": {
    "name": "ipython",
    "version": 3
   },
   "file_extension": ".py",
   "mimetype": "text/x-python",
   "name": "python",
   "nbconvert_exporter": "python",
   "pygments_lexer": "ipython3",
   "version": "3.8.15"
  },
  "toc": {
   "base_numbering": 1,
   "nav_menu": {},
   "number_sections": true,
   "sideBar": true,
   "skip_h1_title": false,
   "title_cell": "Table of Contents",
   "title_sidebar": "Contents",
   "toc_cell": false,
   "toc_position": {},
   "toc_section_display": true,
   "toc_window_display": false
  }
 },
 "nbformat": 4,
 "nbformat_minor": 5
}
