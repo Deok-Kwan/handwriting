{
 "cells": [
  {
   "cell_type": "code",
   "execution_count": 1,
   "id": "39044d96",
   "metadata": {
    "ExecuteTime": {
     "end_time": "2025-09-18T17:00:23.367970Z",
     "start_time": "2025-09-18T17:00:16.981721Z"
    }
   },
   "outputs": [
    {
     "name": "stdout",
     "output_type": "stream",
     "text": [
      "Using device: cuda\n",
      "GPU: NVIDIA GeForce RTX 3090\n",
      "🔒 모든 시드를 42로 고정완료\n",
      "✅ 환경 설정 완료 (Nyström dependency 제거)\n"
     ]
    }
   ],
   "source": [
    "# 환경 설정\n",
    "import os\n",
    "import random\n",
    "import pickle\n",
    "import math\n",
    "import sys\n",
    "import subprocess\n",
    "import numpy as np\n",
    "import torch\n",
    "import torch.nn as nn\n",
    "from torch.utils.data import Dataset, DataLoader\n",
    "from sklearn.metrics import accuracy_score, roc_auc_score, f1_score, roc_curve, confusion_matrix\n",
    "from tqdm import tqdm\n",
    "\n",
    "# GPU 설정\n",
    "os.environ['CUDA_DEVICE_ORDER'] = 'PCI_BUS_ID'\n",
    "os.environ['CUDA_VISIBLE_DEVICES'] = os.getenv('MIL_STAGE3_GPU', '3')\n",
    "\n",
    "device = torch.device('cuda' if torch.cuda.is_available() else 'cpu')\n",
    "print('Using device:', device)\n",
    "if device.type == 'cuda':\n",
    "    print('GPU:', torch.cuda.get_device_name(0))\n",
    "else:\n",
    "    print('CUDA를 사용할 수 없습니다. CPU 모드로 실행됩니다.')\n",
    "\n",
    "# 시드 고정 유틸리티 함수\n",
    "def seed_everything(seed=42):\n",
    "    \"\"\"모든 난수 생성기 시드를 고정하는 함수\"\"\"\n",
    "    random.seed(seed)\n",
    "    np.random.seed(seed)\n",
    "    torch.manual_seed(seed)\n",
    "    if torch.cuda.is_available():\n",
    "        torch.cuda.manual_seed_all(seed)\n",
    "        torch.backends.cudnn.deterministic = True\n",
    "        torch.backends.cudnn.benchmark = False\n",
    "    print(f\"🔒 모든 시드를 {seed}로 고정완료\")\n",
    "\n",
    "# 초기 시드 고정\n",
    "seed_everything(42)\n",
    "\n",
    "print(\"✅ 환경 설정 완료 (Nyström dependency 제거)\")"
   ]
  },
  {
   "cell_type": "code",
   "execution_count": 2,
   "id": "4742eb10",
   "metadata": {
    "ExecuteTime": {
     "end_time": "2025-09-18T17:00:24.233353Z",
     "start_time": "2025-09-18T17:00:23.373359Z"
    }
   },
   "outputs": [
    {
     "name": "stdout",
     "output_type": "stream",
     "text": [
      "Loading MIL bags...\n",
      "Train bags: 3600, Val bags: 1200, Test bags: 1200\n"
     ]
    }
   ],
   "source": [
    "# Stage 2 Bag 데이터 로드 및 Instance 평균 계산\n",
    "embedding_margin = '0.4'\n",
    "bags_dir = '/workspace/MIL/data/processed/bags'\n",
    "train_pkl = os.path.join(bags_dir, f'bags_arcface_margin_{embedding_margin}_50p_random_train.pkl')\n",
    "val_pkl   = os.path.join(bags_dir, f'bags_arcface_margin_{embedding_margin}_50p_random_val.pkl')\n",
    "test_pkl  = os.path.join(bags_dir, f'bags_arcface_margin_{embedding_margin}_50p_random_test.pkl')\n",
    "\n",
    "print('Loading MIL bags...')\n",
    "with open(train_pkl, 'rb') as f:\n",
    "    train_data = pickle.load(f)\n",
    "with open(val_pkl, 'rb') as f:\n",
    "    val_data = pickle.load(f)\n",
    "with open(test_pkl, 'rb') as f:\n",
    "    test_data = pickle.load(f)\n",
    "\n",
    "# Instance mean 계산: (10,5,256) → (10,256)\n",
    "def to_instance_means(bags):\n",
    "    return [bag.mean(axis=1).astype(np.float32) for bag in bags]\n",
    "\n",
    "train_features = to_instance_means(train_data['bags'])\n",
    "val_features   = to_instance_means(val_data['bags'])\n",
    "test_features  = to_instance_means(test_data['bags'])\n",
    "\n",
    "train_labels = train_data['labels']\n",
    "val_labels   = val_data['labels']\n",
    "test_labels  = test_data['labels']\n",
    "\n",
    "print(f'Train bags: {len(train_labels)}, Val bags: {len(val_labels)}, Test bags: {len(test_labels)}')\n"
   ]
  },
  {
   "cell_type": "code",
   "execution_count": 3,
   "id": "17dbf94a",
   "metadata": {
    "ExecuteTime": {
     "end_time": "2025-09-18T17:00:24.241349Z",
     "start_time": "2025-09-18T17:00:24.235467Z"
    }
   },
   "outputs": [],
   "source": [
    "# Dataset 클래스 (on‑the‑fly Tensor 변환)\n",
    "\n",
    "class MILDataset(Dataset):\n",
    "    def __init__(self, features, labels):\n",
    "        self.features = features  # list of np.ndarray\n",
    "        self.labels = labels      # list of int\n",
    "    def __len__(self):\n",
    "        return len(self.labels)\n",
    "    def __getitem__(self, idx):\n",
    "        x = torch.tensor(self.features[idx], dtype=torch.float32)\n",
    "        y = torch.tensor(self.labels[idx], dtype=torch.float32)\n",
    "        return x, y\n",
    "\n",
    "batch_size = 16\n",
    "train_loader = DataLoader(MILDataset(train_features, train_labels), batch_size=batch_size, shuffle=True)\n",
    "val_loader   = DataLoader(MILDataset(val_features,   val_labels),   batch_size=batch_size, shuffle=False)\n",
    "test_loader  = DataLoader(MILDataset(test_features,  test_labels),  batch_size=batch_size, shuffle=False)\n"
   ]
  },
  {
   "cell_type": "code",
   "execution_count": 4,
   "id": "79407013",
   "metadata": {
    "ExecuteTime": {
     "end_time": "2025-09-18T17:00:26.273651Z",
     "start_time": "2025-09-18T17:00:24.244569Z"
    }
   },
   "outputs": [
    {
     "name": "stdout",
     "output_type": "stream",
     "text": [
      "🔧 수정된 TransMIL 모델 생성 중...\n",
      "✅ 수정된 모델 구조:\n",
      "  - 표준 Transformer 블록 (FFN 포함)\n",
      "  - 1D PPEG (정사각 패딩 제거)\n",
      "  - 표준 MultiheadAttention (Nyström 문제 해결)\n",
      "  - ClassWeightedBCE (의미 명확화)\n",
      "  - AdamW + weight decay 사용\n",
      "  - 총 파라미터: 6,447,617\n",
      "  - 학습 가능 파라미터: 6,447,617\n"
     ]
    },
    {
     "name": "stderr",
     "output_type": "stream",
     "text": [
      "/opt/conda/envs/py38/lib/python3.8/site-packages/torch/optim/lr_scheduler.py:60: UserWarning: The verbose parameter is deprecated. Please use get_last_lr() to access the learning rate.\n",
      "  warnings.warn(\n"
     ]
    }
   ],
   "source": [
    "# 수정된 Transformer MIL 모델 정의\n",
    "\n",
    "class TransBlock(nn.Module):\n",
    "    \"\"\"표준 Transformer 블록 (FFN 포함)\"\"\"\n",
    "    def __init__(self, dim=512, num_heads=8, dropout_p=0.1, ffn_mult=4):\n",
    "        super().__init__()\n",
    "        self.norm1 = nn.LayerNorm(dim)\n",
    "        self.attn = nn.MultiheadAttention(\n",
    "            embed_dim=dim, num_heads=num_heads, dropout=dropout_p, batch_first=True\n",
    "        )\n",
    "        self.norm2 = nn.LayerNorm(dim)\n",
    "        self.ffn = nn.Sequential(\n",
    "            nn.Linear(dim, ffn_mult * dim),\n",
    "            nn.GELU(),  # ViT 계열은 GELU가 보편적\n",
    "            nn.Dropout(dropout_p),\n",
    "            nn.Linear(ffn_mult * dim, dim),\n",
    "            nn.Dropout(dropout_p),\n",
    "        )\n",
    "    \n",
    "    def forward(self, x):\n",
    "        # Pre-norm style\n",
    "        normed_x = self.norm1(x)\n",
    "        attn_out, _ = self.attn(normed_x, normed_x, normed_x, need_weights=False)\n",
    "        x = x + attn_out\n",
    "        \n",
    "        ffn_out = self.ffn(self.norm2(x))\n",
    "        x = x + ffn_out\n",
    "        return x\n",
    "\n",
    "\n",
    "class PPEG1D(nn.Module):\n",
    "    \"\"\"1D PPEG (depthwise Conv1d)\"\"\"\n",
    "    def __init__(self, dim=512):\n",
    "        super().__init__()\n",
    "        self.proj7 = nn.Conv1d(dim, dim, kernel_size=7, padding=3, groups=dim)\n",
    "        self.proj5 = nn.Conv1d(dim, dim, kernel_size=5, padding=2, groups=dim)\n",
    "        self.proj3 = nn.Conv1d(dim, dim, kernel_size=3, padding=1, groups=dim)\n",
    "\n",
    "    def forward(self, x):\n",
    "        # x: (B, 1+N, C) = [CLS | tokens]\n",
    "        cls_token, feat_token = x[:, :1], x[:, 1:]  # (B,1,C), (B,N,C)\n",
    "        b, n, c = feat_token.shape\n",
    "        feat = feat_token.transpose(1, 2)  # (B,C,N)\n",
    "        feat = self.proj7(feat) + self.proj5(feat) + self.proj3(feat) + feat\n",
    "        feat = feat.transpose(1, 2)  # (B,N,C)\n",
    "        return torch.cat([cls_token, feat], dim=1)  # (B,1+N,C)\n",
    "\n",
    "\n",
    "class LearnablePosEmb1D(nn.Module):\n",
    "    \"\"\"간단한 학습형 1D 위치임베딩\"\"\"\n",
    "    def __init__(self, max_len=512, dim=512):\n",
    "        super().__init__()\n",
    "        self.pos = nn.Parameter(torch.zeros(1, max_len, dim))\n",
    "        nn.init.trunc_normal_(self.pos, std=0.02)\n",
    "    \n",
    "    def forward(self, x):\n",
    "        # x: (B, 1+N, C)\n",
    "        return x + self.pos[:, :x.size(1), :]\n",
    "\n",
    "\n",
    "class TransMIL(nn.Module):\n",
    "    \"\"\"수정된 TransMIL - 1D 시퀀스용으로 재설계\"\"\"\n",
    "    def __init__(self, input_dim=256, embed_dim=512, num_heads=8, dropout_p=0.1, n_classes=1,\n",
    "                 use_1d_ppeg=True, max_len=512):\n",
    "        super().__init__()\n",
    "        assert embed_dim % num_heads == 0\n",
    "\n",
    "        self.embed = nn.Sequential(\n",
    "            nn.Linear(input_dim, embed_dim),\n",
    "            nn.GELU(),  # ReLU → GELU 권장\n",
    "            nn.Dropout(dropout_p),\n",
    "        )\n",
    "        self.cls_token = nn.Parameter(torch.randn(1, 1, embed_dim) * 0.02)\n",
    "\n",
    "        # 두 개의 Transformer 블록\n",
    "        self.block1 = TransBlock(embed_dim, num_heads, dropout_p)\n",
    "        self.block2 = TransBlock(embed_dim, num_heads, dropout_p)\n",
    "\n",
    "        # 위치 부여: 1D PPEG 또는 learnable pos emb\n",
    "        if use_1d_ppeg:\n",
    "            self.pos_layer = PPEG1D(embed_dim)\n",
    "            self.use_learnable_pos = False\n",
    "        else:\n",
    "            self.pos_layer = LearnablePosEmb1D(max_len=max_len, dim=embed_dim)\n",
    "            self.use_learnable_pos = True\n",
    "\n",
    "        self.norm = nn.LayerNorm(embed_dim)\n",
    "        self.classifier = nn.Linear(embed_dim, n_classes)\n",
    "        self._init_weights()\n",
    "\n",
    "    def _init_weights(self):\n",
    "        for m in self.modules():\n",
    "            if isinstance(m, nn.Linear):\n",
    "                nn.init.xavier_uniform_(m.weight)\n",
    "                if m.bias is not None:\n",
    "                    nn.init.zeros_(m.bias)\n",
    "            elif isinstance(m, (nn.Conv1d, nn.Conv2d)):\n",
    "                nn.init.kaiming_normal_(m.weight, mode='fan_out', nonlinearity='relu')\n",
    "                if m.bias is not None:\n",
    "                    nn.init.zeros_(m.bias)\n",
    "\n",
    "    def forward(self, x):\n",
    "        \"\"\"\n",
    "        x: (B, N, D_in)  # N = 인스턴스 수 (정사각 패딩 없음)\n",
    "        \"\"\"\n",
    "        assert x.dim() == 3, 'Input must be (batch, instances, features).'\n",
    "        h = self.embed(x)  # (B,N,C)\n",
    "        b, n, c = h.shape\n",
    "        cls = self.cls_token.expand(b, 1, c)  # (B,1,C)\n",
    "        h = torch.cat([cls, h], dim=1)  # (B,1+N,C)\n",
    "\n",
    "        # 위치부여\n",
    "        if self.use_learnable_pos:\n",
    "            h = self.pos_layer(h)  # learnable pos emb\n",
    "            h = self.block1(h)\n",
    "            h = self.block2(h)\n",
    "        else:\n",
    "            h = self.block1(h)  # Pre-attn로 약간 섞은 뒤\n",
    "            h = self.pos_layer(h)  # 1D PPEG\n",
    "            h = self.block2(h)\n",
    "\n",
    "        h = self.norm(h)\n",
    "        cls_out = h[:, 0]  # (B,C)\n",
    "        logits = self.classifier(cls_out)  # (B,1)\n",
    "        return logits.squeeze(-1)\n",
    "\n",
    "\n",
    "class ClassWeightedBCE(nn.Module):\n",
    "    \"\"\"명확한 클래스 가중 BCE\"\"\"\n",
    "    def __init__(self, pos_weight=1.0, neg_weight=1.0):\n",
    "        super().__init__()\n",
    "        self.pos_weight = pos_weight\n",
    "        self.neg_weight = neg_weight\n",
    "    \n",
    "    def forward(self, logits, labels):\n",
    "        # labels: {0,1} float tensor\n",
    "        weights = labels * self.pos_weight + (1.0 - labels) * self.neg_weight\n",
    "        return nn.functional.binary_cross_entropy_with_logits(\n",
    "            logits, labels, weight=weights, reduction='mean'\n",
    "        )\n",
    "\n",
    "\n",
    "# 모델 인스턴스 (수정된 버전)\n",
    "print(\"🔧 수정된 TransMIL 모델 생성 중...\")\n",
    "mil_model = TransMIL(\n",
    "    input_dim=256,\n",
    "    embed_dim=512,\n",
    "    num_heads=8,\n",
    "    dropout_p=0.1,\n",
    "    use_1d_ppeg=True,  # 1D PPEG 사용\n",
    ").to(device)\n",
    "\n",
    "# 수정된 손실함수 (FP 억제를 위해 neg_weight > pos_weight)\n",
    "criterion = ClassWeightedBCE(pos_weight=1.0, neg_weight=2.0)\n",
    "\n",
    "# AdamW + weight decay 권장\n",
    "optimizer_mil = torch.optim.AdamW(mil_model.parameters(), lr=3e-4, weight_decay=1e-2)\n",
    "scheduler_mil = torch.optim.lr_scheduler.ReduceLROnPlateau(\n",
    "    optimizer_mil, mode='max', factor=0.5, patience=1, verbose=True\n",
    ")\n",
    "\n",
    "print(\"✅ 수정된 모델 구조:\")\n",
    "print(\"  - 표준 Transformer 블록 (FFN 포함)\")\n",
    "print(\"  - 1D PPEG (정사각 패딩 제거)\")\n",
    "print(\"  - 표준 MultiheadAttention (Nyström 문제 해결)\")\n",
    "print(\"  - ClassWeightedBCE (의미 명확화)\")\n",
    "print(\"  - AdamW + weight decay 사용\")\n",
    "\n",
    "# 모델 파라미터 수 출력\n",
    "total_params = sum(p.numel() for p in mil_model.parameters())\n",
    "trainable_params = sum(p.numel() for p in mil_model.parameters() if p.requires_grad)\n",
    "print(f\"  - 총 파라미터: {total_params:,}\")\n",
    "print(f\"  - 학습 가능 파라미터: {trainable_params:,}\")"
   ]
  },
  {
   "cell_type": "code",
   "execution_count": 5,
   "id": "90bb9c1f",
   "metadata": {
    "ExecuteTime": {
     "end_time": "2025-09-18T17:00:26.292438Z",
     "start_time": "2025-09-18T17:00:26.276712Z"
    }
   },
   "outputs": [
    {
     "name": "stdout",
     "output_type": "stream",
     "text": [
      "✅ 수정된 학습/평가 함수 정의 완료\n"
     ]
    }
   ],
   "source": [
    "# 수정된 학습 및 평가 함수\n",
    "\n",
    "def _extract_logits(model, X):\n",
    "    \"\"\"모델 출력에서 logits 추출\"\"\"\n",
    "    output = model(X)\n",
    "    if isinstance(output, dict):\n",
    "        if 'logits' not in output:\n",
    "            raise KeyError('Model output dictionary must contain a `logits` key.')\n",
    "        logits = output['logits']\n",
    "    elif isinstance(output, tuple):\n",
    "        logits = output[0]\n",
    "    else:\n",
    "        logits = output\n",
    "    if isinstance(logits, (list, tuple)):\n",
    "        logits = logits[0]\n",
    "    if hasattr(logits, 'dim') and logits.dim() == 2 and logits.size(-1) == 1:\n",
    "        logits = logits.squeeze(-1)\n",
    "    return logits\n",
    "\n",
    "def train_one_epoch(model, optimizer, loader, criterion):\n",
    "    \"\"\"한 에포크 학습\"\"\"\n",
    "    model.train()\n",
    "    total_loss = 0.0\n",
    "    preds_all = []\n",
    "    labels_all = []\n",
    "    \n",
    "    for X, y in tqdm(loader, desc='Train', leave=False):\n",
    "        X, y = X.to(device), y.to(device)\n",
    "        optimizer.zero_grad()\n",
    "        \n",
    "        logits = _extract_logits(model, X)\n",
    "        loss = criterion(logits, y)\n",
    "        \n",
    "        loss.backward()\n",
    "        torch.nn.utils.clip_grad_norm_(model.parameters(), max_norm=1.0)\n",
    "        optimizer.step()\n",
    "        \n",
    "        total_loss += loss.item() * y.size(0)\n",
    "        preds = (torch.sigmoid(logits) >= 0.5).float()\n",
    "        preds_all.extend(preds.cpu().numpy())\n",
    "        labels_all.extend(y.cpu().numpy())\n",
    "    \n",
    "    return total_loss / len(loader.dataset), accuracy_score(labels_all, preds_all)\n",
    "\n",
    "def evaluate(model, loader, criterion):\n",
    "    \"\"\"모델 평가\"\"\"\n",
    "    model.eval()\n",
    "    total_loss = 0.0\n",
    "    probs_all = []\n",
    "    preds_all = []\n",
    "    labels_all = []\n",
    "    \n",
    "    with torch.no_grad():\n",
    "        for X, y in tqdm(loader, desc='Eval', leave=False):\n",
    "            X, y = X.to(device), y.to(device)\n",
    "            \n",
    "            logits = _extract_logits(model, X)\n",
    "            loss = criterion(logits, y)\n",
    "            \n",
    "            total_loss += loss.item() * y.size(0)\n",
    "            probs = torch.sigmoid(logits)\n",
    "            preds = (probs >= 0.5).float()\n",
    "            \n",
    "            probs_all.extend(probs.cpu().numpy())\n",
    "            preds_all.extend(preds.cpu().numpy())\n",
    "            labels_all.extend(y.cpu().numpy())\n",
    "    \n",
    "    acc = accuracy_score(labels_all, preds_all)\n",
    "    auc = roc_auc_score(labels_all, probs_all) if len(set(labels_all)) > 1 else 0.0\n",
    "    f1 = f1_score(labels_all, preds_all) if len(set(preds_all)) > 1 else 0.0\n",
    "    \n",
    "    return (total_loss / len(loader.dataset), acc, auc, f1, \n",
    "            np.array(probs_all), np.array(labels_all), np.array(preds_all))\n",
    "\n",
    "def train_model(model, optimizer, scheduler, train_loader, val_loader, criterion,\n",
    "                max_epochs=10, patience=3, name='model'):\n",
    "    \"\"\"Early Stopping을 포함한 모델 학습\"\"\"\n",
    "    best_auc = 0.0\n",
    "    best_state = None\n",
    "    epochs_no_improve = 0\n",
    "    \n",
    "    print(f\"\\n🚀 {name} 모델 학습 시작...\")\n",
    "    print(f\"   Max epochs: {max_epochs}, Patience: {patience}\")\n",
    "    \n",
    "    for epoch in range(1, max_epochs + 1):\n",
    "        print(f\"\\nEpoch {epoch}/{max_epochs} – {name}\")\n",
    "        \n",
    "        # 학습\n",
    "        tr_loss, tr_acc = train_one_epoch(model, optimizer, train_loader, criterion)\n",
    "        \n",
    "        # 검증\n",
    "        val_loss, val_acc, val_auc, val_f1, _, _, _ = evaluate(model, val_loader, criterion)\n",
    "        \n",
    "        print(f\"  Train: Loss={tr_loss:.4f}, Acc={tr_acc:.4f}\")\n",
    "        print(f\"  Val:   Loss={val_loss:.4f}, Acc={val_acc:.4f}, AUC={val_auc:.4f}, F1={val_f1:.4f}\")\n",
    "        \n",
    "        # 스케줄러 업데이트\n",
    "        scheduler.step(val_auc)\n",
    "        \n",
    "        # 최고 모델 저장\n",
    "        if val_auc > best_auc:\n",
    "            best_auc = val_auc\n",
    "            best_state = {k: v.cpu() for k, v in model.state_dict().items()}\n",
    "            torch.save(best_state, f'best_{name}.pth')\n",
    "            print(f\"  ✅ New best AUC: {best_auc:.4f} – model saved.\")\n",
    "            epochs_no_improve = 0\n",
    "        else:\n",
    "            epochs_no_improve += 1\n",
    "            print(f\"  ⏳ No improvement. Patience: {epochs_no_improve}/{patience}\")\n",
    "            if epochs_no_improve >= patience:\n",
    "                print(\"  🛑 Early stopping triggered.\")\n",
    "                break\n",
    "    \n",
    "    # 최고 모델 로드\n",
    "    if best_state is not None:\n",
    "        model.load_state_dict(best_state)\n",
    "        print(f\"  📂 Best model loaded (AUC: {best_auc:.4f})\")\n",
    "    \n",
    "    return model\n",
    "\n",
    "print(\"✅ 수정된 학습/평가 함수 정의 완료\")"
   ]
  },
  {
   "cell_type": "code",
   "execution_count": 6,
   "id": "071c244e",
   "metadata": {
    "ExecuteTime": {
     "end_time": "2025-09-18T17:01:05.316378Z",
     "start_time": "2025-09-18T17:00:26.294986Z"
    }
   },
   "outputs": [
    {
     "name": "stderr",
     "output_type": "stream",
     "text": [
      "/opt/conda/envs/py38/lib/python3.8/site-packages/torch/optim/lr_scheduler.py:60: UserWarning: The verbose parameter is deprecated. Please use get_last_lr() to access the learning rate.\n",
      "  warnings.warn(\n"
     ]
    },
    {
     "name": "stdout",
     "output_type": "stream",
     "text": [
      "🔬 수정된 TransMIL 최종 실험 시작\n",
      "============================================================\n",
      "주요 개선사항:\n",
      "  - 표준 Transformer 블록 (FFN 포함)\n",
      "  - 1D PPEG로 정사각 패딩 문제 해결\n",
      "  - MultiheadAttention으로 Nyström 문제 해결\n",
      "  - ClassWeightedBCE로 손실함수 의미 명확화\n",
      "  - AdamW + weight decay 사용\n",
      "============================================================\n",
      "\n",
      "총 파라미터 수: 6,447,617\n",
      "\n",
      "🚀 transmil_corrected 모델 학습 시작...\n",
      "   Max epochs: 10, Patience: 3\n",
      "\n",
      "Epoch 1/10 – transmil_corrected\n"
     ]
    },
    {
     "name": "stderr",
     "output_type": "stream",
     "text": [
      "                                                        \r"
     ]
    },
    {
     "name": "stdout",
     "output_type": "stream",
     "text": [
      "  Train: Loss=0.9919, Acc=0.6672\n",
      "  Val:   Loss=0.6527, Acc=0.7825, AUC=0.8532, F1=0.7568\n",
      "  ✅ New best AUC: 0.8532 – model saved.\n",
      "\n",
      "Epoch 2/10 – transmil_corrected\n"
     ]
    },
    {
     "name": "stderr",
     "output_type": "stream",
     "text": [
      "                                                        \r"
     ]
    },
    {
     "name": "stdout",
     "output_type": "stream",
     "text": [
      "  Train: Loss=0.6313, Acc=0.7831\n",
      "  Val:   Loss=0.8090, Acc=0.7408, AUC=0.8497, F1=0.6849\n",
      "  ⏳ No improvement. Patience: 1/3\n",
      "\n",
      "Epoch 3/10 – transmil_corrected\n"
     ]
    },
    {
     "name": "stderr",
     "output_type": "stream",
     "text": [
      "                                                        \r"
     ]
    },
    {
     "name": "stdout",
     "output_type": "stream",
     "text": [
      "  Train: Loss=0.5601, Acc=0.8156\n",
      "  Val:   Loss=1.0243, Acc=0.7400, AUC=0.8158, F1=0.7532\n",
      "  ⏳ No improvement. Patience: 2/3\n",
      "\n",
      "Epoch 4/10 – transmil_corrected\n"
     ]
    },
    {
     "name": "stderr",
     "output_type": "stream",
     "text": [
      "                                                        \r"
     ]
    },
    {
     "name": "stdout",
     "output_type": "stream",
     "text": [
      "  Train: Loss=0.4351, Acc=0.8600\n",
      "  Val:   Loss=0.9615, Acc=0.7708, AUC=0.8639, F1=0.7759\n",
      "  ✅ New best AUC: 0.8639 – model saved.\n",
      "\n",
      "Epoch 5/10 – transmil_corrected\n"
     ]
    },
    {
     "name": "stderr",
     "output_type": "stream",
     "text": [
      "                                                        \r"
     ]
    },
    {
     "name": "stdout",
     "output_type": "stream",
     "text": [
      "  Train: Loss=0.3863, Acc=0.8775\n",
      "  Val:   Loss=1.7444, Acc=0.7583, AUC=0.8479, F1=0.7833\n",
      "  ⏳ No improvement. Patience: 1/3\n",
      "\n",
      "Epoch 6/10 – transmil_corrected\n"
     ]
    },
    {
     "name": "stderr",
     "output_type": "stream",
     "text": [
      "                                                        \r"
     ]
    },
    {
     "name": "stdout",
     "output_type": "stream",
     "text": [
      "  Train: Loss=0.3290, Acc=0.8964\n",
      "  Val:   Loss=1.6363, Acc=0.7925, AUC=0.8694, F1=0.8053\n",
      "  ✅ New best AUC: 0.8694 – model saved.\n",
      "\n",
      "Epoch 7/10 – transmil_corrected\n"
     ]
    },
    {
     "name": "stderr",
     "output_type": "stream",
     "text": [
      "                                                        \r"
     ]
    },
    {
     "name": "stdout",
     "output_type": "stream",
     "text": [
      "  Train: Loss=0.3073, Acc=0.9061\n",
      "  Val:   Loss=2.1206, Acc=0.7675, AUC=0.8586, F1=0.7932\n",
      "  ⏳ No improvement. Patience: 1/3\n",
      "\n",
      "Epoch 8/10 – transmil_corrected\n"
     ]
    },
    {
     "name": "stderr",
     "output_type": "stream",
     "text": [
      "                                                        \r"
     ]
    },
    {
     "name": "stdout",
     "output_type": "stream",
     "text": [
      "  Train: Loss=0.2753, Acc=0.9233\n",
      "  Val:   Loss=2.3121, Acc=0.7525, AUC=0.8564, F1=0.7815\n",
      "  ⏳ No improvement. Patience: 2/3\n",
      "\n",
      "Epoch 9/10 – transmil_corrected\n"
     ]
    },
    {
     "name": "stderr",
     "output_type": "stream",
     "text": [
      "                                                        \r"
     ]
    },
    {
     "name": "stdout",
     "output_type": "stream",
     "text": [
      "  Train: Loss=0.2022, Acc=0.9425\n",
      "  Val:   Loss=3.1620, Acc=0.7558, AUC=0.8537, F1=0.7815\n",
      "  ⏳ No improvement. Patience: 3/3\n",
      "  🛑 Early stopping triggered.\n",
      "  📂 Best model loaded (AUC: 0.8694)\n",
      "\n",
      "📊 최종 평가 중...\n"
     ]
    },
    {
     "name": "stderr",
     "output_type": "stream",
     "text": [
      "                                                      \r"
     ]
    },
    {
     "name": "stdout",
     "output_type": "stream",
     "text": [
      "\n",
      "🎯 검증 세트 최적 임계값: 0.450 (F1=0.809)\n",
      "\n",
      "🏆 수정된 TransMIL 최종 테스트 성능:\n",
      "  📈 AUC: 0.878\n",
      "  🎯 Accuracy: 0.788\n",
      "  🔄 F1 Score: 0.809\n",
      "  ✅ Precision: 0.737\n",
      "  🔍 Recall: 0.897\n",
      "  ⚖️ Threshold: 0.450\n",
      "\n",
      "📊 성능 개선 분석:\n",
      "  - 정사각 패딩 제거로 1D 시퀀스 특성 유지\n",
      "  - FFN 포함으로 Transformer 표현력 향상\n",
      "  - Nyström → MultiheadAttention으로 안정성 개선\n",
      "  - ClassWeightedBCE로 클래스 불균형 해결\n"
     ]
    },
    {
     "data": {
      "image/png": "[encoded data removed]",
      "text/plain": [
       "<Figure size 600x400 with 2 Axes>"
      ]
     },
     "metadata": {},
     "output_type": "display_data"
    },
    {
     "data": {
      "image/png": "[encoded data removed]",
      "text/plain": [
       "<Figure size 600x500 with 1 Axes>"
      ]
     },
     "metadata": {},
     "output_type": "display_data"
    },
    {
     "name": "stdout",
     "output_type": "stream",
     "text": [
      "\n",
      "✅ 수정된 TransMIL 실험 완료!\n",
      "\n",
      "🔧 주요 수정 사항 요약:\n",
      "  1. TransLayer → TransBlock (FFN 추가)\n",
      "  2. 2D PPEG → 1D PPEG (정사각 패딩 제거)\n",
      "  3. Nyström → MultiheadAttention (landmarks 문제 해결)\n",
      "  4. WeightedBCE → ClassWeightedBCE (의미 명확화)\n",
      "  5. Adam → AdamW + weight decay\n",
      "\n",
      "이제 다른 MIL 모델들과 성능 비교 가능합니다!\n"
     ]
    }
   ],
   "source": [
    "# ==============================================================================\n",
    "# 수정된 TransMIL 최종 학습 및 평가 파이프라인\n",
    "# ==============================================================================\n",
    "\n",
    "import matplotlib.pyplot as plt\n",
    "import seaborn as sns\n",
    "from sklearn.metrics import accuracy_score, f1_score, precision_score, recall_score, roc_curve, auc, confusion_matrix\n",
    "\n",
    "print(\"🔬 수정된 TransMIL 최종 실험 시작\")\n",
    "print(\"=\" * 60)\n",
    "print(\"주요 개선사항:\")\n",
    "print(\"  - 표준 Transformer 블록 (FFN 포함)\")\n",
    "print(\"  - 1D PPEG로 정사각 패딩 문제 해결\")\n",
    "print(\"  - MultiheadAttention으로 Nyström 문제 해결\") \n",
    "print(\"  - ClassWeightedBCE로 손실함수 의미 명확화\")\n",
    "print(\"  - AdamW + weight decay 사용\")\n",
    "print(\"=\" * 60)\n",
    "\n",
    "# 새로운 모델 인스턴스 생성 (최종 학습용)\n",
    "mil_model_final = TransMIL(\n",
    "    input_dim=256,\n",
    "    embed_dim=512,\n",
    "    num_heads=8,\n",
    "    dropout_p=0.1,\n",
    "    use_1d_ppeg=True,  # 1D PPEG 사용\n",
    ").to(device)\n",
    "\n",
    "# 수정된 손실함수와 옵티마이저\n",
    "criterion_final = ClassWeightedBCE(pos_weight=1.0, neg_weight=2.0)\n",
    "optimizer_final = torch.optim.AdamW(mil_model_final.parameters(), lr=3e-4, weight_decay=1e-2)\n",
    "scheduler_final = torch.optim.lr_scheduler.ReduceLROnPlateau(\n",
    "    optimizer_final, mode='max', factor=0.5, patience=1, verbose=True\n",
    ")\n",
    "\n",
    "# 모델 학습\n",
    "print(f\"\\n총 파라미터 수: {sum(p.numel() for p in mil_model_final.parameters()):,}\")\n",
    "mil_model_final = train_model(\n",
    "    mil_model_final, optimizer_final, scheduler_final,\n",
    "    train_loader, val_loader, criterion_final, \n",
    "    max_epochs=10, patience=3, name='transmil_corrected'\n",
    ")\n",
    "\n",
    "# 검증 및 테스트 평가\n",
    "print(\"\\n📊 최종 평가 중...\")\n",
    "val_loss_final, val_acc_final, val_auc_final, val_f1_final, val_probs_final, val_labels_final, _ = evaluate(\n",
    "    mil_model_final, val_loader, criterion_final\n",
    ")\n",
    "test_loss_final, test_acc_final, test_auc_final, test_f1_final, test_probs_final, test_labels_final, _ = evaluate(\n",
    "    mil_model_final, test_loader, criterion_final\n",
    ")\n",
    "\n",
    "# F1 기준 최적 임계값 찾기\n",
    "def find_best_threshold(probs, labels):\n",
    "    best_thr, best_val = 0.5, 0.0\n",
    "    for thr in np.linspace(0.05, 0.95, 37):\n",
    "        preds = (probs >= thr).astype(int)\n",
    "        val = f1_score(labels, preds, zero_division=0)\n",
    "        if val > best_val:\n",
    "            best_val, best_thr = val, thr\n",
    "    return best_thr, best_val\n",
    "\n",
    "# 검증 세트에서 최적 임계값 찾기\n",
    "best_thr_final, best_f1_valid = find_best_threshold(val_probs_final, val_labels_final)\n",
    "print(f'\\n🎯 검증 세트 최적 임계값: {best_thr_final:.3f} (F1={best_f1_valid:.3f})')\n",
    "\n",
    "# 테스트 세트에 적용\n",
    "test_preds_adj_final = (test_probs_final >= best_thr_final).astype(int)\n",
    "acc_final = accuracy_score(test_labels_final, test_preds_adj_final)\n",
    "f1_final = f1_score(test_labels_final, test_preds_adj_final, zero_division=0)\n",
    "prec_final = precision_score(test_labels_final, test_preds_adj_final, zero_division=0)\n",
    "recall_final = recall_score(test_labels_final, test_preds_adj_final, zero_division=0)\n",
    "\n",
    "print('\\n🏆 수정된 TransMIL 최종 테스트 성능:')\n",
    "print(f'  📈 AUC: {test_auc_final:.3f}')\n",
    "print(f'  🎯 Accuracy: {acc_final:.3f}')\n",
    "print(f'  🔄 F1 Score: {f1_final:.3f}')\n",
    "print(f'  ✅ Precision: {prec_final:.3f}')\n",
    "print(f'  🔍 Recall: {recall_final:.3f}')\n",
    "print(f'  ⚖️ Threshold: {best_thr_final:.3f}')\n",
    "\n",
    "# 성능 비교를 위한 기본 정보\n",
    "print(f'\\n📊 성능 개선 분석:')\n",
    "print(f'  - 정사각 패딩 제거로 1D 시퀀스 특성 유지')\n",
    "print(f'  - FFN 포함으로 Transformer 표현력 향상')\n",
    "print(f'  - Nyström → MultiheadAttention으로 안정성 개선')\n",
    "print(f'  - ClassWeightedBCE로 클래스 불균형 해결')\n",
    "\n",
    "# Confusion Matrix 시각화\n",
    "cm_final = confusion_matrix(test_labels_final.astype(int), test_preds_adj_final.astype(int), labels=[0,1])\n",
    "plt.figure(figsize=(6, 4))\n",
    "sns.heatmap(\n",
    "    cm_final, annot=True, fmt='d', cmap='Blues',\n",
    "    xticklabels=['Genuine','Forged'], yticklabels=['Genuine','Forged']\n",
    ")\n",
    "plt.title(f'Confusion Matrix (Corrected TransMIL)\\nThreshold={best_thr_final:.2f}')\n",
    "plt.xlabel('Predicted Label')\n",
    "plt.ylabel('True Label')\n",
    "plt.tight_layout()\n",
    "plt.show()\n",
    "\n",
    "# ROC 곡선 시각화\n",
    "fpr_final, tpr_final, _ = roc_curve(test_labels_final, test_probs_final)\n",
    "auc_final_value = auc(fpr_final, tpr_final)\n",
    "plt.figure(figsize=(6, 5))\n",
    "plt.plot(fpr_final, tpr_final, color='red', linewidth=2, \n",
    "         label=f'Corrected TransMIL (AUC={auc_final_value:.3f})')\n",
    "plt.plot([0,1],[0,1],'k--', alpha=0.5, label='Random')\n",
    "plt.xlabel('False Positive Rate')\n",
    "plt.ylabel('True Positive Rate')\n",
    "plt.title('ROC Curve – Corrected TransMIL')\n",
    "plt.legend()\n",
    "plt.grid(True, alpha=0.3)\n",
    "plt.tight_layout()\n",
    "plt.show()\n",
    "\n",
    "print(\"\\n✅ 수정된 TransMIL 실험 완료!\")\n",
    "print(\"\\n🔧 주요 수정 사항 요약:\")\n",
    "print(\"  1. TransLayer → TransBlock (FFN 추가)\")\n",
    "print(\"  2. 2D PPEG → 1D PPEG (정사각 패딩 제거)\")  \n",
    "print(\"  3. Nyström → MultiheadAttention (landmarks 문제 해결)\")\n",
    "print(\"  4. WeightedBCE → ClassWeightedBCE (의미 명확화)\")\n",
    "print(\"  5. Adam → AdamW + weight decay\")\n",
    "print(\"\\n이제 다른 MIL 모델들과 성능 비교 가능합니다!\")"
   ]
  }
 ],
 "metadata": {
  "kernelspec": {
   "display_name": "Python 3 (ipykernel)",
   "language": "python",
   "name": "python3"
  },
  "language_info": {
   "codemirror_mode": {
    "name": "ipython",
    "version": 3
   },
   "file_extension": ".py",
   "mimetype": "text/x-python",
   "name": "python",
   "nbconvert_exporter": "python",
   "pygments_lexer": "ipython3",
   "version": "3.8.15"
  },
  "toc": {
   "base_numbering": 1,
   "nav_menu": {},
   "number_sections": true,
   "sideBar": true,
   "skip_h1_title": false,
   "title_cell": "Table of Contents",
   "title_sidebar": "Contents",
   "toc_cell": false,
   "toc_position": {},
   "toc_section_display": true,
   "toc_window_display": false
  }
 },
 "nbformat": 4,
 "nbformat_minor": 5
}
