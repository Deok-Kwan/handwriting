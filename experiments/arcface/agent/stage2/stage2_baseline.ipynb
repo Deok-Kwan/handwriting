{
 "cells": [
  {
   "cell_type": "markdown",
   "id": "30792b37",
   "metadata": {},
   "source": [
    "# Stage 2 Baseline: MIL Bag Generation (50% Forgery) - 간단한 베이스라인\n",
    "\n",
    "이 노트북은 Stage 1에서 추출한 ArcFace 임베딩을 이용해 Multiple Instance Learning(MIL) 학습을 위한 **간단한 베이스라인** Bag 데이터를 생성합니다. \n",
    "\n",
    "**핵심 단순화:**\n",
    "- **단일 규칙**: Negative=한 작성자 14개 단어, Positive=두 작성자 7+7개 단어 랜덤 셔플\n",
    "- **고정 윈도우**: (win=5, stride=1) → 10개 인스턴스 → 각 bag은 (10, 5, 256)\n",
    "- **50/50 균형**: 각 split에서 정확히 50% Positive, 50% Negative 비율\n",
    "- **복잡한 설정 제거**: 게이트, 커스텀 페어링, 스트레스 테스트 등 모든 복잡한 기능 제거"
   ]
  },
  {
   "cell_type": "code",
   "execution_count": 1,
   "id": "01af97fe",
   "metadata": {
    "ExecuteTime": {
     "end_time": "2025-08-19T07:41:07.386622Z",
     "start_time": "2025-08-19T07:41:06.892361Z"
    }
   },
   "outputs": [
    {
     "name": "stdout",
     "output_type": "stream",
     "text": [
      "환경 설정 완료: GPU=1, SEED=42\n"
     ]
    }
   ],
   "source": [
    "# 라이브러리 임포트 및 환경 설정\n",
    "import os, random, pickle, numpy as np, pandas as pd\n",
    "from collections import defaultdict\n",
    "\n",
    "# GPU 설정 (선택적)\n",
    "os.environ[\"CUDA_DEVICE_ORDER\"] = \"PCI_BUS_ID\"\n",
    "os.environ[\"CUDA_VISIBLE_DEVICES\"] = os.getenv('MIL_STAGE2_GPU', '1')\n",
    "\n",
    "# 재현성을 위한 시드 설정\n",
    "SEED_BASE = 42\n",
    "np.random.seed(SEED_BASE)\n",
    "random.seed(SEED_BASE)\n",
    "\n",
    "print(f'환경 설정 완료: GPU={os.environ.get(\"CUDA_VISIBLE_DEVICES\", \"N/A\")}, SEED={SEED_BASE}')"
   ]
  },
  {
   "cell_type": "code",
   "execution_count": 2,
   "id": "801ad3d1",
   "metadata": {
    "ExecuteTime": {
     "end_time": "2025-08-19T07:41:21.721062Z",
     "start_time": "2025-08-19T07:41:07.388666Z"
    }
   },
   "outputs": [
    {
     "name": "stdout",
     "output_type": "stream",
     "text": [
      "데이터 로딩 완료:\n",
      "  - Embedding 차원: 256\n",
      "  - Label 컬럼: label\n",
      "  - Train: 208233, Val: 70533, Test: 72457\n",
      "  - 원본 메타데이터: 556128 rows\n"
     ]
    }
   ],
   "source": [
    "# 경로 설정 및 데이터 로딩\n",
    "embedding_dir = '/workspace/MIL/data/processed/embeddings'\n",
    "raw_meta_csv  = '/workspace/MIL/data/raw/naver_ocr.csv'  # 선택 사항\n",
    "bags_dir      = '/workspace/MIL/data/processed/bags'\n",
    "os.makedirs(bags_dir, exist_ok=True)\n",
    "\n",
    "margin_value = '0.4'\n",
    "rng_global = np.random.default_rng(SEED_BASE)\n",
    "\n",
    "# CSV 로딩 함수\n",
    "def load_split_csv(split):\n",
    "    csv_path = os.path.join(embedding_dir, f'mil_arcface_margin_{margin_value}_{split}_data.csv')\n",
    "    df = pd.read_csv(csv_path)\n",
    "    label_col = 'label' if 'label' in df.columns else 'author_id'\n",
    "    emb_cols  = [c for c in df.columns if c.startswith('embedding')]\n",
    "    assert len(emb_cols) > 0, \"No embedding_* columns found.\"\n",
    "    return df, label_col, emb_cols\n",
    "\n",
    "# 데이터 로딩\n",
    "train_df, label_col, emb_cols = load_split_csv('train')\n",
    "val_df,   _,         _        = load_split_csv('val')\n",
    "test_df,  _,         _        = load_split_csv('test')\n",
    "embed_dim = len(emb_cols)\n",
    "\n",
    "print(f\"데이터 로딩 완료:\")\n",
    "print(f\"  - Embedding 차원: {embed_dim}\")\n",
    "print(f\"  - Label 컬럼: {label_col}\")\n",
    "print(f\"  - Train: {len(train_df)}, Val: {len(val_df)}, Test: {len(test_df)}\")\n",
    "\n",
    "# 선택적 원본 메타데이터 로딩\n",
    "try:\n",
    "    original_df = pd.read_csv(raw_meta_csv)\n",
    "    print(f\"  - 원본 메타데이터: {len(original_df)} rows\")\n",
    "    has_raw_meta = True\n",
    "except Exception:\n",
    "    print(f\"  - 원본 메타데이터: 없음\")\n",
    "    has_raw_meta = False"
   ]
  },
  {
   "cell_type": "code",
   "execution_count": 3,
   "id": "vlqa78d208",
   "metadata": {
    "ExecuteTime": {
     "end_time": "2025-08-19T07:41:22.734402Z",
     "start_time": "2025-08-19T07:41:21.725128Z"
    }
   },
   "outputs": [
    {
     "name": "stdout",
     "output_type": "stream",
     "text": [
      "작성자 인덱스 구축 완료:\n",
      "  - Train writers: 180\n",
      "  - Val writers: 60\n",
      "  - Test writers: 60\n",
      "✓ 헬퍼 함수 정의 완료\n"
     ]
    }
   ],
   "source": [
    "# ==============================================================\n",
    "# Stage 2 Baseline: MIL Bags (50% Forgery), Minimal & Reproducible\n",
    "# ==============================================================\n",
    "\n",
    "# 작성자별 인덱스 구축\n",
    "def build_writer_index(df, label_col, emb_cols):\n",
    "    w2 = {}\n",
    "    for wid, g in df.groupby(label_col):\n",
    "        w2[int(wid)] = {\n",
    "            'emb': g[emb_cols].to_numpy(dtype=np.float32),\n",
    "            'paths': g['path'].tolist() if 'path' in g.columns else [''] * len(g),\n",
    "            'idx': g.index.to_list()\n",
    "        }\n",
    "    return w2\n",
    "\n",
    "train_writers = build_writer_index(train_df, label_col, emb_cols)\n",
    "val_writers   = build_writer_index(val_df,   label_col, emb_cols)\n",
    "test_writers  = build_writer_index(test_df,  label_col, emb_cols)\n",
    "\n",
    "def list_writer_ids(wdict): \n",
    "    return list(wdict.keys())\n",
    "\n",
    "print(f\"작성자 인덱스 구축 완료:\")\n",
    "print(f\"  - Train writers: {len(train_writers)}\")\n",
    "print(f\"  - Val writers: {len(val_writers)}\")\n",
    "print(f\"  - Test writers: {len(test_writers)}\")\n",
    "\n",
    "# 샘플링 헬퍼 함수들\n",
    "def sample_k(n, k, rng, replace_if_needed=True):\n",
    "    \"\"\"n개 중에서 k개 샘플링 (부족하면 중복 허용)\"\"\"\n",
    "    if (not replace_if_needed) and n >= k:\n",
    "        return rng.choice(n, size=k, replace=False).tolist()\n",
    "    # 부족하면 중복 허용\n",
    "    return rng.choice(n, size=k, replace=True).tolist()\n",
    "\n",
    "def sliding_windows(seq, win=5, stride=1):\n",
    "    \"\"\"슬라이딩 윈도우로 시퀀스 분할\"\"\"\n",
    "    # seq: list of tuples (emb, wid, path, orig_idx)\n",
    "    windows, metas = [], []\n",
    "    for i in range(0, len(seq) - win + 1, stride):\n",
    "        chunk = seq[i:i+win]\n",
    "        windows.append(np.stack([e for (e,_,_,_) in chunk], axis=0))  # (5, D)\n",
    "        metas.append({\n",
    "            'window_idx': i,\n",
    "            'word_indices': [oi for (_,_,_,oi) in chunk],\n",
    "            'word_paths':   [p  for (_,_,p, _) in chunk],\n",
    "            'writer_ids':   [w  for (_,w,_, _) in chunk],\n",
    "        })\n",
    "    return windows, metas\n",
    "\n",
    "def pack(words, wid, W):\n",
    "    \"\"\"단어 인덱스를 임베딩 튜플로 변환\"\"\"\n",
    "    emb, paths, idxs = W['emb'], W['paths'], W['idx']\n",
    "    return [(emb[w], wid, paths[w], idxs[w]) for w in words]\n",
    "\n",
    "print(\"✓ 헬퍼 함수 정의 완료\")"
   ]
  },
  {
   "cell_type": "code",
   "execution_count": 4,
   "id": "hu8mulwsryd",
   "metadata": {
    "ExecuteTime": {
     "end_time": "2025-08-19T07:41:22.750177Z",
     "start_time": "2025-08-19T07:41:22.739689Z"
    }
   },
   "outputs": [
    {
     "name": "stdout",
     "output_type": "stream",
     "text": [
      "✓ Bag 생성 함수 정의 완료\n",
      "  - Negative: 14개 단어 → 10개 인스턴스\n",
      "  - Positive: 7+7개 단어 셔플 → 10개 인스턴스\n",
      "  - 윈도우: (win=5, stride=1)\n"
     ]
    }
   ],
   "source": [
    "# Bag 생성 함수 (베이스라인 규칙)\n",
    "WIN = 5; STRIDE = 1; INSTANCES_PER_BAG = 10\n",
    "TOK_NEG = 14; TOK_POS_A = 7; TOK_POS_B = 7\n",
    "\n",
    "def make_negative_bag(wid, W, rng):\n",
    "    \"\"\"단일 작성자 Bag (레이블 0)\"\"\"\n",
    "    emb, paths, idxs = W['emb'], W['paths'], W['idx']\n",
    "    sel = sample_k(len(emb), TOK_NEG, rng, replace_if_needed=True)\n",
    "    seq = pack(sel, wid, W)\n",
    "    wins, metas = sliding_windows(seq, WIN, STRIDE)\n",
    "    bag = np.stack(wins[:INSTANCES_PER_BAG], axis=0)  # (10, 5, D)\n",
    "    return bag, metas[:INSTANCES_PER_BAG], [int(wid)]\n",
    "\n",
    "def make_positive_bag(widA, widB, WA, WB, rng):\n",
    "    \"\"\"복수 작성자 Bag (레이블 1): A 7개 + B 7개 → 전체 셔플 → 윈도우\"\"\"\n",
    "    embA, pathsA, idxA = WA['emb'], WA['paths'], WA['idx']\n",
    "    embB, pathsB, idxB = WB['emb'], WB['paths'], WB['idx']\n",
    "    \n",
    "    selA = sample_k(len(embA), TOK_POS_A, rng, replace_if_needed=True)\n",
    "    selB = sample_k(len(embB), TOK_POS_B, rng, replace_if_needed=True)\n",
    "    \n",
    "    seqA = [(embA[i], int(widA), pathsA[i], idxA[i]) for i in selA]\n",
    "    seqB = [(embB[i], int(widB), pathsB[i], idxB[i]) for i in selB]\n",
    "    \n",
    "    seq = seqA + seqB\n",
    "    rng.shuffle(seq)  # 핵심: 랜덤 셔플\n",
    "    \n",
    "    wins, metas = sliding_windows(seq, WIN, STRIDE)\n",
    "    bag = np.stack(wins[:INSTANCES_PER_BAG], axis=0)\n",
    "    return bag, metas[:INSTANCES_PER_BAG], [int(widA), int(widB)]\n",
    "\n",
    "print(\"✓ Bag 생성 함수 정의 완료\")\n",
    "print(f\"  - Negative: {TOK_NEG}개 단어 → {INSTANCES_PER_BAG}개 인스턴스\")\n",
    "print(f\"  - Positive: {TOK_POS_A}+{TOK_POS_B}개 단어 셔플 → {INSTANCES_PER_BAG}개 인스턴스\")\n",
    "print(f\"  - 윈도우: (win={WIN}, stride={STRIDE})\")"
   ]
  },
  {
   "cell_type": "code",
   "execution_count": 5,
   "id": "7fmruxme0xt",
   "metadata": {
    "ExecuteTime": {
     "end_time": "2025-08-19T07:41:22.761027Z",
     "start_time": "2025-08-19T07:41:22.752008Z"
    }
   },
   "outputs": [
    {
     "name": "stdout",
     "output_type": "stream",
     "text": [
      "✓ Split 생성 함수 정의 완료\n"
     ]
    }
   ],
   "source": [
    "# Split 생성 함수\n",
    "def generate_split(name, WDICT, neg_per_writer=10, pos_per_writer=10, seed=42):\n",
    "    \"\"\"간단한 베이스라인 split 생성 (50/50 균형)\"\"\"\n",
    "    rng = np.random.default_rng(seed)\n",
    "    writer_ids = list_writer_ids(WDICT)\n",
    "    bags, labels, metadata = [], [], []\n",
    "    \n",
    "    print(f\"  {name} split 생성 중... (Writers: {len(writer_ids)})\")\n",
    "    \n",
    "    # Negative bags (단일 작성자)\n",
    "    for wid in writer_ids:\n",
    "        for _ in range(neg_per_writer):\n",
    "            bag, metas, authors = make_negative_bag(wid, WDICT[wid], rng)\n",
    "            bags.append(bag)\n",
    "            labels.append(0)\n",
    "            metadata.append({\n",
    "                'authors': authors, \n",
    "                'bag_type': 'negative',\n",
    "                'instances': metas\n",
    "            })\n",
    "    \n",
    "    # Positive bags (복수 작성자, 각 A당 pos_per_writer개, 파트너는 랜덤)\n",
    "    for widA in writer_ids:\n",
    "        for _ in range(pos_per_writer):\n",
    "            widB = rng.choice([w for w in writer_ids if w != widA])\n",
    "            bag, metas, authors = make_positive_bag(widA, widB, WDICT[widA], WDICT[widB], rng)\n",
    "            bags.append(bag)\n",
    "            labels.append(1)\n",
    "            metadata.append({\n",
    "                'authors': authors, \n",
    "                'bag_type': 'positive',\n",
    "                'instances': metas\n",
    "            })\n",
    "    \n",
    "    # 전체 셔플\n",
    "    idx = rng.permutation(len(labels))\n",
    "    bags = [bags[i] for i in idx]\n",
    "    labels = [int(labels[i]) for i in idx]\n",
    "    metadata = [metadata[i] for i in idx]\n",
    "    \n",
    "    # 요약 출력\n",
    "    n_pos = sum(labels)\n",
    "    n_tot = len(labels)\n",
    "    print(f\"    → Total: {n_tot}, Positive: {n_pos} ({n_pos/n_tot*100:.1f}%), Negative: {n_tot-n_pos}\")\n",
    "    \n",
    "    # 간단 검증\n",
    "    assert len(bags) == len(labels) == len(metadata), \"Length mismatch\"\n",
    "    assert bags[0].shape == (INSTANCES_PER_BAG, WIN, embed_dim), f\"Shape mismatch: {bags[0].shape}\"\n",
    "    \n",
    "    return bags, labels, metadata\n",
    "\n",
    "print(\"✓ Split 생성 함수 정의 완료\")"
   ]
  },
  {
   "cell_type": "code",
   "execution_count": 6,
   "id": "68rg6jgcskq",
   "metadata": {
    "ExecuteTime": {
     "end_time": "2025-08-19T07:41:26.739554Z",
     "start_time": "2025-08-19T07:41:22.764865Z"
    }
   },
   "outputs": [
    {
     "name": "stdout",
     "output_type": "stream",
     "text": [
      "🔄 베이스라인 Bags 생성 시작...\n",
      "설정: Negative=10/writer, Positive=10/writer\n",
      "  Train split 생성 중... (Writers: 180)\n",
      "    → Total: 3600, Positive: 1800 (50.0%), Negative: 1800\n",
      "  Val split 생성 중... (Writers: 60)\n",
      "    → Total: 1200, Positive: 600 (50.0%), Negative: 600\n",
      "  Test split 생성 중... (Writers: 60)\n",
      "    → Total: 1200, Positive: 600 (50.0%), Negative: 600\n",
      "\\n💾 파일 저장 중...\n",
      "💾 저장: bags_arcface_margin_0.4_50p_baseline_train.pkl\n",
      "↪️  호환 복사: bags_arcface_margin_0.4_50p_random_train.pkl\n",
      "💾 저장: bags_arcface_margin_0.4_50p_baseline_val.pkl\n",
      "↪️  호환 복사: bags_arcface_margin_0.4_50p_random_val.pkl\n",
      "💾 저장: bags_arcface_margin_0.4_50p_baseline_test.pkl\n",
      "↪️  호환 복사: bags_arcface_margin_0.4_50p_random_test.pkl\n",
      "\\n📊 최종 요약:\n",
      "Train: N=3600, Pos=1800 (50.0%), Neg=1800\n",
      "Val: N=1200, Pos=600 (50.0%), Neg=600\n",
      "Test: N=1200, Pos=600 (50.0%), Neg=600\n",
      "\\n✅ Stage 2 베이스라인 생성 완료!\n",
      "📋 레이블 정보:\n",
      "  - Label 0 (Negative): 단일 작성자 (진짜)\n",
      "  - Label 1 (Positive): 복수 작성자 (위조)\n",
      "🔗 Stage 3에서 기존 파일명으로 로드 가능\n"
     ]
    }
   ],
   "source": [
    "# 베이스라인 Bag 생성 실행\n",
    "NEG_PW = 10  # 작성자별 negative bags\n",
    "POS_PW = 10  # 작성자별 positive bags → 전체 약 50/50\n",
    "\n",
    "print(\"🔄 베이스라인 Bags 생성 시작...\")\n",
    "print(f\"설정: Negative={NEG_PW}/writer, Positive={POS_PW}/writer\")\n",
    "\n",
    "# 모든 split 생성\n",
    "train_bags, train_labels, train_meta = generate_split('Train', train_writers, NEG_PW, POS_PW, seed=SEED_BASE+0)\n",
    "val_bags,   val_labels,   val_meta   = generate_split('Val',   val_writers,   NEG_PW, POS_PW, seed=SEED_BASE+10)\n",
    "test_bags,  test_labels,  test_meta  = generate_split('Test',  test_writers,  NEG_PW, POS_PW, seed=SEED_BASE+20)\n",
    "\n",
    "# 저장 함수\n",
    "def save_split(bags, labels, meta, tag, compat_copy=True):\n",
    "    base = os.path.join(bags_dir, f\"bags_arcface_margin_{margin_value}_50p_baseline_{tag}.pkl\")\n",
    "    with open(base, 'wb') as f:\n",
    "        pickle.dump({'bags': bags, 'labels': labels, 'metadata': meta}, f)\n",
    "    print(f\"💾 저장: {os.path.basename(base)}\")\n",
    "    \n",
    "    if compat_copy:\n",
    "        # Stage3 호환을 위한 복사본 (기존 파일명)\n",
    "        alias = os.path.join(bags_dir, f\"bags_arcface_margin_{margin_value}_50p_random_{tag}.pkl\")\n",
    "        with open(alias, 'wb') as f:\n",
    "            pickle.dump({'bags': bags, 'labels': labels, 'metadata': meta}, f)\n",
    "        print(f\"↪️  호환 복사: {os.path.basename(alias)}\")\n",
    "\n",
    "# 저장 실행\n",
    "print(\"\\\\n💾 파일 저장 중...\")\n",
    "save_split(train_bags, train_labels, train_meta, 'train', compat_copy=True)\n",
    "save_split(val_bags,   val_labels,   val_meta,   'val',   compat_copy=True)\n",
    "save_split(test_bags,  test_labels,  test_meta,  'test',  compat_copy=True)\n",
    "\n",
    "# 최종 요약\n",
    "def summarize(name, labels):\n",
    "    n = len(labels)\n",
    "    p = sum(labels)\n",
    "    print(f\"{name}: N={n}, Pos={p} ({p/n*100:.1f}%), Neg={n-p}\")\n",
    "\n",
    "print(\"\\\\n📊 최종 요약:\")\n",
    "summarize('Train', train_labels)\n",
    "summarize('Val',   val_labels)\n",
    "summarize('Test',  test_labels)\n",
    "\n",
    "print(\"\\\\n✅ Stage 2 베이스라인 생성 완료!\")\n",
    "print(\"📋 레이블 정보:\")\n",
    "print(\"  - Label 0 (Negative): 단일 작성자 (진짜)\")\n",
    "print(\"  - Label 1 (Positive): 복수 작성자 (위조)\")\n",
    "print(\"🔗 Stage 3에서 기존 파일명으로 로드 가능\")"
   ]
  },
  {
   "cell_type": "code",
   "execution_count": 7,
   "id": "18cc7a15",
   "metadata": {
    "ExecuteTime": {
     "end_time": "2025-08-19T07:41:26.897261Z",
     "start_time": "2025-08-19T07:41:26.743994Z"
    }
   },
   "outputs": [
    {
     "name": "stdout",
     "output_type": "stream",
     "text": [
      "🔍 생성된 데이터 검증:\n",
      "  - Train bags shape: (3600, 10, 5, 256)\n",
      "  - Train labels 분포: [1800 1800]\n",
      "  - 첫 번째 bag shape: (10, 5, 256)\n",
      "  - Embedding 차원: 256\n",
      "\\n📋 샘플 메타데이터:\n",
      "  Negative bag:\n",
      "    - Authors: [64] (개수: 1)\n",
      "    - Type: negative\n",
      "    - Instances: 10\n",
      "  Positive bag:\n",
      "    - Authors: [95, 13] (개수: 2)\n",
      "    - Type: positive\n",
      "    - Instances: 10\n",
      "    - 첫 인스턴스 작성자들: [13, 13, 95, 95, 95]\n",
      "\\n✅ 모든 검증 통과 - 베이스라인 데이터 준비 완료!\n",
      "🚀 Stage 3에서 AB-MIL 학습을 진행할 수 있습니다.\n"
     ]
    }
   ],
   "source": [
    "# 간단한 검증 및 샘플 확인\n",
    "\n",
    "# 데이터 타입과 형태 검증\n",
    "print(\"🔍 생성된 데이터 검증:\")\n",
    "print(f\"  - Train bags shape: {np.array(train_bags).shape}\")\n",
    "print(f\"  - Train labels 분포: {np.bincount(train_labels)}\")\n",
    "print(f\"  - 첫 번째 bag shape: {train_bags[0].shape}\")\n",
    "print(f\"  - Embedding 차원: {train_bags[0].shape[2]}\")\n",
    "\n",
    "# 샘플 메타데이터 확인\n",
    "print(f\"\\\\n📋 샘플 메타데이터:\")\n",
    "neg_sample = next(meta for meta, label in zip(train_meta, train_labels) if label == 0)\n",
    "pos_sample = next(meta for meta, label in zip(train_meta, train_labels) if label == 1)\n",
    "\n",
    "print(f\"  Negative bag:\")\n",
    "print(f\"    - Authors: {neg_sample['authors']} (개수: {len(neg_sample['authors'])})\")\n",
    "print(f\"    - Type: {neg_sample['bag_type']}\")\n",
    "print(f\"    - Instances: {len(neg_sample['instances'])}\")\n",
    "\n",
    "print(f\"  Positive bag:\")\n",
    "print(f\"    - Authors: {pos_sample['authors']} (개수: {len(pos_sample['authors'])})\")\n",
    "print(f\"    - Type: {pos_sample['bag_type']}\")\n",
    "print(f\"    - Instances: {len(pos_sample['instances'])}\")\n",
    "print(f\"    - 첫 인스턴스 작성자들: {pos_sample['instances'][0]['writer_ids']}\")\n",
    "\n",
    "print(f\"\\\\n✅ 모든 검증 통과 - 베이스라인 데이터 준비 완료!\")\n",
    "print(f\"🚀 Stage 3에서 AB-MIL 학습을 진행할 수 있습니다.\")"
   ]
  },
  {
   "cell_type": "code",
   "execution_count": 8,
   "id": "365e8015",
   "metadata": {
    "ExecuteTime": {
     "end_time": "2025-08-19T07:41:26.991293Z",
     "start_time": "2025-08-19T07:41:26.899443Z"
    }
   },
   "outputs": [
    {
     "name": "stdout",
     "output_type": "stream",
     "text": [
      "============================================================\n",
      "🎯 Stage 2 베이스라인 완료!\n",
      "============================================================\n",
      "✅ 간소화된 특징:\n",
      "  • 단일 규칙: Negative=1작성자, Positive=2작성자 7+7 셔플\n",
      "  • 고정 윈도우: (5, 1) → 10 인스턴스\n",
      "  • 50/50 균형 보장\n",
      "\n",
      "📁 생성된 파일:\n",
      "  • bags_arcface_margin_0.4_50p_baseline_*.pkl (새 이름)\n",
      "  • bags_arcface_margin_0.4_50p_random_*.pkl (Stage3 호환)\n",
      "\n",
      "🚀 다음 단계: Stage 3에서 AB-MIL 학습\n"
     ]
    }
   ],
   "source": [
    "# 베이스라인 완료 - 복잡한 설정들은 제거됨\n",
    "\n",
    "print(\"=\" * 60)\n",
    "print(\"🎯 Stage 2 베이스라인 완료!\")\n",
    "print(\"=\" * 60)\n",
    "print(\"✅ 간소화된 특징:\")\n",
    "print(\"  • 단일 규칙: Negative=1작성자, Positive=2작성자 7+7 셔플\")\n",
    "print(\"  • 고정 윈도우: (5, 1) → 10 인스턴스\")\n",
    "print(\"  • 50/50 균형 보장\")\n",
    "print()\n",
    "print(\"📁 생성된 파일:\")\n",
    "print(f\"  • bags_arcface_margin_{margin_value}_50p_baseline_*.pkl (새 이름)\")\n",
    "print(f\"  • bags_arcface_margin_{margin_value}_50p_random_*.pkl (Stage3 호환)\")\n",
    "print()\n",
    "print(\"🚀 다음 단계: Stage 3에서 AB-MIL 학습\")"
   ]
  }
 ],
 "metadata": {
  "kernelspec": {
   "display_name": "Python 3 (ipykernel)",
   "language": "python",
   "name": "python3"
  },
  "language_info": {
   "codemirror_mode": {
    "name": "ipython",
    "version": 3
   },
   "file_extension": ".py",
   "mimetype": "text/x-python",
   "name": "python",
   "nbconvert_exporter": "python",
   "pygments_lexer": "ipython3",
   "version": "3.8.15"
  },
  "toc": {
   "base_numbering": 1,
   "nav_menu": {},
   "number_sections": true,
   "sideBar": true,
   "skip_h1_title": false,
   "title_cell": "Table of Contents",
   "title_sidebar": "Contents",
   "toc_cell": false,
   "toc_position": {},
   "toc_section_display": true,
   "toc_window_display": false
  }
 },
 "nbformat": 4,
 "nbformat_minor": 5
}
