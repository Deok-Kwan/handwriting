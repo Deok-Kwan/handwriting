{
 "cells": [
  {
   "cell_type": "markdown",
   "id": "30792b37",
   "metadata": {},
   "source": "# Stage 2 Baseline: MIL Bag Generation (50% Forgery) - \uc21c\uc218 \uc708\ub3c4\uc6b0 \ubc84\uc804\n\n\uc774 \ub178\ud2b8\ubd81\uc740 Stage 1\uc5d0\uc11c \ucd94\ucd9c\ud55c ArcFace \uc784\ubca0\ub529\uc744 \uc774\uc6a9\ud574 Multiple Instance Learning(MIL) \ud559\uc2b5\uc744 \uc704\ud55c **\uac1c\uc120\ub41c \ubca0\uc774\uc2a4\ub77c\uc778** Bag \ub370\uc774\ud130\ub97c \uc0dd\uc131\ud569\ub2c8\ub2e4. \n\n**\ud575\uc2ec \uac1c\uc120\uc0ac\ud56d (\uc21c\uc218 \uc708\ub3c4\uc6b0):**\n- **Negative (\ub77c\ubca8 0)**: \ud55c \uc791\uc131\uc790 14\uac1c \ub2e8\uc5b4 \u2192 \uc2ac\ub77c\uc774\ub529 \uc708\ub3c4\uc6b0 (\ubcc0\uacbd \uc5c6\uc74c)\n- **Positive (\ub77c\ubca8 1)**: A \uc804\uc6a9 \uc708\ub3c4\uc6b0 5\uac1c + B \uc804\uc6a9 \uc708\ub3c4\uc6b0 5\uac1c \u2192 **\uac01 \uc708\ub3c4\uc6b0\ub294 \ub2e8\uc77c \uc791\uc131\uc790\ub9cc \ud3ec\ud568**\n- **\uc708\ub3c4\uc6b0 \uc21c\uc218\uc131 100%**: \ubaa8\ub4e0 \uc708\ub3c4\uc6b0\uac00 \ub2e8\uc77c \uc791\uc131\uc790\uc758 \ud1a0\ud070\ub9cc\uc73c\ub85c \uad6c\uc131\n- **50/50 \uade0\ud615**: \uac01 split\uc5d0\uc11c \uc815\ud655\ud788 50% Positive, 50% Negative \ube44\uc728\n\n**\ubcc0\uacbd \uc774\uc720:**\n- \uae30\uc874: A 7\uac1c + B 7\uac1c\ub97c \uc804\uccb4 \uc154\ud50c \u2192 \ud63c\ud569 \uc708\ub3c4\uc6b0 \ubc1c\uc0dd (\ud55c \uc708\ub3c4\uc6b0\uc5d0 A\uc640 B\uac00 \uc11e\uc784)\n- \uac1c\uc120: A \uc804\uc6a9 \uc708\ub3c4\uc6b0\uc640 B \uc804\uc6a9 \uc708\ub3c4\uc6b0\ub97c \ub530\ub85c \uc0dd\uc131 \u2192 \uc708\ub3c4\uc6b0 \ub808\ubca8\uc5d0\uc11c \ud569\uce68 \u2192 \uc21c\uc218 \uc708\ub3c4\uc6b0 \ubcf4\uc7a5"
  },
  {
   "cell_type": "code",
   "execution_count": 1,
   "id": "01af97fe",
   "metadata": {
    "ExecuteTime": {
     "end_time": "2025-08-19T03:03:51.376502Z",
     "start_time": "2025-08-19T03:03:50.935669Z"
    }
   },
   "outputs": [
    {
     "name": "stdout",
     "output_type": "stream",
     "text": [
      "\ud658\uacbd \uc124\uc815 \uc644\ub8cc: GPU=1, SEED=42\n"
     ]
    }
   ],
   "source": [
    "# \ub77c\uc774\ube0c\ub7ec\ub9ac \uc784\ud3ec\ud2b8 \ubc0f \ud658\uacbd \uc124\uc815\n",
    "import os, random, pickle, numpy as np, pandas as pd\n",
    "from collections import defaultdict\n",
    "\n",
    "# GPU \uc124\uc815 (\uc120\ud0dd\uc801)\n",
    "os.environ[\"CUDA_DEVICE_ORDER\"] = \"PCI_BUS_ID\"\n",
    "os.environ[\"CUDA_VISIBLE_DEVICES\"] = os.getenv('MIL_STAGE2_GPU', '1')\n",
    "\n",
    "# \uc7ac\ud604\uc131\uc744 \uc704\ud55c \uc2dc\ub4dc \uc124\uc815\n",
    "SEED_BASE = 42\n",
    "np.random.seed(SEED_BASE)\n",
    "random.seed(SEED_BASE)\n",
    "\n",
    "print(f'\ud658\uacbd \uc124\uc815 \uc644\ub8cc: GPU={os.environ.get(\"CUDA_VISIBLE_DEVICES\", \"N/A\")}, SEED={SEED_BASE}')"
   ]
  },
  {
   "cell_type": "code",
   "execution_count": 2,
   "id": "801ad3d1",
   "metadata": {
    "ExecuteTime": {
     "end_time": "2025-08-19T03:04:04.992500Z",
     "start_time": "2025-08-19T03:03:51.379313Z"
    }
   },
   "outputs": [
    {
     "name": "stdout",
     "output_type": "stream",
     "text": [
      "\ub370\uc774\ud130 \ub85c\ub529 \uc644\ub8cc:\n",
      "  - Embedding \ucc28\uc6d0: 256\n",
      "  - Label \uceec\ub7fc: label\n",
      "  - Train: 208233, Val: 70533, Test: 72457\n",
      "  - \uc6d0\ubcf8 \uba54\ud0c0\ub370\uc774\ud130: 556128 rows\n"
     ]
    }
   ],
   "source": [
    "# \uacbd\ub85c \uc124\uc815 \ubc0f \ub370\uc774\ud130 \ub85c\ub529\n",
    "embedding_dir = '/workspace/MIL/data/processed/embeddings'\n",
    "raw_meta_csv  = '/workspace/MIL/data/raw/naver_ocr.csv'  # \uc120\ud0dd \uc0ac\ud56d\n",
    "bags_dir      = '/workspace/MIL/data/processed/bags'\n",
    "os.makedirs(bags_dir, exist_ok=True)\n",
    "\n",
    "margin_value = '0.4'\n",
    "rng_global = np.random.default_rng(SEED_BASE)\n",
    "\n",
    "# CSV \ub85c\ub529 \ud568\uc218\n",
    "def load_split_csv(split):\n",
    "    csv_path = os.path.join(embedding_dir, f'mil_arcface_margin_{margin_value}_{split}_data.csv')\n",
    "    df = pd.read_csv(csv_path)\n",
    "    label_col = 'label' if 'label' in df.columns else 'author_id'\n",
    "    emb_cols  = [c for c in df.columns if c.startswith('embedding')]\n",
    "    assert len(emb_cols) > 0, \"No embedding_* columns found.\"\n",
    "    return df, label_col, emb_cols\n",
    "\n",
    "# \ub370\uc774\ud130 \ub85c\ub529\n",
    "train_df, label_col, emb_cols = load_split_csv('train')\n",
    "val_df,   _,         _        = load_split_csv('val')\n",
    "test_df,  _,         _        = load_split_csv('test')\n",
    "embed_dim = len(emb_cols)\n",
    "\n",
    "print(f\"\ub370\uc774\ud130 \ub85c\ub529 \uc644\ub8cc:\")\n",
    "print(f\"  - Embedding \ucc28\uc6d0: {embed_dim}\")\n",
    "print(f\"  - Label \uceec\ub7fc: {label_col}\")\n",
    "print(f\"  - Train: {len(train_df)}, Val: {len(val_df)}, Test: {len(test_df)}\")\n",
    "\n",
    "# \uc120\ud0dd\uc801 \uc6d0\ubcf8 \uba54\ud0c0\ub370\uc774\ud130 \ub85c\ub529\n",
    "try:\n",
    "    original_df = pd.read_csv(raw_meta_csv)\n",
    "    print(f\"  - \uc6d0\ubcf8 \uba54\ud0c0\ub370\uc774\ud130: {len(original_df)} rows\")\n",
    "    has_raw_meta = True\n",
    "except Exception:\n",
    "    print(f\"  - \uc6d0\ubcf8 \uba54\ud0c0\ub370\uc774\ud130: \uc5c6\uc74c\")\n",
    "    has_raw_meta = False"
   ]
  },
  {
   "cell_type": "code",
   "execution_count": 3,
   "id": "vlqa78d208",
   "metadata": {
    "ExecuteTime": {
     "end_time": "2025-08-19T03:04:05.794015Z",
     "start_time": "2025-08-19T03:04:04.995387Z"
    }
   },
   "outputs": [
    {
     "name": "stdout",
     "output_type": "stream",
     "text": [
      "\uc791\uc131\uc790 \uc778\ub371\uc2a4 \uad6c\ucd95 \uc644\ub8cc:\n",
      "  - Train writers: 180\n",
      "  - Val writers: 60\n",
      "  - Test writers: 60\n",
      "\u2713 \ud5ec\ud37c \ud568\uc218 \uc815\uc758 \uc644\ub8cc\n"
     ]
    }
   ],
   "source": [
    "# ==============================================================\n",
    "# Stage 2 Baseline: MIL Bags (50% Forgery), Minimal & Reproducible\n",
    "# ==============================================================\n",
    "\n",
    "# \uc791\uc131\uc790\ubcc4 \uc778\ub371\uc2a4 \uad6c\ucd95\n",
    "def build_writer_index(df, label_col, emb_cols):\n",
    "    w2 = {}\n",
    "    for wid, g in df.groupby(label_col):\n",
    "        w2[int(wid)] = {\n",
    "            'emb': g[emb_cols].to_numpy(dtype=np.float32),\n",
    "            'paths': g['path'].tolist() if 'path' in g.columns else [''] * len(g),\n",
    "            'idx': g.index.to_list()\n",
    "        }\n",
    "    return w2\n",
    "\n",
    "train_writers = build_writer_index(train_df, label_col, emb_cols)\n",
    "val_writers   = build_writer_index(val_df,   label_col, emb_cols)\n",
    "test_writers  = build_writer_index(test_df,  label_col, emb_cols)\n",
    "\n",
    "def list_writer_ids(wdict): \n",
    "    return list(wdict.keys())\n",
    "\n",
    "print(f\"\uc791\uc131\uc790 \uc778\ub371\uc2a4 \uad6c\ucd95 \uc644\ub8cc:\")\n",
    "print(f\"  - Train writers: {len(train_writers)}\")\n",
    "print(f\"  - Val writers: {len(val_writers)}\")\n",
    "print(f\"  - Test writers: {len(test_writers)}\")\n",
    "\n",
    "# \uc0d8\ud50c\ub9c1 \ud5ec\ud37c \ud568\uc218\ub4e4\n",
    "def sample_k(n, k, rng, replace_if_needed=True):\n",
    "    \"\"\"n\uac1c \uc911\uc5d0\uc11c k\uac1c \uc0d8\ud50c\ub9c1 (\ubd80\uc871\ud558\uba74 \uc911\ubcf5 \ud5c8\uc6a9)\"\"\"\n",
    "    if (not replace_if_needed) and n >= k:\n",
    "        return rng.choice(n, size=k, replace=False).tolist()\n",
    "    # \ubd80\uc871\ud558\uba74 \uc911\ubcf5 \ud5c8\uc6a9\n",
    "    return rng.choice(n, size=k, replace=True).tolist()\n",
    "\n",
    "def sliding_windows(seq, win=5, stride=1):\n",
    "    \"\"\"\uc2ac\ub77c\uc774\ub529 \uc708\ub3c4\uc6b0\ub85c \uc2dc\ud000\uc2a4 \ubd84\ud560\"\"\"\n",
    "    # seq: list of tuples (emb, wid, path, orig_idx)\n",
    "    windows, metas = [], []\n",
    "    for i in range(0, len(seq) - win + 1, stride):\n",
    "        chunk = seq[i:i+win]\n",
    "        windows.append(np.stack([e for (e,_,_,_) in chunk], axis=0))  # (5, D)\n",
    "        metas.append({\n",
    "            'window_idx': i,\n",
    "            'word_indices': [oi for (_,_,_,oi) in chunk],\n",
    "            'word_paths':   [p  for (_,_,p, _) in chunk],\n",
    "            'writer_ids':   [w  for (_,w,_, _) in chunk],\n",
    "        })\n",
    "    return windows, metas\n",
    "\n",
    "def pack(words, wid, W):\n",
    "    \"\"\"\ub2e8\uc5b4 \uc778\ub371\uc2a4\ub97c \uc784\ubca0\ub529 \ud29c\ud50c\ub85c \ubcc0\ud658\"\"\"\n",
    "    emb, paths, idxs = W['emb'], W['paths'], W['idx']\n",
    "    return [(emb[w], wid, paths[w], idxs[w]) for w in words]\n",
    "\n",
    "print(\"\u2713 \ud5ec\ud37c \ud568\uc218 \uc815\uc758 \uc644\ub8cc\")"
   ]
  },
  {
   "cell_type": "code",
   "execution_count": null,
   "id": "hu8mulwsryd",
   "metadata": {
    "ExecuteTime": {
     "end_time": "2025-08-19T03:04:05.806339Z",
     "start_time": "2025-08-19T03:04:05.797159Z"
    }
   },
   "outputs": [],
   "source": "# Bag \uc0dd\uc131 \ud568\uc218 (\uac1c\uc120\ub41c \ubca0\uc774\uc2a4\ub77c\uc778 - \uc21c\uc218 \uc708\ub3c4\uc6b0)\nWIN = 5; STRIDE = 1; INSTANCES_PER_BAG = 10\nTOK_NEG = 14; TOK_POS_A = 7; TOK_POS_B = 7\n\ndef make_negative_bag(wid, W, rng):\n    \"\"\"\ub2e8\uc77c \uc791\uc131\uc790 Bag (\ub808\uc774\ube14 0)\"\"\"\n    emb, paths, idxs = W['emb'], W['paths'], W['idx']\n    sel = sample_k(len(emb), TOK_NEG, rng, replace_if_needed=True)\n    seq = pack(sel, wid, W)\n    wins, metas = sliding_windows(seq, WIN, STRIDE)\n    bag = np.stack(wins[:INSTANCES_PER_BAG], axis=0)  # (10, 5, D)\n    return bag, metas[:INSTANCES_PER_BAG], [int(wid)]\n\n# === (NEW) \ud55c \uc791\uc131\uc790 \uc804\uc6a9 \uc708\ub3c4\uc6b0 \uc0dd\uc131 \ud5ec\ud37c ==========================\ndef make_pure_windows_for_writer(wid, W, rng, tokens_per_writer=14, win=5, stride=1):\n    \"\"\"\n    \ud55c \uc791\uc131\uc790 wid\uc758 \uc784\ubca0\ub529\uc5d0\uc11c tokens_per_writer\uac1c\ub97c \ubf51\uc544\n    \uc2ac\ub77c\uc774\ub529 \uc708\ub3c4\uc6b0(win,stride)\ub85c '\uc21c\uc218(single-writer) \uc708\ub3c4\uc6b0' \ub9ac\uc2a4\ud2b8\ub97c \ub9cc\ub4e0\ub2e4.\n    \ubc18\ud658: (windows, metas)\n      - windows: List[np.ndarray (win, D)]\n      - metas  : List[dict] (writer_ids\uac00 \ubaa8\ub450 wid\ub85c \ucc44\uc6cc\uc9d0)\n    \"\"\"\n    emb, paths, idxs = W['emb'], W['paths'], W['idx']\n    # \ub370\uc774\ud130\uac00 \ubd80\uc871\ud558\uba74 replace=True\ub85c \ubcf4\uc644(\ud604 \uc0d8\ud50c\ub7ec \uaddc\uc57d \uc720\uc9c0)\n    sel = sample_k(len(emb), tokens_per_writer, rng, replace_if_needed=True)\n    seq = pack(sel, wid, W)                  # [(emb, wid, path, orig_idx), ...]\n    wins, metas = sliding_windows(seq, win, stride)\n    return wins, metas\n\n# === (REPLACE) Positive bag \uc0dd\uc131 \ub85c\uc9c1: \uc21c\uc218 \uc708\ub3c4\uc6b0\ub9cc\uc73c\ub85c \uad6c\uc131 ==========\ndef make_positive_bag(widA, widB, WA, WB, rng,\n                      tokens_per_writer=14,  # A/B \uac01\uac01\uc5d0\uc11c \ubf51\uc744 \ud1a0\ud070 \uc218 (14\uba74 \uc5ec\uc720\uc788\uac8c 10\uc708\ub3c4\uc6b0 \uc0dd\uc131)\n                      inst_from_A=5, inst_from_B=5,\n                      order='A5B5'           # 'A5B5' | 'ABAB' | 'shuffle'\n                      ):\n    \"\"\"\n    \ubaa9\ud45c: \ud55c \uc708\ub3c4\uc6b0\uc5d0 \ud56d\uc0c1 \ud55c \uba85\uc758 \uc791\uc131\uc790\ub9cc \ud3ec\ud568.\n    \uc808\ucc28: A \uc804\uc6a9 \uc708\ub3c4\uc6b0 K\uac1c + B \uc804\uc6a9 \uc708\ub3c4\uc6b0 K\uac1c \uc0dd\uc131 \u2192 5\uac1c\uc529 \uace8\ub77c 10\uac1c\ub85c bag \uad6c\uc131.\n    \"\"\"\n    # 1) A/B \uc804\uc6a9 \uc21c\uc218 \uc708\ub3c4\uc6b0 \uc0dd\uc131\n    winA, metaA = make_pure_windows_for_writer(widA, WA, rng,\n                                               tokens_per_writer=tokens_per_writer,\n                                               win=WIN, stride=STRIDE)\n    winB, metaB = make_pure_windows_for_writer(widB, WB, rng,\n                                               tokens_per_writer=tokens_per_writer,\n                                               win=WIN, stride=STRIDE)\n    # 2) \uac01 \ucabd\uc5d0\uc11c inst_from_*\uac1c \uc120\ud0dd (\uc708\ub3c4\uc6b0\uac00 \ubd80\uc871\ud558\uba74 replace\ub85c \ubcf4\uc644)\n    def pick_k(wins, metas, k):\n        if len(wins) >= k:\n            idx = rng.choice(len(wins), size=k, replace=False)\n        else:\n            # \ubd80\uc871\ud558\uba74 \uc911\ubcf5 \ud5c8\uc6a9(\ub3d9\uc77c \uc708\ub3c4\uc6b0 \uc7ac\uc0ac\uc6a9) \u2014 \ub370\uc774\ud130\uac00 \uc801\uc740 \uc791\uc131\uc790\ub97c \ubcf4\ud638\n            idx = rng.choice(len(wins), size=k, replace=True)\n        return [wins[i] for i in idx], [metas[i] for i in idx]\n\n    pickA_w, pickA_m = pick_k(winA, metaA, inst_from_A)\n    pickB_w, pickB_m = pick_k(winB, metaB, inst_from_B)\n\n    # 3) \uc21c\uc11c \uad6c\uc131\n    if order == 'A5B5':\n        seq_w = pickA_w + pickB_w\n        seq_m = pickA_m + pickB_m\n    elif order == 'ABAB':\n        seq_w, seq_m = [], []\n        z = min(inst_from_A, inst_from_B)\n        for i in range(z):\n            seq_w.extend([pickA_w[i], pickB_w[i]])\n            seq_m.extend([pickA_m[i], pickB_m[i]])\n        # \ub0a8\ub294 \ucabd\uc774 \uc788\ub2e4\uba74 \ub4a4\uc5d0 \ubd99\uc784\n        if inst_from_A > z:\n            seq_w.extend(pickA_w[z:]); seq_m.extend(pickA_m[z:])\n        if inst_from_B > z:\n            seq_w.extend(pickB_w[z:]); seq_m.extend(pickB_m[z:])\n    else:  # 'shuffle'\n        combined = list(zip(pickA_w + pickB_w, pickA_m + pickB_m))\n        rng.shuffle(combined)\n        seq_w = [w for (w, _) in combined]\n        seq_m = [m for (_, m) in combined]\n\n    # 4) \ucd5c\uc885 10\uac1c\ub85c \ud2b8\ub9bc(\ud639\uc5ec \ucd08\uacfc\ub418\uba74)\n    seq_w = seq_w[:INSTANCES_PER_BAG]\n    seq_m = seq_m[:INSTANCES_PER_BAG]\n\n    # 5) Stack & return\n    bag_tensor = np.stack(seq_w, axis=0)  # (10, 5, D)\n    return bag_tensor, seq_m, [int(widA), int(widB)]\n\nprint(\"\u2713 Bag \uc0dd\uc131 \ud568\uc218 \uc815\uc758 \uc644\ub8cc (\uc21c\uc218 \uc708\ub3c4\uc6b0 \ubc84\uc804)\")\nprint(f\"  - Negative: {TOK_NEG}\uac1c \ub2e8\uc5b4 \u2192 {INSTANCES_PER_BAG}\uac1c \uc778\uc2a4\ud134\uc2a4\")\nprint(f\"  - Positive: A/B \uac01\uac01 \uc21c\uc218 \uc708\ub3c4\uc6b0 \uc0dd\uc131 \u2192 A5B5 \ubc30\uce58 (\uae30\ubcf8)\")\nprint(f\"  - \uc708\ub3c4\uc6b0: (win={WIN}, stride={STRIDE})\")\nprint(f\"  - \uac01 \uc708\ub3c4\uc6b0\ub294 \ub2e8\uc77c \uc791\uc131\uc790\ub9cc \ud3ec\ud568!\")"
  },
  {
   "cell_type": "code",
   "execution_count": 5,
   "id": "7fmruxme0xt",
   "metadata": {
    "ExecuteTime": {
     "end_time": "2025-08-19T03:04:05.818150Z",
     "start_time": "2025-08-19T03:04:05.808353Z"
    }
   },
   "outputs": [
    {
     "name": "stdout",
     "output_type": "stream",
     "text": [
      "\u2713 Split \uc0dd\uc131 \ud568\uc218 \uc815\uc758 \uc644\ub8cc\n"
     ]
    }
   ],
   "source": [
    "# Split \uc0dd\uc131 \ud568\uc218\n",
    "def generate_split(name, WDICT, neg_per_writer=10, pos_per_writer=10, seed=42):\n",
    "    \"\"\"\uac04\ub2e8\ud55c \ubca0\uc774\uc2a4\ub77c\uc778 split \uc0dd\uc131 (50/50 \uade0\ud615)\"\"\"\n",
    "    rng = np.random.default_rng(seed)\n",
    "    writer_ids = list_writer_ids(WDICT)\n",
    "    bags, labels, metadata = [], [], []\n",
    "    \n",
    "    print(f\"  {name} split \uc0dd\uc131 \uc911... (Writers: {len(writer_ids)})\")\n",
    "    \n",
    "    # Negative bags (\ub2e8\uc77c \uc791\uc131\uc790)\n",
    "    for wid in writer_ids:\n",
    "        for _ in range(neg_per_writer):\n",
    "            bag, metas, authors = make_negative_bag(wid, WDICT[wid], rng)\n",
    "            bags.append(bag)\n",
    "            labels.append(0)\n",
    "            metadata.append({\n",
    "                'authors': authors, \n",
    "                'bag_type': 'negative',\n",
    "                'instances': metas\n",
    "            })\n",
    "    \n",
    "    # Positive bags (\ubcf5\uc218 \uc791\uc131\uc790, \uac01 A\ub2f9 pos_per_writer\uac1c, \ud30c\ud2b8\ub108\ub294 \ub79c\ub364)\n",
    "    for widA in writer_ids:\n",
    "        for _ in range(pos_per_writer):\n",
    "            widB = rng.choice([w for w in writer_ids if w != widA])\n",
    "            bag, metas, authors = make_positive_bag(widA, widB, WDICT[widA], WDICT[widB], rng)\n",
    "            bags.append(bag)\n",
    "            labels.append(1)\n",
    "            metadata.append({\n",
    "                'authors': authors, \n",
    "                'bag_type': 'positive',\n",
    "                'instances': metas\n",
    "            })\n",
    "    \n",
    "    # \uc804\uccb4 \uc154\ud50c\n",
    "    idx = rng.permutation(len(labels))\n",
    "    bags = [bags[i] for i in idx]\n",
    "    labels = [int(labels[i]) for i in idx]\n",
    "    metadata = [metadata[i] for i in idx]\n",
    "    \n",
    "    # \uc694\uc57d \ucd9c\ub825\n",
    "    n_pos = sum(labels)\n",
    "    n_tot = len(labels)\n",
    "    print(f\"    \u2192 Total: {n_tot}, Positive: {n_pos} ({n_pos/n_tot*100:.1f}%), Negative: {n_tot-n_pos}\")\n",
    "    \n",
    "    # \uac04\ub2e8 \uac80\uc99d\n",
    "    assert len(bags) == len(labels) == len(metadata), \"Length mismatch\"\n",
    "    assert bags[0].shape == (INSTANCES_PER_BAG, WIN, embed_dim), f\"Shape mismatch: {bags[0].shape}\"\n",
    "    \n",
    "    return bags, labels, metadata\n",
    "\n",
    "print(\"\u2713 Split \uc0dd\uc131 \ud568\uc218 \uc815\uc758 \uc644\ub8cc\")"
   ]
  },
  {
   "cell_type": "code",
   "execution_count": 6,
   "id": "68rg6jgcskq",
   "metadata": {
    "ExecuteTime": {
     "end_time": "2025-08-19T03:04:08.927779Z",
     "start_time": "2025-08-19T03:04:05.819908Z"
    }
   },
   "outputs": [
    {
     "name": "stdout",
     "output_type": "stream",
     "text": [
      "\ud83d\udd04 \ubca0\uc774\uc2a4\ub77c\uc778 Bags \uc0dd\uc131 \uc2dc\uc791...\n",
      "\uc124\uc815: Negative=10/writer, Positive=10/writer\n",
      "  Train split \uc0dd\uc131 \uc911... (Writers: 180)\n",
      "    \u2192 Total: 3600, Positive: 1800 (50.0%), Negative: 1800\n",
      "  Val split \uc0dd\uc131 \uc911... (Writers: 60)\n",
      "    \u2192 Total: 1200, Positive: 600 (50.0%), Negative: 600\n",
      "  Test split \uc0dd\uc131 \uc911... (Writers: 60)\n",
      "    \u2192 Total: 1200, Positive: 600 (50.0%), Negative: 600\n",
      "\\n\ud83d\udcbe \ud30c\uc77c \uc800\uc7a5 \uc911...\n",
      "\ud83d\udcbe \uc800\uc7a5: bags_arcface_margin_0.4_50p_baseline_train.pkl\n",
      "\u21aa\ufe0f  \ud638\ud658 \ubcf5\uc0ac: bags_arcface_margin_0.4_50p_random_train.pkl\n",
      "\ud83d\udcbe \uc800\uc7a5: bags_arcface_margin_0.4_50p_baseline_val.pkl\n",
      "\u21aa\ufe0f  \ud638\ud658 \ubcf5\uc0ac: bags_arcface_margin_0.4_50p_random_val.pkl\n",
      "\ud83d\udcbe \uc800\uc7a5: bags_arcface_margin_0.4_50p_baseline_test.pkl\n",
      "\u21aa\ufe0f  \ud638\ud658 \ubcf5\uc0ac: bags_arcface_margin_0.4_50p_random_test.pkl\n",
      "\\n\ud83d\udcca \ucd5c\uc885 \uc694\uc57d:\n",
      "Train: N=3600, Pos=1800 (50.0%), Neg=1800\n",
      "Val: N=1200, Pos=600 (50.0%), Neg=600\n",
      "Test: N=1200, Pos=600 (50.0%), Neg=600\n",
      "\\n\u2705 Stage 2 \ubca0\uc774\uc2a4\ub77c\uc778 \uc0dd\uc131 \uc644\ub8cc!\n",
      "\ud83d\udccb \ub808\uc774\ube14 \uc815\ubcf4:\n",
      "  - Label 0 (Negative): \ub2e8\uc77c \uc791\uc131\uc790 (\uc9c4\uc9dc)\n",
      "  - Label 1 (Positive): \ubcf5\uc218 \uc791\uc131\uc790 (\uc704\uc870)\n",
      "\ud83d\udd17 Stage 3\uc5d0\uc11c \uae30\uc874 \ud30c\uc77c\uba85\uc73c\ub85c \ub85c\ub4dc \uac00\ub2a5\n"
     ]
    }
   ],
   "source": [
    "# \ubca0\uc774\uc2a4\ub77c\uc778 Bag \uc0dd\uc131 \uc2e4\ud589\n",
    "NEG_PW = 10  # \uc791\uc131\uc790\ubcc4 negative bags\n",
    "POS_PW = 10  # \uc791\uc131\uc790\ubcc4 positive bags \u2192 \uc804\uccb4 \uc57d 50/50\n",
    "\n",
    "print(\"\ud83d\udd04 \ubca0\uc774\uc2a4\ub77c\uc778 Bags \uc0dd\uc131 \uc2dc\uc791...\")\n",
    "print(f\"\uc124\uc815: Negative={NEG_PW}/writer, Positive={POS_PW}/writer\")\n",
    "\n",
    "# \ubaa8\ub4e0 split \uc0dd\uc131\n",
    "train_bags, train_labels, train_meta = generate_split('Train', train_writers, NEG_PW, POS_PW, seed=SEED_BASE+0)\n",
    "val_bags,   val_labels,   val_meta   = generate_split('Val',   val_writers,   NEG_PW, POS_PW, seed=SEED_BASE+10)\n",
    "test_bags,  test_labels,  test_meta  = generate_split('Test',  test_writers,  NEG_PW, POS_PW, seed=SEED_BASE+20)\n",
    "\n",
    "# \uc800\uc7a5 \ud568\uc218\n",
    "def save_split(bags, labels, meta, tag, compat_copy=True):\n",
    "    base = os.path.join(bags_dir, f\"bags_arcface_margin_{margin_value}_50p_baseline_{tag}.pkl\")\n",
    "    with open(base, 'wb') as f:\n",
    "        pickle.dump({'bags': bags, 'labels': labels, 'metadata': meta}, f)\n",
    "    print(f\"\ud83d\udcbe \uc800\uc7a5: {os.path.basename(base)}\")\n",
    "    \n",
    "    if compat_copy:\n",
    "        # Stage3 \ud638\ud658\uc744 \uc704\ud55c \ubcf5\uc0ac\ubcf8 (\uae30\uc874 \ud30c\uc77c\uba85)\n",
    "        alias = os.path.join(bags_dir, f\"bags_arcface_margin_{margin_value}_50p_random_{tag}.pkl\")\n",
    "        with open(alias, 'wb') as f:\n",
    "            pickle.dump({'bags': bags, 'labels': labels, 'metadata': meta}, f)\n",
    "        print(f\"\u21aa\ufe0f  \ud638\ud658 \ubcf5\uc0ac: {os.path.basename(alias)}\")\n",
    "\n",
    "# \uc800\uc7a5 \uc2e4\ud589\n",
    "print(\"\\n\ud83d\udcbe \ud30c\uc77c \uc800\uc7a5 \uc911...\")\n",
    "save_split(train_bags, train_labels, train_meta, 'train', compat_copy=True)\n",
    "save_split(val_bags,   val_labels,   val_meta,   'val',   compat_copy=True)\n",
    "save_split(test_bags,  test_labels,  test_meta,  'test',  compat_copy=True)\n",
    "\n",
    "# \ucd5c\uc885 \uc694\uc57d\n",
    "def summarize(name, labels):\n",
    "    n = len(labels)\n",
    "    p = sum(labels)\n",
    "    print(f\"{name}: N={n}, Pos={p} ({p/n*100:.1f}%), Neg={n-p}\")\n",
    "\n",
    "print(\"\\n\ud83d\udcca \ucd5c\uc885 \uc694\uc57d:\")\n",
    "summarize('Train', train_labels)\n",
    "summarize('Val',   val_labels)\n",
    "summarize('Test',  test_labels)\n",
    "\n",
    "print(\"\\n\u2705 Stage 2 \ubca0\uc774\uc2a4\ub77c\uc778 \uc0dd\uc131 \uc644\ub8cc!\")\n",
    "print(\"\ud83d\udccb \ub808\uc774\ube14 \uc815\ubcf4:\")\n",
    "print(\"  - Label 0 (Negative): \ub2e8\uc77c \uc791\uc131\uc790 (\uc9c4\uc9dc)\")\n",
    "print(\"  - Label 1 (Positive): \ubcf5\uc218 \uc791\uc131\uc790 (\uc704\uc870)\")\n",
    "print(\"\ud83d\udd17 Stage 3\uc5d0\uc11c \uae30\uc874 \ud30c\uc77c\uba85\uc73c\ub85c \ub85c\ub4dc \uac00\ub2a5\")\n",
    "\n"
   ]
  },
  {
   "cell_type": "code",
   "execution_count": null,
   "id": "18cc7a15",
   "metadata": {
    "ExecuteTime": {
     "end_time": "2025-08-19T03:04:09.050264Z",
     "start_time": "2025-08-19T03:04:08.929792Z"
    }
   },
   "outputs": [],
   "source": "# \uac04\ub2e8\ud55c \uac80\uc99d \ubc0f \uc0d8\ud50c \ud655\uc778\n\n# \ub370\uc774\ud130 \ud0c0\uc785\uacfc \ud615\ud0dc \uac80\uc99d\nprint(\"\ud83d\udd0d \uc0dd\uc131\ub41c \ub370\uc774\ud130 \uac80\uc99d:\")\nprint(f\"  - Train bags shape: {np.array(train_bags).shape}\")\nprint(f\"  - Train labels \ubd84\ud3ec: {np.bincount(train_labels)}\")\nprint(f\"  - \uccab \ubc88\uc9f8 bag shape: {train_bags[0].shape}\")\nprint(f\"  - Embedding \ucc28\uc6d0: {train_bags[0].shape[2]}\")\n\n# \uc0d8\ud50c \uba54\ud0c0\ub370\uc774\ud130 \ud655\uc778\nprint(f\"\\n\ud83d\udccb \uc0d8\ud50c \uba54\ud0c0\ub370\uc774\ud130:\")\nneg_sample = next(meta for meta, label in zip(train_meta, train_labels) if label == 0)\npos_sample = next(meta for meta, label in zip(train_meta, train_labels) if label == 1)\n\nprint(f\"  Negative bag:\")\nprint(f\"    - Authors: {neg_sample['authors']} (\uac1c\uc218: {len(neg_sample['authors'])})\")\nprint(f\"    - Type: {neg_sample['bag_type']}\")\nprint(f\"    - Instances: {len(neg_sample['instances'])}\")\n\nprint(f\"  Positive bag:\")\nprint(f\"    - Authors: {pos_sample['authors']} (\uac1c\uc218: {len(pos_sample['authors'])})\")\nprint(f\"    - Type: {pos_sample['bag_type']}\")\nprint(f\"    - Instances: {len(pos_sample['instances'])}\")\n\n# \uc708\ub3c4\uc6b0 \uc21c\uc218\uc131 \uac80\uc99d (\ud575\uc2ec \uac1c\uc120\uc0ac\ud56d)\nprint(f\"\\n\ud83d\udd0d \uc708\ub3c4\uc6b0 \uc21c\uc218\uc131 \uac80\uc99d (Positive bag):\")\nfor i, inst in enumerate(pos_sample['instances'][:5]):  # \ucc98\uc74c 5\uac1c \uc778\uc2a4\ud134\uc2a4\ub9cc \ucd9c\ub825\n    writer_ids = inst['writer_ids']\n    unique_writers = len(set(writer_ids))\n    print(f\"    - \uc778\uc2a4\ud134\uc2a4 {i}: \uc791\uc131\uc790\ub4e4 {writer_ids} \u2192 \uace0\uc720 \uc791\uc131\uc790 \uc218: {unique_writers}\")\n    \n# \uc804\uccb4 Positive bag\uc758 \uc708\ub3c4\uc6b0 \uc21c\uc218\uc131 \ud1b5\uacc4\nprint(f\"\\n\ud83d\udcca \uc804\uccb4 Positive bags \uc708\ub3c4\uc6b0 \uc21c\uc218\uc131 \ud1b5\uacc4:\")\npure_windows = 0\nmixed_windows = 0\nfor meta, label in zip(train_meta[:100], train_labels[:100]):  # \ucc98\uc74c 100\uac1c bag\ub9cc \uac80\uc0ac\n    if label == 1:  # Positive bags\ub9cc\n        for inst in meta['instances']:\n            if len(set(inst['writer_ids'])) == 1:\n                pure_windows += 1\n            else:\n                mixed_windows += 1\n                \nprint(f\"  - \uc21c\uc218 \uc708\ub3c4\uc6b0 (\ub2e8\uc77c \uc791\uc131\uc790): {pure_windows}\")\nprint(f\"  - \ud63c\ud569 \uc708\ub3c4\uc6b0 (\ubcf5\uc218 \uc791\uc131\uc790): {mixed_windows}\")\nprint(f\"  - \uc21c\uc218\uc131 \ube44\uc728: {pure_windows/(pure_windows+mixed_windows)*100:.1f}%\")\n\nprint(f\"\\n\u2705 \ubaa8\ub4e0 \uac80\uc99d \ud1b5\uacfc - \uc21c\uc218 \uc708\ub3c4\uc6b0 \ubca0\uc774\uc2a4\ub77c\uc778 \ub370\uc774\ud130 \uc900\ube44 \uc644\ub8cc!\")\nprint(f\"\ud83d\ude80 Stage 3\uc5d0\uc11c AB-MIL \ud559\uc2b5\uc744 \uc9c4\ud589\ud560 \uc218 \uc788\uc2b5\ub2c8\ub2e4.\")"
  },
  {
   "cell_type": "code",
   "execution_count": null,
   "id": "365e8015",
   "metadata": {
    "ExecuteTime": {
     "end_time": "2025-08-19T03:04:09.106998Z",
     "start_time": "2025-08-19T03:04:09.052276Z"
    }
   },
   "outputs": [],
   "source": "# \ubca0\uc774\uc2a4\ub77c\uc778 \uc644\ub8cc - \uc21c\uc218 \uc708\ub3c4\uc6b0 \ubc84\uc804\n\nprint(\"=\" * 60)\nprint(\"\ud83c\udfaf Stage 2 \ubca0\uc774\uc2a4\ub77c\uc778 \uc644\ub8cc! (\uc21c\uc218 \uc708\ub3c4\uc6b0 \ubc84\uc804)\")\nprint(\"=\" * 60)\nprint(\"\u2705 \ud575\uc2ec \uac1c\uc120\uc0ac\ud56d:\")\nprint(\"  \u2022 Negative: \ub2e8\uc77c \uc791\uc131\uc790 14\uac1c \ub2e8\uc5b4 \u2192 10\uac1c \uc708\ub3c4\uc6b0 (\ubcc0\uacbd \uc5c6\uc74c)\")\nprint(\"  \u2022 Positive: A \uc804\uc6a9 5\uac1c + B \uc804\uc6a9 5\uac1c \uc708\ub3c4\uc6b0 (A5B5 \ubc30\uce58)\")\nprint(\"  \u2022 \uc708\ub3c4\uc6b0 \uc21c\uc218\uc131: 100% (\ubaa8\ub4e0 \uc708\ub3c4\uc6b0\uac00 \ub2e8\uc77c \uc791\uc131\uc790)\")\nprint(\"  \u2022 50/50 \uade0\ud615 \ubcf4\uc7a5\")\nprint()\nprint(\"\ud83c\udfaf \uac1c\uc120 \ud6a8\uacfc:\")\nprint(\"  \u2022 MIL \ud559\uc2b5 \uc548\uc815\uc131 \ud5a5\uc0c1\")\nprint(\"  \u2022 Attention \ud574\uc11d \uac00\ub2a5\uc131 \uc99d\ub300\")\nprint(\"  \u2022 \ub354 \uba85\ud655\ud55c \uc791\uc131\uc790 \ud074\ub7ec\uc2a4\ud130\ub9c1\")\nprint()\nprint(\"\ud83d\udcc1 \uc0dd\uc131\ub41c \ud30c\uc77c:\")\nprint(f\"  \u2022 bags_arcface_margin_{margin_value}_50p_baseline_*.pkl (\uc0c8 \uc774\ub984)\")\nprint(f\"  \u2022 bags_arcface_margin_{margin_value}_50p_random_*.pkl (Stage3 \ud638\ud658)\")\nprint()\nprint(\"\ud83d\ude80 \ub2e4\uc74c \ub2e8\uacc4: Stage 3\uc5d0\uc11c AB-MIL \ud559\uc2b5\")"
  }
 ],
 "metadata": {
  "kernelspec": {
   "display_name": "Python 3 (ipykernel)",
   "language": "python",
   "name": "python3"
  },
  "language_info": {
   "codemirror_mode": {
    "name": "ipython",
    "version": 3
   },
   "file_extension": ".py",
   "mimetype": "text/x-python",
   "name": "python",
   "nbconvert_exporter": "python",
   "pygments_lexer": "ipython3",
   "version": "3.8.15"
  },
  "toc": {
   "base_numbering": 1,
   "nav_menu": {},
   "number_sections": true,
   "sideBar": true,
   "skip_h1_title": false,
   "title_cell": "Table of Contents",
   "title_sidebar": "Contents",
   "toc_cell": false,
   "toc_position": {},
   "toc_section_display": true,
   "toc_window_display": false
  }
 },
 "nbformat": 4,
 "nbformat_minor": 5
}