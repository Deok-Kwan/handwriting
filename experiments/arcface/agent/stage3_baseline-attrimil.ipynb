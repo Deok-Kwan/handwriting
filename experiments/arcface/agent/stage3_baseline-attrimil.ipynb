{
 "cells": [
  {
   "cell_type": "markdown",
   "metadata": {},
   "source": [
    "# Stage 3 모델 비교 실험: AttriMIL vs Attention MIL vs Gated Attention MIL\n",
    "\n",
    "이 노트북은 Stage 2에서 생성한 MIL Bag 데이터를 입력으로 받아 세 가지 MIL 모델을 비교 실험합니다:\n",
    "1. **기본 Attention MIL**: 단순한 attention mechanism \n",
    "2. **Gated Attention MIL**: Gate를 통해 attention을 조절하는 모델\n",
    "3. **AttriMIL**: Multi-branch Attribute-aware MIL (클래스별 attention branch)\n",
    "\n",
    "**AttriMIL 핵심 특징:**\n",
    "- Multi-branch attribute scoring mechanism\n",
    "- 각 클래스별로 독립적인 attention branch\n",
    "- Gated attention mechanism 활용\n",
    "- Instance 속성을 더 정확하게 포착\n",
    "\n",
    "**실험 목표:**\n",
    "- AttriMIL의 multi-branch 구조 효과 검증\n",
    "- 클래스별 attention 패턴 분석\n",
    "- 기존 모델 대비 성능 향상 평가\n",
    "\n",
    "**References:**\n",
    "- AttriMIL: https://github.com/MedCAI/AttriMIL"
   ]
  },
  {
   "cell_type": "code",
   "execution_count": 1,
   "metadata": {
    "ExecuteTime": {
     "end_time": "2025-09-05T03:18:08.930469Z",
     "start_time": "2025-09-05T03:18:01.955183Z"
    }
   },
   "outputs": [
    {
     "name": "stdout",
     "output_type": "stream",
     "text": [
      "Using device: cuda\n",
      "GPU: NVIDIA GeForce RTX 3090\n",
      "🔒 모든 시드를 42로 고정완료\n"
     ]
    }
   ],
   "source": [
    "# 환경 설정\n",
    "import os\n",
    "import random\n",
    "import pickle\n",
    "import numpy as np\n",
    "import torch\n",
    "import torch.nn as nn\n",
    "import torch.nn.functional as F\n",
    "from torch.utils.data import Dataset, DataLoader\n",
    "from sklearn.metrics import accuracy_score, roc_auc_score, f1_score, roc_curve, confusion_matrix\n",
    "from tqdm import tqdm\n",
    "import matplotlib.pyplot as plt\n",
    "import seaborn as sns\n",
    "\n",
    "# GPU 설정\n",
    "os.environ['CUDA_DEVICE_ORDER'] = 'PCI_BUS_ID'\n",
    "os.environ['CUDA_VISIBLE_DEVICES'] = os.getenv('MIL_STAGE3_GPU', '3')\n",
    "\n",
    "device = torch.device('cuda' if torch.cuda.is_available() else 'cpu')\n",
    "print('Using device:', device)\n",
    "if device.type == 'cuda':\n",
    "    print('GPU:', torch.cuda.get_device_name(0))\n",
    "else:\n",
    "    print('CUDA를 사용할 수 없습니다. CPU 모드로 실행됩니다.')\n",
    "\n",
    "# 시드 고정 유틸리티 함수 추가\n",
    "def seed_everything(seed=42):\n",
    "    \"\"\"모든 난수 생성기 시드를 고정하는 함수\"\"\"\n",
    "    random.seed(seed)\n",
    "    np.random.seed(seed)\n",
    "    torch.manual_seed(seed)\n",
    "    if torch.cuda.is_available():\n",
    "        torch.cuda.manual_seed_all(seed)\n",
    "        torch.backends.cudnn.deterministic = True\n",
    "        torch.backends.cudnn.benchmark = False\n",
    "    print(f\"🔒 모든 시드를 {seed}로 고정완료\")\n",
    "\n",
    "# 초기 시드 고정\n",
    "seed_everything(42)"
   ]
  },
  {
   "cell_type": "code",
   "execution_count": 2,
   "metadata": {
    "ExecuteTime": {
     "end_time": "2025-09-05T03:18:09.921587Z",
     "start_time": "2025-09-05T03:18:08.935344Z"
    }
   },
   "outputs": [
    {
     "name": "stdout",
     "output_type": "stream",
     "text": [
      "Loading MIL bags...\n",
      "Train bags: 3600, Val bags: 1200, Test bags: 1200\n"
     ]
    }
   ],
   "source": [
    "# Stage 2 Bag 데이터 로드 및 Instance 평균 계산\n",
    "embedding_margin = '0.4'\n",
    "bags_dir = '/workspace/MIL/data/processed/bags'\n",
    "train_pkl = os.path.join(bags_dir, f'bags_arcface_margin_{embedding_margin}_50p_random_train.pkl')\n",
    "val_pkl   = os.path.join(bags_dir, f'bags_arcface_margin_{embedding_margin}_50p_random_val.pkl')\n",
    "test_pkl  = os.path.join(bags_dir, f'bags_arcface_margin_{embedding_margin}_50p_random_test.pkl')\n",
    "\n",
    "print('Loading MIL bags...')\n",
    "with open(train_pkl, 'rb') as f:\n",
    "    train_data = pickle.load(f)\n",
    "with open(val_pkl, 'rb') as f:\n",
    "    val_data = pickle.load(f)\n",
    "with open(test_pkl, 'rb') as f:\n",
    "    test_data = pickle.load(f)\n",
    "\n",
    "# Instance mean 계산: (10,5,256) → (10,256)\n",
    "def to_instance_means(bags):\n",
    "    return [bag.mean(axis=1).astype(np.float32) for bag in bags]\n",
    "\n",
    "train_features = to_instance_means(train_data['bags'])\n",
    "val_features   = to_instance_means(val_data['bags'])\n",
    "test_features  = to_instance_means(test_data['bags'])\n",
    "\n",
    "train_labels = train_data['labels']\n",
    "val_labels   = val_data['labels']\n",
    "test_labels  = test_data['labels']\n",
    "\n",
    "print(f'Train bags: {len(train_labels)}, Val bags: {len(val_labels)}, Test bags: {len(test_labels)}')"
   ]
  },
  {
   "cell_type": "code",
   "execution_count": 3,
   "metadata": {
    "ExecuteTime": {
     "end_time": "2025-09-05T03:18:09.929512Z",
     "start_time": "2025-09-05T03:18:09.924207Z"
    }
   },
   "outputs": [],
   "source": [
    "# Dataset 클래스 (on‑the‑fly Tensor 변환)\n",
    "\n",
    "class MILDataset(Dataset):\n",
    "    def __init__(self, features, labels):\n",
    "        self.features = features  # list of np.ndarray\n",
    "        self.labels = labels      # list of int\n",
    "    def __len__(self):\n",
    "        return len(self.labels)\n",
    "    def __getitem__(self, idx):\n",
    "        x = torch.tensor(self.features[idx], dtype=torch.float32)\n",
    "        y = torch.tensor(self.labels[idx], dtype=torch.float32)\n",
    "        return x, y\n",
    "\n",
    "batch_size = 16\n",
    "train_loader = DataLoader(MILDataset(train_features, train_labels), batch_size=batch_size, shuffle=True)\n",
    "val_loader   = DataLoader(MILDataset(val_features,   val_labels),   batch_size=batch_size, shuffle=False)\n",
    "test_loader  = DataLoader(MILDataset(test_features,  test_labels),  batch_size=batch_size, shuffle=False)"
   ]
  },
  {
   "cell_type": "code",
   "execution_count": 4,
   "metadata": {
    "ExecuteTime": {
     "end_time": "2025-09-05T03:18:09.937610Z",
     "start_time": "2025-09-05T03:18:09.932438Z"
    }
   },
   "outputs": [
    {
     "name": "stdout",
     "output_type": "stream",
     "text": [
      "✅ WeightedBCE 손실함수 클래스 정의 완료\n",
      "   FP Weight: 2.0 (baseline과 동일)\n"
     ]
    }
   ],
   "source": [
    "# WeightedBCE 손실함수 정의 (baseline과 동일한 설정)\n",
    "\n",
    "class WeightedBCE(nn.Module):\n",
    "    \"\"\"Weighted Binary Cross Entropy Loss - False Positive에 더 큰 가중치 부여\"\"\"\n",
    "    def __init__(self, fp_weight=2.0):\n",
    "        super().__init__()\n",
    "        self.fp_weight = fp_weight\n",
    "        self.bce = nn.BCEWithLogitsLoss(reduction='none')\n",
    "    \n",
    "    def forward(self, logits, labels):\n",
    "        loss = self.bce(logits, labels)\n",
    "        # False Positive (label=0인데 예측이 1)에 더 큰 가중치\n",
    "        fp_mask = (labels == 0).float()\n",
    "        loss = loss * (1 + self.fp_weight * fp_mask)\n",
    "        return loss.mean()\n",
    "\n",
    "print(\"✅ WeightedBCE 손실함수 클래스 정의 완료\")\n",
    "print(f\"   FP Weight: 2.0 (baseline과 동일)\")"
   ]
  },
  {
   "cell_type": "code",
   "execution_count": 5,
   "metadata": {
    "ExecuteTime": {
     "end_time": "2025-09-05T03:18:09.954745Z",
     "start_time": "2025-09-05T03:18:09.939287Z"
    }
   },
   "outputs": [
    {
     "name": "stdout",
     "output_type": "stream",
     "text": [
      "✅ AttriMIL 모델 클래스 정의 완료:\n",
      "  - Multi-branch attribute scoring mechanism\n",
      "  - 클래스별 독립적인 attention branch\n",
      "  - Gated attention mechanism\n",
      "  - Instance-level classifiers\n"
     ]
    }
   ],
   "source": [
    "# AttriMIL 모델 구현\n",
    "\n",
    "class AttentionGated(nn.Module):\n",
    "    \"\"\"Gated Attention Network for AttriMIL\"\"\"\n",
    "    def __init__(self, input_dim, hidden_dim=128):\n",
    "        super().__init__()\n",
    "        self.attention_a = nn.Sequential(\n",
    "            nn.Linear(input_dim, hidden_dim),\n",
    "            nn.Tanh()\n",
    "        )\n",
    "        self.attention_b = nn.Sequential(\n",
    "            nn.Linear(input_dim, hidden_dim),\n",
    "            nn.Sigmoid()\n",
    "        )\n",
    "        self.attention_c = nn.Linear(hidden_dim, 1)\n",
    "    \n",
    "    def forward(self, x):\n",
    "        a = self.attention_a(x)\n",
    "        b = self.attention_b(x)\n",
    "        A = a.mul(b)\n",
    "        A = self.attention_c(A)  # (B, N, 1)\n",
    "        return A\n",
    "\n",
    "class AttriMIL(nn.Module):\n",
    "    \"\"\"Attribute-aware Multiple Instance Learning\n",
    "    \n",
    "    Multi-branch attribute scoring mechanism으로 각 클래스별로\n",
    "    독립적인 attention branch를 사용하여 instance의 속성을 정확하게 파악\n",
    "    \n",
    "    References:\n",
    "        - https://github.com/MedCAI/AttriMIL\n",
    "    \"\"\"\n",
    "    def __init__(self, input_dim=256, hidden_dim=128, n_classes=2, dropout_p=0.1):\n",
    "        super().__init__()\n",
    "        self.input_dim = input_dim\n",
    "        self.hidden_dim = hidden_dim\n",
    "        self.n_classes = n_classes\n",
    "        \n",
    "        # Feature transformation (adaptor)\n",
    "        self.adaptor = nn.Sequential(\n",
    "            nn.Linear(input_dim, hidden_dim),\n",
    "            nn.ReLU(),\n",
    "            nn.Dropout(dropout_p)\n",
    "        )\n",
    "        \n",
    "        # Multi-branch attention networks (one per class)\n",
    "        self.attention_branches = nn.ModuleList([\n",
    "            AttentionGated(hidden_dim, hidden_dim//2) for _ in range(n_classes)\n",
    "        ])\n",
    "        \n",
    "        # Instance-level classifiers (one per class)\n",
    "        self.instance_classifiers = nn.ModuleList([\n",
    "            nn.Linear(hidden_dim, 1) for _ in range(n_classes)\n",
    "        ])\n",
    "        \n",
    "        # Learnable bias parameter for each class\n",
    "        self.bias = nn.Parameter(torch.zeros(n_classes))\n",
    "        \n",
    "        # Dropout\n",
    "        self.dropout = nn.Dropout(dropout_p)\n",
    "        \n",
    "        self._init_weights()\n",
    "    \n",
    "    def _init_weights(self):\n",
    "        # Initialize weights using Xavier initialization\n",
    "        for module in self.modules():\n",
    "            if isinstance(module, nn.Linear):\n",
    "                nn.init.xavier_uniform_(module.weight)\n",
    "                if module.bias is not None:\n",
    "                    nn.init.zeros_(module.bias)\n",
    "    \n",
    "    def forward(self, x, return_features=False):\n",
    "        # x: (B, N, input_dim)\n",
    "        batch_size = x.size(0)\n",
    "        \n",
    "        # Feature transformation\n",
    "        h = self.adaptor(x)  # (B, N, hidden_dim)\n",
    "        \n",
    "        # Multi-branch attribute scoring\n",
    "        all_scores = []\n",
    "        all_attention = []\n",
    "        \n",
    "        for c in range(self.n_classes):\n",
    "            # Compute attention weights for class c\n",
    "            A_c = self.attention_branches[c](h)  # (B, N, 1)\n",
    "            A_c = torch.transpose(A_c, 1, 2)  # (B, 1, N)\n",
    "            A_c = F.softmax(A_c, dim=2)  # (B, 1, N)\n",
    "            \n",
    "            # Instance-level predictions for class c\n",
    "            instance_scores = self.instance_classifiers[c](h)  # (B, N, 1)\n",
    "            instance_scores = torch.transpose(instance_scores, 1, 2)  # (B, 1, N)\n",
    "            \n",
    "            # Attribute score: weighted sum of instance scores\n",
    "            # This represents how much the bag exhibits attributes of class c\n",
    "            attribute_score = torch.matmul(A_c, torch.transpose(instance_scores, 1, 2))  # (B, 1, 1)\n",
    "            attribute_score = attribute_score.squeeze()  # (B,)\n",
    "            \n",
    "            all_scores.append(attribute_score)\n",
    "            all_attention.append(A_c.squeeze(1))  # (B, N)\n",
    "        \n",
    "        # Stack scores for all classes\n",
    "        logits = torch.stack(all_scores, dim=1)  # (B, n_classes)\n",
    "        \n",
    "        # Add learnable bias\n",
    "        logits = logits + self.bias\n",
    "        \n",
    "        # For binary classification, extract single logit\n",
    "        if self.n_classes == 2:\n",
    "            # Use difference between positive and negative class scores\n",
    "            binary_logit = logits[:, 1] - logits[:, 0]  # (B,)\n",
    "            \n",
    "            # Average attention from both branches for visualization\n",
    "            avg_attention = torch.stack(all_attention, dim=0).mean(dim=0)  # (B, N)\n",
    "            \n",
    "            if return_features:\n",
    "                return binary_logit, avg_attention, all_attention\n",
    "            return binary_logit, avg_attention\n",
    "        else:\n",
    "            # Multi-class: return all logits\n",
    "            return logits, all_attention\n",
    "\n",
    "print(\"✅ AttriMIL 모델 클래스 정의 완료:\")\n",
    "print(\"  - Multi-branch attribute scoring mechanism\")\n",
    "print(\"  - 클래스별 독립적인 attention branch\")\n",
    "print(\"  - Gated attention mechanism\")\n",
    "print(\"  - Instance-level classifiers\")"
   ]
  },
  {
   "cell_type": "code",
   "execution_count": 6,
   "metadata": {
    "ExecuteTime": {
     "end_time": "2025-09-05T03:18:09.971351Z",
     "start_time": "2025-09-05T03:18:09.957016Z"
    }
   },
   "outputs": [
    {
     "name": "stdout",
     "output_type": "stream",
     "text": [
      "✅ 비교 모델 클래스 정의 완료:\n",
      "  - AttentionMIL: 기본 attention mechanism\n",
      "  - GatedAttentionMIL: Gate로 조절되는 attention mechanism\n"
     ]
    }
   ],
   "source": [
    "# 기존 모델들 정의 (비교를 위해)\n",
    "\n",
    "class AttentionMIL(nn.Module):\n",
    "    \"\"\"기본 Attention-based MIL 모델\"\"\"\n",
    "    def __init__(self, input_dim=256, hidden_dim=128, dropout_p=0.1):\n",
    "        super().__init__()\n",
    "        self.input_dim = input_dim\n",
    "        self.hidden_dim = hidden_dim\n",
    "        \n",
    "        # Instance-level feature transformation\n",
    "        self.instance_fc = nn.Linear(input_dim, hidden_dim)\n",
    "        self.dropout = nn.Dropout(dropout_p)\n",
    "        \n",
    "        # Attention mechanism\n",
    "        self.att_fc1 = nn.Linear(hidden_dim, hidden_dim)\n",
    "        self.att_fc2 = nn.Linear(hidden_dim, 1)\n",
    "        \n",
    "        # Classifier\n",
    "        self.classifier = nn.Linear(hidden_dim, 1)\n",
    "        self._init_weights()\n",
    "    \n",
    "    def _init_weights(self):\n",
    "        nn.init.kaiming_uniform_(self.instance_fc.weight, nonlinearity='relu')\n",
    "        nn.init.zeros_(self.instance_fc.bias)\n",
    "        nn.init.xavier_uniform_(self.att_fc1.weight)\n",
    "        nn.init.zeros_(self.att_fc1.bias)\n",
    "        nn.init.xavier_uniform_(self.att_fc2.weight)\n",
    "        nn.init.zeros_(self.att_fc2.bias)\n",
    "        nn.init.xavier_uniform_(self.classifier.weight)\n",
    "        nn.init.zeros_(self.classifier.bias)\n",
    "    \n",
    "    def forward(self, x):\n",
    "        h = torch.relu(self.instance_fc(x))\n",
    "        h = self.dropout(h)\n",
    "        \n",
    "        a = torch.tanh(self.att_fc1(h))\n",
    "        a = self.att_fc2(a).squeeze(-1)\n",
    "        weights = torch.softmax(a, dim=1)\n",
    "        \n",
    "        bag_repr = torch.sum(weights.unsqueeze(-1) * h, dim=1)\n",
    "        bag_repr = self.dropout(bag_repr)\n",
    "        \n",
    "        logits = self.classifier(bag_repr).squeeze(-1)\n",
    "        return logits, weights\n",
    "\n",
    "class GatedAttentionMIL(nn.Module):\n",
    "    \"\"\"Gated Attention MIL 모델\"\"\"\n",
    "    def __init__(self, input_dim=256, hidden_dim=128, dropout_p=0.1):\n",
    "        super().__init__()\n",
    "        self.input_dim = input_dim\n",
    "        self.hidden_dim = hidden_dim\n",
    "        \n",
    "        self.instance_fc = nn.Linear(input_dim, hidden_dim)\n",
    "        self.dropout = nn.Dropout(dropout_p)\n",
    "        \n",
    "        self.attention_fc1 = nn.Linear(hidden_dim, hidden_dim)\n",
    "        self.attention_fc2 = nn.Linear(hidden_dim, 1)\n",
    "        \n",
    "        self.gate_fc1 = nn.Linear(hidden_dim, hidden_dim)\n",
    "        self.gate_fc2 = nn.Linear(hidden_dim, 1)\n",
    "        \n",
    "        self.classifier = nn.Linear(hidden_dim, 1)\n",
    "        self._init_weights()\n",
    "    \n",
    "    def _init_weights(self):\n",
    "        nn.init.kaiming_uniform_(self.instance_fc.weight, nonlinearity='relu')\n",
    "        nn.init.zeros_(self.instance_fc.bias)\n",
    "        nn.init.xavier_uniform_(self.attention_fc1.weight)\n",
    "        nn.init.zeros_(self.attention_fc1.bias)\n",
    "        nn.init.xavier_uniform_(self.attention_fc2.weight)\n",
    "        nn.init.zeros_(self.attention_fc2.bias)\n",
    "        nn.init.xavier_uniform_(self.gate_fc1.weight)\n",
    "        nn.init.zeros_(self.gate_fc1.bias)\n",
    "        nn.init.xavier_uniform_(self.gate_fc2.weight)\n",
    "        nn.init.zeros_(self.gate_fc2.bias)\n",
    "        nn.init.xavier_uniform_(self.classifier.weight)\n",
    "        nn.init.zeros_(self.classifier.bias)\n",
    "    \n",
    "    def forward(self, x):\n",
    "        h = torch.relu(self.instance_fc(x))\n",
    "        h = self.dropout(h)\n",
    "        \n",
    "        attention = torch.tanh(self.attention_fc1(h))\n",
    "        attention_scores = self.attention_fc2(attention)\n",
    "        \n",
    "        gate = torch.tanh(self.gate_fc1(h))\n",
    "        gate_scores = torch.sigmoid(self.gate_fc2(gate))\n",
    "        \n",
    "        gated_attention = attention_scores * gate_scores\n",
    "        gated_attention = gated_attention.squeeze(-1)\n",
    "        \n",
    "        weights = torch.softmax(gated_attention, dim=1)\n",
    "        \n",
    "        bag_repr = torch.sum(weights.unsqueeze(-1) * h, dim=1)\n",
    "        bag_repr = self.dropout(bag_repr)\n",
    "        \n",
    "        logits = self.classifier(bag_repr).squeeze(-1)\n",
    "        return logits, weights\n",
    "\n",
    "print(\"✅ 비교 모델 클래스 정의 완료:\")\n",
    "print(\"  - AttentionMIL: 기본 attention mechanism\")\n",
    "print(\"  - GatedAttentionMIL: Gate로 조절되는 attention mechanism\")"
   ]
  },
  {
   "cell_type": "code",
   "execution_count": 7,
   "metadata": {
    "ExecuteTime": {
     "end_time": "2025-09-05T03:18:09.990558Z",
     "start_time": "2025-09-05T03:18:09.973878Z"
    }
   },
   "outputs": [
    {
     "name": "stdout",
     "output_type": "stream",
     "text": [
      "✅ 학습/평가 함수 정의 완료\n"
     ]
    }
   ],
   "source": [
    "# 모델 학습 및 평가 함수\n",
    "\n",
    "def is_attention_model(model):\n",
    "    \"\"\"Attention 기반 모델인지 확인\"\"\"\n",
    "    return isinstance(model, (AttentionMIL, GatedAttentionMIL, AttriMIL))\n",
    "\n",
    "def train_one_epoch(model, optimizer, loader, criterion):\n",
    "    model.train()\n",
    "    total_loss = 0.0\n",
    "    preds_all = []\n",
    "    labels_all = []\n",
    "    \n",
    "    for X, y in tqdm(loader, desc='Train', leave=False):\n",
    "        X, y = X.to(device), y.to(device)\n",
    "        optimizer.zero_grad()\n",
    "        \n",
    "        if is_attention_model(model):\n",
    "            logits, _ = model(X)\n",
    "        else:\n",
    "            logits = model(X)\n",
    "            \n",
    "        loss = criterion(logits, y)\n",
    "        loss.backward()\n",
    "        torch.nn.utils.clip_grad_norm_(model.parameters(), max_norm=1.0)\n",
    "        optimizer.step()\n",
    "        \n",
    "        total_loss += loss.item() * y.size(0)\n",
    "        preds = (torch.sigmoid(logits) >= 0.5).float()\n",
    "        preds_all.extend(preds.cpu().numpy())\n",
    "        labels_all.extend(y.cpu().numpy())\n",
    "    \n",
    "    return total_loss / len(loader.dataset), accuracy_score(labels_all, preds_all)\n",
    "\n",
    "def evaluate(model, loader, criterion):\n",
    "    model.eval()\n",
    "    total_loss = 0.0\n",
    "    probs_all = []\n",
    "    preds_all = []\n",
    "    labels_all = []\n",
    "    attention_weights_all = []\n",
    "    \n",
    "    with torch.no_grad():\n",
    "        for X, y in tqdm(loader, desc='Eval', leave=False):\n",
    "            X, y = X.to(device), y.to(device)\n",
    "            \n",
    "            if is_attention_model(model):\n",
    "                logits, attention_weights = model(X)\n",
    "                attention_weights_all.append(attention_weights.cpu().numpy())\n",
    "            else:\n",
    "                logits = model(X)\n",
    "                \n",
    "            loss = criterion(logits, y)\n",
    "            total_loss += loss.item() * y.size(0)\n",
    "            \n",
    "            probs = torch.sigmoid(logits)\n",
    "            preds = (probs >= 0.5).float()\n",
    "            \n",
    "            probs_all.extend(probs.cpu().numpy())\n",
    "            preds_all.extend(preds.cpu().numpy())\n",
    "            labels_all.extend(y.cpu().numpy())\n",
    "    \n",
    "    acc = accuracy_score(labels_all, preds_all)\n",
    "    auc = roc_auc_score(labels_all, probs_all) if len(set(labels_all)) > 1 else 0.0\n",
    "    f1 = f1_score(labels_all, preds_all) if len(set(preds_all)) > 1 else 0.0\n",
    "    \n",
    "    attention_weights_combined = np.concatenate(attention_weights_all, axis=0) if attention_weights_all else None\n",
    "    \n",
    "    return {\n",
    "        'loss': total_loss / len(loader.dataset),\n",
    "        'accuracy': acc,\n",
    "        'auc': auc,\n",
    "        'f1': f1,\n",
    "        'probs': np.array(probs_all),\n",
    "        'labels': np.array(labels_all),\n",
    "        'preds': np.array(preds_all),\n",
    "        'attention_weights': attention_weights_combined\n",
    "    }\n",
    "\n",
    "def train_model(model, optimizer, scheduler, train_loader, val_loader, criterion, \n",
    "                max_epochs=10, patience=3, name='model'):\n",
    "    \"\"\"모델 학습 (Early Stopping 포함)\"\"\"\n",
    "    best_auc = 0.0\n",
    "    best_state = None\n",
    "    epochs_no_improve = 0\n",
    "    history = {'train_loss': [], 'train_acc': [], 'val_loss': [], 'val_acc': [], 'val_auc': [], 'val_f1': []}\n",
    "    \n",
    "    print(f\"\\n🚀 {name} 모델 학습 시작...\")\n",
    "    print(f\"   Max epochs: {max_epochs}, Patience: {patience}\")\n",
    "    \n",
    "    for epoch in range(1, max_epochs + 1):\n",
    "        print(f\"\\nEpoch {epoch}/{max_epochs} – {name}\")\n",
    "        \n",
    "        tr_loss, tr_acc = train_one_epoch(model, optimizer, train_loader, criterion)\n",
    "        val_results = evaluate(model, val_loader, criterion)\n",
    "        val_loss, val_acc, val_auc, val_f1 = val_results['loss'], val_results['accuracy'], val_results['auc'], val_results['f1']\n",
    "        \n",
    "        history['train_loss'].append(tr_loss)\n",
    "        history['train_acc'].append(tr_acc)\n",
    "        history['val_loss'].append(val_loss)\n",
    "        history['val_acc'].append(val_acc)\n",
    "        history['val_auc'].append(val_auc)\n",
    "        history['val_f1'].append(val_f1)\n",
    "        \n",
    "        print(f\"  Train: Loss={tr_loss:.4f}, Acc={tr_acc:.4f}\")\n",
    "        print(f\"  Val:   Loss={val_loss:.4f}, Acc={val_acc:.4f}, AUC={val_auc:.4f}, F1={val_f1:.4f}\")\n",
    "        \n",
    "        scheduler.step(val_auc)\n",
    "        \n",
    "        if val_auc > best_auc:\n",
    "            best_auc = val_auc\n",
    "            best_state = {k: v.cpu() for k, v in model.state_dict().items()}\n",
    "            torch.save(best_state, f'best_{name}.pth')\n",
    "            print(f\"  ✅ New best AUC: {best_auc:.4f} – model saved.\")\n",
    "            epochs_no_improve = 0\n",
    "        else:\n",
    "            epochs_no_improve += 1\n",
    "            print(f\"  ⏳ No improvement. Patience: {epochs_no_improve}/{patience}\")\n",
    "            if epochs_no_improve >= patience:\n",
    "                print(\"  🛑 Early stopping triggered.\")\n",
    "                break\n",
    "    \n",
    "    if best_state is not None:\n",
    "        model.load_state_dict(best_state)\n",
    "        print(f\"  📂 Best model loaded (AUC: {best_auc:.4f})\")\n",
    "    \n",
    "    return model, history\n",
    "\n",
    "print(\"✅ 학습/평가 함수 정의 완료\")"
   ]
  },
  {
   "cell_type": "code",
   "execution_count": 8,
   "metadata": {
    "ExecuteTime": {
     "end_time": "2025-09-05T03:18:59.650082Z",
     "start_time": "2025-09-05T03:18:09.992290Z"
    }
   },
   "outputs": [
    {
     "name": "stdout",
     "output_type": "stream",
     "text": [
      "🔬 모델 비교 실험 시작\n",
      "============================================================\n",
      "손실 함수: WeightedBCE(fp_weight=2.0)\n",
      "학습률: 0.001\n",
      "최대 에포크: 10, Patience: 3\n",
      "Scheduler Patience: 1\n",
      "============================================================\n",
      "🔒 모든 시드를 42로 고정완료\n",
      "\n",
      "1️⃣ AttriMIL (Attribute-aware MIL) 모델\n"
     ]
    },
    {
     "name": "stderr",
     "output_type": "stream",
     "text": [
      "/opt/conda/envs/py38/lib/python3.8/site-packages/torch/optim/lr_scheduler.py:60: UserWarning: The verbose parameter is deprecated. Please use get_last_lr() to access the learning rate.\n",
      "  warnings.warn(\n"
     ]
    },
    {
     "name": "stdout",
     "output_type": "stream",
     "text": [
      "\n",
      "🚀 attrimil 모델 학습 시작...\n",
      "   Max epochs: 10, Patience: 3\n",
      "\n",
      "Epoch 1/10 – attrimil\n"
     ]
    },
    {
     "name": "stderr",
     "output_type": "stream",
     "text": [
      "                                                        \r"
     ]
    },
    {
     "name": "stdout",
     "output_type": "stream",
     "text": [
      "  Train: Loss=1.1075, Acc=0.4992\n",
      "  Val:   Loss=1.0640, Acc=0.5000, AUC=0.7697, F1=0.0000\n",
      "  ✅ New best AUC: 0.7697 – model saved.\n",
      "\n",
      "Epoch 2/10 – attrimil\n"
     ]
    },
    {
     "name": "stderr",
     "output_type": "stream",
     "text": [
      "                                                        \r"
     ]
    },
    {
     "name": "stdout",
     "output_type": "stream",
     "text": [
      "  Train: Loss=0.9773, Acc=0.5206\n",
      "  Val:   Loss=0.9785, Acc=0.5392, AUC=0.7928, F1=0.1659\n",
      "  ✅ New best AUC: 0.7928 – model saved.\n",
      "\n",
      "Epoch 3/10 – attrimil\n"
     ]
    },
    {
     "name": "stderr",
     "output_type": "stream",
     "text": [
      "                                                        \r"
     ]
    },
    {
     "name": "stdout",
     "output_type": "stream",
     "text": [
      "  Train: Loss=0.8576, Acc=0.6381\n",
      "  Val:   Loss=0.9134, Acc=0.5983, AUC=0.8150, F1=0.3573\n",
      "  ✅ New best AUC: 0.8150 – model saved.\n",
      "\n",
      "Epoch 4/10 – attrimil\n"
     ]
    },
    {
     "name": "stderr",
     "output_type": "stream",
     "text": [
      "                                                        \r"
     ]
    },
    {
     "name": "stdout",
     "output_type": "stream",
     "text": [
      "  Train: Loss=0.7776, Acc=0.6872\n",
      "  Val:   Loss=0.9251, Acc=0.6900, AUC=0.8113, F1=0.5957\n",
      "  ⏳ No improvement. Patience: 1/3\n",
      "\n",
      "Epoch 5/10 – attrimil\n"
     ]
    },
    {
     "name": "stderr",
     "output_type": "stream",
     "text": [
      "                                                        \r"
     ]
    },
    {
     "name": "stdout",
     "output_type": "stream",
     "text": [
      "  Train: Loss=0.7116, Acc=0.7214\n",
      "  Val:   Loss=0.9197, Acc=0.7233, AUC=0.8219, F1=0.6706\n",
      "  ✅ New best AUC: 0.8219 – model saved.\n",
      "\n",
      "Epoch 6/10 – attrimil\n"
     ]
    },
    {
     "name": "stderr",
     "output_type": "stream",
     "text": [
      "                                                        \r"
     ]
    },
    {
     "name": "stdout",
     "output_type": "stream",
     "text": [
      "  Train: Loss=0.6598, Acc=0.7475\n",
      "  Val:   Loss=0.9678, Acc=0.7375, AUC=0.8101, F1=0.7097\n",
      "  ⏳ No improvement. Patience: 1/3\n",
      "\n",
      "Epoch 7/10 – attrimil\n"
     ]
    },
    {
     "name": "stderr",
     "output_type": "stream",
     "text": [
      "                                                        \r"
     ]
    },
    {
     "name": "stdout",
     "output_type": "stream",
     "text": [
      "  Train: Loss=0.6096, Acc=0.7731\n",
      "  Val:   Loss=1.0064, Acc=0.7417, AUC=0.8202, F1=0.7295\n",
      "  ⏳ No improvement. Patience: 2/3\n",
      "\n",
      "Epoch 8/10 – attrimil\n"
     ]
    },
    {
     "name": "stderr",
     "output_type": "stream",
     "text": [
      "                                                        \r"
     ]
    },
    {
     "name": "stdout",
     "output_type": "stream",
     "text": [
      "  Train: Loss=0.5643, Acc=0.7917\n",
      "  Val:   Loss=1.0154, Acc=0.7458, AUC=0.8218, F1=0.7346\n",
      "  ⏳ No improvement. Patience: 3/3\n",
      "  🛑 Early stopping triggered.\n",
      "  📂 Best model loaded (AUC: 0.8219)\n"
     ]
    },
    {
     "name": "stderr",
     "output_type": "stream",
     "text": [
      "/opt/conda/envs/py38/lib/python3.8/site-packages/torch/optim/lr_scheduler.py:60: UserWarning: The verbose parameter is deprecated. Please use get_last_lr() to access the learning rate.\n",
      "  warnings.warn(\n"
     ]
    },
    {
     "name": "stdout",
     "output_type": "stream",
     "text": [
      "\n",
      "✅ AttriMIL 완료\n",
      "   Val AUC: 0.8219\n",
      "   Test AUC: 0.8284\n",
      "🔒 모든 시드를 42로 고정완료\n",
      "\n",
      "2️⃣ Gated Attention MIL 모델\n",
      "\n",
      "🚀 gated_attention 모델 학습 시작...\n",
      "   Max epochs: 10, Patience: 3\n",
      "\n",
      "Epoch 1/10 – gated_attention\n"
     ]
    },
    {
     "name": "stderr",
     "output_type": "stream",
     "text": [
      "                                                         \r"
     ]
    },
    {
     "name": "stdout",
     "output_type": "stream",
     "text": [
      "  Train: Loss=1.1293, Acc=0.4997\n",
      "  Val:   Loss=1.0945, Acc=0.5000, AUC=0.6864, F1=0.0000\n",
      "  ✅ New best AUC: 0.6864 – model saved.\n",
      "\n",
      "Epoch 2/10 – gated_attention\n"
     ]
    },
    {
     "name": "stderr",
     "output_type": "stream",
     "text": [
      "                                                         \r"
     ]
    },
    {
     "name": "stdout",
     "output_type": "stream",
     "text": [
      "  Train: Loss=1.0399, Acc=0.5000\n",
      "  Val:   Loss=1.0374, Acc=0.5000, AUC=0.7841, F1=0.0000\n",
      "  ✅ New best AUC: 0.7841 – model saved.\n",
      "\n",
      "Epoch 3/10 – gated_attention\n"
     ]
    },
    {
     "name": "stderr",
     "output_type": "stream",
     "text": [
      "                                                         \r"
     ]
    },
    {
     "name": "stdout",
     "output_type": "stream",
     "text": [
      "  Train: Loss=0.9763, Acc=0.5000\n",
      "  Val:   Loss=1.0042, Acc=0.5000, AUC=0.8090, F1=0.0000\n",
      "  ✅ New best AUC: 0.8090 – model saved.\n",
      "\n",
      "Epoch 4/10 – gated_attention\n"
     ]
    },
    {
     "name": "stderr",
     "output_type": "stream",
     "text": [
      "                                                         \r"
     ]
    },
    {
     "name": "stdout",
     "output_type": "stream",
     "text": [
      "  Train: Loss=0.9289, Acc=0.5000\n",
      "  Val:   Loss=0.9794, Acc=0.5000, AUC=0.8237, F1=0.0000\n",
      "  ✅ New best AUC: 0.8237 – model saved.\n",
      "\n",
      "Epoch 5/10 – gated_attention\n"
     ]
    },
    {
     "name": "stderr",
     "output_type": "stream",
     "text": [
      "                                                         \r"
     ]
    },
    {
     "name": "stdout",
     "output_type": "stream",
     "text": [
      "  Train: Loss=0.8781, Acc=0.5175\n",
      "  Val:   Loss=0.9851, Acc=0.5483, AUC=0.8238, F1=0.1935\n",
      "  ✅ New best AUC: 0.8238 – model saved.\n",
      "\n",
      "Epoch 6/10 – gated_attention\n"
     ]
    },
    {
     "name": "stderr",
     "output_type": "stream",
     "text": [
      "                                                         \r"
     ]
    },
    {
     "name": "stdout",
     "output_type": "stream",
     "text": [
      "  Train: Loss=0.8258, Acc=0.5608\n",
      "  Val:   Loss=0.9754, Acc=0.6258, AUC=0.8271, F1=0.4464\n",
      "  ✅ New best AUC: 0.8271 – model saved.\n",
      "\n",
      "Epoch 7/10 – gated_attention\n"
     ]
    },
    {
     "name": "stderr",
     "output_type": "stream",
     "text": [
      "                                                         \r"
     ]
    },
    {
     "name": "stdout",
     "output_type": "stream",
     "text": [
      "  Train: Loss=0.7805, Acc=0.6100\n",
      "  Val:   Loss=0.9783, Acc=0.7000, AUC=0.8223, F1=0.6203\n",
      "  ⏳ No improvement. Patience: 1/3\n",
      "\n",
      "Epoch 8/10 – gated_attention\n"
     ]
    },
    {
     "name": "stderr",
     "output_type": "stream",
     "text": [
      "                                                         \r"
     ]
    },
    {
     "name": "stdout",
     "output_type": "stream",
     "text": [
      "  Train: Loss=0.7326, Acc=0.6681\n",
      "  Val:   Loss=1.0204, Acc=0.7633, AUC=0.8280, F1=0.7365\n",
      "  ✅ New best AUC: 0.8280 – model saved.\n",
      "\n",
      "Epoch 9/10 – gated_attention\n"
     ]
    },
    {
     "name": "stderr",
     "output_type": "stream",
     "text": [
      "                                                         \r"
     ]
    },
    {
     "name": "stdout",
     "output_type": "stream",
     "text": [
      "  Train: Loss=0.6809, Acc=0.7469\n",
      "  Val:   Loss=1.0615, Acc=0.7617, AUC=0.8256, F1=0.7679\n",
      "  ⏳ No improvement. Patience: 1/3\n",
      "\n",
      "Epoch 10/10 – gated_attention\n"
     ]
    },
    {
     "name": "stderr",
     "output_type": "stream",
     "text": [
      "                                                         \r"
     ]
    },
    {
     "name": "stdout",
     "output_type": "stream",
     "text": [
      "  Train: Loss=0.6306, Acc=0.7936\n",
      "  Val:   Loss=1.1686, Acc=0.7292, AUC=0.8216, F1=0.7612\n",
      "  ⏳ No improvement. Patience: 2/3\n",
      "  📂 Best model loaded (AUC: 0.8280)\n"
     ]
    },
    {
     "name": "stderr",
     "output_type": "stream",
     "text": [
      "/opt/conda/envs/py38/lib/python3.8/site-packages/torch/optim/lr_scheduler.py:60: UserWarning: The verbose parameter is deprecated. Please use get_last_lr() to access the learning rate.\n",
      "  warnings.warn(\n"
     ]
    },
    {
     "name": "stdout",
     "output_type": "stream",
     "text": [
      "\n",
      "✅ Gated Attention MIL 완료\n",
      "   Val AUC: 0.8280\n",
      "   Test AUC: 0.8419\n",
      "🔒 모든 시드를 42로 고정완료\n",
      "\n",
      "3️⃣ 기본 Attention MIL 모델\n",
      "\n",
      "🚀 basic_attention 모델 학습 시작...\n",
      "   Max epochs: 10, Patience: 3\n",
      "\n",
      "Epoch 1/10 – basic_attention\n"
     ]
    },
    {
     "name": "stderr",
     "output_type": "stream",
     "text": [
      "                                                         \r"
     ]
    },
    {
     "name": "stdout",
     "output_type": "stream",
     "text": [
      "  Train: Loss=1.1343, Acc=0.4975\n",
      "  Val:   Loss=1.0953, Acc=0.5000, AUC=0.6773, F1=0.0000\n",
      "  ✅ New best AUC: 0.6773 – model saved.\n",
      "\n",
      "Epoch 2/10 – basic_attention\n"
     ]
    },
    {
     "name": "stderr",
     "output_type": "stream",
     "text": [
      "                                                         \r"
     ]
    },
    {
     "name": "stdout",
     "output_type": "stream",
     "text": [
      "  Train: Loss=1.0570, Acc=0.5000\n",
      "  Val:   Loss=1.0589, Acc=0.5000, AUC=0.7313, F1=0.0000\n",
      "  ✅ New best AUC: 0.7313 – model saved.\n",
      "\n",
      "Epoch 3/10 – basic_attention\n"
     ]
    },
    {
     "name": "stderr",
     "output_type": "stream",
     "text": [
      "                                                         \r"
     ]
    },
    {
     "name": "stdout",
     "output_type": "stream",
     "text": [
      "  Train: Loss=1.0005, Acc=0.5000\n",
      "  Val:   Loss=1.0163, Acc=0.5000, AUC=0.7866, F1=0.0000\n",
      "  ✅ New best AUC: 0.7866 – model saved.\n",
      "\n",
      "Epoch 4/10 – basic_attention\n"
     ]
    },
    {
     "name": "stderr",
     "output_type": "stream",
     "text": [
      "                                                         \r"
     ]
    },
    {
     "name": "stdout",
     "output_type": "stream",
     "text": [
      "  Train: Loss=0.9530, Acc=0.5000\n",
      "  Val:   Loss=0.9869, Acc=0.5000, AUC=0.7939, F1=0.0000\n",
      "  ✅ New best AUC: 0.7939 – model saved.\n",
      "\n",
      "Epoch 5/10 – basic_attention\n"
     ]
    },
    {
     "name": "stderr",
     "output_type": "stream",
     "text": [
      "                                                         \r"
     ]
    },
    {
     "name": "stdout",
     "output_type": "stream",
     "text": [
      "  Train: Loss=0.9208, Acc=0.5114\n",
      "  Val:   Loss=0.9787, Acc=0.5242, AUC=0.7959, F1=0.1008\n",
      "  ✅ New best AUC: 0.7959 – model saved.\n",
      "\n",
      "Epoch 6/10 – basic_attention\n"
     ]
    },
    {
     "name": "stderr",
     "output_type": "stream",
     "text": [
      "                                                         \r"
     ]
    },
    {
     "name": "stdout",
     "output_type": "stream",
     "text": [
      "  Train: Loss=0.8835, Acc=0.5381\n",
      "  Val:   Loss=0.9694, Acc=0.5833, AUC=0.8116, F1=0.3132\n",
      "  ✅ New best AUC: 0.8116 – model saved.\n",
      "\n",
      "Epoch 7/10 – basic_attention\n"
     ]
    },
    {
     "name": "stderr",
     "output_type": "stream",
     "text": [
      "                                                         \r"
     ]
    },
    {
     "name": "stdout",
     "output_type": "stream",
     "text": [
      "  Train: Loss=0.8526, Acc=0.5739\n",
      "  Val:   Loss=0.9688, Acc=0.6208, AUC=0.8107, F1=0.4485\n",
      "  ⏳ No improvement. Patience: 1/3\n",
      "\n",
      "Epoch 8/10 – basic_attention\n"
     ]
    },
    {
     "name": "stderr",
     "output_type": "stream",
     "text": [
      "                                                         \r"
     ]
    },
    {
     "name": "stdout",
     "output_type": "stream",
     "text": [
      "  Train: Loss=0.8158, Acc=0.6111\n",
      "  Val:   Loss=0.9471, Acc=0.6575, AUC=0.8169, F1=0.5281\n",
      "  ✅ New best AUC: 0.8169 – model saved.\n",
      "\n",
      "Epoch 9/10 – basic_attention\n"
     ]
    },
    {
     "name": "stderr",
     "output_type": "stream",
     "text": [
      "                                                         \r"
     ]
    },
    {
     "name": "stdout",
     "output_type": "stream",
     "text": [
      "  Train: Loss=0.7723, Acc=0.6506\n",
      "  Val:   Loss=0.9764, Acc=0.7308, AUC=0.8142, F1=0.6950\n",
      "  ⏳ No improvement. Patience: 1/3\n",
      "\n",
      "Epoch 10/10 – basic_attention\n"
     ]
    },
    {
     "name": "stderr",
     "output_type": "stream",
     "text": [
      "                                                         \r"
     ]
    },
    {
     "name": "stdout",
     "output_type": "stream",
     "text": [
      "  Train: Loss=0.7071, Acc=0.7392\n",
      "  Val:   Loss=1.0678, Acc=0.7467, AUC=0.8159, F1=0.7548\n",
      "  ⏳ No improvement. Patience: 2/3\n",
      "  📂 Best model loaded (AUC: 0.8169)\n"
     ]
    },
    {
     "name": "stderr",
     "output_type": "stream",
     "text": [
      "                                            "
     ]
    },
    {
     "name": "stdout",
     "output_type": "stream",
     "text": [
      "\n",
      "✅ Basic Attention MIL 완료\n",
      "   Val AUC: 0.8169\n",
      "   Test AUC: 0.8381\n",
      "\n",
      "============================================================\n",
      "🏆 모든 모델 학습 완료!\n",
      "============================================================\n"
     ]
    },
    {
     "name": "stderr",
     "output_type": "stream",
     "text": [
      "\r"
     ]
    }
   ],
   "source": [
    "# 모델 비교 실험: AttriMIL vs Gated Attention MIL vs Attention MIL\n",
    "\n",
    "# 손실함수\n",
    "criterion = WeightedBCE(fp_weight=2.0)\n",
    "\n",
    "# 실험 설정\n",
    "learning_rate = 1e-3\n",
    "max_epochs = 10\n",
    "patience = 3\n",
    "scheduler_patience = 1\n",
    "\n",
    "print(\"🔬 모델 비교 실험 시작\")\n",
    "print(\"=\" * 60)\n",
    "print(f\"손실 함수: WeightedBCE(fp_weight=2.0)\")\n",
    "print(f\"학습률: {learning_rate}\")\n",
    "print(f\"최대 에포크: {max_epochs}, Patience: {patience}\")\n",
    "print(f\"Scheduler Patience: {scheduler_patience}\")\n",
    "print(\"=\" * 60)\n",
    "\n",
    "# 모델별 결과 저장\n",
    "model_results = {}\n",
    "model_histories = {}\n",
    "\n",
    "# 1. AttriMIL 모델 학습\n",
    "seed_everything(42)\n",
    "print(\"\\n1️⃣ AttriMIL (Attribute-aware MIL) 모델\")\n",
    "attrimil_model = AttriMIL(input_dim=256, hidden_dim=128, n_classes=2, dropout_p=0.1).to(device)\n",
    "attrimil_optimizer = torch.optim.Adam(attrimil_model.parameters(), lr=learning_rate)\n",
    "attrimil_scheduler = torch.optim.lr_scheduler.ReduceLROnPlateau(\n",
    "    attrimil_optimizer, mode='max', factor=0.5, patience=scheduler_patience, verbose=True\n",
    ")\n",
    "\n",
    "attrimil_model, attrimil_history = train_model(\n",
    "    attrimil_model, attrimil_optimizer, attrimil_scheduler,\n",
    "    train_loader, val_loader, criterion,\n",
    "    max_epochs=max_epochs, patience=patience, name='attrimil'\n",
    ")\n",
    "\n",
    "# AttriMIL 평가\n",
    "val_results_attrimil = evaluate(attrimil_model, val_loader, criterion)\n",
    "test_results_attrimil = evaluate(attrimil_model, test_loader, criterion)\n",
    "\n",
    "model_results['AttriMIL'] = {\n",
    "    'val': val_results_attrimil,\n",
    "    'test': test_results_attrimil,\n",
    "    'model': attrimil_model\n",
    "}\n",
    "model_histories['AttriMIL'] = attrimil_history\n",
    "\n",
    "print(f\"\\n✅ AttriMIL 완료\")\n",
    "print(f\"   Val AUC: {val_results_attrimil['auc']:.4f}\")\n",
    "print(f\"   Test AUC: {test_results_attrimil['auc']:.4f}\")\n",
    "\n",
    "# 2. Gated Attention MIL 모델 학습\n",
    "seed_everything(42)\n",
    "print(\"\\n2️⃣ Gated Attention MIL 모델\")\n",
    "gated_model = GatedAttentionMIL(input_dim=256, hidden_dim=128, dropout_p=0.1).to(device)\n",
    "gated_optimizer = torch.optim.Adam(gated_model.parameters(), lr=learning_rate)\n",
    "gated_scheduler = torch.optim.lr_scheduler.ReduceLROnPlateau(\n",
    "    gated_optimizer, mode='max', factor=0.5, patience=scheduler_patience, verbose=True\n",
    ")\n",
    "\n",
    "gated_model, gated_history = train_model(\n",
    "    gated_model, gated_optimizer, gated_scheduler,\n",
    "    train_loader, val_loader, criterion,\n",
    "    max_epochs=max_epochs, patience=patience, name='gated_attention'\n",
    ")\n",
    "\n",
    "# Gated 평가\n",
    "val_results_gated = evaluate(gated_model, val_loader, criterion)\n",
    "test_results_gated = evaluate(gated_model, test_loader, criterion)\n",
    "\n",
    "model_results['Gated_Attention'] = {\n",
    "    'val': val_results_gated,\n",
    "    'test': test_results_gated,\n",
    "    'model': gated_model\n",
    "}\n",
    "model_histories['Gated_Attention'] = gated_history\n",
    "\n",
    "print(f\"\\n✅ Gated Attention MIL 완료\")\n",
    "print(f\"   Val AUC: {val_results_gated['auc']:.4f}\")\n",
    "print(f\"   Test AUC: {test_results_gated['auc']:.4f}\")\n",
    "\n",
    "# 3. 기본 Attention MIL 모델 학습\n",
    "seed_everything(42)\n",
    "print(\"\\n3️⃣ 기본 Attention MIL 모델\")\n",
    "attention_model = AttentionMIL(input_dim=256, hidden_dim=128, dropout_p=0.1).to(device)\n",
    "attention_optimizer = torch.optim.Adam(attention_model.parameters(), lr=learning_rate)\n",
    "attention_scheduler = torch.optim.lr_scheduler.ReduceLROnPlateau(\n",
    "    attention_optimizer, mode='max', factor=0.5, patience=scheduler_patience, verbose=True\n",
    ")\n",
    "\n",
    "attention_model, attention_history = train_model(\n",
    "    attention_model, attention_optimizer, attention_scheduler,\n",
    "    train_loader, val_loader, criterion,\n",
    "    max_epochs=max_epochs, patience=patience, name='basic_attention'\n",
    ")\n",
    "\n",
    "# Attention 평가\n",
    "val_results_attention = evaluate(attention_model, val_loader, criterion)\n",
    "test_results_attention = evaluate(attention_model, test_loader, criterion)\n",
    "\n",
    "model_results['Basic_Attention'] = {\n",
    "    'val': val_results_attention,\n",
    "    'test': test_results_attention,\n",
    "    'model': attention_model\n",
    "}\n",
    "model_histories['Basic_Attention'] = attention_history\n",
    "\n",
    "print(f\"\\n✅ Basic Attention MIL 완료\")\n",
    "print(f\"   Val AUC: {val_results_attention['auc']:.4f}\")\n",
    "print(f\"   Test AUC: {test_results_attention['auc']:.4f}\")\n",
    "\n",
    "print(\"\\n\" + \"=\"*60)\n",
    "print(\"🏆 모든 모델 학습 완료!\")\n",
    "print(\"=\"*60)"
   ]
  },
  {
   "cell_type": "code",
   "execution_count": 9,
   "metadata": {
    "ExecuteTime": {
     "end_time": "2025-09-05T03:18:59.892716Z",
     "start_time": "2025-09-05T03:18:59.655567Z"
    }
   },
   "outputs": [
    {
     "name": "stdout",
     "output_type": "stream",
     "text": [
      "\n",
      "📊 모델별 최종 성능 비교\n",
      "================================================================================\n",
      "\n",
      "AttriMIL:\n",
      "  최적 임계값: 0.300 (Val F1: 0.761)\n",
      "  Test Accuracy: 0.731\n",
      "  Test F1: 0.762\n",
      "  Test Precision: 0.682\n",
      "  Test Recall: 0.863\n",
      "  Test AUC: 0.828\n",
      "\n",
      "Gated_Attention:\n",
      "  최적 임계값: 0.400 (Val F1: 0.771)\n",
      "  Test Accuracy: 0.711\n",
      "  Test F1: 0.759\n",
      "  Test Precision: 0.651\n",
      "  Test Recall: 0.910\n",
      "  Test AUC: 0.842\n",
      "\n",
      "Basic_Attention:\n",
      "  최적 임계값: 0.275 (Val F1: 0.763)\n",
      "  Test Accuracy: 0.682\n",
      "  Test F1: 0.748\n",
      "  Test Precision: 0.620\n",
      "  Test Recall: 0.942\n",
      "  Test AUC: 0.838\n",
      "\n",
      "================================================================================\n",
      "📈 모델 성능 요약 테이블\n",
      "================================================================================\n",
      "Model                Accuracy   F1       Precision   Recall   AUC     \n",
      "--------------------------------------------------------------------------------\n",
      "AttriMIL             0.731      0.762    0.682       0.863    0.828   \n",
      "Gated_Attention      0.711      0.759    0.651       0.910    0.842   \n",
      "Basic_Attention      0.682      0.748    0.620       0.942    0.838   \n",
      "\n",
      "🏆 최고 성능:\n",
      "  AUC 기준: Gated_Attention (AUC: 0.842)\n",
      "  F1 기준:  AttriMIL (F1: 0.762)\n",
      "\n",
      "✅ 성능 분석 완료!\n"
     ]
    }
   ],
   "source": [
    "# 모델 성능 비교 및 결과 분석\n",
    "\n",
    "from sklearn.metrics import precision_score, recall_score\n",
    "\n",
    "# 최적 임계값 찾기 함수\n",
    "def find_best_threshold(probs, labels):\n",
    "    best_thr, best_val = 0.5, 0.0\n",
    "    for thr in np.linspace(0.05, 0.95, 37):\n",
    "        preds = (probs >= thr).astype(int)\n",
    "        val = f1_score(labels, preds, zero_division=0)\n",
    "        if val > best_val:\n",
    "            best_val, best_thr = val, thr\n",
    "    return best_thr, best_val\n",
    "\n",
    "# 각 모델의 최적 임계값을 validation set에서 찾고 test set에 적용\n",
    "final_results = {}\n",
    "\n",
    "print(\"\\n📊 모델별 최종 성능 비교\")\n",
    "print(\"=\" * 80)\n",
    "\n",
    "for model_name, results in model_results.items():\n",
    "    val_results = results['val']\n",
    "    test_results = results['test']\n",
    "    \n",
    "    best_thr, best_f1_val = find_best_threshold(val_results['probs'], val_results['labels'])\n",
    "    test_preds_adj = (test_results['probs'] >= best_thr).astype(int)\n",
    "    \n",
    "    final_acc = accuracy_score(test_results['labels'], test_preds_adj)\n",
    "    final_f1 = f1_score(test_results['labels'], test_preds_adj, zero_division=0)\n",
    "    final_precision = precision_score(test_results['labels'], test_preds_adj, zero_division=0)\n",
    "    final_recall = recall_score(test_results['labels'], test_preds_adj, zero_division=0)\n",
    "    final_auc = test_results['auc']\n",
    "    \n",
    "    final_results[model_name] = {\n",
    "        'threshold': best_thr,\n",
    "        'accuracy': final_acc,\n",
    "        'f1': final_f1,\n",
    "        'precision': final_precision,\n",
    "        'recall': final_recall,\n",
    "        'auc': final_auc,\n",
    "        'test_probs': test_results['probs'],\n",
    "        'test_labels': test_results['labels'],\n",
    "        'test_preds_adj': test_preds_adj\n",
    "    }\n",
    "    \n",
    "    print(f\"\\n{model_name}:\")\n",
    "    print(f\"  최적 임계값: {best_thr:.3f} (Val F1: {best_f1_val:.3f})\")\n",
    "    print(f\"  Test Accuracy: {final_acc:.3f}\")\n",
    "    print(f\"  Test F1: {final_f1:.3f}\")\n",
    "    print(f\"  Test Precision: {final_precision:.3f}\")\n",
    "    print(f\"  Test Recall: {final_recall:.3f}\")\n",
    "    print(f\"  Test AUC: {final_auc:.3f}\")\n",
    "\n",
    "# 성능 비교 테이블\n",
    "print(\"\\n\" + \"=\" * 80)\n",
    "print(\"📈 모델 성능 요약 테이블\")\n",
    "print(\"=\" * 80)\n",
    "print(f\"{'Model':<20} {'Accuracy':<10} {'F1':<8} {'Precision':<11} {'Recall':<8} {'AUC':<8}\")\n",
    "print(\"-\" * 80)\n",
    "\n",
    "for model_name, results in final_results.items():\n",
    "    print(f\"{model_name:<20} {results['accuracy']:<10.3f} {results['f1']:<8.3f} \"\n",
    "          f\"{results['precision']:<11.3f} {results['recall']:<8.3f} {results['auc']:<8.3f}\")\n",
    "\n",
    "# 최고 성능 모델 찾기\n",
    "best_model_auc = max(final_results.items(), key=lambda x: x[1]['auc'])\n",
    "best_model_f1 = max(final_results.items(), key=lambda x: x[1]['f1'])\n",
    "\n",
    "print(f\"\\n🏆 최고 성능:\")\n",
    "print(f\"  AUC 기준: {best_model_auc[0]} (AUC: {best_model_auc[1]['auc']:.3f})\")\n",
    "print(f\"  F1 기준:  {best_model_f1[0]} (F1: {best_model_f1[1]['f1']:.3f})\")\n",
    "\n",
    "print(\"\\n✅ 성능 분석 완료!\")"
   ]
  },
  {
   "cell_type": "code",
   "execution_count": 10,
   "metadata": {
    "ExecuteTime": {
     "end_time": "2025-09-05T03:19:01.258087Z",
     "start_time": "2025-09-05T03:18:59.896598Z"
    }
   },
   "outputs": [
    {
     "data": {
      "image/png": "[encoded data removed]",
      "text/plain": [
       "<Figure size 1500x500 with 3 Axes>"
      ]
     },
     "metadata": {},
     "output_type": "display_data"
    },
    {
     "data": {
      "image/png": "[encoded data removed]",
      "text/plain": [
       "<Figure size 1500x400 with 6 Axes>"
      ]
     },
     "metadata": {},
     "output_type": "display_data"
    },
    {
     "name": "stdout",
     "output_type": "stream",
     "text": [
      "\n",
      "🎉 시각화 완료!\n"
     ]
    }
   ],
   "source": [
    "# 시각화: ROC 곡선, Confusion Matrix, 학습 곡선 비교\n",
    "\n",
    "from sklearn.metrics import auc\n",
    "\n",
    "# 1. ROC 곡선 비교\n",
    "plt.figure(figsize=(15, 5))\n",
    "\n",
    "# ROC 곡선\n",
    "plt.subplot(1, 3, 1)\n",
    "colors = ['red', 'blue', 'green']\n",
    "model_names = list(final_results.keys())\n",
    "\n",
    "for i, (model_name, results) in enumerate(final_results.items()):\n",
    "    fpr, tpr, _ = roc_curve(results['test_labels'], results['test_probs'])\n",
    "    auc_score = auc(fpr, tpr)\n",
    "    plt.plot(fpr, tpr, color=colors[i], linewidth=2, \n",
    "             label=f'{model_name} (AUC={auc_score:.3f})')\n",
    "\n",
    "plt.plot([0, 1], [0, 1], 'k--', alpha=0.5, label='Random')\n",
    "plt.xlabel('False Positive Rate')\n",
    "plt.ylabel('True Positive Rate')\n",
    "plt.title('ROC Curve Comparison')\n",
    "plt.legend()\n",
    "plt.grid(True, alpha=0.3)\n",
    "\n",
    "# 2. 성능 메트릭 비교 (Bar plot)\n",
    "plt.subplot(1, 3, 2)\n",
    "metrics = ['accuracy', 'f1', 'precision', 'recall']\n",
    "x = np.arange(len(metrics))\n",
    "width = 0.25\n",
    "\n",
    "for i, (model_name, results) in enumerate(final_results.items()):\n",
    "    values = [results[metric] for metric in metrics]\n",
    "    plt.bar(x + i*width, values, width, label=model_name, color=colors[i], alpha=0.8)\n",
    "\n",
    "plt.xlabel('Metrics')\n",
    "plt.ylabel('Score')\n",
    "plt.title('Performance Metrics Comparison')\n",
    "plt.xticks(x + width, metrics, rotation=45)\n",
    "plt.legend()\n",
    "plt.grid(True, alpha=0.3, axis='y')\n",
    "\n",
    "# 3. 학습 곡선 비교 (AUC)\n",
    "plt.subplot(1, 3, 3)\n",
    "for i, (model_name, history) in enumerate(model_histories.items()):\n",
    "    epochs = range(1, len(history['val_auc']) + 1)\n",
    "    plt.plot(epochs, history['val_auc'], 'o-', color=colors[i], \n",
    "             linewidth=2, label=f'{model_name}', markersize=4)\n",
    "\n",
    "plt.xlabel('Epoch')\n",
    "plt.ylabel('Validation AUC')\n",
    "plt.title('Training Progress (Val AUC)')\n",
    "plt.legend()\n",
    "plt.grid(True, alpha=0.3)\n",
    "\n",
    "plt.tight_layout()\n",
    "plt.show()\n",
    "\n",
    "# Confusion Matrix 비교\n",
    "fig, axes = plt.subplots(1, 3, figsize=(15, 4))\n",
    "\n",
    "for i, (model_name, results) in enumerate(final_results.items()):\n",
    "    cm = confusion_matrix(results['test_labels'].astype(int), \n",
    "                         results['test_preds_adj'].astype(int), \n",
    "                         labels=[0, 1])\n",
    "    \n",
    "    sns.heatmap(cm, annot=True, fmt='d', cmap='Blues', ax=axes[i],\n",
    "                xticklabels=['Genuine', 'Forged'], \n",
    "                yticklabels=['Genuine', 'Forged'])\n",
    "    axes[i].set_title(f'{model_name}\\n(Thr={results[\"threshold\"]:.2f})')\n",
    "    axes[i].set_xlabel('Predicted')\n",
    "    if i == 0:\n",
    "        axes[i].set_ylabel('True')\n",
    "\n",
    "plt.tight_layout()\n",
    "plt.show()\n",
    "\n",
    "print(\"\\n🎉 시각화 완료!\")"
   ]
  },
  {
   "cell_type": "code",
   "execution_count": 11,
   "metadata": {
    "ExecuteTime": {
     "end_time": "2025-09-05T03:19:01.599799Z",
     "start_time": "2025-09-05T03:19:01.260353Z"
    }
   },
   "outputs": [
    {
     "name": "stdout",
     "output_type": "stream",
     "text": [
      "\n",
      "🔍 AttriMIL 클래스별 Attention 분석\n",
      "==================================================\n"
     ]
    },
    {
     "ename": "IndexError",
     "evalue": "Dimension out of range (expected to be in range of [-1, 0], but got 1)",
     "output_type": "error",
     "traceback": [
      "\u001b[0;31m---------------------------------------------------------------------------\u001b[0m",
      "\u001b[0;31mIndexError\u001b[0m                                Traceback (most recent call last)",
      "Cell \u001b[0;32mIn[11], line 20\u001b[0m\n\u001b[1;32m     17\u001b[0m X \u001b[38;5;241m=\u001b[39m X\u001b[38;5;241m.\u001b[39mto(device)\n\u001b[1;32m     19\u001b[0m \u001b[38;5;66;03m# AttriMIL의 return_features=True로 클래스별 attention 얻기\u001b[39;00m\n\u001b[0;32m---> 20\u001b[0m logits, avg_attention, all_attention \u001b[38;5;241m=\u001b[39m \u001b[43mattrimil_model\u001b[49m\u001b[43m(\u001b[49m\u001b[43mX\u001b[49m\u001b[43m,\u001b[49m\u001b[43m \u001b[49m\u001b[43mreturn_features\u001b[49m\u001b[38;5;241;43m=\u001b[39;49m\u001b[38;5;28;43;01mTrue\u001b[39;49;00m\u001b[43m)\u001b[49m\n\u001b[1;32m     22\u001b[0m \u001b[38;5;66;03m# all_attention: [attention_class_0, attention_class_1]\u001b[39;00m\n\u001b[1;32m     23\u001b[0m class_0_att \u001b[38;5;241m=\u001b[39m all_attention[\u001b[38;5;241m0\u001b[39m]\u001b[38;5;241m.\u001b[39mcpu()\u001b[38;5;241m.\u001b[39mnumpy()  \u001b[38;5;66;03m# (1, N)\u001b[39;00m\n",
      "File \u001b[0;32m/opt/conda/envs/py38/lib/python3.8/site-packages/torch/nn/modules/module.py:1553\u001b[0m, in \u001b[0;36mModule._wrapped_call_impl\u001b[0;34m(self, *args, **kwargs)\u001b[0m\n\u001b[1;32m   1551\u001b[0m     \u001b[38;5;28;01mreturn\u001b[39;00m \u001b[38;5;28mself\u001b[39m\u001b[38;5;241m.\u001b[39m_compiled_call_impl(\u001b[38;5;241m*\u001b[39margs, \u001b[38;5;241m*\u001b[39m\u001b[38;5;241m*\u001b[39mkwargs)  \u001b[38;5;66;03m# type: ignore[misc]\u001b[39;00m\n\u001b[1;32m   1552\u001b[0m \u001b[38;5;28;01melse\u001b[39;00m:\n\u001b[0;32m-> 1553\u001b[0m     \u001b[38;5;28;01mreturn\u001b[39;00m \u001b[38;5;28;43mself\u001b[39;49m\u001b[38;5;241;43m.\u001b[39;49m\u001b[43m_call_impl\u001b[49m\u001b[43m(\u001b[49m\u001b[38;5;241;43m*\u001b[39;49m\u001b[43margs\u001b[49m\u001b[43m,\u001b[49m\u001b[43m \u001b[49m\u001b[38;5;241;43m*\u001b[39;49m\u001b[38;5;241;43m*\u001b[39;49m\u001b[43mkwargs\u001b[49m\u001b[43m)\u001b[49m\n",
      "File \u001b[0;32m/opt/conda/envs/py38/lib/python3.8/site-packages/torch/nn/modules/module.py:1562\u001b[0m, in \u001b[0;36mModule._call_impl\u001b[0;34m(self, *args, **kwargs)\u001b[0m\n\u001b[1;32m   1557\u001b[0m \u001b[38;5;66;03m# If we don't have any hooks, we want to skip the rest of the logic in\u001b[39;00m\n\u001b[1;32m   1558\u001b[0m \u001b[38;5;66;03m# this function, and just call forward.\u001b[39;00m\n\u001b[1;32m   1559\u001b[0m \u001b[38;5;28;01mif\u001b[39;00m \u001b[38;5;129;01mnot\u001b[39;00m (\u001b[38;5;28mself\u001b[39m\u001b[38;5;241m.\u001b[39m_backward_hooks \u001b[38;5;129;01mor\u001b[39;00m \u001b[38;5;28mself\u001b[39m\u001b[38;5;241m.\u001b[39m_backward_pre_hooks \u001b[38;5;129;01mor\u001b[39;00m \u001b[38;5;28mself\u001b[39m\u001b[38;5;241m.\u001b[39m_forward_hooks \u001b[38;5;129;01mor\u001b[39;00m \u001b[38;5;28mself\u001b[39m\u001b[38;5;241m.\u001b[39m_forward_pre_hooks\n\u001b[1;32m   1560\u001b[0m         \u001b[38;5;129;01mor\u001b[39;00m _global_backward_pre_hooks \u001b[38;5;129;01mor\u001b[39;00m _global_backward_hooks\n\u001b[1;32m   1561\u001b[0m         \u001b[38;5;129;01mor\u001b[39;00m _global_forward_hooks \u001b[38;5;129;01mor\u001b[39;00m _global_forward_pre_hooks):\n\u001b[0;32m-> 1562\u001b[0m     \u001b[38;5;28;01mreturn\u001b[39;00m \u001b[43mforward_call\u001b[49m\u001b[43m(\u001b[49m\u001b[38;5;241;43m*\u001b[39;49m\u001b[43margs\u001b[49m\u001b[43m,\u001b[49m\u001b[43m \u001b[49m\u001b[38;5;241;43m*\u001b[39;49m\u001b[38;5;241;43m*\u001b[39;49m\u001b[43mkwargs\u001b[49m\u001b[43m)\u001b[49m\n\u001b[1;32m   1564\u001b[0m \u001b[38;5;28;01mtry\u001b[39;00m:\n\u001b[1;32m   1565\u001b[0m     result \u001b[38;5;241m=\u001b[39m \u001b[38;5;28;01mNone\u001b[39;00m\n",
      "Cell \u001b[0;32mIn[5], line 102\u001b[0m, in \u001b[0;36mAttriMIL.forward\u001b[0;34m(self, x, return_features)\u001b[0m\n\u001b[1;32m     99\u001b[0m     all_attention\u001b[38;5;241m.\u001b[39mappend(A_c\u001b[38;5;241m.\u001b[39msqueeze(\u001b[38;5;241m1\u001b[39m))  \u001b[38;5;66;03m# (B, N)\u001b[39;00m\n\u001b[1;32m    101\u001b[0m \u001b[38;5;66;03m# Stack scores for all classes\u001b[39;00m\n\u001b[0;32m--> 102\u001b[0m logits \u001b[38;5;241m=\u001b[39m \u001b[43mtorch\u001b[49m\u001b[38;5;241;43m.\u001b[39;49m\u001b[43mstack\u001b[49m\u001b[43m(\u001b[49m\u001b[43mall_scores\u001b[49m\u001b[43m,\u001b[49m\u001b[43m \u001b[49m\u001b[43mdim\u001b[49m\u001b[38;5;241;43m=\u001b[39;49m\u001b[38;5;241;43m1\u001b[39;49m\u001b[43m)\u001b[49m  \u001b[38;5;66;03m# (B, n_classes)\u001b[39;00m\n\u001b[1;32m    104\u001b[0m \u001b[38;5;66;03m# Add learnable bias\u001b[39;00m\n\u001b[1;32m    105\u001b[0m logits \u001b[38;5;241m=\u001b[39m logits \u001b[38;5;241m+\u001b[39m \u001b[38;5;28mself\u001b[39m\u001b[38;5;241m.\u001b[39mbias\n",
      "\u001b[0;31mIndexError\u001b[0m: Dimension out of range (expected to be in range of [-1, 0], but got 1)"
     ]
    }
   ],
   "source": [
    "# AttriMIL 특별 분석: 클래스별 Attention 패턴\n",
    "\n",
    "print(\"\\n🔍 AttriMIL 클래스별 Attention 분석\")\n",
    "print(\"=\" * 50)\n",
    "\n",
    "# AttriMIL의 클래스별 attention을 분석하기 위해 몇 개 샘플 추출\n",
    "attrimil_model.eval()\n",
    "sample_loader = DataLoader(MILDataset(test_features[:10], test_labels[:10]), \n",
    "                          batch_size=1, shuffle=False)\n",
    "\n",
    "class_0_attentions = []\n",
    "class_1_attentions = []\n",
    "labels_sample = []\n",
    "\n",
    "with torch.no_grad():\n",
    "    for i, (X, y) in enumerate(sample_loader):\n",
    "        X = X.to(device)\n",
    "        \n",
    "        # AttriMIL의 return_features=True로 클래스별 attention 얻기\n",
    "        logits, avg_attention, all_attention = attrimil_model(X, return_features=True)\n",
    "        \n",
    "        # all_attention: [attention_class_0, attention_class_1]\n",
    "        class_0_att = all_attention[0].cpu().numpy()  # (1, N)\n",
    "        class_1_att = all_attention[1].cpu().numpy()  # (1, N)\n",
    "        \n",
    "        class_0_attentions.append(class_0_att[0])\n",
    "        class_1_attentions.append(class_1_att[0])\n",
    "        labels_sample.append(y.item())\n",
    "\n",
    "# 클래스별 attention 패턴 시각화\n",
    "fig, axes = plt.subplots(2, 5, figsize=(15, 6))\n",
    "fig.suptitle('AttriMIL: Class-specific Attention Patterns (First 10 Test Samples)', fontsize=14)\n",
    "\n",
    "for i in range(min(5, len(class_0_attentions))):\n",
    "    # Class 0 attention\n",
    "    axes[0, i].bar(range(len(class_0_attentions[i])), class_0_attentions[i], \n",
    "                   color='blue' if labels_sample[i] == 0 else 'red', alpha=0.6)\n",
    "    axes[0, i].set_title(f'Sample {i+1} (True: {int(labels_sample[i])})', fontsize=10)\n",
    "    axes[0, i].set_ylim([0, 0.5])\n",
    "    if i == 0:\n",
    "        axes[0, i].set_ylabel('Class 0\\nAttention', fontsize=10)\n",
    "    \n",
    "    # Class 1 attention\n",
    "    axes[1, i].bar(range(len(class_1_attentions[i])), class_1_attentions[i], \n",
    "                   color='blue' if labels_sample[i] == 0 else 'red', alpha=0.6)\n",
    "    axes[1, i].set_ylim([0, 0.5])\n",
    "    axes[1, i].set_xlabel('Instance Index', fontsize=10)\n",
    "    if i == 0:\n",
    "        axes[1, i].set_ylabel('Class 1\\nAttention', fontsize=10)\n",
    "\n",
    "plt.tight_layout()\n",
    "plt.show()\n",
    "\n",
    "# Attention 분산 분석\n",
    "print(\"\\n📊 Attention 분산 분석 (클래스별)\")\n",
    "class_0_vars = [np.var(att) for att in class_0_attentions]\n",
    "class_1_vars = [np.var(att) for att in class_1_attentions]\n",
    "\n",
    "print(f\"Class 0 Attention 평균 분산: {np.mean(class_0_vars):.4f} ± {np.std(class_0_vars):.4f}\")\n",
    "print(f\"Class 1 Attention 평균 분산: {np.mean(class_1_vars):.4f} ± {np.std(class_1_vars):.4f}\")\n",
    "\n",
    "# 클래스별 attention의 차이 분석\n",
    "attention_diffs = []\n",
    "for c0, c1 in zip(class_0_attentions, class_1_attentions):\n",
    "    diff = np.abs(c0 - c1).mean()\n",
    "    attention_diffs.append(diff)\n",
    "\n",
    "print(f\"\\n클래스 간 Attention 차이 평균: {np.mean(attention_diffs):.4f} ± {np.std(attention_diffs):.4f}\")\n",
    "print(\"(값이 클수록 클래스별로 다른 패치에 주목함을 의미)\")\n",
    "\n",
    "print(\"\\n💡 AttriMIL 인사이트:\")\n",
    "print(\"  • Multi-branch 구조로 각 클래스별로 다른 attention 패턴 학습\")\n",
    "print(\"  • 클래스별로 중요한 instance가 다를 수 있음을 포착\")\n",
    "print(\"  • 더 풍부한 표현력으로 복잡한 패턴 학습 가능\")"
   ]
  },
  {
   "cell_type": "code",
   "execution_count": null,
   "metadata": {
    "ExecuteTime": {
     "end_time": "2025-09-05T03:19:01.602143Z",
     "start_time": "2025-09-05T03:19:01.602129Z"
    }
   },
   "outputs": [],
   "source": [
    "# 최종 결론 및 권장사항\n",
    "\n",
    "print(\"\\n\" + \"=\"*80)\n",
    "print(\"📝 실험 결론 및 권장사항\")\n",
    "print(\"=\"*80)\n",
    "\n",
    "# 성능 순위\n",
    "sorted_by_auc = sorted(final_results.items(), key=lambda x: x[1]['auc'], reverse=True)\n",
    "sorted_by_f1 = sorted(final_results.items(), key=lambda x: x[1]['f1'], reverse=True)\n",
    "\n",
    "print(\"\\n🏅 최종 성능 순위:\")\n",
    "print(\"\\nAUC 기준:\")\n",
    "for i, (model, results) in enumerate(sorted_by_auc, 1):\n",
    "    print(f\"  {i}. {model}: {results['auc']:.4f}\")\n",
    "\n",
    "print(\"\\nF1 Score 기준:\")\n",
    "for i, (model, results) in enumerate(sorted_by_f1, 1):\n",
    "    print(f\"  {i}. {model}: {results['f1']:.4f}\")\n",
    "\n",
    "# AttriMIL 성능 분석\n",
    "attrimil_rank_auc = [i for i, (m, _) in enumerate(sorted_by_auc, 1) if m == 'AttriMIL'][0]\n",
    "attrimil_rank_f1 = [i for i, (m, _) in enumerate(sorted_by_f1, 1) if m == 'AttriMIL'][0]\n",
    "\n",
    "print(f\"\\n🔬 AttriMIL 분석:\")\n",
    "print(f\"  • AUC 순위: {attrimil_rank_auc}위\")\n",
    "print(f\"  • F1 순위: {attrimil_rank_f1}위\")\n",
    "\n",
    "if attrimil_rank_auc == 1:\n",
    "    print(\"  ✨ AttriMIL이 최고 성능을 보임!\")\n",
    "    print(\"  → Multi-branch 구조가 효과적으로 작동\")\n",
    "elif attrimil_rank_auc <= 2:\n",
    "    print(\"  ⭐ AttriMIL이 경쟁력 있는 성능을 보임\")\n",
    "    print(\"  → 추가 튜닝으로 성능 향상 가능\")\n",
    "else:\n",
    "    print(\"  📊 AttriMIL이 기대보다 낮은 성능\")\n",
    "    print(\"  → 하이퍼파라미터 조정 필요\")\n",
    "\n",
    "print(\"\\n💡 권장사항:\")\n",
    "print(\"1. AttriMIL 개선 방안:\")\n",
    "print(\"   • Hidden dimension 증가 (128 → 256)\")\n",
    "print(\"   • Learning rate 조정 (1e-4 시도)\")\n",
    "print(\"   • Dropout rate 조정 (0.2 시도)\")\n",
    "print(\"\\n2. 추가 실험 제안:\")\n",
    "print(\"   • 더 많은 에포크로 학습 (20-30 epochs)\")\n",
    "print(\"   • 다른 옵티마이저 시도 (AdamW, SGD with momentum)\")\n",
    "print(\"   • Ensemble 방법 적용\")\n",
    "print(\"\\n3. 데이터 관련:\")\n",
    "print(\"   • Bag 크기 조정 (10 → 15 or 20)\")\n",
    "print(\"   • 다른 augmentation 기법 적용\")\n",
    "print(\"   • 클래스 불균형 처리 강화\")\n",
    "\n",
    "print(\"\\n\" + \"=\"*80)\n",
    "print(\"✅ 모든 분석 완료!\")\n",
    "print(\"=\"*80)"
   ]
  }
 ],
 "metadata": {
  "kernelspec": {
   "display_name": "Python 3 (ipykernel)",
   "language": "python",
   "name": "python3"
  },
  "language_info": {
   "codemirror_mode": {
    "name": "ipython",
    "version": 3
   },
   "file_extension": ".py",
   "mimetype": "text/x-python",
   "name": "python",
   "nbconvert_exporter": "python",
   "pygments_lexer": "ipython3",
   "version": "3.8.15"
  },
  "toc": {
   "base_numbering": 1,
   "nav_menu": {},
   "number_sections": true,
   "sideBar": true,
   "skip_h1_title": false,
   "title_cell": "Table of Contents",
   "title_sidebar": "Contents",
   "toc_cell": false,
   "toc_position": {},
   "toc_section_display": true,
   "toc_window_display": false
  }
 },
 "nbformat": 4,
 "nbformat_minor": 4
}
