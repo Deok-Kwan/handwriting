{
 "cells": [
  {
   "cell_type": "markdown",
   "metadata": {
    "ExecuteTime": {
     "end_time": "2025-07-13T16:02:25.257859Z",
     "start_time": "2025-07-13T16:02:25.251875Z"
    },
    "vscode": {
     "languageId": "plaintext"
    }
   },
   "source": [
    "# 셀 1 : 환경 설정 & 라이브러리 로드"
   ]
  },
  {
   "cell_type": "code",
   "execution_count": 1,
   "metadata": {
    "ExecuteTime": {
     "end_time": "2025-07-31T04:26:32.868988Z",
     "start_time": "2025-07-31T04:26:32.398977Z"
    },
    "vscode": {
     "languageId": "plaintext"
    }
   },
   "outputs": [
    {
     "name": "stdout",
     "output_type": "stream",
     "text": [
      "Stage‑2 Bag‑Generator 초기화 완료\n"
     ]
    }
   ],
   "source": [
    "import os, random, json, pickle, math\n",
    "import numpy as np\n",
    "import pandas as pd\n",
    "from tqdm import tqdm\n",
    "\n",
    "# Stage‑1 과 동일 GPU 환경 고정\n",
    "os.environ[\"CUDA_DEVICE_ORDER\"]    = \"PCI_BUS_ID\"\n",
    "os.environ[\"CUDA_VISIBLE_DEVICES\"] = \"1\"      # 물리 GPU 3번만 사용\n",
    "\n",
    "# 재현성\n",
    "SEED = 42\n",
    "random.seed(SEED)\n",
    "np.random.seed(SEED)\n",
    "\n",
    "print(\"Stage‑2 Bag‑Generator 초기화 완료\")"
   ]
  },
  {
   "cell_type": "markdown",
   "metadata": {
    "vscode": {
     "languageId": "plaintext"
    }
   },
   "source": [
    "# 셀 2 : 전역 하이퍼파라미터 선언"
   ]
  },
  {
   "cell_type": "code",
   "execution_count": 2,
   "metadata": {
    "ExecuteTime": {
     "end_time": "2025-07-31T04:26:32.883061Z",
     "start_time": "2025-07-31T04:26:32.873651Z"
    },
    "vscode": {
     "languageId": "plaintext"
    }
   },
   "outputs": [
    {
     "name": "stdout",
     "output_type": "stream",
     "text": [
      "{\n",
      "  \"embedding_root\": \"/workspace/MIL/data/processed/embeddings\",\n",
      "  \"embedding_tag\": \"arcface_margin_0.4\",\n",
      "  \"output_dir\": \"/workspace/MIL/data/processed/bags\",\n",
      "  \"window_size\": 5,\n",
      "  \"stride\": 1,\n",
      "  \"bag_block\": 10,\n",
      "  \"neg_mix_ratio\": [\n",
      "    0.05,\n",
      "    0.1,\n",
      "    0.2,\n",
      "    0.3\n",
      "  ],\n",
      "  \"bags_per_doc\": 8,\n",
      "  \"pickle_protocol\": 4\n",
      "}\n"
     ]
    }
   ],
   "source": [
    "CONFIG = {\n",
    "    # ---------- 파일 경로 ----------\n",
    "    \"embedding_root\": \"/workspace/MIL/data/processed/embeddings\",\n",
    "    \"embedding_tag\" : \"arcface_margin_0.4\",          # Stage‑1 결과 파일 prefix\n",
    "    \"output_dir\"    : \"/workspace/MIL/data/processed/bags\",\n",
    "\n",
    "    # ---------- MIL 슬라이딩 윈도우 ----------\n",
    "    \"window_size\" : 5,        # 단어 5개 = 1 Instance\n",
    "    \"stride\"      : 1,\n",
    "\n",
    "    # ---------- Bag 합성 ----------\n",
    "    \"bag_block\"   : 10,       # 1 block = 10 윈도우\n",
    "    \"neg_mix_ratio\": [0.05, 0.10, 0.20, 0.30],  # 위조 난이도별 비율\n",
    "    \"bags_per_doc\": 8,        # 문서당 Bag 수\n",
    "\n",
    "    # ---------- 저장 ----------\n",
    "    \"pickle_protocol\": 4\n",
    "}\n",
    "\n",
    "os.makedirs(CONFIG[\"output_dir\"], exist_ok=True)\n",
    "print(json.dumps(CONFIG, indent=2))\n"
   ]
  },
  {
   "cell_type": "markdown",
   "metadata": {
    "vscode": {
     "languageId": "plaintext"
    }
   },
   "source": [
    "# 셀 3 : 임베딩 CSV 로드 함수"
   ]
  },
  {
   "cell_type": "code",
   "execution_count": 3,
   "metadata": {
    "ExecuteTime": {
     "end_time": "2025-07-31T04:26:43.415859Z",
     "start_time": "2025-07-31T04:26:32.887415Z"
    },
    "vscode": {
     "languageId": "plaintext"
    }
   },
   "outputs": [
    {
     "name": "stdout",
     "output_type": "stream",
     "text": [
      "CSV 로드 완료: [208233, 70533, 72457]\n"
     ]
    }
   ],
   "source": [
    "def load_split(split: str) -> pd.DataFrame:\n",
    "    \"\"\"\n",
    "    split ∈ {'train','val','test'}\n",
    "    CSV → DataFrame 반환\n",
    "    \"\"\"\n",
    "    csv_path = f\"{CONFIG['embedding_root']}/mil_{CONFIG['embedding_tag']}_{split}_data.csv\"\n",
    "    df = pd.read_csv(csv_path)\n",
    "    assert df.shape[1] >= 3, f\"컬럼 수 이상함: {csv_path}\"\n",
    "    return df\n",
    "\n",
    "df_train = load_split(\"train\")   # 0‑179\n",
    "df_val   = load_split(\"val\")     # 180‑239\n",
    "df_test  = load_split(\"test\")    # 240‑299\n",
    "print(\"CSV 로드 완료:\", [len(df_train), len(df_val), len(df_test)])\n"
   ]
  },
  {
   "cell_type": "markdown",
   "metadata": {
    "vscode": {
     "languageId": "plaintext"
    }
   },
   "source": [
    "# 셀 4 : 슬라이딩‑윈도우 Instance 생성 유틸"
   ]
  },
  {
   "cell_type": "code",
   "execution_count": 4,
   "metadata": {
    "ExecuteTime": {
     "end_time": "2025-07-31T04:26:53.070921Z",
     "start_time": "2025-07-31T04:26:43.425046Z"
    },
    "vscode": {
     "languageId": "plaintext"
    }
   },
   "outputs": [
    {
     "name": "stdout",
     "output_type": "stream",
     "text": [
      "총 문서 수: 720\n"
     ]
    },
    {
     "name": "stderr",
     "output_type": "stream",
     "text": [
      "docs: 100%|██████████| 720/720 [00:01<00:00, 398.50it/s]\n"
     ]
    },
    {
     "name": "stdout",
     "output_type": "stream",
     "text": [
      "총 문서 수: 240\n"
     ]
    },
    {
     "name": "stderr",
     "output_type": "stream",
     "text": [
      "docs: 100%|██████████| 240/240 [00:00<00:00, 408.28it/s]\n"
     ]
    },
    {
     "name": "stdout",
     "output_type": "stream",
     "text": [
      "총 문서 수: 240\n"
     ]
    },
    {
     "name": "stderr",
     "output_type": "stream",
     "text": [
      "docs: 100%|██████████| 240/240 [00:00<00:00, 396.12it/s]"
     ]
    },
    {
     "name": "stdout",
     "output_type": "stream",
     "text": [
      "Instance 개수: [205356, 69573, 71500]\n"
     ]
    },
    {
     "name": "stderr",
     "output_type": "stream",
     "text": [
      "\n"
     ]
    }
   ],
   "source": [
    "def build_instances(df: pd.DataFrame, win: int, stride: int):\n",
    "    \"\"\"\n",
    "    DataFrame → List[ (writer_id, doc_id, win_embeddings (win×D)) ]\n",
    "    * doc_id는 작성자ID/세션 조합으로 정의\n",
    "    \"\"\"\n",
    "    inst_list = []\n",
    "    D = df.filter(like=\"embedding_\").shape[1]\n",
    "\n",
    "    # 문서 단위 그룹핑 (작성자/세션 조합)\n",
    "    # path 형식: {label}/{word}_{repetition}.png\n",
    "    def get_session(path):\n",
    "        rep_num = int(path.split('_')[-1].split('.')[0])\n",
    "        return rep_num // 9  # 0-8, 9-17, 18-26 (3개 세션)\n",
    "    \n",
    "    df[\"doc_key\"] = df.apply(lambda row: f\"{row['label']}/session_{get_session(row['path'])}\", axis=1)\n",
    "    \n",
    "    # 디버깅: 문서 수 확인\n",
    "    print(f\"총 문서 수: {df['doc_key'].nunique()}\")\n",
    "    \n",
    "    for doc_key, g in tqdm(df.groupby(\"doc_key\"), total=df[\"doc_key\"].nunique(), desc=\"docs\"):\n",
    "        emb = g.filter(like=\"embedding_\").to_numpy()\n",
    "        lab = g[\"label\"].iloc[0]\n",
    "        \n",
    "        # 문서가 너무 작으면 스킵\n",
    "        if len(emb) < win:\n",
    "            continue\n",
    "            \n",
    "        for s in range(0, len(emb) - win + 1, stride):\n",
    "            window_emb = emb[s: s + win]         # (win, D)\n",
    "            inst_list.append(\n",
    "                {\n",
    "                    \"writer\": int(lab),\n",
    "                    \"doc\": doc_key,\n",
    "                    \"emb\": window_emb.astype(np.float32)\n",
    "                }\n",
    "            )\n",
    "    return inst_list\n",
    "\n",
    "inst_train = build_instances(df_train, CONFIG[\"window_size\"], CONFIG[\"stride\"])\n",
    "inst_val   = build_instances(df_val,   CONFIG[\"window_size\"], CONFIG[\"stride\"])\n",
    "inst_test  = build_instances(df_test,  CONFIG[\"window_size\"], CONFIG[\"stride\"])\n",
    "\n",
    "print(\"Instance 개수:\", [len(inst_train), len(inst_val), len(inst_test)])"
   ]
  },
  {
   "cell_type": "markdown",
   "metadata": {
    "vscode": {
     "languageId": "plaintext"
    }
   },
   "source": [
    "# 셀 5 : Positive / Negative Bag 합성"
   ]
  },
  {
   "cell_type": "code",
   "execution_count": 5,
   "metadata": {
    "ExecuteTime": {
     "end_time": "2025-07-31T04:45:57.209938Z",
     "start_time": "2025-07-31T04:26:53.074516Z"
    },
    "vscode": {
     "languageId": "plaintext"
    }
   },
   "outputs": [
    {
     "name": "stdout",
     "output_type": "stream",
     "text": [
      "TRAIN Bag 생성 완료: 21605 bags (불균형 상태)\n",
      "  - 원본: Positive 4321, Negative 17284 (1:4.0)\n",
      "  - 균형화: Positive 4321, Negative 8642 (1:2)\n",
      "TRAIN 최종 Bag 개수: 12963\n",
      "VAL Bag 생성 완료: 7200 bags (불균형 상태)\n",
      "  - 원본: Positive 1440, Negative 5760 (1:4.0)\n",
      "  - 균형화: Positive 1440, Negative 2880 (1:2)\n",
      "VAL 최종 Bag 개수: 4320\n",
      "TEST Bag 생성 완료: 7200 bags (불균형 상태)\n",
      "  - 원본: Positive 1440, Negative 5760 (1:4.0)\n",
      "  - 균형화: Positive 1440, Negative 2880 (1:2)\n",
      "TEST 최종 Bag 개수: 4320\n"
     ]
    }
   ],
   "source": [
    "def synthesize_bags(inst_list, neg_source, mode:str):\n",
    "    \"\"\"\n",
    "    mode ∈ {'train','val','test'}\n",
    "    neg_source: negative sampling에 사용할 instance pool\n",
    "    반환: List[ {bag_emb:(n_inst,D,win), bag_label(0/1)} ]\n",
    "    \"\"\"\n",
    "    random.shuffle(inst_list)           # in‑place\n",
    "    bags = []\n",
    "    block = CONFIG[\"bag_block\"]\n",
    "    win   = CONFIG[\"window_size\"]\n",
    "\n",
    "    # 문서별로 그룹핑\n",
    "    from collections import defaultdict\n",
    "    doc_dic = defaultdict(list)\n",
    "    for inst in inst_list:\n",
    "        doc_dic[inst[\"doc\"]].append(inst)\n",
    "\n",
    "    # Bag 생성\n",
    "    for doc_key, insts in doc_dic.items():\n",
    "        total_blocks = math.floor(len(insts) / block)\n",
    "        for b in range(min(total_blocks, CONFIG[\"bags_per_doc\"])):\n",
    "            start = b * block\n",
    "            block_insts = insts[start: start + block]\n",
    "\n",
    "            base_writer = block_insts[0][\"writer\"]\n",
    "            base_emb    = np.stack([i[\"emb\"] for i in block_insts])  # (block, win, D)\n",
    "\n",
    "            # Positive Bag\n",
    "            bags.append({\n",
    "                \"bag_emb\": base_emb,               # (block,win,D)\n",
    "                \"bag_label\": 0,                    # 0 = single‑writer\n",
    "                \"writer\":   base_writer,\n",
    "                \"doc\":      doc_key,\n",
    "                \"neg_ratio\": 0.0,                 # positive bag은 ratio 0\n",
    "                \"bag_id\": f\"{doc_key}_block{b}_pos\"  # 고유 식별자 추가\n",
    "            })\n",
    "\n",
    "            # Negative Bags (mix ratios)\n",
    "            for r in CONFIG[\"neg_mix_ratio\"]:\n",
    "                # 최소 1개는 교체되도록 보장\n",
    "                k_replace = max(1, int(block * r))\n",
    "                new_emb = base_emb.copy()\n",
    "\n",
    "                # 다른 작성자 instance pool (neg_source에서 가져옴)\n",
    "                neg_pool = [inst for inst in neg_source if inst[\"writer\"] != base_writer]\n",
    "                repl_idxs = random.sample(range(block), k_replace)\n",
    "                for idx in repl_idxs:\n",
    "                    new_emb[idx] = random.choice(neg_pool)[\"emb\"]\n",
    "\n",
    "                bags.append({\n",
    "                    \"bag_emb\": new_emb,\n",
    "                    \"bag_label\": 1,                # 1 = multi‑writer\n",
    "                    \"writer\":   base_writer,\n",
    "                    \"doc\":      doc_key,\n",
    "                    \"neg_ratio\": r,                # negative ratio 기록\n",
    "                    \"bag_id\": f\"{doc_key}_block{b}_neg{r}\"  # 고유 식별자 추가\n",
    "                })\n",
    "    \n",
    "    print(f\"{mode.upper()} Bag 생성 완료: {len(bags)} bags (불균형 상태)\")\n",
    "    \n",
    "    # 클래스 불균형 완화 (모든 split에 적용)\n",
    "    pos_bags = [b for b in bags if b[\"bag_label\"] == 0]\n",
    "    neg_bags = [b for b in bags if b[\"bag_label\"] == 1]\n",
    "    \n",
    "    # 현재 비율 출력\n",
    "    print(f\"  - 원본: Positive {len(pos_bags)}, Negative {len(neg_bags)} (1:{len(neg_bags)/len(pos_bags):.1f})\")\n",
    "    \n",
    "    # 1:2 비율로 다운샘플링 (negative를 줄임)\n",
    "    target_neg = len(pos_bags) * 2\n",
    "    if len(neg_bags) > target_neg:\n",
    "        # neg_ratio별로 균등하게 샘플링\n",
    "        neg_by_ratio = defaultdict(list)\n",
    "        for b in neg_bags:\n",
    "            neg_by_ratio[b[\"neg_ratio\"]].append(b)\n",
    "        \n",
    "        sampled_neg = []\n",
    "        per_ratio = target_neg // len(CONFIG[\"neg_mix_ratio\"])\n",
    "        for ratio in CONFIG[\"neg_mix_ratio\"]:\n",
    "            ratio_bags = neg_by_ratio[ratio]\n",
    "            sampled = random.sample(ratio_bags, min(per_ratio, len(ratio_bags)))\n",
    "            sampled_neg.extend(sampled)\n",
    "        \n",
    "        # 부족한 수만큼 랜덤 추가\n",
    "        if len(sampled_neg) < target_neg:\n",
    "            remaining = target_neg - len(sampled_neg)\n",
    "            # 고유 ID를 사용한 안전한 비교 (오류 해결)\n",
    "            sampled_ids = set(b[\"bag_id\"] for b in sampled_neg)\n",
    "            pool = [b for b in neg_bags if b[\"bag_id\"] not in sampled_ids]\n",
    "            sampled_neg.extend(random.sample(pool, min(remaining, len(pool))))\n",
    "        \n",
    "        bags = pos_bags + sampled_neg[:target_neg]\n",
    "        random.shuffle(bags)\n",
    "        print(f\"  - 균형화: Positive {len(pos_bags)}, Negative {len([b for b in bags if b['bag_label']==1])} (1:2)\")\n",
    "    \n",
    "    print(f\"{mode.upper()} 최종 Bag 개수: {len(bags)}\")\n",
    "    return bags\n",
    "\n",
    "# 각 split별로 자신의 pool 사용\n",
    "bags_train = synthesize_bags(inst_train, inst_train, \"train\")\n",
    "bags_val   = synthesize_bags(inst_val,   inst_val,   \"val\")\n",
    "bags_test  = synthesize_bags(inst_test,  inst_test,  \"test\")"
   ]
  },
  {
   "cell_type": "markdown",
   "metadata": {
    "vscode": {
     "languageId": "plaintext"
    }
   },
   "source": [
    "# 셀 6 : 저장 (Pickle + 메타 JSON)"
   ]
  },
  {
   "cell_type": "code",
   "execution_count": 6,
   "metadata": {
    "ExecuteTime": {
     "end_time": "2025-07-31T04:45:59.974492Z",
     "start_time": "2025-07-31T04:45:57.216007Z"
    },
    "vscode": {
     "languageId": "plaintext"
    }
   },
   "outputs": [
    {
     "name": "stdout",
     "output_type": "stream",
     "text": [
      "✔ TRAIN Pickle 저장: /workspace/MIL/data/processed/bags/bags_arcface_margin_0.4_train.pkl (12963 bags)\n",
      "✔ VAL Pickle 저장: /workspace/MIL/data/processed/bags/bags_arcface_margin_0.4_val.pkl (4320 bags)\n",
      "✔ TEST Pickle 저장: /workspace/MIL/data/processed/bags/bags_arcface_margin_0.4_test.pkl (4320 bags)\n",
      "메타 정보 저장 완료 (neg_ratio 분포 포함)\n"
     ]
    }
   ],
   "source": [
    "def save_bags(bags, split:str):\n",
    "    out_pk = f\"{CONFIG['output_dir']}/bags_{CONFIG['embedding_tag']}_{split}.pkl\"\n",
    "    with open(out_pk, \"wb\") as f:\n",
    "        pickle.dump(bags, f, protocol=CONFIG[\"pickle_protocol\"])\n",
    "    print(f\"✔ {split.upper()} Pickle 저장: {out_pk} ({len(bags)} bags)\")\n",
    "\n",
    "for split, obj in zip([\"train\",\"val\",\"test\"], [bags_train, bags_val, bags_test]):\n",
    "    save_bags(obj, split)\n",
    "\n",
    "# neg_ratio별 분포 계산\n",
    "def get_ratio_distribution(bags):\n",
    "    from collections import Counter\n",
    "    ratios = [b.get(\"neg_ratio\", 0.0) for b in bags]\n",
    "    return dict(Counter(ratios))\n",
    "\n",
    "# 메타 정보 기록\n",
    "meta = {\n",
    "    \"config\": CONFIG,\n",
    "    \"seed\": SEED,\n",
    "    \"stats\": {\n",
    "        \"train_bags\": len(bags_train),\n",
    "        \"val_bags\":   len(bags_val),\n",
    "        \"test_bags\":  len(bags_test),\n",
    "        \"train_pos_neg\": {\n",
    "            \"positive\": len([b for b in bags_train if b[\"bag_label\"] == 0]),\n",
    "            \"negative\": len([b for b in bags_train if b[\"bag_label\"] == 1])\n",
    "        },\n",
    "        \"val_pos_neg\": {\n",
    "            \"positive\": len([b for b in bags_val if b[\"bag_label\"] == 0]),\n",
    "            \"negative\": len([b for b in bags_val if b[\"bag_label\"] == 1])\n",
    "        },\n",
    "        \"test_pos_neg\": {\n",
    "            \"positive\": len([b for b in bags_test if b[\"bag_label\"] == 0]),\n",
    "            \"negative\": len([b for b in bags_test if b[\"bag_label\"] == 1])\n",
    "        },\n",
    "        \"neg_ratio_distribution\": {\n",
    "            \"train\": get_ratio_distribution(bags_train),\n",
    "            \"val\": get_ratio_distribution(bags_val),\n",
    "            \"test\": get_ratio_distribution(bags_test)\n",
    "        }\n",
    "    }\n",
    "}\n",
    "with open(f\"{CONFIG['output_dir']}/bags_{CONFIG['embedding_tag']}_meta.json\",\"w\") as f:\n",
    "    json.dump(meta, f, indent=2)\n",
    "print(\"메타 정보 저장 완료 (neg_ratio 분포 포함)\")"
   ]
  },
  {
   "cell_type": "markdown",
   "metadata": {
    "vscode": {
     "languageId": "plaintext"
    }
   },
   "source": [
    "# 셀 7 : 빠른 검증 — Bag 크기 & 라벨 분포"
   ]
  },
  {
   "cell_type": "code",
   "execution_count": 7,
   "metadata": {
    "ExecuteTime": {
     "end_time": "2025-07-31T04:46:00.020939Z",
     "start_time": "2025-07-31T04:45:59.977569Z"
    },
    "vscode": {
     "languageId": "plaintext"
    }
   },
   "outputs": [
    {
     "name": "stdout",
     "output_type": "stream",
     "text": [
      "===== 클래스 균형 검증 =====\n",
      "\n",
      "TRAIN 세트:\n",
      "  - Positive (single-writer): 4321\n",
      "  - Negative (multi-writer): 8642\n",
      "  - 비율 (Neg:Pos): 2.00:1\n",
      "  - Negative ratio 분포:\n",
      "    * 0.05: 2160 bags (25.0%)\n",
      "    * 0.1: 2160 bags (25.0%)\n",
      "    * 0.2: 2161 bags (25.0%)\n",
      "    * 0.3: 2161 bags (25.0%)\n",
      "\n",
      "VAL 세트:\n",
      "  - Positive (single-writer): 1440\n",
      "  - Negative (multi-writer): 2880\n",
      "  - 비율 (Neg:Pos): 2.00:1\n",
      "  - Negative ratio 분포:\n",
      "    * 0.05: 720 bags (25.0%)\n",
      "    * 0.1: 720 bags (25.0%)\n",
      "    * 0.2: 720 bags (25.0%)\n",
      "    * 0.3: 720 bags (25.0%)\n",
      "\n",
      "TEST 세트:\n",
      "  - Positive (single-writer): 1440\n",
      "  - Negative (multi-writer): 2880\n",
      "  - 비율 (Neg:Pos): 2.00:1\n",
      "  - Negative ratio 분포:\n",
      "    * 0.05: 720 bags (25.0%)\n",
      "    * 0.1: 720 bags (25.0%)\n",
      "    * 0.2: 720 bags (25.0%)\n",
      "    * 0.3: 720 bags (25.0%)\n",
      "\n",
      "===== 샘플 Bag 정보 =====\n",
      "Positive Bag: shape=(10, 5, 256), label=0, neg_ratio=0.0\n",
      "Negative Bag: shape=(10, 5, 256), label=1, neg_ratio=0.1\n",
      "\n",
      "훈련 데이터 메모리 사용량 (대략): 0.62 GB\n"
     ]
    }
   ],
   "source": [
    "import collections\n",
    "\n",
    "# 클래스 균형 및 neg_ratio 분포 검증\n",
    "print(\"===== 클래스 균형 검증 =====\")\n",
    "for split, bags in [(\"train\", bags_train), (\"val\", bags_val), (\"test\", bags_test)]:\n",
    "    pos_cnt = sum(1 for b in bags if b[\"bag_label\"] == 0)\n",
    "    neg_cnt = sum(1 for b in bags if b[\"bag_label\"] == 1)\n",
    "    ratio = neg_cnt / pos_cnt if pos_cnt > 0 else 0\n",
    "    \n",
    "    print(f\"\\n{split.upper()} 세트:\")\n",
    "    print(f\"  - Positive (single-writer): {pos_cnt}\")\n",
    "    print(f\"  - Negative (multi-writer): {neg_cnt}\")\n",
    "    print(f\"  - 비율 (Neg:Pos): {ratio:.2f}:1\")\n",
    "    \n",
    "    # neg_ratio별 분포\n",
    "    if neg_cnt > 0:\n",
    "        neg_ratios = [b[\"neg_ratio\"] for b in bags if b[\"bag_label\"] == 1]\n",
    "        ratio_dist = collections.Counter(neg_ratios)\n",
    "        print(f\"  - Negative ratio 분포:\")\n",
    "        for r in sorted(ratio_dist.keys()):\n",
    "            print(f\"    * {r}: {ratio_dist[r]} bags ({ratio_dist[r]/neg_cnt*100:.1f}%)\")\n",
    "\n",
    "# 샘플 Bag 확인\n",
    "print(\"\\n===== 샘플 Bag 정보 =====\")\n",
    "sample_pos = next(b for b in bags_train if b[\"bag_label\"] == 0)\n",
    "sample_neg = next(b for b in bags_train if b[\"bag_label\"] == 1)\n",
    "\n",
    "print(f\"Positive Bag: shape={sample_pos['bag_emb'].shape}, label={sample_pos['bag_label']}, neg_ratio={sample_pos.get('neg_ratio', 'N/A')}\")\n",
    "print(f\"Negative Bag: shape={sample_neg['bag_emb'].shape}, label={sample_neg['bag_label']}, neg_ratio={sample_neg.get('neg_ratio', 'N/A')}\")\n",
    "\n",
    "# 메모리 사용량 추정\n",
    "import sys\n",
    "total_size = sum(sys.getsizeof(b['bag_emb']) for b in bags_train)\n",
    "print(f\"\\n훈련 데이터 메모리 사용량 (대략): {total_size / 1024**3:.2f} GB\")"
   ]
  },
  {
   "cell_type": "markdown",
   "metadata": {
    "vscode": {
     "languageId": "plaintext"
    }
   },
   "source": [
    "# 셀 8 : 요약 출력"
   ]
  },
  {
   "cell_type": "code",
   "execution_count": 8,
   "metadata": {
    "ExecuteTime": {
     "end_time": "2025-07-31T04:46:00.084855Z",
     "start_time": "2025-07-31T04:46:00.023055Z"
    },
    "vscode": {
     "languageId": "plaintext"
    }
   },
   "outputs": [
    {
     "name": "stdout",
     "output_type": "stream",
     "text": [
      "\n",
      "===== Stage‑2 Bag Generation 완료 =====\n",
      "저장 경로: /workspace/MIL/data/processed/bags\n",
      "- Pickle 3 종 + meta.json\n",
      "윈도우: 5 / stride 1\n",
      "Block:  10  | Negative ratios: [0.05, 0.1, 0.2, 0.3]\n",
      "Stage‑3 Notebook(AB_MIL_arcface_256d.ipynb)에서 바로 로드 가능합니다.\n"
     ]
    }
   ],
   "source": [
    "print(\"\\n===== Stage‑2 Bag Generation 완료 =====\")\n",
    "print(f\"저장 경로: {CONFIG['output_dir']}\")\n",
    "print(f\"- Pickle 3 종 + meta.json\")\n",
    "print(f\"윈도우: {CONFIG['window_size']} / stride {CONFIG['stride']}\")\n",
    "print(f\"Block:  {CONFIG['bag_block']}  | Negative ratios: {CONFIG['neg_mix_ratio']}\")\n",
    "print(\"Stage‑3 Notebook(AB_MIL_arcface_256d.ipynb)에서 바로 로드 가능합니다.\")\n"
   ]
  },
  {
   "cell_type": "code",
   "execution_count": null,
   "metadata": {},
   "outputs": [],
   "source": []
  }
 ],
 "metadata": {
  "kernelspec": {
   "display_name": "Python 3 (ipykernel)",
   "language": "python",
   "name": "python3"
  },
  "language_info": {
   "codemirror_mode": {
    "name": "ipython",
    "version": 3
   },
   "file_extension": ".py",
   "mimetype": "text/x-python",
   "name": "python",
   "nbconvert_exporter": "python",
   "pygments_lexer": "ipython3",
   "version": "3.8.15"
  },
  "toc": {
   "base_numbering": 1,
   "nav_menu": {},
   "number_sections": true,
   "sideBar": true,
   "skip_h1_title": false,
   "title_cell": "Table of Contents",
   "title_sidebar": "Contents",
   "toc_cell": false,
   "toc_position": {},
   "toc_section_display": true,
   "toc_window_display": false
  }
 },
 "nbformat": 4,
 "nbformat_minor": 4
}
