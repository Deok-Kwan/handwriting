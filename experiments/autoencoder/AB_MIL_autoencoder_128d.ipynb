{
 "cells": [
  {
   "cell_type": "code",
   "execution_count": 8,
   "id": "54780229-3e67-4429-9456-385e88d76429",
   "metadata": {},
   "outputs": [
    {
     "data": {
      "text/html": [
       "\n",
       "<style>\n",
       ".container {\n",
       "    width: 70% !important;\n",
       "    max-width: 70% !important;\n",
       "}\n",
       "</style>\n"
      ],
      "text/plain": [
       "<IPython.core.display.HTML object>"
      ]
     },
     "execution_count": 8,
     "metadata": {},
     "output_type": "execute_result"
    }
   ],
   "source": [
    "from IPython.display import HTML\n",
    "\n",
    "HTML('''\n",
    "<style>\n",
    ".container {\n",
    "    width: 70% !important;\n",
    "    max-width: 70% !important;\n",
    "}\n",
    "</style>\n",
    "''')\n"
   ]
  },
  {
   "cell_type": "code",
   "execution_count": 12,
   "id": "5c3276a8",
   "metadata": {
    "ExecuteTime": {
     "end_time": "2025-06-28T07:20:48.554292Z",
     "start_time": "2025-06-28T07:20:48.536955Z"
    }
   },
   "outputs": [
    {
     "name": "stdout",
     "output_type": "stream",
     "text": [
      "Using device: cuda:0\n",
      "GPU 이름: NVIDIA GeForce RTX 3090\n",
      "GPU 메모리: 23.69 GB\n",
      "현재 GPU 메모리 사용량: 0.02 GB\n",
      "Mixed Precision Training 활성화 (속도 향상)\n",
      "CUDNN 벤치마크 및 TF32 활성화\n"
     ]
    },
    {
     "name": "stderr",
     "output_type": "stream",
     "text": [
      "/tmp/ipykernel_15960/230922641.py:25: FutureWarning: `torch.cuda.amp.GradScaler(args...)` is deprecated. Please use `torch.amp.GradScaler('cuda', args...)` instead.\n",
      "  scaler = GradScaler()\n"
     ]
    }
   ],
   "source": [
    "import torch.nn as nn\n",
    "import torch.nn.functional as F\n",
    "from tqdm import tqdm\n",
    "import torch\n",
    "import numpy as np\n",
    "import pandas as pd\n",
    "import torch.optim as optim\n",
    "import torch\n",
    "from torch.utils.data import Dataset, DataLoader\n",
    "import matplotlib.pyplot as plt\n",
    "from sklearn.metrics import roc_curve, auc, accuracy_score, roc_auc_score, recall_score, precision_score, f1_score\n",
    "\n",
    "# GPU 선택 및 Mixed Precision 설정\n",
    "device = torch.device(\"cuda:0\" if torch.cuda.is_available() else \"cpu\")\n",
    "print(f\"Using device: {device}\")\n",
    "\n",
    "# GPU 정보 확인\n",
    "if torch.cuda.is_available():\n",
    "    print(f\"GPU 이름: {torch.cuda.get_device_name(0)}\")\n",
    "    print(f\"GPU 메모리: {torch.cuda.get_device_properties(0).total_memory / 1024**3:.2f} GB\")\n",
    "    print(f\"현재 GPU 메모리 사용량: {torch.cuda.memory_allocated(0) / 1024**3:.2f} GB\")\n",
    "    \n",
    "# Mixed Precision Training을 위한 GradScaler\n",
    "from torch.cuda.amp import GradScaler, autocast\n",
    "scaler = GradScaler()\n",
    "print(\"Mixed Precision Training 활성화 (속도 향상)\")\n",
    "\n",
    "# 성능 최적화 설정\n",
    "torch.backends.cudnn.benchmark = True\n",
    "torch.backends.cuda.matmul.allow_tf32 = True\n",
    "print(\"CUDNN 벤치마크 및 TF32 활성화\")"
   ]
  },
  {
   "cell_type": "code",
   "execution_count": 13,
   "id": "2cd1ed97",
   "metadata": {
    "ExecuteTime": {
     "end_time": "2025-06-28T07:20:57.988170Z",
     "start_time": "2025-06-28T07:20:48.664617Z"
    }
   },
   "outputs": [
    {
     "name": "stdout",
     "output_type": "stream",
     "text": [
      "Train bags 로드 완료: 4320\n",
      "Val bags 로드 완료: 1440\n",
      "Test bags 로드 완료: 1440\n",
      "\n",
      "=== 클래스 분포 확인 ===\n",
      "Train - False: 1080, True: 3240, 비율: 0.33\n",
      "Val - False: 360, True: 1080\n",
      "Test - False: 360, True: 1080\n",
      "\n",
      "=== 데이터 무결성 확인 ===\n",
      "Train 첫 번째 bag features 차원: 128\n",
      "예상 차원: 128 (맞아야 함)\n"
     ]
    },
    {
     "data": {
      "text/html": [
       "<div>\n",
       "<style scoped>\n",
       "    .dataframe tbody tr th:only-of-type {\n",
       "        vertical-align: middle;\n",
       "    }\n",
       "\n",
       "    .dataframe tbody tr th {\n",
       "        vertical-align: top;\n",
       "    }\n",
       "\n",
       "    .dataframe thead th {\n",
       "        text-align: right;\n",
       "    }\n",
       "</style>\n",
       "<table border=\"1\" class=\"dataframe\">\n",
       "  <thead>\n",
       "    <tr style=\"text-align: right;\">\n",
       "      <th></th>\n",
       "      <th>bag_id</th>\n",
       "      <th>label</th>\n",
       "      <th>metadata</th>\n",
       "      <th>features</th>\n",
       "    </tr>\n",
       "  </thead>\n",
       "  <tbody>\n",
       "    <tr>\n",
       "      <th>0</th>\n",
       "      <td>False_200_1</td>\n",
       "      <td>False</td>\n",
       "      <td>{'label': 200, 'repeat': 1, 'bag_size': 47, 'o...</td>\n",
       "      <td>[[0.4632517, 0.48108214, 1.062095, -0.36794165...</td>\n",
       "    </tr>\n",
       "    <tr>\n",
       "      <th>1</th>\n",
       "      <td>False_201_1</td>\n",
       "      <td>False</td>\n",
       "      <td>{'label': 201, 'repeat': 1, 'bag_size': 55, 'o...</td>\n",
       "      <td>[[-0.34756705, -2.9185777, 0.29297364, -1.0191...</td>\n",
       "    </tr>\n",
       "    <tr>\n",
       "      <th>2</th>\n",
       "      <td>False_202_1</td>\n",
       "      <td>False</td>\n",
       "      <td>{'label': 202, 'repeat': 1, 'bag_size': 56, 'o...</td>\n",
       "      <td>[[0.21132542, 2.1852295, 0.583949, -0.5527929,...</td>\n",
       "    </tr>\n",
       "    <tr>\n",
       "      <th>3</th>\n",
       "      <td>False_203_1</td>\n",
       "      <td>False</td>\n",
       "      <td>{'label': 203, 'repeat': 1, 'bag_size': 56, 'o...</td>\n",
       "      <td>[[2.0932672, -1.7507771, 2.584918, -0.8823181,...</td>\n",
       "    </tr>\n",
       "    <tr>\n",
       "      <th>4</th>\n",
       "      <td>False_204_1</td>\n",
       "      <td>False</td>\n",
       "      <td>{'label': 204, 'repeat': 1, 'bag_size': 52, 'o...</td>\n",
       "      <td>[[1.2001138, -0.65499663, -0.39570862, -0.5471...</td>\n",
       "    </tr>\n",
       "  </tbody>\n",
       "</table>\n",
       "</div>"
      ],
      "text/plain": [
       "        bag_id  label                                           metadata  \\\n",
       "0  False_200_1  False  {'label': 200, 'repeat': 1, 'bag_size': 47, 'o...   \n",
       "1  False_201_1  False  {'label': 201, 'repeat': 1, 'bag_size': 55, 'o...   \n",
       "2  False_202_1  False  {'label': 202, 'repeat': 1, 'bag_size': 56, 'o...   \n",
       "3  False_203_1  False  {'label': 203, 'repeat': 1, 'bag_size': 56, 'o...   \n",
       "4  False_204_1  False  {'label': 204, 'repeat': 1, 'bag_size': 52, 'o...   \n",
       "\n",
       "                                            features  \n",
       "0  [[0.4632517, 0.48108214, 1.062095, -0.36794165...  \n",
       "1  [[-0.34756705, -2.9185777, 0.29297364, -1.0191...  \n",
       "2  [[0.21132542, 2.1852295, 0.583949, -0.5527929,...  \n",
       "3  [[2.0932672, -1.7507771, 2.584918, -0.8823181,...  \n",
       "4  [[1.2001138, -0.65499663, -0.39570862, -0.5471...  "
      ]
     },
     "execution_count": 13,
     "metadata": {},
     "output_type": "execute_result"
    }
   ],
   "source": [
    "# 데이터 로드 - 새로 생성된 오토인코더 Bag 파일 사용\n",
    "train_bags = pd.read_pickle(\"/workspace/MIL/data/processed/bags/train_bags_autoencoder_128d.pkl\")\n",
    "val_bags = pd.read_pickle(\"/workspace/MIL/data/processed/bags/val_bags_autoencoder_128d.pkl\")\n",
    "test_bags = pd.read_pickle(\"/workspace/MIL/data/processed/bags/test_bags_autoencoder_128d.pkl\")\n",
    "\n",
    "print(f\"Train bags 로드 완료: {len(train_bags)}\")\n",
    "print(f\"Val bags 로드 완료: {len(val_bags)}\")\n",
    "print(f\"Test bags 로드 완료: {len(test_bags)}\")\n",
    "\n",
    "# 클래스 균형 검증\n",
    "train_false = len(train_bags[train_bags['label'] == False])\n",
    "train_true = len(train_bags[train_bags['label'] == True])\n",
    "print(f\"\\n=== 클래스 분포 확인 ===\")\n",
    "print(f\"Train - False: {train_false}, True: {train_true}, 비율: {train_false/train_true:.2f}\")\n",
    "print(f\"Val - False: {len(val_bags[val_bags['label'] == False])}, True: {len(val_bags[val_bags['label'] == True])}\")\n",
    "print(f\"Test - False: {len(test_bags[test_bags['label'] == False])}, True: {len(test_bags[test_bags['label'] == True])}\")\n",
    "\n",
    "# 데이터 무결성 확인\n",
    "print(f\"\\n=== 데이터 무결성 확인 ===\")\n",
    "print(f\"Train 첫 번째 bag features 차원: {len(train_bags.iloc[0]['features'][0])}\")\n",
    "print(f\"예상 차원: 128 (맞아야 함)\")\n",
    "\n",
    "train_bags.head()"
   ]
  },
  {
   "cell_type": "code",
   "execution_count": 14,
   "id": "096b96fb",
   "metadata": {
    "ExecuteTime": {
     "end_time": "2025-06-28T07:20:58.014723Z",
     "start_time": "2025-06-28T07:20:57.990931Z"
    }
   },
   "outputs": [
    {
     "name": "stdout",
     "output_type": "stream",
     "text": [
      "Train bags 개수: 4320\n",
      "컬럼: ['bag_id', 'label', 'metadata', 'features']\n",
      "\n",
      "샘플 데이터:\n"
     ]
    },
    {
     "data": {
      "text/plain": [
       "bag_id                                            False_200_1\n",
       "label                                                   False\n",
       "metadata    {'label': 200, 'repeat': 1, 'bag_size': 47, 'o...\n",
       "features    [[0.4632517, 0.48108214, 1.062095, -0.36794165...\n",
       "Name: 0, dtype: object"
      ]
     },
     "execution_count": 14,
     "metadata": {},
     "output_type": "execute_result"
    }
   ],
   "source": [
    "# 데이터 구조 확인\n",
    "print(f\"Train bags 개수: {len(train_bags)}\")\n",
    "print(f\"컬럼: {train_bags.columns.tolist()}\")\n",
    "print(\"\\n샘플 데이터:\")\n",
    "train_bags.iloc[0]"
   ]
  },
  {
   "cell_type": "code",
   "execution_count": 15,
   "id": "9a3bb6a2",
   "metadata": {
    "ExecuteTime": {
     "end_time": "2025-06-28T07:20:58.023986Z",
     "start_time": "2025-06-28T07:20:58.016341Z"
    }
   },
   "outputs": [
    {
     "name": "stdout",
     "output_type": "stream",
     "text": [
      "Bag ID: False_200_1\n",
      "Label: False\n",
      "Features shape: 47 x 128\n",
      "\n",
      "Metadata:\n",
      "{'label': 200, 'repeat': 1, 'bag_size': 47, 'original_indices': [0, 1, 2, 3, 4, 5, 6, 7, 8, 9, 10, 11, 12, 13, 14, 15, 16, 17, 18, 19, 20, 21, 22, 23, 24, 25, 26, 27, 28, 29, 30, 31, 32, 33, 34, 35, 36, 37, 38, 39, 40, 41, 42, 43, 44, 45, 46]}\n",
      "\n",
      "Features DataFrame shape: (47, 128)\n"
     ]
    }
   ],
   "source": [
    "# 첫 번째 bag의 features 확인\n",
    "if len(train_bags) > 0:\n",
    "    first_bag = train_bags.iloc[0]\n",
    "    print(f\"Bag ID: {first_bag['bag_id']}\")\n",
    "    print(f\"Label: {first_bag['label']}\")\n",
    "    print(f\"Features shape: {len(first_bag['features'])} x {len(first_bag['features'][0])}\")\n",
    "    print(f\"\\nMetadata:\")\n",
    "    print(first_bag['metadata'])\n",
    "    \n",
    "    # Features를 DataFrame으로 변환\n",
    "    features_df = pd.DataFrame(first_bag['features'])\n",
    "    print(f\"\\nFeatures DataFrame shape: {features_df.shape}\")\n",
    "    features_df.head()"
   ]
  },
  {
   "cell_type": "code",
   "execution_count": 16,
   "id": "5d25b5c1",
   "metadata": {
    "ExecuteTime": {
     "end_time": "2025-06-28T07:20:58.853296Z",
     "start_time": "2025-06-28T07:20:58.027465Z"
    }
   },
   "outputs": [
    {
     "name": "stdout",
     "output_type": "stream",
     "text": [
      "Train 레이블 분포 - False: 1080, True: 3240\n",
      "클래스 비율 - True/Total: 75.00%\n",
      "배치 크기: 128 (RTX 3090 최적화)\n",
      "데이터 로더 워커: 16개 (CPU 코어 활용)\n",
      "Pin memory 활성화 (GPU 전송 속도 향상)\n"
     ]
    }
   ],
   "source": [
    "# Custom Dataset 정의\n",
    "class MILDataset(Dataset):\n",
    "    def __init__(self, bags, max_instances=75):\n",
    "        self.bags = bags\n",
    "        self.max_instances = max_instances\n",
    "\n",
    "    def __len__(self):\n",
    "        return len(self.bags)\n",
    "\n",
    "    def __getitem__(self, idx):\n",
    "        bag = self.bags.iloc[idx]\n",
    "        features = torch.tensor(bag['features'], dtype=torch.float32)  # Feature 텐서\n",
    "        \n",
    "        # Label 변환 - Boolean False/True를 0/1로 변환\n",
    "        label = 1.0 if bag['label'] == True else 0.0\n",
    "        label = torch.tensor(label, dtype=torch.float32)  # Bag Label\n",
    "\n",
    "        # Bag의 길이를 고정\n",
    "        if features.size(0) > self.max_instances:\n",
    "            features = features[:self.max_instances]  # 최대 길이만큼 자름\n",
    "        else:\n",
    "            # 패딩 추가 (길이가 부족한 경우)\n",
    "            padding = torch.zeros(self.max_instances - features.size(0), features.size(1))\n",
    "            features = torch.cat([features, padding], dim=0)\n",
    "\n",
    "        return features, label\n",
    "\n",
    "# Dataset 생성\n",
    "train_dataset = MILDataset(train_bags, max_instances=75)\n",
    "val_dataset = MILDataset(val_bags, max_instances=75)\n",
    "test_dataset = MILDataset(test_bags, max_instances=75)\n",
    "\n",
    "# 레이블 분포 확인\n",
    "train_labels = [1 if bag['label'] == True else 0 for _, bag in train_bags.iterrows()]\n",
    "print(f\"Train 레이블 분포 - False: {train_labels.count(0)}, True: {train_labels.count(1)}\")\n",
    "print(f\"클래스 비율 - True/Total: {train_labels.count(1)/len(train_labels):.2%}\")\n",
    "\n",
    "# DataLoader 생성 - 자원 최대 활용\n",
    "# RTX 3090 24GB 기준 배치 크기 증가 및 멀티프로세싱 활용\n",
    "train_loader = DataLoader(train_dataset, batch_size=128, shuffle=True, \n",
    "                         num_workers=16, pin_memory=True, persistent_workers=True)\n",
    "val_loader = DataLoader(val_dataset, batch_size=128, shuffle=False,\n",
    "                       num_workers=16, pin_memory=True, persistent_workers=True)\n",
    "test_loader = DataLoader(test_dataset, batch_size=128, shuffle=False,\n",
    "                        num_workers=16, pin_memory=True, persistent_workers=True)\n",
    "\n",
    "print(f\"배치 크기: 128 (RTX 3090 최적화)\")\n",
    "print(f\"데이터 로더 워커: 16개 (CPU 코어 활용)\")\n",
    "print(f\"Pin memory 활성화 (GPU 전송 속도 향상)\")"
   ]
  },
  {
   "cell_type": "code",
   "execution_count": 17,
   "id": "8d057fef",
   "metadata": {
    "ExecuteTime": {
     "end_time": "2025-06-28T07:20:58.861690Z",
     "start_time": "2025-06-28T07:20:58.855712Z"
    }
   },
   "outputs": [],
   "source": [
    "class ABMILModel(nn.Module):\n",
    "    def __init__(self, input_dim, hidden_dim):\n",
    "        super(ABMILModel, self).__init__()\n",
    "        self.attention = nn.Sequential(\n",
    "            nn.Linear(input_dim, hidden_dim),\n",
    "            nn.Tanh(),\n",
    "            nn.Linear(hidden_dim, 1)\n",
    "        )\n",
    "        self.classifier = nn.Linear(input_dim, 1)\n",
    "\n",
    "    def forward(self, x):\n",
    "        # x: (batch_size, num_instances, input_dim)\n",
    "        attention_weights = torch.softmax(self.attention(x), dim=1)  # Attention weights\n",
    "        bag_representation = torch.sum(attention_weights * x, dim=1)  # Weighted sum\n",
    "        output = self.classifier(bag_representation)  # Final classification\n",
    "        return output, attention_weights"
   ]
  },
  {
   "cell_type": "code",
   "execution_count": 18,
   "id": "802f29fb",
   "metadata": {
    "ExecuteTime": {
     "end_time": "2025-06-28T07:20:58.869605Z",
     "start_time": "2025-06-28T07:20:58.863710Z"
    }
   },
   "outputs": [],
   "source": [
    "class EarlyStopping:\n",
    "    def __init__(self, save_path, patience=5, verbose=False, delta=0):\n",
    "        self.patience = patience\n",
    "        self.verbose = verbose\n",
    "        self.delta = delta\n",
    "        self.best_loss = np.Inf\n",
    "        self.counter = 0\n",
    "        self.early_stop = False\n",
    "        self.save_path = save_path\n",
    "\n",
    "    def __call__(self, val_loss, model):\n",
    "        if val_loss < self.best_loss - self.delta:\n",
    "            self.best_loss = val_loss\n",
    "            self.counter = 0\n",
    "            # Best 모델 저장\n",
    "            torch.save(model.state_dict(), self.save_path)\n",
    "            if self.verbose:\n",
    "                print(f\"Validation loss improved to {val_loss:.4f}. Model saved to {self.save_path}.\")\n",
    "        else:\n",
    "            self.counter += 1\n",
    "            if self.verbose:\n",
    "                print(f\"Validation loss did not improve for {self.counter} epochs.\")\n",
    "            if self.counter >= self.patience:\n",
    "                self.early_stop = True"
   ]
  },
  {
   "cell_type": "code",
   "execution_count": 19,
   "id": "da0ccd45",
   "metadata": {
    "ExecuteTime": {
     "end_time": "2025-06-28T07:20:58.888259Z",
     "start_time": "2025-06-28T07:20:58.872061Z"
    }
   },
   "outputs": [],
   "source": [
    "def evaluate_model(model, test_loader, device, save_dir=None):\n",
    "    model.eval()  # 모델 평가 모드\n",
    "    all_labels = []\n",
    "    all_predictions = []\n",
    "    all_probs = []  # AUC 계산을 위한 확률 값\n",
    "    all_logits = []  # Logits 저장\n",
    "\n",
    "    with torch.no_grad():\n",
    "        for features, labels in tqdm(test_loader, desc=\"Evaluating Test Data\"):\n",
    "            features, labels = features.to(device), labels.to(device)\n",
    "\n",
    "            # Forward pass\n",
    "            outputs, _ = model(features)\n",
    "            logits = outputs.squeeze()  # Logits 값\n",
    "            probs = torch.sigmoid(logits)  # 확률값\n",
    "            predictions = torch.round(probs)  # 0.5 기준으로 이진 분류\n",
    "\n",
    "            # 데이터 저장\n",
    "            all_labels.extend(labels.cpu().numpy())\n",
    "            all_predictions.extend(predictions.cpu().numpy())\n",
    "            all_probs.extend(probs.cpu().numpy())\n",
    "            all_logits.extend(logits.cpu().numpy())\n",
    "\n",
    "    # 성능 지표 계산\n",
    "    accuracy = accuracy_score(all_labels, all_predictions)\n",
    "    auc_score = roc_auc_score(all_labels, all_probs)\n",
    "    recall = recall_score(all_labels, all_predictions)\n",
    "    precision = precision_score(all_labels, all_predictions)\n",
    "    f1 = f1_score(all_labels, all_predictions)\n",
    "\n",
    "    # 결과 출력\n",
    "    print(f\"Test Accuracy: {accuracy:.4f}\")\n",
    "    print(f\"Test AUC: {auc_score:.4f}\")\n",
    "    print(f\"Test Recall: {recall:.4f}\")\n",
    "    print(f\"Test Precision: {precision:.4f}\")\n",
    "    print(f\"Test F1-Score: {f1:.4f}\")\n",
    "\n",
    "    # 저장 디렉토리 설정\n",
    "    if save_dir is None:\n",
    "        save_dir = \"/workspace/MIL/output/figures\"\n",
    "    os.makedirs(save_dir, exist_ok=True)\n",
    "    \n",
    "    # ROC Curve 그리기\n",
    "    fpr, tpr, _ = roc_curve(all_labels, all_probs)\n",
    "    roc_auc = auc(fpr, tpr)\n",
    "\n",
    "    plt.figure(figsize=(10, 6))\n",
    "    plt.plot(fpr, tpr, color='darkorange', lw=2, label=f'ROC curve (AUC = {roc_auc:.4f})')\n",
    "    plt.plot([0, 1], [0, 1], color='navy', lw=2, linestyle='--')\n",
    "    plt.xlabel('False Positive Rate')\n",
    "    plt.ylabel('True Positive Rate')\n",
    "    plt.title('Receiver Operating Characteristic (ROC)')\n",
    "    plt.legend(loc=\"lower right\")\n",
    "    plt.grid()\n",
    "    \n",
    "    # ROC 곡선 저장\n",
    "    roc_path = os.path.join(save_dir, f\"{model_name}_roc_curve.png\")\n",
    "    plt.savefig(roc_path, dpi=300, bbox_inches='tight')\n",
    "    print(f\"ROC 곡선 저장: {roc_path}\")\n",
    "    plt.show()\n",
    "\n",
    "    # Logits 분포 그리기\n",
    "    true_logits = [logit for logit, label in zip(all_logits, all_labels) if label == 1]\n",
    "    false_logits = [logit for logit, label in zip(all_logits, all_labels) if label == 0]\n",
    "\n",
    "    plt.figure(figsize=(10, 6))\n",
    "    plt.hist(true_logits, bins=30, alpha=0.7, label='True Labels', color='blue')\n",
    "    plt.hist(false_logits, bins=30, alpha=0.7, label='False Labels', color='red')\n",
    "    plt.xlabel('Logits')\n",
    "    plt.ylabel('Frequency')\n",
    "    plt.title('Logits Distribution by Label')\n",
    "    plt.legend(loc='upper right')\n",
    "    plt.grid()\n",
    "    \n",
    "    # Logits 분포 저장\n",
    "    logits_path = os.path.join(save_dir, f\"{model_name}_logits_distribution.png\")\n",
    "    plt.savefig(logits_path, dpi=300, bbox_inches='tight')\n",
    "    print(f\"Logits 분포 저장: {logits_path}\")\n",
    "    plt.show()\n",
    "\n",
    "    # Confusion Matrix 추가\n",
    "    from sklearn.metrics import confusion_matrix\n",
    "    import seaborn as sns\n",
    "    \n",
    "    cm = confusion_matrix(all_labels, all_predictions)\n",
    "    plt.figure(figsize=(8, 6))\n",
    "    sns.heatmap(cm, annot=True, fmt='d', cmap='Blues', \n",
    "                xticklabels=['False (0)', 'True (1)'],\n",
    "                yticklabels=['False (0)', 'True (1)'])\n",
    "    plt.xlabel('Predicted')\n",
    "    plt.ylabel('Actual')\n",
    "    plt.title('Confusion Matrix')\n",
    "    \n",
    "    # Confusion Matrix 저장\n",
    "    cm_path = os.path.join(save_dir, f\"{model_name}_confusion_matrix.png\")\n",
    "    plt.savefig(cm_path, dpi=300, bbox_inches='tight')\n",
    "    print(f\"Confusion Matrix 저장: {cm_path}\")\n",
    "    plt.show()\n",
    "\n",
    "    # 결과를 JSON으로 저장\n",
    "    import json\n",
    "    results = {\n",
    "        \"accuracy\": float(accuracy),\n",
    "        \"auc\": float(auc_score),\n",
    "        \"recall\": float(recall),\n",
    "        \"precision\": float(precision),\n",
    "        \"f1\": float(f1),\n",
    "        \"confusion_matrix\": cm.tolist()\n",
    "    }\n",
    "    \n",
    "    results_dir = \"/workspace/MIL/output/results\"\n",
    "    os.makedirs(results_dir, exist_ok=True)\n",
    "    results_path = os.path.join(results_dir, f\"{model_name}_results.json\")\n",
    "    \n",
    "    with open(results_path, 'w') as f:\n",
    "        json.dump(results, f, indent=4)\n",
    "    print(f\"결과 저장: {results_path}\")\n",
    "\n",
    "    return results"
   ]
  },
  {
   "cell_type": "code",
   "execution_count": 20,
   "id": "ece4fa63",
   "metadata": {
    "ExecuteTime": {
     "end_time": "2025-06-28T07:20:58.916729Z",
     "start_time": "2025-06-28T07:20:58.890216Z"
    }
   },
   "outputs": [
    {
     "name": "stdout",
     "output_type": "stream",
     "text": [
      "클래스 가중치 적용: pos_weight = 3.0\n",
      "BCEWithLogitsLoss에 클래스 가중치 적용 완료\n",
      "Optimizer: Adam with lr=0.0001\n",
      "\n",
      "=== 클래스 불균형 개선 설정 ===\n",
      "모델 저장 경로: /workspace/MIL/output/models/ab_mil_autoencoder_128d_balanced_best_model.pt\n",
      "Early stopping patience: 10 epochs\n",
      "최대 에폭 수: 100\n",
      "클래스 가중치: False=1.0, True=3.0\n"
     ]
    }
   ],
   "source": [
    "# 모델 초기화\n",
    "input_dim = 128  # Feature dimension\n",
    "hidden_dim = 64  # Hidden dimension for attention\n",
    "model = ABMILModel(input_dim, hidden_dim).to(device)\n",
    "\n",
    "# 클래스 불균형 해결을 위한 가중치 계산\n",
    "# 현재 데이터: False 25%, True 75% → True 클래스가 3배 많음\n",
    "# 따라서 False 클래스에 3배 가중치 부여\n",
    "pos_weight = torch.tensor([3.0]).to(device)  # True 클래스 가중치\n",
    "print(f\"클래스 가중치 적용: pos_weight = {pos_weight.item()}\")\n",
    "\n",
    "# 손실 함수 - 클래스 가중치 적용\n",
    "criterion = nn.BCEWithLogitsLoss(pos_weight=pos_weight)\n",
    "print(\"BCEWithLogitsLoss에 클래스 가중치 적용 완료\")\n",
    "\n",
    "# 옵티마이저 - 학습률 조정\n",
    "optimizer = optim.Adam(model.parameters(), lr=0.0001)  # 더 낮은 학습률\n",
    "print(f\"Optimizer: Adam with lr=0.0001\")\n",
    "\n",
    "# 모델명을 새로 생성된 데이터에 맞게 수정\n",
    "model_name = 'ab_mil_autoencoder_128d_balanced'  # balanced 추가\n",
    "save_path = f\"/workspace/MIL/output/models/{model_name}_best_model.pt\"\n",
    "\n",
    "# 모델 디렉토리 생성\n",
    "import os\n",
    "os.makedirs(\"/workspace/MIL/output/models\", exist_ok=True)\n",
    "\n",
    "# Early stopping 설정 - patience 증가\n",
    "early_stopping = EarlyStopping(save_path=save_path, patience=10, verbose=True)\n",
    "\n",
    "# 학습 루프\n",
    "num_epochs = 100  # 에폭 수 증가\n",
    "\n",
    "print(f\"\\n=== 클래스 불균형 개선 설정 ===\")\n",
    "print(f\"모델 저장 경로: {save_path}\")\n",
    "print(f\"Early stopping patience: 10 epochs\")\n",
    "print(f\"최대 에폭 수: {num_epochs}\")\n",
    "print(f\"클래스 가중치: False=1.0, True={pos_weight.item()}\")"
   ]
  },
  {
   "cell_type": "code",
   "execution_count": 21,
   "id": "29edbf48",
   "metadata": {
    "ExecuteTime": {
     "end_time": "2025-06-28T07:21:42.013838Z",
     "start_time": "2025-06-28T07:20:58.919092Z"
    }
   },
   "outputs": [
    {
     "name": "stderr",
     "output_type": "stream",
     "text": [
      "/opt/conda/envs/py38/lib/python3.8/site-packages/torch/optim/lr_scheduler.py:60: UserWarning: The verbose parameter is deprecated. Please use get_last_lr() to access the learning rate.\n",
      "  warnings.warn(\n"
     ]
    },
    {
     "name": "stdout",
     "output_type": "stream",
     "text": [
      "학습 시작 전 GPU 메모리: 0.02 GB\n"
     ]
    },
    {
     "name": "stderr",
     "output_type": "stream",
     "text": [
      "Epoch 1/100 [Training]:   0%|          | 0/34 [00:00<?, ?it/s]/tmp/ipykernel_15960/3934410387.py:66: FutureWarning: `torch.cuda.amp.autocast(args...)` is deprecated. Please use `torch.amp.autocast('cuda', args...)` instead.\n",
      "  with autocast():\n",
      "Epoch 1/100 [Training]: 100%|██████████| 34/34 [00:03<00:00, 10.18it/s, loss=1.8216, gpu_mem=0.02GB]\n",
      "Epoch 1/100 [Validation]:   0%|          | 0/12 [00:00<?, ?it/s]/tmp/ipykernel_15960/3934410387.py:103: FutureWarning: `torch.cuda.amp.autocast(args...)` is deprecated. Please use `torch.amp.autocast('cuda', args...)` instead.\n",
      "  with autocast():\n",
      "Epoch 1/100 [Validation]: 100%|██████████| 12/12 [00:03<00:00,  3.85it/s]\n"
     ]
    },
    {
     "name": "stdout",
     "output_type": "stream",
     "text": [
      "Epoch 1/100, Train Loss: 1.3737, Train Accuracy: 0.6861, Val Loss: 0.9186, Val Accuracy: 0.7500\n",
      "Validation loss improved to 0.9186. Model saved to /workspace/MIL/output/models/ab_mil_autoencoder_128d_balanced_best_model.pt.\n"
     ]
    },
    {
     "name": "stderr",
     "output_type": "stream",
     "text": [
      "Epoch 2/100 [Training]: 100%|██████████| 34/34 [00:00<00:00, 83.05it/s, loss=0.9503, gpu_mem=0.02GB]\n",
      "Epoch 2/100 [Validation]: 100%|██████████| 12/12 [00:00<00:00, 68.55it/s]\n"
     ]
    },
    {
     "name": "stdout",
     "output_type": "stream",
     "text": [
      "Epoch 2/100, Train Loss: 0.8517, Train Accuracy: 0.7500, Val Loss: 0.7997, Val Accuracy: 0.7500\n",
      "Validation loss improved to 0.7997. Model saved to /workspace/MIL/output/models/ab_mil_autoencoder_128d_balanced_best_model.pt.\n"
     ]
    },
    {
     "name": "stderr",
     "output_type": "stream",
     "text": [
      "Epoch 3/100 [Training]: 100%|██████████| 34/34 [00:00<00:00, 85.02it/s, loss=0.7358, gpu_mem=0.02GB]\n",
      "Epoch 3/100 [Validation]: 100%|██████████| 12/12 [00:00<00:00, 71.99it/s]\n"
     ]
    },
    {
     "name": "stdout",
     "output_type": "stream",
     "text": [
      "Epoch 3/100, Train Loss: 0.8279, Train Accuracy: 0.7500, Val Loss: 0.7970, Val Accuracy: 0.7500\n",
      "Validation loss improved to 0.7970. Model saved to /workspace/MIL/output/models/ab_mil_autoencoder_128d_balanced_best_model.pt.\n"
     ]
    },
    {
     "name": "stderr",
     "output_type": "stream",
     "text": [
      "Epoch 4/100 [Training]: 100%|██████████| 34/34 [00:00<00:00, 78.39it/s, loss=0.9172, gpu_mem=0.02GB]\n",
      "Epoch 4/100 [Validation]: 100%|██████████| 12/12 [00:00<00:00, 76.64it/s]\n"
     ]
    },
    {
     "name": "stdout",
     "output_type": "stream",
     "text": [
      "Epoch 4/100, Train Loss: 0.8262, Train Accuracy: 0.7500, Val Loss: 0.7956, Val Accuracy: 0.7500\n",
      "Validation loss improved to 0.7956. Model saved to /workspace/MIL/output/models/ab_mil_autoencoder_128d_balanced_best_model.pt.\n"
     ]
    },
    {
     "name": "stderr",
     "output_type": "stream",
     "text": [
      "Epoch 5/100 [Training]: 100%|██████████| 34/34 [00:00<00:00, 82.21it/s, loss=0.7132, gpu_mem=0.02GB]\n",
      "Epoch 5/100 [Validation]: 100%|██████████| 12/12 [00:00<00:00, 71.06it/s]\n"
     ]
    },
    {
     "name": "stdout",
     "output_type": "stream",
     "text": [
      "Epoch 5/100, Train Loss: 0.8228, Train Accuracy: 0.7500, Val Loss: 0.7943, Val Accuracy: 0.7500\n",
      "Validation loss improved to 0.7943. Model saved to /workspace/MIL/output/models/ab_mil_autoencoder_128d_balanced_best_model.pt.\n"
     ]
    },
    {
     "name": "stderr",
     "output_type": "stream",
     "text": [
      "Epoch 6/100 [Training]: 100%|██████████| 34/34 [00:00<00:00, 85.90it/s, loss=0.9531, gpu_mem=0.02GB]\n",
      "Epoch 6/100 [Validation]: 100%|██████████| 12/12 [00:00<00:00, 77.76it/s]\n"
     ]
    },
    {
     "name": "stdout",
     "output_type": "stream",
     "text": [
      "Epoch 6/100, Train Loss: 0.8222, Train Accuracy: 0.7500, Val Loss: 0.7925, Val Accuracy: 0.7500\n",
      "Validation loss improved to 0.7925. Model saved to /workspace/MIL/output/models/ab_mil_autoencoder_128d_balanced_best_model.pt.\n"
     ]
    },
    {
     "name": "stderr",
     "output_type": "stream",
     "text": [
      "Epoch 7/100 [Training]: 100%|██████████| 34/34 [00:00<00:00, 83.81it/s, loss=0.9393, gpu_mem=0.02GB] \n",
      "Epoch 7/100 [Validation]: 100%|██████████| 12/12 [00:00<00:00, 72.81it/s]\n"
     ]
    },
    {
     "name": "stdout",
     "output_type": "stream",
     "text": [
      "Epoch 7/100, Train Loss: 0.8217, Train Accuracy: 0.7500, Val Loss: 0.7917, Val Accuracy: 0.7500\n",
      "Validation loss improved to 0.7917. Model saved to /workspace/MIL/output/models/ab_mil_autoencoder_128d_balanced_best_model.pt.\n"
     ]
    },
    {
     "name": "stderr",
     "output_type": "stream",
     "text": [
      "Epoch 8/100 [Training]: 100%|██████████| 34/34 [00:00<00:00, 84.34it/s, loss=0.7175, gpu_mem=0.02GB]\n",
      "Epoch 8/100 [Validation]: 100%|██████████| 12/12 [00:00<00:00, 59.85it/s]\n"
     ]
    },
    {
     "name": "stdout",
     "output_type": "stream",
     "text": [
      "Epoch 8/100, Train Loss: 0.8190, Train Accuracy: 0.7500, Val Loss: 0.7920, Val Accuracy: 0.7500\n",
      "Validation loss did not improve for 1 epochs.\n"
     ]
    },
    {
     "name": "stderr",
     "output_type": "stream",
     "text": [
      "Epoch 9/100 [Training]: 100%|██████████| 34/34 [00:00<00:00, 83.12it/s, loss=0.9396, gpu_mem=0.02GB]\n",
      "Epoch 9/100 [Validation]: 100%|██████████| 12/12 [00:00<00:00, 57.48it/s]\n"
     ]
    },
    {
     "name": "stdout",
     "output_type": "stream",
     "text": [
      "Epoch 9/100, Train Loss: 0.8193, Train Accuracy: 0.7500, Val Loss: 0.7902, Val Accuracy: 0.7500\n",
      "Validation loss improved to 0.7902. Model saved to /workspace/MIL/output/models/ab_mil_autoencoder_128d_balanced_best_model.pt.\n"
     ]
    },
    {
     "name": "stderr",
     "output_type": "stream",
     "text": [
      "Epoch 10/100 [Training]: 100%|██████████| 34/34 [00:00<00:00, 73.57it/s, loss=0.8031, gpu_mem=0.02GB]\n",
      "Epoch 10/100 [Validation]: 100%|██████████| 12/12 [00:00<00:00, 71.42it/s]\n"
     ]
    },
    {
     "name": "stdout",
     "output_type": "stream",
     "text": [
      "Epoch 10/100, Train Loss: 0.8190, Train Accuracy: 0.7500, Val Loss: 0.7897, Val Accuracy: 0.7500\n",
      "Validation loss improved to 0.7897. Model saved to /workspace/MIL/output/models/ab_mil_autoencoder_128d_balanced_best_model.pt.\n"
     ]
    },
    {
     "name": "stderr",
     "output_type": "stream",
     "text": [
      "Epoch 11/100 [Training]: 100%|██████████| 34/34 [00:00<00:00, 72.73it/s, loss=0.8858, gpu_mem=0.02GB]\n",
      "Epoch 11/100 [Validation]: 100%|██████████| 12/12 [00:00<00:00, 69.77it/s]\n"
     ]
    },
    {
     "name": "stdout",
     "output_type": "stream",
     "text": [
      "Epoch 11/100, Train Loss: 0.8166, Train Accuracy: 0.7500, Val Loss: 0.7893, Val Accuracy: 0.7500\n",
      "Validation loss improved to 0.7893. Model saved to /workspace/MIL/output/models/ab_mil_autoencoder_128d_balanced_best_model.pt.\n"
     ]
    },
    {
     "name": "stderr",
     "output_type": "stream",
     "text": [
      "Epoch 12/100 [Training]: 100%|██████████| 34/34 [00:00<00:00, 80.27it/s, loss=0.7802, gpu_mem=0.02GB]\n",
      "Epoch 12/100 [Validation]: 100%|██████████| 12/12 [00:00<00:00, 57.08it/s]\n"
     ]
    },
    {
     "name": "stdout",
     "output_type": "stream",
     "text": [
      "Epoch 12/100, Train Loss: 0.8170, Train Accuracy: 0.7500, Val Loss: 0.7894, Val Accuracy: 0.7500\n",
      "Validation loss did not improve for 1 epochs.\n"
     ]
    },
    {
     "name": "stderr",
     "output_type": "stream",
     "text": [
      "Epoch 13/100 [Training]: 100%|██████████| 34/34 [00:00<00:00, 83.02it/s, loss=0.7977, gpu_mem=0.02GB]\n",
      "Epoch 13/100 [Validation]: 100%|██████████| 12/12 [00:00<00:00, 71.27it/s]\n"
     ]
    },
    {
     "name": "stdout",
     "output_type": "stream",
     "text": [
      "Epoch 13/100, Train Loss: 0.8160, Train Accuracy: 0.7500, Val Loss: 0.7894, Val Accuracy: 0.7500\n",
      "Validation loss did not improve for 2 epochs.\n"
     ]
    },
    {
     "name": "stderr",
     "output_type": "stream",
     "text": [
      "Epoch 14/100 [Training]: 100%|██████████| 34/34 [00:00<00:00, 80.46it/s, loss=0.8085, gpu_mem=0.02GB]\n",
      "Epoch 14/100 [Validation]: 100%|██████████| 12/12 [00:00<00:00, 71.39it/s]\n"
     ]
    },
    {
     "name": "stdout",
     "output_type": "stream",
     "text": [
      "Epoch 14/100, Train Loss: 0.8158, Train Accuracy: 0.7500, Val Loss: 0.7892, Val Accuracy: 0.7500\n",
      "Validation loss improved to 0.7892. Model saved to /workspace/MIL/output/models/ab_mil_autoencoder_128d_balanced_best_model.pt.\n"
     ]
    },
    {
     "name": "stderr",
     "output_type": "stream",
     "text": [
      "Epoch 15/100 [Training]: 100%|██████████| 34/34 [00:00<00:00, 76.38it/s, loss=0.9100, gpu_mem=0.02GB]\n",
      "Epoch 15/100 [Validation]: 100%|██████████| 12/12 [00:00<00:00, 75.48it/s]\n"
     ]
    },
    {
     "name": "stdout",
     "output_type": "stream",
     "text": [
      "Epoch 15/100, Train Loss: 0.8158, Train Accuracy: 0.7500, Val Loss: 0.7881, Val Accuracy: 0.7500\n",
      "Validation loss improved to 0.7881. Model saved to /workspace/MIL/output/models/ab_mil_autoencoder_128d_balanced_best_model.pt.\n"
     ]
    },
    {
     "name": "stderr",
     "output_type": "stream",
     "text": [
      "Epoch 16/100 [Training]: 100%|██████████| 34/34 [00:00<00:00, 83.65it/s, loss=0.8241, gpu_mem=0.02GB]\n",
      "Epoch 16/100 [Validation]: 100%|██████████| 12/12 [00:00<00:00, 74.75it/s]\n"
     ]
    },
    {
     "name": "stdout",
     "output_type": "stream",
     "text": [
      "Epoch 16/100, Train Loss: 0.8153, Train Accuracy: 0.7500, Val Loss: 0.7878, Val Accuracy: 0.7500\n",
      "Validation loss improved to 0.7878. Model saved to /workspace/MIL/output/models/ab_mil_autoencoder_128d_balanced_best_model.pt.\n"
     ]
    },
    {
     "name": "stderr",
     "output_type": "stream",
     "text": [
      "Epoch 17/100 [Training]: 100%|██████████| 34/34 [00:00<00:00, 70.84it/s, loss=0.7762, gpu_mem=0.02GB]\n",
      "Epoch 17/100 [Validation]: 100%|██████████| 12/12 [00:00<00:00, 75.23it/s]\n"
     ]
    },
    {
     "name": "stdout",
     "output_type": "stream",
     "text": [
      "Epoch 17/100, Train Loss: 0.8138, Train Accuracy: 0.7500, Val Loss: 0.7886, Val Accuracy: 0.7500\n",
      "Validation loss did not improve for 1 epochs.\n"
     ]
    },
    {
     "name": "stderr",
     "output_type": "stream",
     "text": [
      "Epoch 18/100 [Training]: 100%|██████████| 34/34 [00:00<00:00, 82.92it/s, loss=0.8120, gpu_mem=0.02GB]\n",
      "Epoch 18/100 [Validation]: 100%|██████████| 12/12 [00:00<00:00, 75.73it/s]\n"
     ]
    },
    {
     "name": "stdout",
     "output_type": "stream",
     "text": [
      "Epoch 18/100, Train Loss: 0.8148, Train Accuracy: 0.7500, Val Loss: 0.7867, Val Accuracy: 0.7500\n",
      "Validation loss improved to 0.7867. Model saved to /workspace/MIL/output/models/ab_mil_autoencoder_128d_balanced_best_model.pt.\n"
     ]
    },
    {
     "name": "stderr",
     "output_type": "stream",
     "text": [
      "Epoch 19/100 [Training]: 100%|██████████| 34/34 [00:00<00:00, 83.40it/s, loss=0.8353, gpu_mem=0.02GB]\n",
      "Epoch 19/100 [Validation]: 100%|██████████| 12/12 [00:00<00:00, 72.00it/s]\n"
     ]
    },
    {
     "name": "stdout",
     "output_type": "stream",
     "text": [
      "Epoch 19/100, Train Loss: 0.8131, Train Accuracy: 0.7500, Val Loss: 0.7869, Val Accuracy: 0.7500\n",
      "Validation loss did not improve for 1 epochs.\n"
     ]
    },
    {
     "name": "stderr",
     "output_type": "stream",
     "text": [
      "Epoch 20/100 [Training]: 100%|██████████| 34/34 [00:00<00:00, 78.44it/s, loss=0.8102, gpu_mem=0.02GB]\n",
      "Epoch 20/100 [Validation]: 100%|██████████| 12/12 [00:00<00:00, 70.95it/s]\n"
     ]
    },
    {
     "name": "stdout",
     "output_type": "stream",
     "text": [
      "Epoch 20/100, Train Loss: 0.8118, Train Accuracy: 0.7500, Val Loss: 0.7866, Val Accuracy: 0.7500\n",
      "Validation loss improved to 0.7866. Model saved to /workspace/MIL/output/models/ab_mil_autoencoder_128d_balanced_best_model.pt.\n"
     ]
    },
    {
     "name": "stderr",
     "output_type": "stream",
     "text": [
      "Epoch 21/100 [Training]: 100%|██████████| 34/34 [00:00<00:00, 67.79it/s, loss=0.8598, gpu_mem=0.02GB]\n",
      "Epoch 21/100 [Validation]: 100%|██████████| 12/12 [00:00<00:00, 71.81it/s]\n"
     ]
    },
    {
     "name": "stdout",
     "output_type": "stream",
     "text": [
      "Epoch 21/100, Train Loss: 0.8118, Train Accuracy: 0.7500, Val Loss: 0.7870, Val Accuracy: 0.7500\n",
      "Validation loss did not improve for 1 epochs.\n"
     ]
    },
    {
     "name": "stderr",
     "output_type": "stream",
     "text": [
      "Epoch 22/100 [Training]: 100%|██████████| 34/34 [00:00<00:00, 70.58it/s, loss=0.7320, gpu_mem=0.02GB]\n",
      "Epoch 22/100 [Validation]: 100%|██████████| 12/12 [00:00<00:00, 72.83it/s]\n"
     ]
    },
    {
     "name": "stdout",
     "output_type": "stream",
     "text": [
      "Epoch 22/100, Train Loss: 0.8102, Train Accuracy: 0.7500, Val Loss: 0.7867, Val Accuracy: 0.7500\n",
      "Validation loss did not improve for 2 epochs.\n"
     ]
    },
    {
     "name": "stderr",
     "output_type": "stream",
     "text": [
      "Epoch 23/100 [Training]: 100%|██████████| 34/34 [00:00<00:00, 82.39it/s, loss=0.6672, gpu_mem=0.02GB]\n",
      "Epoch 23/100 [Validation]: 100%|██████████| 12/12 [00:00<00:00, 72.89it/s]\n"
     ]
    },
    {
     "name": "stdout",
     "output_type": "stream",
     "text": [
      "Epoch 23/100, Train Loss: 0.8106, Train Accuracy: 0.7500, Val Loss: 0.7862, Val Accuracy: 0.7500\n",
      "Validation loss improved to 0.7862. Model saved to /workspace/MIL/output/models/ab_mil_autoencoder_128d_balanced_best_model.pt.\n"
     ]
    },
    {
     "name": "stderr",
     "output_type": "stream",
     "text": [
      "Epoch 24/100 [Training]: 100%|██████████| 34/34 [00:00<00:00, 88.70it/s, loss=0.7640, gpu_mem=0.02GB]\n",
      "Epoch 24/100 [Validation]: 100%|██████████| 12/12 [00:00<00:00, 73.72it/s]\n"
     ]
    },
    {
     "name": "stdout",
     "output_type": "stream",
     "text": [
      "Epoch 24/100, Train Loss: 0.8092, Train Accuracy: 0.7502, Val Loss: 0.7856, Val Accuracy: 0.7500\n",
      "Validation loss improved to 0.7856. Model saved to /workspace/MIL/output/models/ab_mil_autoencoder_128d_balanced_best_model.pt.\n"
     ]
    },
    {
     "name": "stderr",
     "output_type": "stream",
     "text": [
      "Epoch 25/100 [Training]: 100%|██████████| 34/34 [00:00<00:00, 88.52it/s, loss=0.7171, gpu_mem=0.02GB]\n",
      "Epoch 25/100 [Validation]: 100%|██████████| 12/12 [00:00<00:00, 67.84it/s]\n"
     ]
    },
    {
     "name": "stdout",
     "output_type": "stream",
     "text": [
      "Epoch 25/100, Train Loss: 0.8084, Train Accuracy: 0.7502, Val Loss: 0.7861, Val Accuracy: 0.7500\n",
      "Validation loss did not improve for 1 epochs.\n"
     ]
    },
    {
     "name": "stderr",
     "output_type": "stream",
     "text": [
      "Epoch 26/100 [Training]: 100%|██████████| 34/34 [00:00<00:00, 78.99it/s, loss=0.7585, gpu_mem=0.02GB]\n",
      "Epoch 26/100 [Validation]: 100%|██████████| 12/12 [00:00<00:00, 77.98it/s]\n"
     ]
    },
    {
     "name": "stdout",
     "output_type": "stream",
     "text": [
      "Epoch 26/100, Train Loss: 0.8082, Train Accuracy: 0.7502, Val Loss: 0.7851, Val Accuracy: 0.7500\n",
      "Validation loss improved to 0.7851. Model saved to /workspace/MIL/output/models/ab_mil_autoencoder_128d_balanced_best_model.pt.\n"
     ]
    },
    {
     "name": "stderr",
     "output_type": "stream",
     "text": [
      "Epoch 27/100 [Training]: 100%|██████████| 34/34 [00:00<00:00, 74.12it/s, loss=0.7042, gpu_mem=0.02GB]\n",
      "Epoch 27/100 [Validation]: 100%|██████████| 12/12 [00:00<00:00, 75.01it/s]\n"
     ]
    },
    {
     "name": "stdout",
     "output_type": "stream",
     "text": [
      "Epoch 27/100, Train Loss: 0.8062, Train Accuracy: 0.7502, Val Loss: 0.7839, Val Accuracy: 0.7500\n",
      "Validation loss improved to 0.7839. Model saved to /workspace/MIL/output/models/ab_mil_autoencoder_128d_balanced_best_model.pt.\n"
     ]
    },
    {
     "name": "stderr",
     "output_type": "stream",
     "text": [
      "Epoch 28/100 [Training]: 100%|██████████| 34/34 [00:00<00:00, 85.07it/s, loss=0.9372, gpu_mem=0.02GB]\n",
      "Epoch 28/100 [Validation]: 100%|██████████| 12/12 [00:00<00:00, 74.53it/s]\n"
     ]
    },
    {
     "name": "stdout",
     "output_type": "stream",
     "text": [
      "Epoch 28/100, Train Loss: 0.8061, Train Accuracy: 0.7502, Val Loss: 0.7843, Val Accuracy: 0.7500\n",
      "Validation loss did not improve for 1 epochs.\n"
     ]
    },
    {
     "name": "stderr",
     "output_type": "stream",
     "text": [
      "Epoch 29/100 [Training]: 100%|██████████| 34/34 [00:00<00:00, 76.46it/s, loss=0.6898, gpu_mem=0.02GB]\n",
      "Epoch 29/100 [Validation]: 100%|██████████| 12/12 [00:00<00:00, 69.55it/s]\n"
     ]
    },
    {
     "name": "stdout",
     "output_type": "stream",
     "text": [
      "Epoch 29/100, Train Loss: 0.8057, Train Accuracy: 0.7502, Val Loss: 0.7840, Val Accuracy: 0.7500\n",
      "Validation loss did not improve for 2 epochs.\n"
     ]
    },
    {
     "name": "stderr",
     "output_type": "stream",
     "text": [
      "Epoch 30/100 [Training]: 100%|██████████| 34/34 [00:00<00:00, 84.82it/s, loss=0.7748, gpu_mem=0.02GB]\n",
      "Epoch 30/100 [Validation]: 100%|██████████| 12/12 [00:00<00:00, 75.73it/s]\n"
     ]
    },
    {
     "name": "stdout",
     "output_type": "stream",
     "text": [
      "Epoch 30/100, Train Loss: 0.8036, Train Accuracy: 0.7502, Val Loss: 0.7845, Val Accuracy: 0.7500\n",
      "Validation loss did not improve for 3 epochs.\n"
     ]
    },
    {
     "name": "stderr",
     "output_type": "stream",
     "text": [
      "Epoch 31/100 [Training]: 100%|██████████| 34/34 [00:00<00:00, 82.69it/s, loss=0.8512, gpu_mem=0.02GB]\n",
      "Epoch 31/100 [Validation]: 100%|██████████| 12/12 [00:00<00:00, 77.23it/s]\n"
     ]
    },
    {
     "name": "stdout",
     "output_type": "stream",
     "text": [
      "Epoch 31/100, Train Loss: 0.8032, Train Accuracy: 0.7502, Val Loss: 0.7831, Val Accuracy: 0.7500\n",
      "Validation loss improved to 0.7831. Model saved to /workspace/MIL/output/models/ab_mil_autoencoder_128d_balanced_best_model.pt.\n"
     ]
    },
    {
     "name": "stderr",
     "output_type": "stream",
     "text": [
      "Epoch 32/100 [Training]: 100%|██████████| 34/34 [00:00<00:00, 88.84it/s, loss=0.7421, gpu_mem=0.02GB]\n",
      "Epoch 32/100 [Validation]: 100%|██████████| 12/12 [00:00<00:00, 74.67it/s]\n"
     ]
    },
    {
     "name": "stdout",
     "output_type": "stream",
     "text": [
      "Epoch 32/100, Train Loss: 0.8020, Train Accuracy: 0.7502, Val Loss: 0.7819, Val Accuracy: 0.7500\n",
      "Validation loss improved to 0.7819. Model saved to /workspace/MIL/output/models/ab_mil_autoencoder_128d_balanced_best_model.pt.\n"
     ]
    },
    {
     "name": "stderr",
     "output_type": "stream",
     "text": [
      "Epoch 33/100 [Training]: 100%|██████████| 34/34 [00:00<00:00, 86.79it/s, loss=0.7401, gpu_mem=0.02GB]\n",
      "Epoch 33/100 [Validation]: 100%|██████████| 12/12 [00:00<00:00, 74.61it/s]\n"
     ]
    },
    {
     "name": "stdout",
     "output_type": "stream",
     "text": [
      "Epoch 33/100, Train Loss: 0.8002, Train Accuracy: 0.7502, Val Loss: 0.7835, Val Accuracy: 0.7500\n",
      "Validation loss did not improve for 1 epochs.\n"
     ]
    },
    {
     "name": "stderr",
     "output_type": "stream",
     "text": [
      "Epoch 34/100 [Training]: 100%|██████████| 34/34 [00:00<00:00, 88.92it/s, loss=0.9079, gpu_mem=0.02GB]\n",
      "Epoch 34/100 [Validation]: 100%|██████████| 12/12 [00:00<00:00, 70.09it/s]\n"
     ]
    },
    {
     "name": "stdout",
     "output_type": "stream",
     "text": [
      "Epoch 34/100, Train Loss: 0.8000, Train Accuracy: 0.7502, Val Loss: 0.7806, Val Accuracy: 0.7500\n",
      "Validation loss improved to 0.7806. Model saved to /workspace/MIL/output/models/ab_mil_autoencoder_128d_balanced_best_model.pt.\n"
     ]
    },
    {
     "name": "stderr",
     "output_type": "stream",
     "text": [
      "Epoch 35/100 [Training]: 100%|██████████| 34/34 [00:00<00:00, 78.62it/s, loss=0.7361, gpu_mem=0.02GB]\n",
      "Epoch 35/100 [Validation]: 100%|██████████| 12/12 [00:00<00:00, 74.07it/s]\n"
     ]
    },
    {
     "name": "stdout",
     "output_type": "stream",
     "text": [
      "Epoch 35/100, Train Loss: 0.8005, Train Accuracy: 0.7502, Val Loss: 0.7808, Val Accuracy: 0.7500\n",
      "Validation loss did not improve for 1 epochs.\n"
     ]
    },
    {
     "name": "stderr",
     "output_type": "stream",
     "text": [
      "Epoch 36/100 [Training]: 100%|██████████| 34/34 [00:00<00:00, 81.27it/s, loss=0.8183, gpu_mem=0.02GB]\n",
      "Epoch 36/100 [Validation]: 100%|██████████| 12/12 [00:00<00:00, 70.62it/s]\n"
     ]
    },
    {
     "name": "stdout",
     "output_type": "stream",
     "text": [
      "Epoch 36/100, Train Loss: 0.7983, Train Accuracy: 0.7502, Val Loss: 0.7802, Val Accuracy: 0.7500\n",
      "Validation loss improved to 0.7802. Model saved to /workspace/MIL/output/models/ab_mil_autoencoder_128d_balanced_best_model.pt.\n"
     ]
    },
    {
     "name": "stderr",
     "output_type": "stream",
     "text": [
      "Epoch 37/100 [Training]: 100%|██████████| 34/34 [00:00<00:00, 83.31it/s, loss=0.8389, gpu_mem=0.02GB]\n",
      "Epoch 37/100 [Validation]: 100%|██████████| 12/12 [00:00<00:00, 76.26it/s]\n"
     ]
    },
    {
     "name": "stdout",
     "output_type": "stream",
     "text": [
      "Epoch 37/100, Train Loss: 0.7958, Train Accuracy: 0.7502, Val Loss: 0.7820, Val Accuracy: 0.7500\n",
      "Validation loss did not improve for 1 epochs.\n"
     ]
    },
    {
     "name": "stderr",
     "output_type": "stream",
     "text": [
      "Epoch 38/100 [Training]: 100%|██████████| 34/34 [00:00<00:00, 88.27it/s, loss=0.8337, gpu_mem=0.02GB]\n",
      "Epoch 38/100 [Validation]: 100%|██████████| 12/12 [00:00<00:00, 74.95it/s]\n"
     ]
    },
    {
     "name": "stdout",
     "output_type": "stream",
     "text": [
      "Epoch 38/100, Train Loss: 0.7964, Train Accuracy: 0.7502, Val Loss: 0.7813, Val Accuracy: 0.7500\n",
      "Validation loss did not improve for 2 epochs.\n"
     ]
    },
    {
     "name": "stderr",
     "output_type": "stream",
     "text": [
      "Epoch 39/100 [Training]: 100%|██████████| 34/34 [00:00<00:00, 83.27it/s, loss=0.5989, gpu_mem=0.02GB]\n",
      "Epoch 39/100 [Validation]: 100%|██████████| 12/12 [00:00<00:00, 73.76it/s]\n"
     ]
    },
    {
     "name": "stdout",
     "output_type": "stream",
     "text": [
      "Epoch 39/100, Train Loss: 0.7935, Train Accuracy: 0.7502, Val Loss: 0.7824, Val Accuracy: 0.7500\n",
      "Validation loss did not improve for 3 epochs.\n"
     ]
    },
    {
     "name": "stderr",
     "output_type": "stream",
     "text": [
      "Epoch 40/100 [Training]: 100%|██████████| 34/34 [00:00<00:00, 79.56it/s, loss=0.7970, gpu_mem=0.02GB]\n",
      "Epoch 40/100 [Validation]: 100%|██████████| 12/12 [00:00<00:00, 69.70it/s]\n"
     ]
    },
    {
     "name": "stdout",
     "output_type": "stream",
     "text": [
      "Epoch 40/100, Train Loss: 0.7945, Train Accuracy: 0.7502, Val Loss: 0.7789, Val Accuracy: 0.7500\n",
      "Validation loss improved to 0.7789. Model saved to /workspace/MIL/output/models/ab_mil_autoencoder_128d_balanced_best_model.pt.\n"
     ]
    },
    {
     "name": "stderr",
     "output_type": "stream",
     "text": [
      "Epoch 41/100 [Training]: 100%|██████████| 34/34 [00:00<00:00, 79.21it/s, loss=0.8084, gpu_mem=0.02GB] \n",
      "Epoch 41/100 [Validation]: 100%|██████████| 12/12 [00:00<00:00, 69.39it/s]\n"
     ]
    },
    {
     "name": "stdout",
     "output_type": "stream",
     "text": [
      "Epoch 41/100, Train Loss: 0.7930, Train Accuracy: 0.7502, Val Loss: 0.7794, Val Accuracy: 0.7500\n",
      "Validation loss did not improve for 1 epochs.\n"
     ]
    },
    {
     "name": "stderr",
     "output_type": "stream",
     "text": [
      "Epoch 42/100 [Training]: 100%|██████████| 34/34 [00:00<00:00, 75.68it/s, loss=0.8953, gpu_mem=0.02GB]\n",
      "Epoch 42/100 [Validation]: 100%|██████████| 12/12 [00:00<00:00, 74.30it/s]\n"
     ]
    },
    {
     "name": "stdout",
     "output_type": "stream",
     "text": [
      "Epoch 42/100, Train Loss: 0.7916, Train Accuracy: 0.7502, Val Loss: 0.7796, Val Accuracy: 0.7500\n",
      "Validation loss did not improve for 2 epochs.\n"
     ]
    },
    {
     "name": "stderr",
     "output_type": "stream",
     "text": [
      "Epoch 43/100 [Training]: 100%|██████████| 34/34 [00:00<00:00, 77.64it/s, loss=0.7418, gpu_mem=0.02GB]\n",
      "Epoch 43/100 [Validation]: 100%|██████████| 12/12 [00:00<00:00, 74.03it/s]\n"
     ]
    },
    {
     "name": "stdout",
     "output_type": "stream",
     "text": [
      "Epoch 43/100, Train Loss: 0.7903, Train Accuracy: 0.7502, Val Loss: 0.7789, Val Accuracy: 0.7500\n",
      "Validation loss improved to 0.7789. Model saved to /workspace/MIL/output/models/ab_mil_autoencoder_128d_balanced_best_model.pt.\n"
     ]
    },
    {
     "name": "stderr",
     "output_type": "stream",
     "text": [
      "Epoch 44/100 [Training]: 100%|██████████| 34/34 [00:00<00:00, 79.61it/s, loss=0.8219, gpu_mem=0.02GB]\n",
      "Epoch 44/100 [Validation]: 100%|██████████| 12/12 [00:00<00:00, 73.78it/s]\n"
     ]
    },
    {
     "name": "stdout",
     "output_type": "stream",
     "text": [
      "Epoch 44/100, Train Loss: 0.7893, Train Accuracy: 0.7505, Val Loss: 0.7804, Val Accuracy: 0.7500\n",
      "Validation loss did not improve for 1 epochs.\n"
     ]
    },
    {
     "name": "stderr",
     "output_type": "stream",
     "text": [
      "Epoch 45/100 [Training]: 100%|██████████| 34/34 [00:00<00:00, 77.04it/s, loss=0.8824, gpu_mem=0.02GB]\n",
      "Epoch 45/100 [Validation]: 100%|██████████| 12/12 [00:00<00:00, 74.27it/s]\n"
     ]
    },
    {
     "name": "stdout",
     "output_type": "stream",
     "text": [
      "Epoch 45/100, Train Loss: 0.7869, Train Accuracy: 0.7507, Val Loss: 0.7803, Val Accuracy: 0.7500\n",
      "Validation loss did not improve for 2 epochs.\n"
     ]
    },
    {
     "name": "stderr",
     "output_type": "stream",
     "text": [
      "Epoch 46/100 [Training]: 100%|██████████| 34/34 [00:00<00:00, 77.89it/s, loss=0.6959, gpu_mem=0.02GB]\n",
      "Epoch 46/100 [Validation]: 100%|██████████| 12/12 [00:00<00:00, 65.16it/s]\n"
     ]
    },
    {
     "name": "stdout",
     "output_type": "stream",
     "text": [
      "Epoch 46/100, Train Loss: 0.7867, Train Accuracy: 0.7505, Val Loss: 0.7799, Val Accuracy: 0.7500\n",
      "Validation loss did not improve for 3 epochs.\n"
     ]
    },
    {
     "name": "stderr",
     "output_type": "stream",
     "text": [
      "Epoch 47/100 [Training]: 100%|██████████| 34/34 [00:00<00:00, 79.22it/s, loss=0.8074, gpu_mem=0.02GB]\n",
      "Epoch 47/100 [Validation]: 100%|██████████| 12/12 [00:00<00:00, 68.92it/s]\n"
     ]
    },
    {
     "name": "stdout",
     "output_type": "stream",
     "text": [
      "Epoch 47/100, Train Loss: 0.7873, Train Accuracy: 0.7507, Val Loss: 0.7797, Val Accuracy: 0.7500\n",
      "Validation loss did not improve for 4 epochs.\n"
     ]
    },
    {
     "name": "stderr",
     "output_type": "stream",
     "text": [
      "Epoch 48/100 [Training]: 100%|██████████| 34/34 [00:00<00:00, 81.29it/s, loss=0.8536, gpu_mem=0.02GB]\n",
      "Epoch 48/100 [Validation]: 100%|██████████| 12/12 [00:00<00:00, 73.36it/s]\n"
     ]
    },
    {
     "name": "stdout",
     "output_type": "stream",
     "text": [
      "Epoch 48/100, Train Loss: 0.7857, Train Accuracy: 0.7507, Val Loss: 0.7797, Val Accuracy: 0.7500\n",
      "Validation loss did not improve for 5 epochs.\n"
     ]
    },
    {
     "name": "stderr",
     "output_type": "stream",
     "text": [
      "Epoch 49/100 [Training]: 100%|██████████| 34/34 [00:00<00:00, 75.46it/s, loss=0.7596, gpu_mem=0.02GB]\n",
      "Epoch 49/100 [Validation]: 100%|██████████| 12/12 [00:00<00:00, 65.80it/s]\n"
     ]
    },
    {
     "name": "stdout",
     "output_type": "stream",
     "text": [
      "Epoch 49/100, Train Loss: 0.7863, Train Accuracy: 0.7507, Val Loss: 0.7797, Val Accuracy: 0.7500\n",
      "Validation loss did not improve for 6 epochs.\n"
     ]
    },
    {
     "name": "stderr",
     "output_type": "stream",
     "text": [
      "Epoch 50/100 [Training]: 100%|██████████| 34/34 [00:00<00:00, 91.84it/s, loss=0.8779, gpu_mem=0.02GB]\n",
      "Epoch 50/100 [Validation]: 100%|██████████| 12/12 [00:00<00:00, 70.57it/s]\n"
     ]
    },
    {
     "name": "stdout",
     "output_type": "stream",
     "text": [
      "Epoch 50/100, Train Loss: 0.7855, Train Accuracy: 0.7507, Val Loss: 0.7797, Val Accuracy: 0.7500\n",
      "Validation loss did not improve for 7 epochs.\n"
     ]
    },
    {
     "name": "stderr",
     "output_type": "stream",
     "text": [
      "Epoch 51/100 [Training]: 100%|██████████| 34/34 [00:00<00:00, 80.22it/s, loss=0.8362, gpu_mem=0.02GB]\n",
      "Epoch 51/100 [Validation]: 100%|██████████| 12/12 [00:00<00:00, 75.92it/s]\n"
     ]
    },
    {
     "name": "stdout",
     "output_type": "stream",
     "text": [
      "Epoch 51/100, Train Loss: 0.7867, Train Accuracy: 0.7507, Val Loss: 0.7797, Val Accuracy: 0.7500\n",
      "Validation loss did not improve for 8 epochs.\n"
     ]
    },
    {
     "name": "stderr",
     "output_type": "stream",
     "text": [
      "Epoch 52/100 [Training]: 100%|██████████| 34/34 [00:00<00:00, 82.89it/s, loss=0.7620, gpu_mem=0.02GB]\n",
      "Epoch 52/100 [Validation]: 100%|██████████| 12/12 [00:00<00:00, 72.69it/s]\n"
     ]
    },
    {
     "name": "stdout",
     "output_type": "stream",
     "text": [
      "Epoch 52/100, Train Loss: 0.7855, Train Accuracy: 0.7507, Val Loss: 0.7797, Val Accuracy: 0.7500\n",
      "Validation loss did not improve for 9 epochs.\n"
     ]
    },
    {
     "name": "stderr",
     "output_type": "stream",
     "text": [
      "Epoch 53/100 [Training]: 100%|██████████| 34/34 [00:00<00:00, 75.80it/s, loss=0.6660, gpu_mem=0.02GB]\n",
      "Epoch 53/100 [Validation]: 100%|██████████| 12/12 [00:00<00:00, 75.87it/s]\n"
     ]
    },
    {
     "name": "stdout",
     "output_type": "stream",
     "text": [
      "Epoch 53/100, Train Loss: 0.7851, Train Accuracy: 0.7507, Val Loss: 0.7797, Val Accuracy: 0.7500\n",
      "Validation loss did not improve for 10 epochs.\n",
      "Early stopping triggered.\n",
      "학습 곡선 저장: /workspace/MIL/output/figures/ab_mil_autoencoder_128d_balanced_training_curves.png\n"
     ]
    },
    {
     "data": {
      "image/png": "[encoded data removed]",
      "text/plain": [
       "<Figure size 1500x500 with 2 Axes>"
      ]
     },
     "metadata": {},
     "output_type": "display_data"
    },
    {
     "name": "stderr",
     "output_type": "stream",
     "text": [
      "/tmp/ipykernel_15960/3934410387.py:140: FutureWarning: You are using `torch.load` with `weights_only=False` (the current default value), which uses the default pickle module implicitly. It is possible to construct malicious pickle data which will execute arbitrary code during unpickling (See https://github.com/pytorch/pytorch/blob/main/SECURITY.md#untrusted-models for more details). In a future release, the default value for `weights_only` will be flipped to `True`. This limits the functions that could be executed during unpickling. Arbitrary objects will no longer be allowed to be loaded via this mode unless they are explicitly allowlisted by the user via `torch.serialization.add_safe_globals`. We recommend you start setting `weights_only=True` for any use case where you don't have full control of the loaded file. Please open an issue on GitHub for any issues related to this experimental feature.\n",
      "  model.load_state_dict(torch.load(save_path))\n"
     ]
    },
    {
     "name": "stdout",
     "output_type": "stream",
     "text": [
      "Loading best model from /workspace/MIL/output/models/ab_mil_autoencoder_128d_balanced_best_model.pt...\n"
     ]
    },
    {
     "name": "stderr",
     "output_type": "stream",
     "text": [
      "Evaluating Test Data: 100%|██████████| 12/12 [00:02<00:00,  4.60it/s]\n"
     ]
    },
    {
     "name": "stdout",
     "output_type": "stream",
     "text": [
      "Test Accuracy: 0.7507\n",
      "Test AUC: 0.5357\n",
      "Test Recall: 0.9991\n",
      "Test Precision: 0.7509\n",
      "Test F1-Score: 0.8574\n",
      "ROC 곡선 저장: /workspace/MIL/output/figures/ab_mil_autoencoder_128d_balanced_roc_curve.png\n"
     ]
    },
    {
     "data": {
      "image/png": "[encoded data removed]",
      "text/plain": [
       "<Figure size 1000x600 with 1 Axes>"
      ]
     },
     "metadata": {},
     "output_type": "display_data"
    },
    {
     "name": "stdout",
     "output_type": "stream",
     "text": [
      "Logits 분포 저장: /workspace/MIL/output/figures/ab_mil_autoencoder_128d_balanced_logits_distribution.png\n"
     ]
    },
    {
     "data": {
      "image/png": "[encoded data removed]",
      "text/plain": [
       "<Figure size 1000x600 with 1 Axes>"
      ]
     },
     "metadata": {},
     "output_type": "display_data"
    },
    {
     "name": "stdout",
     "output_type": "stream",
     "text": [
      "Confusion Matrix 저장: /workspace/MIL/output/figures/ab_mil_autoencoder_128d_balanced_confusion_matrix.png\n"
     ]
    },
    {
     "data": {
      "image/png": "[encoded data removed]",
      "text/plain": [
       "<Figure size 800x600 with 2 Axes>"
      ]
     },
     "metadata": {},
     "output_type": "display_data"
    },
    {
     "name": "stdout",
     "output_type": "stream",
     "text": [
      "결과 저장: /workspace/MIL/output/results/ab_mil_autoencoder_128d_balanced_results.json\n"
     ]
    }
   ],
   "source": [
    "# 학습 과정 기록을 위한 리스트 초기화\n",
    "train_losses = []\n",
    "val_losses = []\n",
    "train_accuracies = []\n",
    "val_accuracies = []\n",
    "\n",
    "# 학습 곡선 시각화 함수\n",
    "def plot_training_curves(train_losses, val_losses, train_accuracies, val_accuracies, save_dir=None):\n",
    "    if save_dir is None:\n",
    "        save_dir = \"/workspace/MIL/output/figures\"\n",
    "    os.makedirs(save_dir, exist_ok=True)\n",
    "    \n",
    "    fig, (ax1, ax2) = plt.subplots(1, 2, figsize=(15, 5))\n",
    "    \n",
    "    # Loss 곡선\n",
    "    ax1.plot(train_losses, label='Train Loss', marker='o')\n",
    "    ax1.plot(val_losses, label='Val Loss', marker='s')\n",
    "    ax1.set_xlabel('Epoch')\n",
    "    ax1.set_ylabel('Loss')\n",
    "    ax1.set_title('Training and Validation Loss')\n",
    "    ax1.legend()\n",
    "    ax1.grid(True)\n",
    "    \n",
    "    # Accuracy 곡선\n",
    "    ax2.plot(train_accuracies, label='Train Accuracy', marker='o')\n",
    "    ax2.plot(val_accuracies, label='Val Accuracy', marker='s')\n",
    "    ax2.set_xlabel('Epoch')\n",
    "    ax2.set_ylabel('Accuracy')\n",
    "    ax2.set_title('Training and Validation Accuracy')\n",
    "    ax2.legend()\n",
    "    ax2.grid(True)\n",
    "    \n",
    "    # 그래프 저장\n",
    "    curves_path = os.path.join(save_dir, f\"{model_name}_training_curves.png\")\n",
    "    plt.tight_layout()\n",
    "    plt.savefig(curves_path, dpi=300, bbox_inches='tight')\n",
    "    print(f\"학습 곡선 저장: {curves_path}\")\n",
    "    plt.show()\n",
    "\n",
    "# Optimizer와 Scheduler 정의\n",
    "optimizer = optim.Adam(model.parameters(), lr=0.001)\n",
    "scheduler = torch.optim.lr_scheduler.ReduceLROnPlateau(\n",
    "    optimizer,\n",
    "    mode='min',          # Validation Loss가 감소하지 않을 때 학습률 감소\n",
    "    factor=0.1,          # 학습률 감소 비율\n",
    "    patience=3,          # 몇 에폭 동안 개선되지 않으면 감소\n",
    "    verbose=True         # 학습률 변경 시 출력\n",
    ")\n",
    "\n",
    "# 학습 시작 전 GPU 메모리 정리\n",
    "if torch.cuda.is_available():\n",
    "    torch.cuda.empty_cache()\n",
    "    print(f\"학습 시작 전 GPU 메모리: {torch.cuda.memory_allocated(0) / 1024**3:.2f} GB\")\n",
    "\n",
    "for epoch in range(num_epochs):\n",
    "    model.train()\n",
    "    total_loss = 0.0\n",
    "    train_correct = 0\n",
    "    train_total = 0\n",
    "    train_loader_tqdm = tqdm(train_loader, desc=f\"Epoch {epoch+1}/{num_epochs} [Training]\")\n",
    "    \n",
    "    for features, labels in train_loader_tqdm:\n",
    "        features, labels = features.to(device), labels.to(device)\n",
    "        \n",
    "        # Mixed Precision Training\n",
    "        with autocast():\n",
    "            outputs, attention_weights = model(features)\n",
    "            loss = criterion(outputs.squeeze(), labels)\n",
    "        \n",
    "        optimizer.zero_grad()\n",
    "        \n",
    "        # Gradient scaling for mixed precision\n",
    "        scaler.scale(loss).backward()\n",
    "        scaler.step(optimizer)\n",
    "        scaler.update()\n",
    "        \n",
    "        total_loss += loss.item()\n",
    "        predictions = torch.round(torch.sigmoid(outputs)).squeeze()\n",
    "        train_correct += (predictions == labels).sum().item()\n",
    "        train_total += labels.size(0)\n",
    "        \n",
    "        # 메모리 사용량 모니터링 (10 배치마다)\n",
    "        if train_loader_tqdm.n % 10 == 0:\n",
    "            train_loader_tqdm.set_postfix({\n",
    "                'loss': f'{loss.item():.4f}',\n",
    "                'gpu_mem': f'{torch.cuda.memory_allocated(0) / 1024**3:.2f}GB'\n",
    "            })\n",
    "    \n",
    "    train_accuracy = train_correct / train_total\n",
    "    avg_train_loss = total_loss / len(train_loader)\n",
    "    \n",
    "    # Validation\n",
    "    model.eval()\n",
    "    val_loss = 0.0\n",
    "    val_correct = 0\n",
    "    val_total = 0\n",
    "    \n",
    "    with torch.no_grad():\n",
    "        val_loader_tqdm = tqdm(val_loader, desc=f\"Epoch {epoch+1}/{num_epochs} [Validation]\")\n",
    "        for features, labels in val_loader_tqdm:\n",
    "            features, labels = features.to(device), labels.to(device)\n",
    "            \n",
    "            with autocast():\n",
    "                outputs, _ = model(features)\n",
    "                loss = criterion(outputs.squeeze(), labels)\n",
    "            \n",
    "            val_loss += loss.item()\n",
    "            predictions = torch.round(torch.sigmoid(outputs)).squeeze()\n",
    "            val_correct += (predictions == labels).sum().item()\n",
    "            val_total += labels.size(0)\n",
    "    \n",
    "    val_accuracy = val_correct / val_total\n",
    "    avg_val_loss = val_loss / len(val_loader)\n",
    "    \n",
    "    # 학습 과정 기록\n",
    "    train_losses.append(avg_train_loss)\n",
    "    val_losses.append(avg_val_loss)\n",
    "    train_accuracies.append(train_accuracy)\n",
    "    val_accuracies.append(val_accuracy)\n",
    "    \n",
    "    print(f\"Epoch {epoch + 1}/{num_epochs}, Train Loss: {avg_train_loss:.4f}, \"\n",
    "          f\"Train Accuracy: {train_accuracy:.4f}, Val Loss: {avg_val_loss:.4f}, \"\n",
    "          f\"Val Accuracy: {val_accuracy:.4f}\")\n",
    "    \n",
    "    scheduler.step(avg_val_loss)  # Validation Loss를 기반으로 LR 감소\n",
    "    early_stopping(avg_val_loss, model)\n",
    "    \n",
    "    if early_stopping.early_stop:\n",
    "        print(\"Early stopping triggered.\")\n",
    "        break\n",
    "    \n",
    "    # 주기적으로 GPU 메모리 정리\n",
    "    if epoch % 5 == 0:\n",
    "        torch.cuda.empty_cache()\n",
    "\n",
    "# 학습 곡선 그리기\n",
    "plot_training_curves(train_losses, val_losses, train_accuracies, val_accuracies)\n",
    "\n",
    "print(f\"Loading best model from {save_path}...\")\n",
    "model.load_state_dict(torch.load(save_path))\n",
    "test_metrics = evaluate_model(model, test_loader, device)"
   ]
  },
  {
   "cell_type": "code",
   "execution_count": 22,
   "id": "cbr1n24gh4t",
   "metadata": {
    "ExecuteTime": {
     "end_time": "2025-06-28T07:21:42.025673Z",
     "start_time": "2025-06-28T07:21:42.018292Z"
    }
   },
   "outputs": [],
   "source": [
    "# 학습 과정 기록을 위한 리스트\n",
    "train_losses = []\n",
    "val_losses = []\n",
    "train_accuracies = []\n",
    "val_accuracies = []\n",
    "\n",
    "# 학습 곡선 시각화 함수\n",
    "def plot_training_curves(train_losses, val_losses, train_accuracies, val_accuracies, save_dir=None):\n",
    "    if save_dir is None:\n",
    "        save_dir = \"/workspace/MIL/output/figures\"\n",
    "    os.makedirs(save_dir, exist_ok=True)\n",
    "    \n",
    "    fig, (ax1, ax2) = plt.subplots(1, 2, figsize=(15, 5))\n",
    "    \n",
    "    # Loss 곡선\n",
    "    ax1.plot(train_losses, label='Train Loss', marker='o')\n",
    "    ax1.plot(val_losses, label='Val Loss', marker='s')\n",
    "    ax1.set_xlabel('Epoch')\n",
    "    ax1.set_ylabel('Loss')\n",
    "    ax1.set_title('Training and Validation Loss')\n",
    "    ax1.legend()\n",
    "    ax1.grid(True)\n",
    "    \n",
    "    # Accuracy 곡선\n",
    "    ax2.plot(train_accuracies, label='Train Accuracy', marker='o')\n",
    "    ax2.plot(val_accuracies, label='Val Accuracy', marker='s')\n",
    "    ax2.set_xlabel('Epoch')\n",
    "    ax2.set_ylabel('Accuracy')\n",
    "    ax2.set_title('Training and Validation Accuracy')\n",
    "    ax2.legend()\n",
    "    ax2.grid(True)\n",
    "    \n",
    "    # 그래프 저장\n",
    "    curves_path = os.path.join(save_dir, f\"{model_name}_training_curves.png\")\n",
    "    plt.tight_layout()\n",
    "    plt.savefig(curves_path, dpi=300, bbox_inches='tight')\n",
    "    print(f\"학습 곡선 저장: {curves_path}\")\n",
    "    plt.show()"
   ]
  },
  {
   "cell_type": "code",
   "execution_count": null,
   "id": "b3b747d5",
   "metadata": {},
   "outputs": [],
   "source": []
  },
  {
   "cell_type": "code",
   "execution_count": null,
   "id": "f5315b8a",
   "metadata": {},
   "outputs": [],
   "source": []
  }
 ],
 "metadata": {
  "kernelspec": {
   "display_name": "Python 3 (ipykernel)",
   "language": "python",
   "name": "python3"
  },
  "language_info": {
   "codemirror_mode": {
    "name": "ipython",
    "version": 3
   },
   "file_extension": ".py",
   "mimetype": "text/x-python",
   "name": "python",
   "nbconvert_exporter": "python",
   "pygments_lexer": "ipython3",
   "version": "3.8.15"
  },
  "toc": {
   "base_numbering": 1,
   "nav_menu": {},
   "number_sections": true,
   "sideBar": true,
   "skip_h1_title": false,
   "title_cell": "Table of Contents",
   "title_sidebar": "Contents",
   "toc_cell": false,
   "toc_position": {},
   "toc_section_display": true,
   "toc_window_display": false
  }
 },
 "nbformat": 4,
 "nbformat_minor": 5
}
