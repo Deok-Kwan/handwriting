{
 "cells": [
  {
   "cell_type": "code",
   "execution_count": null,
   "id": "e48c67a2",
   "metadata": {},
   "outputs": [],
   "source": [
    "import os\n",
    "\n",
    "# line_segments 디렉토리 경로\n",
    "directory_path = 'line_segments'\n",
    "\n",
    "# 디렉토리가 존재하는지 확인\n",
    "if os.path.exists(directory_path) and os.path.isdir(directory_path):\n",
    "    # 디렉토리 내 파일 목록 가져오기\n",
    "    files = [f for f in os.listdir(directory_path) if os.path.isfile(os.path.join(directory_path, f))]\n",
    "    \n",
    "    # 파일 개수 출력\n",
    "    print(f\"line_segments 디렉토리 내 파일 개수: {len(files)}\")\n",
    "    \n",
    "    # 특정 파일이 존재하는지 확인 (사용자가 언급한 w0001_pWOZ_line_0.png)\n",
    "    specific_file = 'w0001_pWOZ_line_0.png'\n",
    "    if specific_file in files:\n",
    "        print(f\"{specific_file} 파일이 존재합니다.\")\n",
    "    else:\n",
    "        print(f\"{specific_file} 파일이 존재하지 않습니다.\")\n",
    "else:\n",
    "    print(\"line_segments 디렉토리가 존재하지 않습니다.\")"
   ]
  }
 ],
 "metadata": {
  "kernelspec": {
   "display_name": "Python 3 (ipykernel)",
   "language": "python",
   "name": "python3"
  },
  "language_info": {
   "codemirror_mode": {
    "name": "ipython",
    "version": 3
   },
   "file_extension": ".py",
   "mimetype": "text/x-python",
   "name": "python",
   "nbconvert_exporter": "python",
   "pygments_lexer": "ipython3",
   "version": "3.8.15"
  },
  "toc": {
   "base_numbering": 1,
   "nav_menu": {},
   "number_sections": true,
   "sideBar": true,
   "skip_h1_title": false,
   "title_cell": "Table of Contents",
   "title_sidebar": "Contents",
   "toc_cell": false,
   "toc_position": {},
   "toc_section_display": true,
   "toc_window_display": false
  }
 },
 "nbformat": 4,
 "nbformat_minor": 5
}
